{
 "cells": [
  {
   "cell_type": "code",
   "execution_count": 52,
   "metadata": {},
   "outputs": [],
   "source": [
    "import pandas as pd\n",
    "import matplotlib.pylab as plt\n",
    "%matplotlib inline\n",
    "import warnings\n",
    "warnings.filterwarnings(\"ignore\", category=DeprecationWarning) "
   ]
  },
  {
   "cell_type": "code",
   "execution_count": 53,
   "metadata": {},
   "outputs": [],
   "source": [
    "import pandas as pd\n",
    "from pandas import Series, DataFrame\n",
    "import numpy as np\n",
    "import matplotlib.pyplot as plt\n",
    "%matplotlib inline"
   ]
  },
  {
   "cell_type": "code",
   "execution_count": 54,
   "metadata": {},
   "outputs": [],
   "source": [
    "train_data = pd.read_csv('train.csv', encoding = 'CP949')"
   ]
  },
  {
   "cell_type": "code",
   "execution_count": 55,
   "metadata": {},
   "outputs": [],
   "source": [
    "data=train_data.copy()"
   ]
  },
  {
   "cell_type": "code",
   "execution_count": 56,
   "metadata": {},
   "outputs": [
    {
     "name": "stdout",
     "output_type": "stream",
     "text": [
      "<class 'pandas.core.frame.DataFrame'>\n",
      "RangeIndex: 5000 entries, 0 to 4999\n",
      "Data columns (total 18 columns):\n",
      "custid       5000 non-null int64\n",
      "gender       5000 non-null int64\n",
      "총구매액         5000 non-null int64\n",
      "구매건수         5000 non-null int64\n",
      "평균구매가격       5000 non-null int64\n",
      "평균할부개월수      5000 non-null float64\n",
      "구매브랜드종류      5000 non-null int64\n",
      "내점일수         5000 non-null int64\n",
      "수입상품_구매비율    5000 non-null float64\n",
      "주말방문비율       5000 non-null float64\n",
      "가을_구매건수      4055 non-null float64\n",
      "겨울_구매건수      4103 non-null float64\n",
      "봄_구매건수       4311 non-null float64\n",
      "여름_구매건수      3978 non-null float64\n",
      "아침_구매건수      3558 non-null float64\n",
      "저녁_구매건수      4033 non-null float64\n",
      "점심_구매건수      4855 non-null float64\n",
      "주구매코너        5000 non-null object\n",
      "dtypes: float64(10), int64(7), object(1)\n",
      "memory usage: 703.2+ KB\n"
     ]
    }
   ],
   "source": [
    "data.info()"
   ]
  },
  {
   "cell_type": "code",
   "execution_count": 57,
   "metadata": {},
   "outputs": [
    {
     "data": {
      "text/plain": [
       "custid         int64\n",
       "gender         int64\n",
       "총구매액           int64\n",
       "구매건수           int64\n",
       "평균구매가격         int64\n",
       "평균할부개월수      float64\n",
       "구매브랜드종류        int64\n",
       "내점일수           int64\n",
       "수입상품_구매비율    float64\n",
       "주말방문비율       float64\n",
       "가을_구매건수      float64\n",
       "겨울_구매건수      float64\n",
       "봄_구매건수       float64\n",
       "여름_구매건수      float64\n",
       "아침_구매건수      float64\n",
       "저녁_구매건수      float64\n",
       "점심_구매건수      float64\n",
       "주구매코너         object\n",
       "dtype: object"
      ]
     },
     "execution_count": 57,
     "metadata": {},
     "output_type": "execute_result"
    }
   ],
   "source": [
    "data.dtypes #데이터 타입 확인"
   ]
  },
  {
   "cell_type": "code",
   "execution_count": 58,
   "metadata": {},
   "outputs": [
    {
     "name": "stdout",
     "output_type": "stream",
     "text": [
      "<class 'pandas.core.frame.DataFrame'>\n",
      "RangeIndex: 5000 entries, 0 to 4999\n",
      "Data columns (total 18 columns):\n",
      "custid       5000 non-null int64\n",
      "gender       5000 non-null int64\n",
      "총구매액         5000 non-null int64\n",
      "구매건수         5000 non-null int64\n",
      "평균구매가격       5000 non-null int64\n",
      "평균할부개월수      5000 non-null float64\n",
      "구매브랜드종류      5000 non-null int64\n",
      "내점일수         5000 non-null int64\n",
      "수입상품_구매비율    5000 non-null float64\n",
      "주말방문비율       5000 non-null float64\n",
      "가을_구매건수      4055 non-null float64\n",
      "겨울_구매건수      4103 non-null float64\n",
      "봄_구매건수       4311 non-null float64\n",
      "여름_구매건수      3978 non-null float64\n",
      "아침_구매건수      3558 non-null float64\n",
      "저녁_구매건수      4033 non-null float64\n",
      "점심_구매건수      4855 non-null float64\n",
      "주구매코너        5000 non-null object\n",
      "dtypes: float64(10), int64(7), object(1)\n",
      "memory usage: 703.2+ KB\n"
     ]
    }
   ],
   "source": [
    "data.info()"
   ]
  },
  {
   "cell_type": "code",
   "execution_count": 59,
   "metadata": {},
   "outputs": [],
   "source": [
    "obj=['주구매코너']"
   ]
  },
  {
   "cell_type": "code",
   "execution_count": 60,
   "metadata": {},
   "outputs": [
    {
     "data": {
      "text/html": [
       "<div>\n",
       "<style scoped>\n",
       "    .dataframe tbody tr th:only-of-type {\n",
       "        vertical-align: middle;\n",
       "    }\n",
       "\n",
       "    .dataframe tbody tr th {\n",
       "        vertical-align: top;\n",
       "    }\n",
       "\n",
       "    .dataframe thead th {\n",
       "        text-align: right;\n",
       "    }\n",
       "</style>\n",
       "<table border=\"1\" class=\"dataframe\">\n",
       "  <thead>\n",
       "    <tr style=\"text-align: right;\">\n",
       "      <th></th>\n",
       "      <th>주구매코너</th>\n",
       "    </tr>\n",
       "  </thead>\n",
       "  <tbody>\n",
       "    <tr>\n",
       "      <th>0</th>\n",
       "      <td>화장품</td>\n",
       "    </tr>\n",
       "    <tr>\n",
       "      <th>1</th>\n",
       "      <td>영캐주얼</td>\n",
       "    </tr>\n",
       "    <tr>\n",
       "      <th>2</th>\n",
       "      <td>장신구</td>\n",
       "    </tr>\n",
       "    <tr>\n",
       "      <th>3</th>\n",
       "      <td>화장품</td>\n",
       "    </tr>\n",
       "    <tr>\n",
       "      <th>4</th>\n",
       "      <td>피혁A</td>\n",
       "    </tr>\n",
       "  </tbody>\n",
       "</table>\n",
       "</div>"
      ],
      "text/plain": [
       "  주구매코너\n",
       "0   화장품\n",
       "1  영캐주얼\n",
       "2   장신구\n",
       "3   화장품\n",
       "4   피혁A"
      ]
     },
     "execution_count": 60,
     "metadata": {},
     "output_type": "execute_result"
    }
   ],
   "source": [
    "data[obj].head() # 주구매코너를 확인후 그부분만 select한다."
   ]
  },
  {
   "cell_type": "code",
   "execution_count": 61,
   "metadata": {},
   "outputs": [],
   "source": [
    "data[obj] = data[obj].apply(lambda x: x.astype('category').cat.codes) \n",
    "# cat.code : 문자가 범주형으로 바뀌면 생기는 코드\n",
    "# apply : 각각의 값별로 함수를 적용\n"
   ]
  },
  {
   "cell_type": "markdown",
   "metadata": {},
   "source": [
    "### 결측치 제거 "
   ]
  },
  {
   "cell_type": "code",
   "execution_count": 62,
   "metadata": {},
   "outputs": [
    {
     "data": {
      "text/plain": [
       "custid          0\n",
       "gender          0\n",
       "총구매액            0\n",
       "구매건수            0\n",
       "평균구매가격          0\n",
       "평균할부개월수         0\n",
       "구매브랜드종류         0\n",
       "내점일수            0\n",
       "수입상품_구매비율       0\n",
       "주말방문비율          0\n",
       "가을_구매건수       945\n",
       "겨울_구매건수       897\n",
       "봄_구매건수        689\n",
       "여름_구매건수      1022\n",
       "아침_구매건수      1442\n",
       "저녁_구매건수       967\n",
       "점심_구매건수       145\n",
       "주구매코너           0\n",
       "dtype: int64"
      ]
     },
     "execution_count": 62,
     "metadata": {},
     "output_type": "execute_result"
    }
   ],
   "source": [
    "data.isnull().sum() #결측치 확인 및 int로 변경도 해준다."
   ]
  },
  {
   "cell_type": "code",
   "execution_count": 48,
   "metadata": {},
   "outputs": [
    {
     "data": {
      "text/plain": [
       "(2235, 18)"
      ]
     },
     "execution_count": 48,
     "metadata": {},
     "output_type": "execute_result"
    }
   ],
   "source": [
    "data= data.dropna(subset=['가을_구매건수',\n",
    "'겨울_구매건수',\n",
    "'봄_구매건수',\n",
    "'여름_구매건수',\n",
    "'아침_구매건수',\n",
    "'저녁_구매건수',\n",
    "'점심_구매건수'])\n",
    "data.shape\n",
    "# 결측 확인후 dropna로 제거"
   ]
  },
  {
   "cell_type": "code",
   "execution_count": 49,
   "metadata": {},
   "outputs": [
    {
     "data": {
      "text/plain": [
       "custid       0\n",
       "gender       0\n",
       "총구매액         0\n",
       "구매건수         0\n",
       "평균구매가격       0\n",
       "평균할부개월수      0\n",
       "구매브랜드종류      0\n",
       "내점일수         0\n",
       "수입상품_구매비율    0\n",
       "주말방문비율       0\n",
       "가을_구매건수      0\n",
       "겨울_구매건수      0\n",
       "봄_구매건수       0\n",
       "여름_구매건수      0\n",
       "아침_구매건수      0\n",
       "저녁_구매건수      0\n",
       "점심_구매건수      0\n",
       "주구매코너        0\n",
       "dtype: int64"
      ]
     },
     "execution_count": 49,
     "metadata": {},
     "output_type": "execute_result"
    }
   ],
   "source": [
    "data.isnull().sum() # 제거된 값 확인"
   ]
  },
  {
   "cell_type": "code",
   "execution_count": 50,
   "metadata": {},
   "outputs": [
    {
     "data": {
      "text/plain": [
       "(2235, 18)"
      ]
     },
     "execution_count": 50,
     "metadata": {},
     "output_type": "execute_result"
    }
   ],
   "source": [
    "data.shape #결측치를 제거 한 상태"
   ]
  },
  {
   "cell_type": "code",
   "execution_count": null,
   "metadata": {},
   "outputs": [],
   "source": []
  },
  {
   "cell_type": "code",
   "execution_count": 63,
   "metadata": {},
   "outputs": [],
   "source": [
    "con = ['가을_구매건수',\n",
    "       '겨울_구매건수',\n",
    "       '봄_구매건수',\n",
    "       '여름_구매건수',\n",
    "       '아침_구매건수',\n",
    "       '저녁_구매건수',\n",
    "       '점심_구매건수' ]"
   ]
  },
  {
   "cell_type": "code",
   "execution_count": 64,
   "metadata": {},
   "outputs": [
    {
     "data": {
      "text/plain": [
       "Imputer(axis=0, copy=True, missing_values='NaN', strategy='most_frequent',\n",
       "    verbose=0)"
      ]
     },
     "execution_count": 64,
     "metadata": {},
     "output_type": "execute_result"
    }
   ],
   "source": [
    "from sklearn.preprocessing import Imputer\n",
    "imputer_con = Imputer(strategy=\"most_frequent\")  \n",
    "imputer_con.fit(data[con])"
   ]
  },
  {
   "cell_type": "code",
   "execution_count": 65,
   "metadata": {},
   "outputs": [
    {
     "data": {
      "text/plain": [
       "array([[ 1.,  9.,  6., ...,  1.,  6.,  9.],\n",
       "       [ 1.,  5.,  4., ...,  3.,  1.,  6.],\n",
       "       [ 7., 17., 12., ..., 10., 11., 15.],\n",
       "       ...,\n",
       "       [12.,  6.,  6., ..., 16.,  1., 21.],\n",
       "       [ 6.,  4.,  2., ...,  1.,  2., 11.],\n",
       "       [ 6.,  5., 10., ...,  8.,  5., 19.]])"
      ]
     },
     "execution_count": 65,
     "metadata": {},
     "output_type": "execute_result"
    }
   ],
   "source": [
    "x = imputer_con.transform(data[con]); x"
   ]
  },
  {
   "cell_type": "code",
   "execution_count": 66,
   "metadata": {},
   "outputs": [
    {
     "name": "stdout",
     "output_type": "stream",
     "text": [
      "<class 'pandas.core.frame.DataFrame'>\n",
      "RangeIndex: 5000 entries, 0 to 4999\n",
      "Data columns (total 18 columns):\n",
      "custid       5000 non-null int64\n",
      "gender       5000 non-null int64\n",
      "총구매액         5000 non-null int64\n",
      "구매건수         5000 non-null int64\n",
      "평균구매가격       5000 non-null int64\n",
      "평균할부개월수      5000 non-null float64\n",
      "구매브랜드종류      5000 non-null int64\n",
      "내점일수         5000 non-null int64\n",
      "수입상품_구매비율    5000 non-null float64\n",
      "주말방문비율       5000 non-null float64\n",
      "가을_구매건수      5000 non-null float64\n",
      "겨울_구매건수      5000 non-null float64\n",
      "봄_구매건수       5000 non-null float64\n",
      "여름_구매건수      5000 non-null float64\n",
      "아침_구매건수      5000 non-null float64\n",
      "저녁_구매건수      5000 non-null float64\n",
      "점심_구매건수      5000 non-null float64\n",
      "주구매코너        5000 non-null int8\n",
      "dtypes: float64(10), int64(7), int8(1)\n",
      "memory usage: 669.0 KB\n"
     ]
    }
   ],
   "source": [
    "data[con] = x\n",
    "data.info()"
   ]
  },
  {
   "cell_type": "code",
   "execution_count": 68,
   "metadata": {},
   "outputs": [
    {
     "data": {
      "text/plain": [
       "(5000, 18)"
      ]
     },
     "execution_count": 68,
     "metadata": {},
     "output_type": "execute_result"
    }
   ],
   "source": [
    "data.shape \n"
   ]
  },
  {
   "cell_type": "markdown",
   "metadata": {},
   "source": [
    " - 데이터가 어떻게 생겼는지 확인한다\n",
    " - 결측치를 확인한다   \n",
    " - 데이터의 양이 괜찮은지 확인하고, 제거 및 평균 값으로 변경한다.\n",
    " - 양이 적다면 결측치가 나간 자리는 다른 값으로 변경한다,\n"
   ]
  },
  {
   "cell_type": "code",
   "execution_count": null,
   "metadata": {},
   "outputs": [],
   "source": []
  },
  {
   "cell_type": "code",
   "execution_count": null,
   "metadata": {},
   "outputs": [],
   "source": []
  },
  {
   "cell_type": "code",
   "execution_count": null,
   "metadata": {},
   "outputs": [],
   "source": []
  },
  {
   "cell_type": "code",
   "execution_count": null,
   "metadata": {},
   "outputs": [],
   "source": []
  },
  {
   "cell_type": "code",
   "execution_count": null,
   "metadata": {},
   "outputs": [],
   "source": []
  },
  {
   "cell_type": "code",
   "execution_count": null,
   "metadata": {},
   "outputs": [],
   "source": []
  },
  {
   "cell_type": "code",
   "execution_count": null,
   "metadata": {},
   "outputs": [],
   "source": []
  },
  {
   "cell_type": "code",
   "execution_count": null,
   "metadata": {},
   "outputs": [],
   "source": []
  },
  {
   "cell_type": "code",
   "execution_count": null,
   "metadata": {},
   "outputs": [],
   "source": []
  },
  {
   "cell_type": "code",
   "execution_count": null,
   "metadata": {},
   "outputs": [],
   "source": []
  },
  {
   "cell_type": "code",
   "execution_count": null,
   "metadata": {},
   "outputs": [],
   "source": []
  }
 ],
 "metadata": {
  "kernelspec": {
   "display_name": "Python 3",
   "language": "python",
   "name": "python3"
  },
  "language_info": {
   "codemirror_mode": {
    "name": "ipython",
    "version": 3
   },
   "file_extension": ".py",
   "mimetype": "text/x-python",
   "name": "python",
   "nbconvert_exporter": "python",
   "pygments_lexer": "ipython3",
   "version": "3.7.3"
  }
 },
 "nbformat": 4,
 "nbformat_minor": 2
}
