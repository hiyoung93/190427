{
 "cells": [
  {
   "cell_type": "markdown",
   "metadata": {},
   "source": [
    "# 시각화"
   ]
  },
  {
   "cell_type": "code",
   "execution_count": 2,
   "metadata": {},
   "outputs": [],
   "source": [
    "import pandas as pd\n",
    "import numpy as np"
   ]
  },
  {
   "cell_type": "markdown",
   "metadata": {},
   "source": [
    "# 1. Matplot"
   ]
  },
  {
   "cell_type": "code",
   "execution_count": 3,
   "metadata": {},
   "outputs": [],
   "source": [
    "import matplotlib.pyplot as plt\n",
    "%matplotlib inline"
   ]
  },
  {
   "cell_type": "markdown",
   "metadata": {},
   "source": [
    "## 1.1. 기초사용법"
   ]
  },
  {
   "cell_type": "code",
   "execution_count": null,
   "metadata": {},
   "outputs": [],
   "source": [
    "plt.plot([1,2,3,4]);"
   ]
  },
  {
   "cell_type": "code",
   "execution_count": null,
   "metadata": {},
   "outputs": [],
   "source": [
    "plt.plot([1,2,3,4], 'ro'); # 색깔과 모양을 바꿀때 '색깔 모양'"
   ]
  },
  {
   "cell_type": "code",
   "execution_count": null,
   "metadata": {},
   "outputs": [],
   "source": [
    "plt.plot([1,2,3,4], linestyle='None', color='#DF0174', marker='o'); # linestyle : 선, marker: 점\n",
    "# https://html-color-codes.info/Korean/ 에서 color를 찾아 넣어도 됨"
   ]
  },
  {
   "cell_type": "code",
   "execution_count": null,
   "metadata": {},
   "outputs": [],
   "source": [
    "x = np.arange(10)\n",
    "y=x**2\n",
    "plt.plot(x,y,'ro');\n",
    "plt.axis([-1, 10, -10, 100])"
   ]
  },
  {
   "cell_type": "code",
   "execution_count": null,
   "metadata": {},
   "outputs": [],
   "source": [
    "x = np.arange(10)\n",
    "y1=x**2\n",
    "y2=x**3\n",
    "plt.plot(x,y1,'ro', x, y2, 'b^');"
   ]
  },
  {
   "cell_type": "code",
   "execution_count": null,
   "metadata": {},
   "outputs": [],
   "source": [
    "x = np.arange(10)\n",
    "y1=x**2\n",
    "y2=x**3\n",
    "plt.plot(x, y1, color='red', linewidth=2);\n",
    "#plt.plot(x, y2, color='blue', linestyle='dashed');\n",
    "plt.plot(x, y2, color='blue', linestyle='--');"
   ]
  },
  {
   "cell_type": "code",
   "execution_count": null,
   "metadata": {},
   "outputs": [],
   "source": [
    "plt.figure()\n",
    "plt.subplot(2,1,1)\n",
    "plt.plot(x, y1, color='red', linewidth=2)\n",
    "plt.subplot(2,1,2)\n",
    "plt.plot(x, y1, color='blue', linestyle='dashed');"
   ]
  },
  {
   "cell_type": "code",
   "execution_count": null,
   "metadata": {},
   "outputs": [],
   "source": [
    "plt.plot(x, y1, color='red', linewidth=2);\n",
    "plt.title('Hello, Pyplotl')\n",
    "plt.xlabel('X')\n",
    "plt.ylabel('Y');"
   ]
  },
  {
   "cell_type": "code",
   "execution_count": null,
   "metadata": {},
   "outputs": [],
   "source": [
    "plt.plot(x, y1, color='red', linewidth=2);\n",
    "plt.title('Hello, PyPlot!', {'fontsize':20});\n",
    "plt.xlabel('x', {'fontsize':30, 'color':'blue'});\n",
    "plt.ylabel('y', {'fontsize':40, 'color':'red'});"
   ]
  },
  {
   "cell_type": "code",
   "execution_count": null,
   "metadata": {},
   "outputs": [],
   "source": [
    "plt.plot(x, y1, color='red', linewidth=2);\n",
    "plt.title('그래프');\n",
    "plt.xlabel('x축');\n",
    "plt.ylabel('y축');"
   ]
  },
  {
   "cell_type": "code",
   "execution_count": null,
   "metadata": {},
   "outputs": [],
   "source": [
    "plt.plot(x, y1, color='red', linewidth=2);\n",
    "plt.title('그래프', fontname='Malgun Gothic');\n",
    "plt.xlabel('x축', fontname='Malgun Gothic');\n",
    "plt.ylabel('y축', fontname='Malgun Gothic');"
   ]
  },
  {
   "cell_type": "code",
   "execution_count": null,
   "metadata": {},
   "outputs": [],
   "source": [
    "from matplotlib import font_manager, rc\n",
    "font_name = font_manager.FontProperties(fname=\"c:/Windows/Fonts/malgun.ttf\").get_name()\n",
    "rc('font', family=font_name)"
   ]
  },
  {
   "cell_type": "code",
   "execution_count": null,
   "metadata": {},
   "outputs": [],
   "source": [
    "rc('axes', titlesize=20, labelsize=15, labelcolor='grey')"
   ]
  },
  {
   "cell_type": "code",
   "execution_count": null,
   "metadata": {},
   "outputs": [],
   "source": [
    "plt.plot(x, y1, color='red', linewidth=2);\n",
    "plt.title('그래프');\n",
    "plt.xlabel('x축');\n",
    "plt.ylabel('y축');"
   ]
  },
  {
   "cell_type": "code",
   "execution_count": null,
   "metadata": {},
   "outputs": [],
   "source": [
    "plt.plot(x, y1, color='red', linewidth=2);\n",
    "plt.yscale('log');"
   ]
  },
  {
   "cell_type": "code",
   "execution_count": null,
   "metadata": {},
   "outputs": [],
   "source": [
    "plt.plot(x, y1, color='red', linewidth=2);\n",
    "plt.xlim(2,8);"
   ]
  },
  {
   "cell_type": "code",
   "execution_count": null,
   "metadata": {},
   "outputs": [],
   "source": [
    "plt.plot(x, y1, color='red', linewidth=2);\n",
    "ax = plt.gca()# 축에 대한 정보\n",
    "ax.yaxis.set_ticks([1, 2, 4, 8, 16, 32, 64]);"
   ]
  },
  {
   "cell_type": "code",
   "execution_count": null,
   "metadata": {},
   "outputs": [],
   "source": [
    "plt.plot(x, y1, color='red', linewidth=2);\n",
    "ax = plt.gca()\n",
    "ax.yaxis.set_major_locator(plt.MaxNLocator(5))"
   ]
  },
  {
   "cell_type": "code",
   "execution_count": null,
   "metadata": {},
   "outputs": [],
   "source": [
    "plt.plot(x, y1, color='red', linewidth=2, label='$ X^2 $');\n",
    "plt.plot(x, y2, color='blue', linestyle='dashed', label='$ X^3 $');\n",
    "#plt.legend(loc='upper left');\n",
    "#plt.legend(loc='lower left');\n",
    "plt.legend(loc='upper left');"
   ]
  },
  {
   "cell_type": "code",
   "execution_count": null,
   "metadata": {},
   "outputs": [],
   "source": [
    "plt.plot(x, y1, color='red', linewidth=2, label='$ X^2 $');\n",
    "plt.plot(x, y2, color='blue', linestyle='dashed', label='$ X^3 $');\n",
    "plt.legend(loc='best');"
   ]
  },
  {
   "cell_type": "code",
   "execution_count": null,
   "metadata": {},
   "outputs": [],
   "source": [
    "plt.plot(x, y1, color='red', linewidth=2, label='$ X^2 $');\n",
    "plt.plot(x, y2, color='blue', linestyle='dashed', label='$ X^3 $');\n",
    "plt.legend(loc='best', bbox_to_anchor=[1,1]);"
   ]
  },
  {
   "cell_type": "code",
   "execution_count": null,
   "metadata": {},
   "outputs": [],
   "source": [
    "plt.plot(x, y1, color='red', linewidth=2, label='$ X^2 $');\n",
    "plt.plot(x, y2, color='blue', linestyle='dashed', label='$ X^3 $');\n",
    "plt.legend(loc='best', bbox_to_anchor=[1,1], prop={'size':20});\n",
    "plt.savefig('파일이름.png') # 파일저장"
   ]
  },
  {
   "cell_type": "markdown",
   "metadata": {},
   "source": [
    "## 1.2. 사용예제"
   ]
  },
  {
   "cell_type": "code",
   "execution_count": null,
   "metadata": {},
   "outputs": [],
   "source": [
    "x = np.random.normal(2, 0.5, 1000)\n",
    "plt.hist(x, bins=50)"
   ]
  },
  {
   "cell_type": "code",
   "execution_count": null,
   "metadata": {},
   "outputs": [],
   "source": [
    "x = 0.9*np.random.rand(30)\n",
    "y = 0.9*np.random.rand(30)\n",
    "area = np.pi * (10*np.random.rand(30))**2\n",
    "plt.scatter(x, y, s=area, marker='^', c='r');"
   ]
  },
  {
   "cell_type": "code",
   "execution_count": null,
   "metadata": {},
   "outputs": [],
   "source": [
    "x = 0.9*np.random.rand(30)\n",
    "y = -2 * x # 강한 양(음)의 상관관계\n",
    "area = np.pi * (10*np.random.rand(30))**2\n",
    "plt.scatter(x, y, s=area, marker='^', c='r');"
   ]
  },
  {
   "cell_type": "code",
   "execution_count": null,
   "metadata": {},
   "outputs": [],
   "source": [
    "labels = ['baseline', 'mymodel']\n",
    "data = [3.75, 4.75]\n",
    "w = 0.5\n",
    "xlocations = np.array(range(len(data))) + w # data 가 0, 1 이 될 것이므로 이것을 기준으로 그림을 그린다\n",
    "plt.bar(xlocations, data, width=0.5, color='b')\n",
    "plt.yticks(range(0,7))\n",
    "plt.xticks(xlocations + w/2, labels)\n",
    "plt.title('모델 비교')"
   ]
  },
  {
   "cell_type": "markdown",
   "metadata": {},
   "source": [
    "# 2. Pandas"
   ]
  },
  {
   "cell_type": "code",
   "execution_count": null,
   "metadata": {},
   "outputs": [],
   "source": [
    "df = pd.read_csv('data/fruit.csv', index_col='State')\n",
    "df"
   ]
  },
  {
   "cell_type": "code",
   "execution_count": null,
   "metadata": {},
   "outputs": [],
   "source": [
    "df.plot();"
   ]
  },
  {
   "cell_type": "code",
   "execution_count": null,
   "metadata": {},
   "outputs": [],
   "source": [
    "ax = df.plot()\n",
    "ax.set_title('Pandas')\n",
    "ax.legend(df.columns, loc='upper center');"
   ]
  },
  {
   "cell_type": "code",
   "execution_count": null,
   "metadata": {},
   "outputs": [],
   "source": [
    "df.plot(subplots=True, figsize=(6,5));"
   ]
  },
  {
   "cell_type": "code",
   "execution_count": null,
   "metadata": {},
   "outputs": [],
   "source": [
    "color = ['0.2','0.5', '0.7']\n",
    "df.plot(kind='bar', color=color, figsize=(16,4));"
   ]
  },
  {
   "cell_type": "code",
   "execution_count": null,
   "metadata": {},
   "outputs": [],
   "source": [
    "df.plot(kind='box')"
   ]
  },
  {
   "cell_type": "code",
   "execution_count": null,
   "metadata": {},
   "outputs": [],
   "source": [
    "# 행하나에 3개 짜리 서브 플롯을 만들기\n",
    "fig, (ax1, ax2, ax3) = plt.subplots(1, 3, figsize=(16,4))\n",
    "fig.suptitle('세가지 그래프', size=20, y=1.1)\n",
    "df.plot(kind='line', color=color, ax=ax1, title='Line Plot')\n",
    "df.plot(x='Apple', y='Orange', kind='scatter', color=color[:2], ax=ax2, title='Scatter Plot')\n",
    "df.plot(kind='bar', color=color, ax=ax3, title='Bar Plot')"
   ]
  },
  {
   "cell_type": "markdown",
   "metadata": {},
   "source": [
    "# 3. Seaborn"
   ]
  },
  {
   "cell_type": "code",
   "execution_count": 1,
   "metadata": {},
   "outputs": [],
   "source": [
    "import seaborn as sns"
   ]
  },
  {
   "cell_type": "code",
   "execution_count": 4,
   "metadata": {},
   "outputs": [],
   "source": [
    "x = np.array([1,2,3,4,5]*10) # 1,2,3,4,5를 10번 반복하라\n",
    "y = x + np.random.normal(size=50)"
   ]
  },
  {
   "cell_type": "code",
   "execution_count": 5,
   "metadata": {},
   "outputs": [
    {
     "data": {
      "text/plain": [
       "<matplotlib.axes._subplots.AxesSubplot at 0xa4e11d0>"
      ]
     },
     "execution_count": 5,
     "metadata": {},
     "output_type": "execute_result"
    },
    {
     "data": {
      "image/png": "[encoded data removed]",
      "text/plain": [
       "<Figure size 432x288 with 1 Axes>"
      ]
     },
     "metadata": {
      "needs_background": "light"
     },
     "output_type": "display_data"
    }
   ],
   "source": [
    "sns.regplot(x,y) # 파란색 범위는 잔차"
   ]
  },
  {
   "cell_type": "code",
   "execution_count": null,
   "metadata": {},
   "outputs": [],
   "source": [
    "sns.regplot(x, y, ci=None); # 잔차 없애기"
   ]
  },
  {
   "cell_type": "code",
   "execution_count": null,
   "metadata": {},
   "outputs": [],
   "source": [
    "sns.regplot(x, y, fit_reg=False); # 회귀선이 빠지게"
   ]
  },
  {
   "cell_type": "code",
   "execution_count": null,
   "metadata": {},
   "outputs": [],
   "source": [
    "# 옆으로 흔들고 싶을때 (겹치지 않게 하려고)\n",
    "sns.regplot(x, y, fit_reg=False, x_jitter=0.1);"
   ]
  },
  {
   "cell_type": "code",
   "execution_count": null,
   "metadata": {},
   "outputs": [],
   "source": [
    "sns.regplot(x, y, x_jitter=0.1, color='red');"
   ]
  },
  {
   "cell_type": "code",
   "execution_count": null,
   "metadata": {},
   "outputs": [],
   "source": [
    "sns.regplot(x, y, x_jitter=0.1, scatter_kws={'color':'orange'}, line_kws={'color':'purple'});"
   ]
  },
  {
   "cell_type": "code",
   "execution_count": null,
   "metadata": {},
   "outputs": [],
   "source": [
    "sns.set_style('whitegrid')\n",
    "sns.regplot(x,y);"
   ]
  },
  {
   "cell_type": "code",
   "execution_count": null,
   "metadata": {},
   "outputs": [],
   "source": [
    "sns.set_style('dark')\n",
    "sns.regplot(x,y);"
   ]
  },
  {
   "cell_type": "code",
   "execution_count": null,
   "metadata": {},
   "outputs": [],
   "source": [
    "x = ['A','B','C','D']\n",
    "y = np.random.uniform(size=4)"
   ]
  },
  {
   "cell_type": "code",
   "execution_count": null,
   "metadata": {},
   "outputs": [],
   "source": [
    "sns.set_palette('Accent')\n",
    "sns.barplot(x, y)"
   ]
  },
  {
   "cell_type": "code",
   "execution_count": null,
   "metadata": {},
   "outputs": [],
   "source": [
    "sns.set_palette('winter')\n",
    "sns.barplot(x, y)"
   ]
  },
  {
   "cell_type": "code",
   "execution_count": null,
   "metadata": {},
   "outputs": [],
   "source": [
    "plt.colormaps() # 사용 가능한 팔래트"
   ]
  },
  {
   "cell_type": "code",
   "execution_count": null,
   "metadata": {},
   "outputs": [],
   "source": []
  }
 ],
 "metadata": {
  "kernelspec": {
   "display_name": "Python 3",
   "language": "python",
   "name": "python3"
  },
  "language_info": {
   "codemirror_mode": {
    "name": "ipython",
    "version": 3
   },
   "file_extension": ".py",
   "mimetype": "text/x-python",
   "name": "python",
   "nbconvert_exporter": "python",
   "pygments_lexer": "ipython3",
   "version": "3.7.3"
  }
 },
 "nbformat": 4,
 "nbformat_minor": 2
}
