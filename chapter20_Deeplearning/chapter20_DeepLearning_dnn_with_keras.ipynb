{
 "cells": [
  {
   "cell_type": "markdown",
   "metadata": {},
   "source": [
    "<font color='mediumblue'>\n",
    "## How to Build Neural Networks <br>\n",
    "Constructing Neural Networks to solve ML problems is a multiple-stage process. Generally, one can identify the key steps as follows:\n",
    "* ***step 1:*** Load and process the data\n",
    "* ***step 2:*** Define the model and its architecture\n",
    "* ***step 3:*** Choose the optimizer and the cost function\n",
    "* ***step 4:*** Train the model \n",
    "* ***step 5:*** Evaluate the model performance on the *unseen* test data\n",
    "* ***step 6:*** Modify the hyperparameters to optimize performance for the specific data set *(optional)*"
   ]
  },
  {
   "cell_type": "markdown",
   "metadata": {
    "colab_type": "text",
    "id": "ATYXO4XwySxL"
   },
   "source": [
    "## A real example — recognizing handwritten digits ##\n",
    "We will build networks that can recognize handwritten numbers. <br>\n",
    "For achieving this goal, we use MNIST, a database of handwritten digits made up of a training set of 60,000\n",
    "examples and a test set of 10,000 examples. \n",
    "<br>The training examples are annotated by humans\n",
    "with the correct answer. \n",
    "<br>For instance, if the handwritten digit is the number three, then\n",
    "three is simply the label associated with that example.<br>\n",
    "Each MNIST image is in gray scale, and it consists of 28 x 28 pixels. A subset of these\n",
    "numbers is represented in the following diagram:\n",
    "![Deep%20Learning%20with%20Keras.bmp](https://encrypted-tbn0.gstatic.com/images?q=tbn:ANd9GcToXD458Zgqs8VLLzbJPImOK6EgAf4OBquibDaUnw344dkcd1kT)"
   ]
  },
  {
   "cell_type": "markdown",
   "metadata": {},
   "source": [
    "We will build six different neural networks and compare their performance:\n",
    "* [Case #1: Defining a simple neural net in Keras](#Case-#1:-Defining-a-simple-neural-net-in-Keras)\n",
    "* [Case #2: Improving the simple net in Keras with hidden layers](#Case-#2:-Improving-the-simple-net-in-Keras-with-hidden-layers)\n",
    "* [Case #3: Further improving the simple net in Keras with dropout](#Case-#3:-Further-improving-the-simple-net-in-Keras-with-dropout)\n",
    "* [Case #4: Testing different optimizers in Keras](#Case-#4:-Testing-different-optimizers-in-Keras)\n",
    "* [Case #5: Adopting regularization for avoiding overfitting](#Case-#5:-Adopting-regularization-for-avoiding-overfitting)\n",
    "* [Case #6: Optimizing hyperparameters with Keras-scikit-wrapper](#Case-#6:-Optimizing-hyperparameters-with-Keras-scikit-wrapper)"
   ]
  },
  {
   "cell_type": "markdown",
   "metadata": {
    "colab_type": "text",
    "id": "ATYXO4XwySxL"
   },
   "source": [
    "<font color = \"#CC3D3D\">\n",
    "## Case #1: Defining a simple neural net in Keras"
   ]
  },
  {
   "cell_type": "markdown",
   "metadata": {},
   "source": [
    "##### Set Up"
   ]
  },
  {
   "cell_type": "code",
   "execution_count": 2,
   "metadata": {
    "colab": {
     "autoexec": {
      "startup": false,
      "wait_interval": 0
     },
     "base_uri": "https://localhost:8080/",
     "height": 35
    },
    "colab_type": "code",
    "executionInfo": {
     "elapsed": 2311,
     "status": "ok",
     "timestamp": 1525167296818,
     "user": {
      "displayName": "­조윤호(빅데이터경영통계전공)",
      "photoUrl": "https://lh3.googleusercontent.com/a/default-user=s128",
      "userId": "107121563618260277687"
     },
     "user_tz": -540
    },
    "id": "Gu7X8RqjySxN",
    "outputId": "bed732bd-7ed9-49cb-d1bb-d9156005e60f"
   },
   "outputs": [
    {
     "name": "stdout",
     "output_type": "stream",
     "text": [
      "Collecting pydot\n",
      "  Downloading https://files.pythonhosted.org/packages/33/d1/b1479a770f66d962f545c2101630ce1d5592d90cb4f083d38862e93d16d2/pydot-1.4.1-py2.py3-none-any.whl\n",
      "Collecting graphviz\n",
      "  Downloading https://files.pythonhosted.org/packages/af/ae/e1c63ac4c531d69a7960a99af99e184d4f3da15e29f67767c4252bf19cce/graphviz-0.11-py2.py3-none-any.whl\n",
      "Requirement already satisfied: h5py in c:\\programdata\\anaconda3\\lib\\site-packages (2.9.0)\n",
      "Requirement already satisfied: pyparsing>=2.1.4 in c:\\programdata\\anaconda3\\lib\\site-packages (from pydot) (2.3.1)\n",
      "Requirement already satisfied: six in c:\\programdata\\anaconda3\\lib\\site-packages (from h5py) (1.12.0)\n",
      "Requirement already satisfied: numpy>=1.7 in c:\\programdata\\anaconda3\\lib\\site-packages (from h5py) (1.16.2)\n",
      "Installing collected packages: pydot, graphviz\n",
      "Successfully installed graphviz-0.11 pydot-1.4.1\n"
     ]
    }
   ],
   "source": [
    "# 모델 시각화 및 저장을 위해 관련 패키지를 아래와 같이 설치해야 한다.\n",
    "\n",
    "!pip install pydot graphviz h5py"
   ]
  },
  {
   "cell_type": "code",
   "execution_count": 4,
   "metadata": {},
   "outputs": [
    {
     "name": "stdout",
     "output_type": "stream",
     "text": [
      "Collecting tensorflow\n",
      "  Downloading https://files.pythonhosted.org/packages/f7/08/25e47a53692c2e0dcd2211a493ddfe9007a5cd92e175d6dffa6169a0b392/tensorflow-1.14.0-cp37-cp37m-win_amd64.whl (68.3MB)\n",
      "Collecting keras-preprocessing>=1.0.5 (from tensorflow)\n",
      "  Downloading https://files.pythonhosted.org/packages/28/6a/8c1f62c37212d9fc441a7e26736df51ce6f0e38455816445471f10da4f0a/Keras_Preprocessing-1.1.0-py2.py3-none-any.whl (41kB)\n",
      "Requirement already satisfied: numpy<2.0,>=1.14.5 in c:\\programdata\\anaconda3\\lib\\site-packages (from tensorflow) (1.16.2)\n",
      "Collecting protobuf>=3.6.1 (from tensorflow)\n",
      "  Downloading https://files.pythonhosted.org/packages/49/cd/608edf77e6b7cbc6a79dfc33039ee78afac29dfa8e6c894b9ef95b8a5c8c/protobuf-3.8.0-cp37-cp37m-win_amd64.whl (1.0MB)\n",
      "Collecting gast>=0.2.0 (from tensorflow)\n",
      "  Downloading https://files.pythonhosted.org/packages/4e/35/11749bf99b2d4e3cceb4d55ca22590b0d7c2c62b9de38ac4a4a7f4687421/gast-0.2.2.tar.gz\n",
      "Collecting termcolor>=1.1.0 (from tensorflow)\n",
      "  Downloading https://files.pythonhosted.org/packages/8a/48/a76be51647d0eb9f10e2a4511bf3ffb8cc1e6b14e9e4fab46173aa79f981/termcolor-1.1.0.tar.gz\n",
      "Collecting absl-py>=0.7.0 (from tensorflow)\n",
      "  Downloading https://files.pythonhosted.org/packages/da/3f/9b0355080b81b15ba6a9ffcf1f5ea39e307a2778b2f2dc8694724e8abd5b/absl-py-0.7.1.tar.gz (99kB)\n",
      "Requirement already satisfied: wrapt>=1.11.1 in c:\\programdata\\anaconda3\\lib\\site-packages (from tensorflow) (1.11.1)\n",
      "Requirement already satisfied: wheel>=0.26 in c:\\programdata\\anaconda3\\lib\\site-packages (from tensorflow) (0.33.1)\n",
      "Collecting google-pasta>=0.1.6 (from tensorflow)\n",
      "  Downloading https://files.pythonhosted.org/packages/d0/33/376510eb8d6246f3c30545f416b2263eee461e40940c2a4413c711bdf62d/google_pasta-0.1.7-py3-none-any.whl (52kB)\n",
      "Collecting tensorboard<1.15.0,>=1.14.0 (from tensorflow)\n",
      "  Downloading https://files.pythonhosted.org/packages/91/2d/2ed263449a078cd9c8a9ba50ebd50123adf1f8cfbea1492f9084169b89d9/tensorboard-1.14.0-py3-none-any.whl (3.1MB)\n",
      "Collecting grpcio>=1.8.6 (from tensorflow)\n",
      "  Downloading https://files.pythonhosted.org/packages/f7/bd/171c99a393df51faae5f696c9fedee59c109c4346535fe84450ab0d2cdd6/grpcio-1.21.1-cp37-cp37m-win_amd64.whl (1.6MB)\n",
      "Collecting tensorflow-estimator<1.15.0rc0,>=1.14.0rc0 (from tensorflow)\n",
      "  Downloading https://files.pythonhosted.org/packages/3c/d5/21860a5b11caf0678fbc8319341b0ae21a07156911132e0e71bffed0510d/tensorflow_estimator-1.14.0-py2.py3-none-any.whl (488kB)\n",
      "Requirement already satisfied: six>=1.10.0 in c:\\programdata\\anaconda3\\lib\\site-packages (from tensorflow) (1.12.0)\n",
      "Collecting astor>=0.6.0 (from tensorflow)\n",
      "  Downloading https://files.pythonhosted.org/packages/d1/4f/950dfae467b384fc96bc6469de25d832534f6b4441033c39f914efd13418/astor-0.8.0-py2.py3-none-any.whl\n",
      "Collecting keras-applications>=1.0.6 (from tensorflow)\n",
      "  Downloading https://files.pythonhosted.org/packages/71/e3/19762fdfc62877ae9102edf6342d71b28fbfd9dea3d2f96a882ce099b03f/Keras_Applications-1.0.8-py3-none-any.whl (50kB)\n",
      "Requirement already satisfied: setuptools in c:\\programdata\\anaconda3\\lib\\site-packages (from protobuf>=3.6.1->tensorflow) (40.8.0)\n",
      "Collecting markdown>=2.6.8 (from tensorboard<1.15.0,>=1.14.0->tensorflow)\n",
      "  Downloading https://files.pythonhosted.org/packages/c0/4e/fd492e91abdc2d2fcb70ef453064d980688762079397f779758e055f6575/Markdown-3.1.1-py2.py3-none-any.whl (87kB)\n",
      "Requirement already satisfied: werkzeug>=0.11.15 in c:\\programdata\\anaconda3\\lib\\site-packages (from tensorboard<1.15.0,>=1.14.0->tensorflow) (0.14.1)\n",
      "Requirement already satisfied: h5py in c:\\programdata\\anaconda3\\lib\\site-packages (from keras-applications>=1.0.6->tensorflow) (2.9.0)\n",
      "Building wheels for collected packages: gast, termcolor, absl-py\n",
      "  Building wheel for gast (setup.py): started\n",
      "  Building wheel for gast (setup.py): finished with status 'done'\n",
      "  Stored in directory: C:\\Users\\709-000\\AppData\\Local\\pip\\Cache\\wheels\\5c\\2e\\7e\\a1d4d4fcebe6c381f378ce7743a3ced3699feb89bcfbdadadd\n",
      "  Building wheel for termcolor (setup.py): started\n",
      "  Building wheel for termcolor (setup.py): finished with status 'done'\n",
      "  Stored in directory: C:\\Users\\709-000\\AppData\\Local\\pip\\Cache\\wheels\\7c\\06\\54\\bc84598ba1daf8f970247f550b175aaaee85f68b4b0c5ab2c6\n",
      "  Building wheel for absl-py (setup.py): started\n",
      "  Building wheel for absl-py (setup.py): finished with status 'done'\n",
      "  Stored in directory: C:\\Users\\709-000\\AppData\\Local\\pip\\Cache\\wheels\\ee\\98\\38\\46cbcc5a93cfea5492d19c38562691ddb23b940176c14f7b48\n",
      "Successfully built gast termcolor absl-py\n",
      "Installing collected packages: keras-preprocessing, protobuf, gast, termcolor, absl-py, google-pasta, markdown, grpcio, tensorboard, tensorflow-estimator, astor, keras-applications, tensorflow\n",
      "Successfully installed absl-py-0.7.1 astor-0.8.0 gast-0.2.2 google-pasta-0.1.7 grpcio-1.21.1 keras-applications-1.0.8 keras-preprocessing-1.1.0 markdown-3.1.1 protobuf-3.8.0 tensorboard-1.14.0 tensorflow-1.14.0 tensorflow-estimator-1.14.0 termcolor-1.1.0\n"
     ]
    },
    {
     "name": "stderr",
     "output_type": "stream",
     "text": [
      "tensorboard 1.14.0 has requirement setuptools>=41.0.0, but you'll have setuptools 40.8.0 which is incompatible.\n"
     ]
    }
   ],
   "source": [
    "!pip install tensorflow"
   ]
  },
  {
   "cell_type": "code",
   "execution_count": 6,
   "metadata": {},
   "outputs": [
    {
     "name": "stdout",
     "output_type": "stream",
     "text": [
      "Collecting keras\n",
      "  Downloading https://files.pythonhosted.org/packages/5e/10/aa32dad071ce52b5502266b5c659451cfd6ffcbf14e6c8c4f16c0ff5aaab/Keras-2.2.4-py2.py3-none-any.whl (312kB)\n",
      "Requirement already satisfied: h5py in c:\\programdata\\anaconda3\\lib\\site-packages (from keras) (2.9.0)\n",
      "Requirement already satisfied: numpy>=1.9.1 in c:\\programdata\\anaconda3\\lib\\site-packages (from keras) (1.16.2)\n",
      "Requirement already satisfied: scipy>=0.14 in c:\\programdata\\anaconda3\\lib\\site-packages (from keras) (1.2.1)\n",
      "Requirement already satisfied: keras-applications>=1.0.6 in c:\\programdata\\anaconda3\\lib\\site-packages (from keras) (1.0.8)\n",
      "Requirement already satisfied: keras-preprocessing>=1.0.5 in c:\\programdata\\anaconda3\\lib\\site-packages (from keras) (1.1.0)\n",
      "Requirement already satisfied: six>=1.9.0 in c:\\programdata\\anaconda3\\lib\\site-packages (from keras) (1.12.0)\n",
      "Requirement already satisfied: pyyaml in c:\\programdata\\anaconda3\\lib\\site-packages (from keras) (5.1)\n",
      "Installing collected packages: keras\n",
      "Successfully installed keras-2.2.4\n"
     ]
    }
   ],
   "source": [
    "!pip install keras"
   ]
  },
  {
   "cell_type": "code",
   "execution_count": 7,
   "metadata": {
    "colab": {
     "autoexec": {
      "startup": false,
      "wait_interval": 0
     },
     "base_uri": "https://localhost:8080/",
     "height": 35
    },
    "colab_type": "code",
    "executionInfo": {
     "elapsed": 2311,
     "status": "ok",
     "timestamp": 1525167296818,
     "user": {
      "displayName": "­조윤호(빅데이터경영통계전공)",
      "photoUrl": "https://lh3.googleusercontent.com/a/default-user=s128",
      "userId": "107121563618260277687"
     },
     "user_tz": -540
    },
    "id": "Gu7X8RqjySxN",
    "outputId": "bed732bd-7ed9-49cb-d1bb-d9156005e60f"
   },
   "outputs": [
    {
     "name": "stderr",
     "output_type": "stream",
     "text": [
      "Using TensorFlow backend.\n"
     ]
    }
   ],
   "source": [
    "#\n",
    "# Setting for obtaining reproducible results\n",
    "#\n",
    "\n",
    "import numpy as np\n",
    "import tensorflow as tf\n",
    "import random as rn\n",
    "\n",
    "# The below is necessary in Python 3.2.3 onwards to\n",
    "# have reproducible behavior for certain hash-based operations.\n",
    "# See these references for further details:\n",
    "# https://docs.python.org/3.4/using/cmdline.html#envvar-PYTHONHASHSEED\n",
    "# https://github.com/keras-team/keras/issues/2280#issuecomment-306959926\n",
    "\n",
    "import os\n",
    "os.environ['PYTHONHASHSEED'] = '0'\n",
    "\n",
    "# The below is necessary for starting Numpy generated random numbers\n",
    "# in a well-defined initial state.\n",
    "\n",
    "np.random.seed(42)\n",
    "\n",
    "# The below is necessary for starting core Python generated random numbers\n",
    "# in a well-defined state.\n",
    "\n",
    "#rn.seed(12345)\n",
    "\n",
    "# Force TensorFlow to use single thread.\n",
    "# Multiple threads are a potential source of\n",
    "# non-reproducible results.\n",
    "\n",
    "session_conf = tf.ConfigProto(intra_op_parallelism_threads=1, \n",
    "                              inter_op_parallelism_threads=1)\n",
    "\n",
    "from keras import backend as K\n",
    "\n",
    "# The below tf.set_random_seed() will make random number generation\n",
    "# in the TensorFlow backend have a well-defined initial state.\n",
    "# For further details, \n",
    "# see: https://www.tensorflow.org/api_docs/python/tf/set_random_seed\n",
    "\n",
    "tf.set_random_seed(1234)\n",
    "\n",
    "sess = tf.Session(graph=tf.get_default_graph(), config=session_conf)\n",
    "K.set_session(sess)"
   ]
  },
  {
   "cell_type": "code",
   "execution_count": 8,
   "metadata": {
    "colab": {
     "autoexec": {
      "startup": false,
      "wait_interval": 0
     },
     "base_uri": "https://localhost:8080/",
     "height": 35
    },
    "colab_type": "code",
    "executionInfo": {
     "elapsed": 2311,
     "status": "ok",
     "timestamp": 1525167296818,
     "user": {
      "displayName": "­조윤호(빅데이터경영통계전공)",
      "photoUrl": "https://lh3.googleusercontent.com/a/default-user=s128",
      "userId": "107121563618260277687"
     },
     "user_tz": -540
    },
    "id": "Gu7X8RqjySxN",
    "outputId": "bed732bd-7ed9-49cb-d1bb-d9156005e60f"
   },
   "outputs": [],
   "source": [
    "import keras, sklearn\n",
    "import matplotlib.pyplot as plt\n",
    "from keras.datasets import mnist\n",
    "from keras.models import Sequential\n",
    "from keras.layers.core import Dense, Activation\n",
    "from keras.optimizers import SGD\n",
    "from keras.utils import np_utils"
   ]
  },
  {
   "cell_type": "markdown",
   "metadata": {
    "colab_type": "text",
    "id": "ssz9-VkkySxe"
   },
   "source": [
    "### Step 1: Load and Process the Data ###"
   ]
  },
  {
   "cell_type": "code",
   "execution_count": 10,
   "metadata": {
    "colab": {
     "autoexec": {
      "startup": false,
      "wait_interval": 0
     },
     "base_uri": "https://localhost:8080/",
     "height": 89
    },
    "colab_type": "code",
    "executionInfo": {
     "elapsed": 3786,
     "status": "ok",
     "timestamp": 1525167308978,
     "user": {
      "displayName": "­조윤호(빅데이터경영통계전공)",
      "photoUrl": "https://lh3.googleusercontent.com/a/default-user=s128",
      "userId": "107121563618260277687"
     },
     "user_tz": -540
    },
    "id": "G-eVw42hySxg",
    "outputId": "5c4fcfeb-8775-444d-df3a-d35d629a8349"
   },
   "outputs": [
    {
     "name": "stdout",
     "output_type": "stream",
     "text": [
      "60000 train samples\n",
      "10000 test samples\n"
     ]
    }
   ],
   "source": [
    "# mnist 이미지 데이터\n",
    "(X_train, y_train), (X_test, y_test) = mnist.load_data()\n",
    "#X_train is 60000 rows of 28x28 values --> reshaped in 60000 x 784\n",
    "RESHAPED = 784 # 전체 픽셀 갯수\n",
    "\n",
    "X_train = X_train.reshape(60000, RESHAPED) # 학습이미지 6만개\n",
    "X_test = X_test.reshape(10000, RESHAPED) # 평가이미지 만개\n",
    "X_train = X_train.astype('float32')\n",
    "X_test = X_test.astype('float32')\n",
    "\n",
    "# 한 픽셀 값은 0~255로 표현된다. 0은 흰색, 255는 검은색\n",
    "\n",
    "# normalize\n",
    "X_train /= 255 \n",
    "X_test /= 255\n",
    "print(X_train.shape[0], 'train samples')\n",
    "print(X_test.shape[0], 'test samples')\n",
    "\n",
    "# convert class vectors to binary class matrices\n",
    "# 뉴럴넷은 입력데이터에 대한 스케일 조정이 필요\n",
    "# to_categorical : 찾을 값이 0~9까지이므로 10개로 원핫 인코딩을 한다.\n",
    "Y_train = np_utils.to_categorical(y_train, 10)\n",
    "Y_test = np_utils.to_categorical(y_test, 10)"
   ]
  },
  {
   "cell_type": "markdown",
   "metadata": {
    "colab_type": "text",
    "id": "PPOWln24ySxl"
   },
   "source": [
    "### Step 2: Define the Model & its Architecture ###"
   ]
  },
  {
   "cell_type": "code",
   "execution_count": 11,
   "metadata": {
    "colab": {
     "autoexec": {
      "startup": false,
      "wait_interval": 0
     },
     "base_uri": "https://localhost:8080/",
     "height": 215
    },
    "colab_type": "code",
    "executionInfo": {
     "elapsed": 656,
     "status": "ok",
     "timestamp": 1525167312928,
     "user": {
      "displayName": "­조윤호(빅데이터경영통계전공)",
      "photoUrl": "https://lh3.googleusercontent.com/a/default-user=s128",
      "userId": "107121563618260277687"
     },
     "user_tz": -540
    },
    "id": "s2e6eVxBySxn",
    "outputId": "a2a5c500-0025-4e7c-fd08-072c2a0c59ce"
   },
   "outputs": [
    {
     "name": "stderr",
     "output_type": "stream",
     "text": [
      "WARNING: Logging before flag parsing goes to stderr.\n",
      "W0702 19:55:08.354771  1812 deprecation_wrapper.py:119] From C:\\ProgramData\\Anaconda3\\lib\\site-packages\\keras\\backend\\tensorflow_backend.py:74: The name tf.get_default_graph is deprecated. Please use tf.compat.v1.get_default_graph instead.\n",
      "\n",
      "W0702 19:55:08.359771  1812 deprecation_wrapper.py:119] From C:\\ProgramData\\Anaconda3\\lib\\site-packages\\keras\\backend\\tensorflow_backend.py:517: The name tf.placeholder is deprecated. Please use tf.compat.v1.placeholder instead.\n",
      "\n",
      "W0702 19:55:08.367772  1812 deprecation_wrapper.py:119] From C:\\ProgramData\\Anaconda3\\lib\\site-packages\\keras\\backend\\tensorflow_backend.py:4138: The name tf.random_uniform is deprecated. Please use tf.random.uniform instead.\n",
      "\n"
     ]
    },
    {
     "name": "stdout",
     "output_type": "stream",
     "text": [
      "_________________________________________________________________\n",
      "Layer (type)                 Output Shape              Param #   \n",
      "=================================================================\n",
      "dense_1 (Dense)              (None, 10)                7850      \n",
      "_________________________________________________________________\n",
      "activation_1 (Activation)    (None, 10)                0         \n",
      "=================================================================\n",
      "Total params: 7,850\n",
      "Trainable params: 7,850\n",
      "Non-trainable params: 0\n",
      "_________________________________________________________________\n"
     ]
    }
   ],
   "source": [
    "# 10 outputs\n",
    "# final stage is softmax\n",
    "model = Sequential()\n",
    "\n",
    "# Dense : 입력모드가 784(RESHAPED), 첫번째 히든레이어는 10개로 연결하라\n",
    "model.add(Dense(10, input_shape=(RESHAPED,))) \n",
    "model.add(Activation('softmax'))\n",
    "\n",
    "model.summary() # 종합한것을 본다.  \n",
    "# Param 이 weight 이다. 7850개를 학습시키면 된다."
   ]
  },
  {
   "cell_type": "code",
   "execution_count": 12,
   "metadata": {
    "colab": {
     "autoexec": {
      "startup": false,
      "wait_interval": 0
     },
     "base_uri": "https://localhost:8080/",
     "height": 604
    },
    "colab_type": "code",
    "executionInfo": {
     "elapsed": 844,
     "status": "error",
     "timestamp": 1525166603719,
     "user": {
      "displayName": "­조윤호(빅데이터경영통계전공)",
      "photoUrl": "https://lh3.googleusercontent.com/a/default-user=s128",
      "userId": "107121563618260277687"
     },
     "user_tz": -540
    },
    "id": "auG6u0kLySxs",
    "outputId": "6a342f5b-4ca4-464d-958e-5a2413828293"
   },
   "outputs": [
    {
     "ename": "OSError",
     "evalue": "`pydot` failed to call GraphViz.Please install GraphViz (https://www.graphviz.org/) and ensure that its executables are in the $PATH.",
     "output_type": "error",
     "traceback": [
      "\u001b[1;31m---------------------------------------------------------------------------\u001b[0m",
      "\u001b[1;31mFileNotFoundError\u001b[0m                         Traceback (most recent call last)",
      "\u001b[1;32mC:\\ProgramData\\Anaconda3\\lib\\site-packages\\pydot.py\u001b[0m in \u001b[0;36mcreate\u001b[1;34m(self, prog, format, encoding)\u001b[0m\n\u001b[0;32m   1914\u001b[0m                 \u001b[0marguments\u001b[0m\u001b[1;33m=\u001b[0m\u001b[0marguments\u001b[0m\u001b[1;33m,\u001b[0m\u001b[1;33m\u001b[0m\u001b[1;33m\u001b[0m\u001b[0m\n\u001b[1;32m-> 1915\u001b[1;33m                 \u001b[0mworking_dir\u001b[0m\u001b[1;33m=\u001b[0m\u001b[0mtmp_dir\u001b[0m\u001b[1;33m,\u001b[0m\u001b[1;33m\u001b[0m\u001b[1;33m\u001b[0m\u001b[0m\n\u001b[0m\u001b[0;32m   1916\u001b[0m             )\n",
      "\u001b[1;32mC:\\ProgramData\\Anaconda3\\lib\\site-packages\\pydot.py\u001b[0m in \u001b[0;36mcall_graphviz\u001b[1;34m(program, arguments, working_dir, **kwargs)\u001b[0m\n\u001b[0;32m    135\u001b[0m         \u001b[0mstdout\u001b[0m\u001b[1;33m=\u001b[0m\u001b[0msubprocess\u001b[0m\u001b[1;33m.\u001b[0m\u001b[0mPIPE\u001b[0m\u001b[1;33m,\u001b[0m\u001b[1;33m\u001b[0m\u001b[1;33m\u001b[0m\u001b[0m\n\u001b[1;32m--> 136\u001b[1;33m         \u001b[1;33m**\u001b[0m\u001b[0mkwargs\u001b[0m\u001b[1;33m\u001b[0m\u001b[1;33m\u001b[0m\u001b[0m\n\u001b[0m\u001b[0;32m    137\u001b[0m     )\n",
      "\u001b[1;32mC:\\ProgramData\\Anaconda3\\lib\\subprocess.py\u001b[0m in \u001b[0;36m__init__\u001b[1;34m(self, args, bufsize, executable, stdin, stdout, stderr, preexec_fn, close_fds, shell, cwd, env, universal_newlines, startupinfo, creationflags, restore_signals, start_new_session, pass_fds, encoding, errors, text)\u001b[0m\n\u001b[0;32m    774\u001b[0m                                 \u001b[0merrread\u001b[0m\u001b[1;33m,\u001b[0m \u001b[0merrwrite\u001b[0m\u001b[1;33m,\u001b[0m\u001b[1;33m\u001b[0m\u001b[1;33m\u001b[0m\u001b[0m\n\u001b[1;32m--> 775\u001b[1;33m                                 restore_signals, start_new_session)\n\u001b[0m\u001b[0;32m    776\u001b[0m         \u001b[1;32mexcept\u001b[0m\u001b[1;33m:\u001b[0m\u001b[1;33m\u001b[0m\u001b[1;33m\u001b[0m\u001b[0m\n",
      "\u001b[1;32mC:\\ProgramData\\Anaconda3\\lib\\subprocess.py\u001b[0m in \u001b[0;36m_execute_child\u001b[1;34m(self, args, executable, preexec_fn, close_fds, pass_fds, cwd, env, startupinfo, creationflags, shell, p2cread, p2cwrite, c2pread, c2pwrite, errread, errwrite, unused_restore_signals, unused_start_new_session)\u001b[0m\n\u001b[0;32m   1177\u001b[0m                                          \u001b[0mos\u001b[0m\u001b[1;33m.\u001b[0m\u001b[0mfspath\u001b[0m\u001b[1;33m(\u001b[0m\u001b[0mcwd\u001b[0m\u001b[1;33m)\u001b[0m \u001b[1;32mif\u001b[0m \u001b[0mcwd\u001b[0m \u001b[1;32mis\u001b[0m \u001b[1;32mnot\u001b[0m \u001b[1;32mNone\u001b[0m \u001b[1;32melse\u001b[0m \u001b[1;32mNone\u001b[0m\u001b[1;33m,\u001b[0m\u001b[1;33m\u001b[0m\u001b[1;33m\u001b[0m\u001b[0m\n\u001b[1;32m-> 1178\u001b[1;33m                                          startupinfo)\n\u001b[0m\u001b[0;32m   1179\u001b[0m             \u001b[1;32mfinally\u001b[0m\u001b[1;33m:\u001b[0m\u001b[1;33m\u001b[0m\u001b[1;33m\u001b[0m\u001b[0m\n",
      "\u001b[1;31mFileNotFoundError\u001b[0m: [WinError 2] 지정된 파일을 찾을 수 없습니다",
      "\nDuring handling of the above exception, another exception occurred:\n",
      "\u001b[1;31mFileNotFoundError\u001b[0m                         Traceback (most recent call last)",
      "\u001b[1;32mC:\\ProgramData\\Anaconda3\\lib\\site-packages\\keras\\utils\\vis_utils.py\u001b[0m in \u001b[0;36m_check_pydot\u001b[1;34m()\u001b[0m\n\u001b[0;32m     25\u001b[0m         \u001b[1;31m# to check the pydot/graphviz installation.\u001b[0m\u001b[1;33m\u001b[0m\u001b[1;33m\u001b[0m\u001b[1;33m\u001b[0m\u001b[0m\n\u001b[1;32m---> 26\u001b[1;33m         \u001b[0mpydot\u001b[0m\u001b[1;33m.\u001b[0m\u001b[0mDot\u001b[0m\u001b[1;33m.\u001b[0m\u001b[0mcreate\u001b[0m\u001b[1;33m(\u001b[0m\u001b[0mpydot\u001b[0m\u001b[1;33m.\u001b[0m\u001b[0mDot\u001b[0m\u001b[1;33m(\u001b[0m\u001b[1;33m)\u001b[0m\u001b[1;33m)\u001b[0m\u001b[1;33m\u001b[0m\u001b[1;33m\u001b[0m\u001b[0m\n\u001b[0m\u001b[0;32m     27\u001b[0m     \u001b[1;32mexcept\u001b[0m \u001b[0mOSError\u001b[0m\u001b[1;33m:\u001b[0m\u001b[1;33m\u001b[0m\u001b[1;33m\u001b[0m\u001b[0m\n",
      "\u001b[1;32mC:\\ProgramData\\Anaconda3\\lib\\site-packages\\pydot.py\u001b[0m in \u001b[0;36mcreate\u001b[1;34m(self, prog, format, encoding)\u001b[0m\n\u001b[0;32m   1921\u001b[0m                     prog=prog)\n\u001b[1;32m-> 1922\u001b[1;33m                 \u001b[1;32mraise\u001b[0m \u001b[0mOSError\u001b[0m\u001b[1;33m(\u001b[0m\u001b[1;33m*\u001b[0m\u001b[0margs\u001b[0m\u001b[1;33m)\u001b[0m\u001b[1;33m\u001b[0m\u001b[1;33m\u001b[0m\u001b[0m\n\u001b[0m\u001b[0;32m   1923\u001b[0m             \u001b[1;32melse\u001b[0m\u001b[1;33m:\u001b[0m\u001b[1;33m\u001b[0m\u001b[1;33m\u001b[0m\u001b[0m\n",
      "\u001b[1;31mFileNotFoundError\u001b[0m: [WinError 2] \"dot\" not found in path.",
      "\nDuring handling of the above exception, another exception occurred:\n",
      "\u001b[1;31mOSError\u001b[0m                                   Traceback (most recent call last)",
      "\u001b[1;32m<ipython-input-12-3f968a51a4ec>\u001b[0m in \u001b[0;36m<module>\u001b[1;34m\u001b[0m\n\u001b[0;32m      2\u001b[0m \u001b[1;32mfrom\u001b[0m \u001b[0mkeras\u001b[0m\u001b[1;33m.\u001b[0m\u001b[0mutils\u001b[0m\u001b[1;33m.\u001b[0m\u001b[0mvis_utils\u001b[0m \u001b[1;32mimport\u001b[0m \u001b[0mmodel_to_dot\u001b[0m\u001b[1;33m\u001b[0m\u001b[1;33m\u001b[0m\u001b[0m\n\u001b[0;32m      3\u001b[0m \u001b[1;33m\u001b[0m\u001b[0m\n\u001b[1;32m----> 4\u001b[1;33m \u001b[0mImage\u001b[0m\u001b[1;33m(\u001b[0m\u001b[0mmodel_to_dot\u001b[0m\u001b[1;33m(\u001b[0m\u001b[0mmodel\u001b[0m\u001b[1;33m,\u001b[0m\u001b[0mshow_shapes\u001b[0m\u001b[1;33m=\u001b[0m\u001b[1;32mTrue\u001b[0m\u001b[1;33m,\u001b[0m \u001b[0mshow_layer_names\u001b[0m\u001b[1;33m=\u001b[0m\u001b[1;32mFalse\u001b[0m\u001b[1;33m)\u001b[0m\u001b[1;33m.\u001b[0m\u001b[0mcreate\u001b[0m\u001b[1;33m(\u001b[0m\u001b[0mprog\u001b[0m\u001b[1;33m=\u001b[0m\u001b[1;34m'dot'\u001b[0m\u001b[1;33m,\u001b[0m \u001b[0mformat\u001b[0m\u001b[1;33m=\u001b[0m\u001b[1;34m'png'\u001b[0m\u001b[1;33m)\u001b[0m\u001b[1;33m)\u001b[0m\u001b[1;33m\u001b[0m\u001b[1;33m\u001b[0m\u001b[0m\n\u001b[0m",
      "\u001b[1;32mC:\\ProgramData\\Anaconda3\\lib\\site-packages\\keras\\utils\\vis_utils.py\u001b[0m in \u001b[0;36mmodel_to_dot\u001b[1;34m(model, show_shapes, show_layer_names, rankdir)\u001b[0m\n\u001b[0;32m     53\u001b[0m     \u001b[1;32mfrom\u001b[0m \u001b[1;33m.\u001b[0m\u001b[1;33m.\u001b[0m\u001b[0mmodels\u001b[0m \u001b[1;32mimport\u001b[0m \u001b[0mSequential\u001b[0m\u001b[1;33m\u001b[0m\u001b[1;33m\u001b[0m\u001b[0m\n\u001b[0;32m     54\u001b[0m \u001b[1;33m\u001b[0m\u001b[0m\n\u001b[1;32m---> 55\u001b[1;33m     \u001b[0m_check_pydot\u001b[0m\u001b[1;33m(\u001b[0m\u001b[1;33m)\u001b[0m\u001b[1;33m\u001b[0m\u001b[1;33m\u001b[0m\u001b[0m\n\u001b[0m\u001b[0;32m     56\u001b[0m     \u001b[0mdot\u001b[0m \u001b[1;33m=\u001b[0m \u001b[0mpydot\u001b[0m\u001b[1;33m.\u001b[0m\u001b[0mDot\u001b[0m\u001b[1;33m(\u001b[0m\u001b[1;33m)\u001b[0m\u001b[1;33m\u001b[0m\u001b[1;33m\u001b[0m\u001b[0m\n\u001b[0;32m     57\u001b[0m     \u001b[0mdot\u001b[0m\u001b[1;33m.\u001b[0m\u001b[0mset\u001b[0m\u001b[1;33m(\u001b[0m\u001b[1;34m'rankdir'\u001b[0m\u001b[1;33m,\u001b[0m \u001b[0mrankdir\u001b[0m\u001b[1;33m)\u001b[0m\u001b[1;33m\u001b[0m\u001b[1;33m\u001b[0m\u001b[0m\n",
      "\u001b[1;32mC:\\ProgramData\\Anaconda3\\lib\\site-packages\\keras\\utils\\vis_utils.py\u001b[0m in \u001b[0;36m_check_pydot\u001b[1;34m()\u001b[0m\n\u001b[0;32m     27\u001b[0m     \u001b[1;32mexcept\u001b[0m \u001b[0mOSError\u001b[0m\u001b[1;33m:\u001b[0m\u001b[1;33m\u001b[0m\u001b[1;33m\u001b[0m\u001b[0m\n\u001b[0;32m     28\u001b[0m         raise OSError(\n\u001b[1;32m---> 29\u001b[1;33m             \u001b[1;34m'`pydot` failed to call GraphViz.'\u001b[0m\u001b[1;33m\u001b[0m\u001b[1;33m\u001b[0m\u001b[0m\n\u001b[0m\u001b[0;32m     30\u001b[0m             \u001b[1;34m'Please install GraphViz (https://www.graphviz.org/) '\u001b[0m\u001b[1;33m\u001b[0m\u001b[1;33m\u001b[0m\u001b[0m\n\u001b[0;32m     31\u001b[0m             'and ensure that its executables are in the $PATH.')\n",
      "\u001b[1;31mOSError\u001b[0m: `pydot` failed to call GraphViz.Please install GraphViz (https://www.graphviz.org/) and ensure that its executables are in the $PATH."
     ]
    }
   ],
   "source": [
    "from IPython.display import Image\n",
    "from keras.utils.vis_utils import model_to_dot\n",
    "\n",
    "Image(model_to_dot(model,show_shapes=True, show_layer_names=False).create(prog='dot', format='png'))"
   ]
  },
  {
   "cell_type": "markdown",
   "metadata": {},
   "source": [
    "### Step 3: Choose the Optimizer and the Cost function"
   ]
  },
  {
   "cell_type": "code",
   "execution_count": 13,
   "metadata": {
    "colab": {
     "autoexec": {
      "startup": false,
      "wait_interval": 0
     },
     "base_uri": "https://localhost:8080/",
     "height": 1516
    },
    "colab_type": "code",
    "executionInfo": {
     "elapsed": 34654,
     "status": "ok",
     "timestamp": 1525167354316,
     "user": {
      "displayName": "­조윤호(빅데이터경영통계전공)",
      "photoUrl": "https://lh3.googleusercontent.com/a/default-user=s128",
      "userId": "107121563618260277687"
     },
     "user_tz": -540
    },
    "id": "gFE6aAZNySx0",
    "outputId": "05efd6b2-ae99-4041-ca43-915a1ce58856"
   },
   "outputs": [
    {
     "name": "stderr",
     "output_type": "stream",
     "text": [
      "W0702 19:58:01.213658  1812 deprecation_wrapper.py:119] From C:\\ProgramData\\Anaconda3\\lib\\site-packages\\keras\\optimizers.py:790: The name tf.train.Optimizer is deprecated. Please use tf.compat.v1.train.Optimizer instead.\n",
      "\n",
      "W0702 19:58:01.224659  1812 deprecation_wrapper.py:119] From C:\\ProgramData\\Anaconda3\\lib\\site-packages\\keras\\backend\\tensorflow_backend.py:3295: The name tf.log is deprecated. Please use tf.math.log instead.\n",
      "\n"
     ]
    }
   ],
   "source": [
    "# optimizer : SGD 는 최적의 방법을 찾는 것\n",
    "model.compile(loss='categorical_crossentropy', optimizer=SGD(), metrics=['accuracy'])"
   ]
  },
  {
   "cell_type": "markdown",
   "metadata": {
    "colab_type": "text",
    "id": "_JWYMMeGySxy"
   },
   "source": [
    "### Step 4: Train the Model"
   ]
  },
  {
   "cell_type": "code",
   "execution_count": 14,
   "metadata": {
    "colab": {
     "autoexec": {
      "startup": false,
      "wait_interval": 0
     },
     "base_uri": "https://localhost:8080/",
     "height": 1516
    },
    "colab_type": "code",
    "executionInfo": {
     "elapsed": 34654,
     "status": "ok",
     "timestamp": 1525167354316,
     "user": {
      "displayName": "­조윤호(빅데이터경영통계전공)",
      "photoUrl": "https://lh3.googleusercontent.com/a/default-user=s128",
      "userId": "107121563618260277687"
     },
     "user_tz": -540
    },
    "id": "gFE6aAZNySx0",
    "outputId": "05efd6b2-ae99-4041-ca43-915a1ce58856"
   },
   "outputs": [
    {
     "name": "stderr",
     "output_type": "stream",
     "text": [
      "W0702 19:58:04.159827  1812 deprecation.py:323] From C:\\ProgramData\\Anaconda3\\lib\\site-packages\\tensorflow\\python\\ops\\math_grad.py:1250: add_dispatch_support.<locals>.wrapper (from tensorflow.python.ops.array_ops) is deprecated and will be removed in a future version.\n",
      "Instructions for updating:\n",
      "Use tf.where in 2.0, which has the same broadcast rule as np.where\n",
      "W0702 19:58:04.192829  1812 deprecation_wrapper.py:119] From C:\\ProgramData\\Anaconda3\\lib\\site-packages\\keras\\backend\\tensorflow_backend.py:986: The name tf.assign_add is deprecated. Please use tf.compat.v1.assign_add instead.\n",
      "\n"
     ]
    },
    {
     "name": "stdout",
     "output_type": "stream",
     "text": [
      "Train on 48000 samples, validate on 12000 samples\n",
      "Epoch 1/30\n",
      "48000/48000 [==============================] - 1s 11us/step - loss: 1.3995 - acc: 0.6581 - val_loss: 0.8983 - val_acc: 0.8258\n",
      "Epoch 2/30\n",
      "48000/48000 [==============================] - 0s 8us/step - loss: 0.7951 - acc: 0.8276 - val_loss: 0.6579 - val_acc: 0.8565\n",
      "Epoch 3/30\n",
      "48000/48000 [==============================] - 0s 8us/step - loss: 0.6440 - acc: 0.8499 - val_loss: 0.5617 - val_acc: 0.8683\n",
      "Epoch 4/30\n",
      "48000/48000 [==============================] - 0s 8us/step - loss: 0.5711 - acc: 0.8608 - val_loss: 0.5088 - val_acc: 0.8767\n",
      "Epoch 5/30\n",
      "48000/48000 [==============================] - 0s 8us/step - loss: 0.5269 - acc: 0.8675 - val_loss: 0.4746 - val_acc: 0.8818\n",
      "Epoch 6/30\n",
      "48000/48000 [==============================] - 0s 8us/step - loss: 0.4964 - acc: 0.8732 - val_loss: 0.4505 - val_acc: 0.8868\n",
      "Epoch 7/30\n",
      "48000/48000 [==============================] - 0s 8us/step - loss: 0.4739 - acc: 0.8772 - val_loss: 0.4322 - val_acc: 0.8910\n",
      "Epoch 8/30\n",
      "48000/48000 [==============================] - 0s 8us/step - loss: 0.4565 - acc: 0.8805 - val_loss: 0.4181 - val_acc: 0.8924\n",
      "Epoch 9/30\n",
      "48000/48000 [==============================] - 0s 8us/step - loss: 0.4424 - acc: 0.8827 - val_loss: 0.4063 - val_acc: 0.8952\n",
      "Epoch 10/30\n",
      "48000/48000 [==============================] - 0s 8us/step - loss: 0.4308 - acc: 0.8849 - val_loss: 0.3968 - val_acc: 0.8963\n",
      "Epoch 11/30\n",
      "48000/48000 [==============================] - 0s 8us/step - loss: 0.4209 - acc: 0.8870 - val_loss: 0.3885 - val_acc: 0.8982\n",
      "Epoch 12/30\n",
      "48000/48000 [==============================] - 0s 8us/step - loss: 0.4125 - acc: 0.8888 - val_loss: 0.3816 - val_acc: 0.8997\n",
      "Epoch 13/30\n",
      "48000/48000 [==============================] - 0s 8us/step - loss: 0.4052 - acc: 0.8902 - val_loss: 0.3757 - val_acc: 0.9015\n",
      "Epoch 14/30\n",
      "48000/48000 [==============================] - 0s 8us/step - loss: 0.3987 - acc: 0.8916 - val_loss: 0.3702 - val_acc: 0.9023\n",
      "Epoch 15/30\n",
      "48000/48000 [==============================] - 0s 8us/step - loss: 0.3928 - acc: 0.8932 - val_loss: 0.3653 - val_acc: 0.9040\n",
      "Epoch 16/30\n",
      "48000/48000 [==============================] - 0s 8us/step - loss: 0.3877 - acc: 0.8941 - val_loss: 0.3611 - val_acc: 0.9045\n",
      "Epoch 17/30\n",
      "48000/48000 [==============================] - 0s 8us/step - loss: 0.3830 - acc: 0.8954 - val_loss: 0.3571 - val_acc: 0.9054\n",
      "Epoch 18/30\n",
      "48000/48000 [==============================] - 0s 8us/step - loss: 0.3787 - acc: 0.8965 - val_loss: 0.3536 - val_acc: 0.9056\n",
      "Epoch 19/30\n",
      "48000/48000 [==============================] - 0s 8us/step - loss: 0.3747 - acc: 0.8971 - val_loss: 0.3506 - val_acc: 0.9052\n",
      "Epoch 20/30\n",
      "48000/48000 [==============================] - 0s 8us/step - loss: 0.3711 - acc: 0.8977 - val_loss: 0.3474 - val_acc: 0.9073\n",
      "Epoch 21/30\n",
      "48000/48000 [==============================] - 0s 8us/step - loss: 0.3678 - acc: 0.8984 - val_loss: 0.3446 - val_acc: 0.9082\n",
      "Epoch 22/30\n",
      "48000/48000 [==============================] - 0s 8us/step - loss: 0.3646 - acc: 0.8991 - val_loss: 0.3421 - val_acc: 0.9083\n",
      "Epoch 23/30\n",
      "48000/48000 [==============================] - 0s 8us/step - loss: 0.3618 - acc: 0.9001 - val_loss: 0.3397 - val_acc: 0.9091\n",
      "Epoch 24/30\n",
      "48000/48000 [==============================] - 0s 8us/step - loss: 0.3591 - acc: 0.9006 - val_loss: 0.3376 - val_acc: 0.9096\n",
      "Epoch 25/30\n",
      "48000/48000 [==============================] - 0s 8us/step - loss: 0.3565 - acc: 0.9014 - val_loss: 0.3354 - val_acc: 0.9096\n",
      "Epoch 26/30\n",
      "48000/48000 [==============================] - 0s 8us/step - loss: 0.3541 - acc: 0.9021 - val_loss: 0.3334 - val_acc: 0.9102\n",
      "Epoch 27/30\n",
      "48000/48000 [==============================] - 0s 8us/step - loss: 0.3519 - acc: 0.9026 - val_loss: 0.3316 - val_acc: 0.9106\n",
      "Epoch 28/30\n",
      "48000/48000 [==============================] - 0s 8us/step - loss: 0.3498 - acc: 0.9033 - val_loss: 0.3300 - val_acc: 0.9108\n",
      "Epoch 29/30\n",
      "48000/48000 [==============================] - 0s 8us/step - loss: 0.3478 - acc: 0.9036 - val_loss: 0.3283 - val_acc: 0.9110\n",
      "Epoch 30/30\n",
      "48000/48000 [==============================] - 0s 8us/step - loss: 0.3459 - acc: 0.9038 - val_loss: 0.3268 - val_acc: 0.9117\n",
      "Wall time: 12.2 s\n"
     ]
    }
   ],
   "source": [
    "%%time\n",
    "# validation_split 0.2 : 80은 학습하고 20%는 평가를 위해 남겨 두겠다\n",
    "# verbose : 중간 중간의 과정을 찍을 것인지 말것인지, 얼마나 자세하게 정보를 표시할 것인가를 지정. (0, 1, 2)\n",
    "history = model.fit(X_train, Y_train, batch_size=128, epochs=30, verbose=1, \n",
    "                    validation_split=0.2)\n",
    "# history변수에 저장한 것은 나중에 체크해보기 위함."
   ]
  },
  {
   "cell_type": "code",
   "execution_count": 15,
   "metadata": {
    "colab": {
     "autoexec": {
      "startup": false,
      "wait_interval": 0
     },
     "base_uri": "https://localhost:8080/",
     "height": 1516
    },
    "colab_type": "code",
    "executionInfo": {
     "elapsed": 34654,
     "status": "ok",
     "timestamp": 1525167354316,
     "user": {
      "displayName": "­조윤호(빅데이터경영통계전공)",
      "photoUrl": "https://lh3.googleusercontent.com/a/default-user=s128",
      "userId": "107121563618260277687"
     },
     "user_tz": -540
    },
    "id": "gFE6aAZNySx0",
    "outputId": "05efd6b2-ae99-4041-ca43-915a1ce58856"
   },
   "outputs": [
    {
     "ename": "NameError",
     "evalue": "name 'history' is not defined",
     "output_type": "error",
     "traceback": [
      "\u001b[1;31m---------------------------------------------------------------------------\u001b[0m",
      "\u001b[1;31mNameError\u001b[0m                                 Traceback (most recent call last)",
      "\u001b[1;32m<ipython-input-15-0122956e5ffb>\u001b[0m in \u001b[0;36m<module>\u001b[1;34m\u001b[0m\n\u001b[1;32m----> 1\u001b[1;33m \u001b[0mplt\u001b[0m\u001b[1;33m.\u001b[0m\u001b[0mplot\u001b[0m\u001b[1;33m(\u001b[0m\u001b[0mhistory\u001b[0m\u001b[1;33m.\u001b[0m\u001b[0mhistory\u001b[0m\u001b[1;33m[\u001b[0m\u001b[1;34m\"loss\"\u001b[0m\u001b[1;33m]\u001b[0m\u001b[1;33m,\u001b[0m \u001b[0mlabel\u001b[0m\u001b[1;33m=\u001b[0m\u001b[1;34m\"train loss\"\u001b[0m\u001b[1;33m)\u001b[0m\u001b[1;33m\u001b[0m\u001b[1;33m\u001b[0m\u001b[0m\n\u001b[0m\u001b[0;32m      2\u001b[0m \u001b[0mplt\u001b[0m\u001b[1;33m.\u001b[0m\u001b[0mplot\u001b[0m\u001b[1;33m(\u001b[0m\u001b[0mhistory\u001b[0m\u001b[1;33m.\u001b[0m\u001b[0mhistory\u001b[0m\u001b[1;33m[\u001b[0m\u001b[1;34m\"val_loss\"\u001b[0m\u001b[1;33m]\u001b[0m\u001b[1;33m,\u001b[0m \u001b[0mlabel\u001b[0m\u001b[1;33m=\u001b[0m\u001b[1;34m\"validation loss\"\u001b[0m\u001b[1;33m)\u001b[0m\u001b[1;33m\u001b[0m\u001b[1;33m\u001b[0m\u001b[0m\n\u001b[0;32m      3\u001b[0m \u001b[0mplt\u001b[0m\u001b[1;33m.\u001b[0m\u001b[0mlegend\u001b[0m\u001b[1;33m(\u001b[0m\u001b[1;33m)\u001b[0m\u001b[1;33m\u001b[0m\u001b[1;33m\u001b[0m\u001b[0m\n\u001b[0;32m      4\u001b[0m \u001b[0mplt\u001b[0m\u001b[1;33m.\u001b[0m\u001b[0mtitle\u001b[0m\u001b[1;33m(\u001b[0m\u001b[1;34m\"Loss\"\u001b[0m\u001b[1;33m)\u001b[0m\u001b[1;33m\u001b[0m\u001b[1;33m\u001b[0m\u001b[0m\n\u001b[0;32m      5\u001b[0m \u001b[0mplt\u001b[0m\u001b[1;33m.\u001b[0m\u001b[0mshow\u001b[0m\u001b[1;33m(\u001b[0m\u001b[1;33m)\u001b[0m\u001b[1;33m\u001b[0m\u001b[1;33m\u001b[0m\u001b[0m\n",
      "\u001b[1;31mNameError\u001b[0m: name 'history' is not defined"
     ]
    }
   ],
   "source": [
    "plt.plot(history.history[\"loss\"], label=\"train loss\")\n",
    "plt.plot(history.history[\"val_loss\"], label=\"validation loss\")\n",
    "plt.legend()\n",
    "plt.title(\"Loss\")\n",
    "plt.show()"
   ]
  },
  {
   "cell_type": "markdown",
   "metadata": {
    "colab_type": "text",
    "id": "go4XJWF-ySx5"
   },
   "source": [
    "### Step 5: Evaluate the Model performance"
   ]
  },
  {
   "cell_type": "code",
   "execution_count": 16,
   "metadata": {
    "colab": {
     "autoexec": {
      "startup": false,
      "wait_interval": 0
     },
     "base_uri": "https://localhost:8080/",
     "height": 71
    },
    "colab_type": "code",
    "executionInfo": {
     "elapsed": 1025,
     "status": "ok",
     "timestamp": 1525167075715,
     "user": {
      "displayName": "­조윤호(빅데이터경영통계전공)",
      "photoUrl": "https://lh3.googleusercontent.com/a/default-user=s128",
      "userId": "107121563618260277687"
     },
     "user_tz": -540
    },
    "id": "59JE1yQDySx7",
    "outputId": "830e533f-730e-4e8b-a3a4-a88ee8d7ecad"
   },
   "outputs": [
    {
     "name": "stdout",
     "output_type": "stream",
     "text": [
      "10000/10000 [==============================] - 0s 10us/step\n",
      "Test score: 0.3266168250143528\n",
      "Test accuracy: 0.9101\n"
     ]
    }
   ],
   "source": [
    "# evaluate : 전체\n",
    "# 케라스는 pridict 하면 확률을 출력한다.\n",
    "score = model.evaluate(X_test, Y_test, verbose=1)\n",
    "print(\"Test score:\", score[0])\n",
    "print('Test accuracy:', score[1])"
   ]
  },
  {
   "cell_type": "markdown",
   "metadata": {
    "colab_type": "text",
    "id": "UCQk-EQQANOO"
   },
   "source": [
    "##### Save & Load the Model"
   ]
  },
  {
   "cell_type": "code",
   "execution_count": 17,
   "metadata": {
    "colab": {
     "autoexec": {
      "startup": false,
      "wait_interval": 0
     },
     "base_uri": "https://localhost:8080/",
     "height": 35
    },
    "colab_type": "code",
    "executionInfo": {
     "elapsed": 1748,
     "status": "ok",
     "timestamp": 1525099406503,
     "user": {
      "displayName": "­조윤호(빅데이터경영통계전공)",
      "photoUrl": "https://lh3.googleusercontent.com/a/default-user=s128",
      "userId": "107121563618260277687"
     },
     "user_tz": -540
    },
    "id": "EnlOq1ni_fxZ",
    "outputId": "58e130f7-f1b5-4131-9582-4f2ba4fd2897"
   },
   "outputs": [],
   "source": [
    "from keras.models import load_model"
   ]
  },
  {
   "cell_type": "code",
   "execution_count": 18,
   "metadata": {
    "colab": {
     "autoexec": {
      "startup": false,
      "wait_interval": 0
     },
     "base_uri": "https://localhost:8080/",
     "height": 35
    },
    "colab_type": "code",
    "executionInfo": {
     "elapsed": 1748,
     "status": "ok",
     "timestamp": 1525099406503,
     "user": {
      "displayName": "­조윤호(빅데이터경영통계전공)",
      "photoUrl": "https://lh3.googleusercontent.com/a/default-user=s128",
      "userId": "107121563618260277687"
     },
     "user_tz": -540
    },
    "id": "EnlOq1ni_fxZ",
    "outputId": "58e130f7-f1b5-4131-9582-4f2ba4fd2897"
   },
   "outputs": [
    {
     "name": "stdout",
     "output_type": "stream",
     "text": [
      " E 드라이브의 볼륨에는 이름이 없습니다.\n",
      " 볼륨 일련 번호: 24F2-8077\n",
      "\n",
      " E:\\190527남궁하영\\190427\\chapter20_Deeplearning 디렉터리\n",
      "\n",
      "2019-07-02  오후 08:16    <DIR>          .\n",
      "2019-07-02  오후 08:16    <DIR>          ..\n",
      "2019-07-02  오후 07:47    <DIR>          .ipynb_checkpoints\n",
      "2019-06-08  오후 01:50        27,666,600 cats_and_dogs_small_1.h5\n",
      "2019-06-20  오후 11:06        27,666,600 cats_and_dogs_small_2.h5\n",
      "2019-07-02  오후 07:47           699,833 chapter20_DeepLearning_CNN.ipynb\n",
      "2019-07-02  오후 07:59           221,583 chapter20_DeepLearning_dnn_with_keras.ipynb\n",
      "2019-07-02  오후 06:54    <DIR>          figures\n",
      "2019-07-02  오후 08:16            80,472 mnist_dnn_01.h5\n",
      "2019-01-12  오전 09:43         3,494,613 Neural_Networks_with_Keras.pdf\n",
      "               6개 파일          59,829,701 바이트\n",
      "               4개 디렉터리  483,461,627,904 바이트 남음\n"
     ]
    }
   ],
   "source": [
    "model.save('mnist_dnn_01.h5')\n",
    "%ls"
   ]
  },
  {
   "cell_type": "code",
   "execution_count": 19,
   "metadata": {
    "colab": {
     "autoexec": {
      "startup": false,
      "wait_interval": 0
     },
     "base_uri": "https://localhost:8080/",
     "height": 312
    },
    "colab_type": "code",
    "executionInfo": {
     "elapsed": 1174,
     "status": "ok",
     "timestamp": 1525099305778,
     "user": {
      "displayName": "­조윤호(빅데이터경영통계전공)",
      "photoUrl": "https://lh3.googleusercontent.com/a/default-user=s128",
      "userId": "107121563618260277687"
     },
     "user_tz": -540
    },
    "id": "HbXZvVjR_x94",
    "outputId": "0fdeb090-bbf5-4c94-d3b6-17a0642df74a"
   },
   "outputs": [
    {
     "ename": "OSError",
     "evalue": "`pydot` failed to call GraphViz.Please install GraphViz (https://www.graphviz.org/) and ensure that its executables are in the $PATH.",
     "output_type": "error",
     "traceback": [
      "\u001b[1;31m---------------------------------------------------------------------------\u001b[0m",
      "\u001b[1;31mFileNotFoundError\u001b[0m                         Traceback (most recent call last)",
      "\u001b[1;32mC:\\ProgramData\\Anaconda3\\lib\\site-packages\\pydot.py\u001b[0m in \u001b[0;36mcreate\u001b[1;34m(self, prog, format, encoding)\u001b[0m\n\u001b[0;32m   1914\u001b[0m                 \u001b[0marguments\u001b[0m\u001b[1;33m=\u001b[0m\u001b[0marguments\u001b[0m\u001b[1;33m,\u001b[0m\u001b[1;33m\u001b[0m\u001b[1;33m\u001b[0m\u001b[0m\n\u001b[1;32m-> 1915\u001b[1;33m                 \u001b[0mworking_dir\u001b[0m\u001b[1;33m=\u001b[0m\u001b[0mtmp_dir\u001b[0m\u001b[1;33m,\u001b[0m\u001b[1;33m\u001b[0m\u001b[1;33m\u001b[0m\u001b[0m\n\u001b[0m\u001b[0;32m   1916\u001b[0m             )\n",
      "\u001b[1;32mC:\\ProgramData\\Anaconda3\\lib\\site-packages\\pydot.py\u001b[0m in \u001b[0;36mcall_graphviz\u001b[1;34m(program, arguments, working_dir, **kwargs)\u001b[0m\n\u001b[0;32m    135\u001b[0m         \u001b[0mstdout\u001b[0m\u001b[1;33m=\u001b[0m\u001b[0msubprocess\u001b[0m\u001b[1;33m.\u001b[0m\u001b[0mPIPE\u001b[0m\u001b[1;33m,\u001b[0m\u001b[1;33m\u001b[0m\u001b[1;33m\u001b[0m\u001b[0m\n\u001b[1;32m--> 136\u001b[1;33m         \u001b[1;33m**\u001b[0m\u001b[0mkwargs\u001b[0m\u001b[1;33m\u001b[0m\u001b[1;33m\u001b[0m\u001b[0m\n\u001b[0m\u001b[0;32m    137\u001b[0m     )\n",
      "\u001b[1;32mC:\\ProgramData\\Anaconda3\\lib\\subprocess.py\u001b[0m in \u001b[0;36m__init__\u001b[1;34m(self, args, bufsize, executable, stdin, stdout, stderr, preexec_fn, close_fds, shell, cwd, env, universal_newlines, startupinfo, creationflags, restore_signals, start_new_session, pass_fds, encoding, errors, text)\u001b[0m\n\u001b[0;32m    774\u001b[0m                                 \u001b[0merrread\u001b[0m\u001b[1;33m,\u001b[0m \u001b[0merrwrite\u001b[0m\u001b[1;33m,\u001b[0m\u001b[1;33m\u001b[0m\u001b[1;33m\u001b[0m\u001b[0m\n\u001b[1;32m--> 775\u001b[1;33m                                 restore_signals, start_new_session)\n\u001b[0m\u001b[0;32m    776\u001b[0m         \u001b[1;32mexcept\u001b[0m\u001b[1;33m:\u001b[0m\u001b[1;33m\u001b[0m\u001b[1;33m\u001b[0m\u001b[0m\n",
      "\u001b[1;32mC:\\ProgramData\\Anaconda3\\lib\\subprocess.py\u001b[0m in \u001b[0;36m_execute_child\u001b[1;34m(self, args, executable, preexec_fn, close_fds, pass_fds, cwd, env, startupinfo, creationflags, shell, p2cread, p2cwrite, c2pread, c2pwrite, errread, errwrite, unused_restore_signals, unused_start_new_session)\u001b[0m\n\u001b[0;32m   1177\u001b[0m                                          \u001b[0mos\u001b[0m\u001b[1;33m.\u001b[0m\u001b[0mfspath\u001b[0m\u001b[1;33m(\u001b[0m\u001b[0mcwd\u001b[0m\u001b[1;33m)\u001b[0m \u001b[1;32mif\u001b[0m \u001b[0mcwd\u001b[0m \u001b[1;32mis\u001b[0m \u001b[1;32mnot\u001b[0m \u001b[1;32mNone\u001b[0m \u001b[1;32melse\u001b[0m \u001b[1;32mNone\u001b[0m\u001b[1;33m,\u001b[0m\u001b[1;33m\u001b[0m\u001b[1;33m\u001b[0m\u001b[0m\n\u001b[1;32m-> 1178\u001b[1;33m                                          startupinfo)\n\u001b[0m\u001b[0;32m   1179\u001b[0m             \u001b[1;32mfinally\u001b[0m\u001b[1;33m:\u001b[0m\u001b[1;33m\u001b[0m\u001b[1;33m\u001b[0m\u001b[0m\n",
      "\u001b[1;31mFileNotFoundError\u001b[0m: [WinError 2] 지정된 파일을 찾을 수 없습니다",
      "\nDuring handling of the above exception, another exception occurred:\n",
      "\u001b[1;31mFileNotFoundError\u001b[0m                         Traceback (most recent call last)",
      "\u001b[1;32mC:\\ProgramData\\Anaconda3\\lib\\site-packages\\keras\\utils\\vis_utils.py\u001b[0m in \u001b[0;36m_check_pydot\u001b[1;34m()\u001b[0m\n\u001b[0;32m     25\u001b[0m         \u001b[1;31m# to check the pydot/graphviz installation.\u001b[0m\u001b[1;33m\u001b[0m\u001b[1;33m\u001b[0m\u001b[1;33m\u001b[0m\u001b[0m\n\u001b[1;32m---> 26\u001b[1;33m         \u001b[0mpydot\u001b[0m\u001b[1;33m.\u001b[0m\u001b[0mDot\u001b[0m\u001b[1;33m.\u001b[0m\u001b[0mcreate\u001b[0m\u001b[1;33m(\u001b[0m\u001b[0mpydot\u001b[0m\u001b[1;33m.\u001b[0m\u001b[0mDot\u001b[0m\u001b[1;33m(\u001b[0m\u001b[1;33m)\u001b[0m\u001b[1;33m)\u001b[0m\u001b[1;33m\u001b[0m\u001b[1;33m\u001b[0m\u001b[0m\n\u001b[0m\u001b[0;32m     27\u001b[0m     \u001b[1;32mexcept\u001b[0m \u001b[0mOSError\u001b[0m\u001b[1;33m:\u001b[0m\u001b[1;33m\u001b[0m\u001b[1;33m\u001b[0m\u001b[0m\n",
      "\u001b[1;32mC:\\ProgramData\\Anaconda3\\lib\\site-packages\\pydot.py\u001b[0m in \u001b[0;36mcreate\u001b[1;34m(self, prog, format, encoding)\u001b[0m\n\u001b[0;32m   1921\u001b[0m                     prog=prog)\n\u001b[1;32m-> 1922\u001b[1;33m                 \u001b[1;32mraise\u001b[0m \u001b[0mOSError\u001b[0m\u001b[1;33m(\u001b[0m\u001b[1;33m*\u001b[0m\u001b[0margs\u001b[0m\u001b[1;33m)\u001b[0m\u001b[1;33m\u001b[0m\u001b[1;33m\u001b[0m\u001b[0m\n\u001b[0m\u001b[0;32m   1923\u001b[0m             \u001b[1;32melse\u001b[0m\u001b[1;33m:\u001b[0m\u001b[1;33m\u001b[0m\u001b[1;33m\u001b[0m\u001b[0m\n",
      "\u001b[1;31mFileNotFoundError\u001b[0m: [WinError 2] \"dot\" not found in path.",
      "\nDuring handling of the above exception, another exception occurred:\n",
      "\u001b[1;31mOSError\u001b[0m                                   Traceback (most recent call last)",
      "\u001b[1;32m<ipython-input-19-32bd5730f0d4>\u001b[0m in \u001b[0;36m<module>\u001b[1;34m\u001b[0m\n\u001b[0;32m      1\u001b[0m \u001b[0mmodel2\u001b[0m \u001b[1;33m=\u001b[0m \u001b[0mload_model\u001b[0m\u001b[1;33m(\u001b[0m\u001b[1;34m'mnist_dnn_01.h5'\u001b[0m\u001b[1;33m)\u001b[0m\u001b[1;33m\u001b[0m\u001b[1;33m\u001b[0m\u001b[0m\n\u001b[1;32m----> 2\u001b[1;33m \u001b[0mImage\u001b[0m\u001b[1;33m(\u001b[0m\u001b[0mmodel_to_dot\u001b[0m\u001b[1;33m(\u001b[0m\u001b[0mmodel2\u001b[0m\u001b[1;33m,\u001b[0m\u001b[0mshow_shapes\u001b[0m\u001b[1;33m=\u001b[0m\u001b[1;32mTrue\u001b[0m\u001b[1;33m,\u001b[0m \u001b[0mshow_layer_names\u001b[0m\u001b[1;33m=\u001b[0m\u001b[1;32mFalse\u001b[0m\u001b[1;33m)\u001b[0m\u001b[1;33m.\u001b[0m\u001b[0mcreate\u001b[0m\u001b[1;33m(\u001b[0m\u001b[0mprog\u001b[0m\u001b[1;33m=\u001b[0m\u001b[1;34m'dot'\u001b[0m\u001b[1;33m,\u001b[0m \u001b[0mformat\u001b[0m\u001b[1;33m=\u001b[0m\u001b[1;34m'png'\u001b[0m\u001b[1;33m)\u001b[0m\u001b[1;33m)\u001b[0m\u001b[1;33m\u001b[0m\u001b[1;33m\u001b[0m\u001b[0m\n\u001b[0m",
      "\u001b[1;32mC:\\ProgramData\\Anaconda3\\lib\\site-packages\\keras\\utils\\vis_utils.py\u001b[0m in \u001b[0;36mmodel_to_dot\u001b[1;34m(model, show_shapes, show_layer_names, rankdir)\u001b[0m\n\u001b[0;32m     53\u001b[0m     \u001b[1;32mfrom\u001b[0m \u001b[1;33m.\u001b[0m\u001b[1;33m.\u001b[0m\u001b[0mmodels\u001b[0m \u001b[1;32mimport\u001b[0m \u001b[0mSequential\u001b[0m\u001b[1;33m\u001b[0m\u001b[1;33m\u001b[0m\u001b[0m\n\u001b[0;32m     54\u001b[0m \u001b[1;33m\u001b[0m\u001b[0m\n\u001b[1;32m---> 55\u001b[1;33m     \u001b[0m_check_pydot\u001b[0m\u001b[1;33m(\u001b[0m\u001b[1;33m)\u001b[0m\u001b[1;33m\u001b[0m\u001b[1;33m\u001b[0m\u001b[0m\n\u001b[0m\u001b[0;32m     56\u001b[0m     \u001b[0mdot\u001b[0m \u001b[1;33m=\u001b[0m \u001b[0mpydot\u001b[0m\u001b[1;33m.\u001b[0m\u001b[0mDot\u001b[0m\u001b[1;33m(\u001b[0m\u001b[1;33m)\u001b[0m\u001b[1;33m\u001b[0m\u001b[1;33m\u001b[0m\u001b[0m\n\u001b[0;32m     57\u001b[0m     \u001b[0mdot\u001b[0m\u001b[1;33m.\u001b[0m\u001b[0mset\u001b[0m\u001b[1;33m(\u001b[0m\u001b[1;34m'rankdir'\u001b[0m\u001b[1;33m,\u001b[0m \u001b[0mrankdir\u001b[0m\u001b[1;33m)\u001b[0m\u001b[1;33m\u001b[0m\u001b[1;33m\u001b[0m\u001b[0m\n",
      "\u001b[1;32mC:\\ProgramData\\Anaconda3\\lib\\site-packages\\keras\\utils\\vis_utils.py\u001b[0m in \u001b[0;36m_check_pydot\u001b[1;34m()\u001b[0m\n\u001b[0;32m     27\u001b[0m     \u001b[1;32mexcept\u001b[0m \u001b[0mOSError\u001b[0m\u001b[1;33m:\u001b[0m\u001b[1;33m\u001b[0m\u001b[1;33m\u001b[0m\u001b[0m\n\u001b[0;32m     28\u001b[0m         raise OSError(\n\u001b[1;32m---> 29\u001b[1;33m             \u001b[1;34m'`pydot` failed to call GraphViz.'\u001b[0m\u001b[1;33m\u001b[0m\u001b[1;33m\u001b[0m\u001b[0m\n\u001b[0m\u001b[0;32m     30\u001b[0m             \u001b[1;34m'Please install GraphViz (https://www.graphviz.org/) '\u001b[0m\u001b[1;33m\u001b[0m\u001b[1;33m\u001b[0m\u001b[0m\n\u001b[0;32m     31\u001b[0m             'and ensure that its executables are in the $PATH.')\n",
      "\u001b[1;31mOSError\u001b[0m: `pydot` failed to call GraphViz.Please install GraphViz (https://www.graphviz.org/) and ensure that its executables are in the $PATH."
     ]
    }
   ],
   "source": [
    "model2 = load_model('mnist_dnn_01.h5')\n",
    "Image(model_to_dot(model2,show_shapes=True, show_layer_names=False).create(prog='dot', format='png'))"
   ]
  },
  {
   "cell_type": "markdown",
   "metadata": {},
   "source": [
    "<font color = \"#CC3D3D\"><br>\n",
    "## Case #2: Improving the simple net in Keras with hidden layers"
   ]
  },
  {
   "cell_type": "markdown",
   "metadata": {
    "colab_type": "text",
    "id": "PPOWln24ySxl"
   },
   "source": [
    "### Step 2: Define the Model & its Architecture ###"
   ]
  },
  {
   "cell_type": "code",
   "execution_count": 20,
   "metadata": {},
   "outputs": [
    {
     "name": "stdout",
     "output_type": "stream",
     "text": [
      "_________________________________________________________________\n",
      "Layer (type)                 Output Shape              Param #   \n",
      "=================================================================\n",
      "dense_2 (Dense)              (None, 32)                25120     \n",
      "_________________________________________________________________\n",
      "activation_2 (Activation)    (None, 32)                0         \n",
      "_________________________________________________________________\n",
      "dense_3 (Dense)              (None, 32)                1056      \n",
      "_________________________________________________________________\n",
      "dense_4 (Dense)              (None, 32)                1056      \n",
      "_________________________________________________________________\n",
      "activation_3 (Activation)    (None, 32)                0         \n",
      "_________________________________________________________________\n",
      "dense_5 (Dense)              (None, 10)                330       \n",
      "_________________________________________________________________\n",
      "activation_4 (Activation)    (None, 10)                0         \n",
      "=================================================================\n",
      "Total params: 27,562\n",
      "Trainable params: 27,562\n",
      "Non-trainable params: 0\n",
      "_________________________________________________________________\n"
     ]
    }
   ],
   "source": [
    "model = Sequential()\n",
    "\n",
    "# 첫번째 층\n",
    "model.add(Dense(32, input_shape=(RESHAPED,)))\n",
    "model.add(Activation('relu')) # 엑티베이션 함수를 relu 함수로 사용\n",
    "\n",
    "# 두변째 층\n",
    "model.add(Dense(32, activation='relu')) # 위의 두줄을 한줄로 표현\n",
    "#model.add(Activation('relu'))\n",
    "\n",
    "# 세번째 층\n",
    "model.add(Dense(32))\n",
    "model.add(Activation('relu'))\n",
    "\n",
    "# 출력층\n",
    "model.add(Dense(10))\n",
    "model.add(Activation('softmax'))\n",
    "\n",
    "model.summary()\n",
    "\n",
    "# 총 weight 수가 27,562개"
   ]
  },
  {
   "cell_type": "code",
   "execution_count": 21,
   "metadata": {},
   "outputs": [
    {
     "ename": "OSError",
     "evalue": "`pydot` failed to call GraphViz.Please install GraphViz (https://www.graphviz.org/) and ensure that its executables are in the $PATH.",
     "output_type": "error",
     "traceback": [
      "\u001b[1;31m---------------------------------------------------------------------------\u001b[0m",
      "\u001b[1;31mFileNotFoundError\u001b[0m                         Traceback (most recent call last)",
      "\u001b[1;32mC:\\ProgramData\\Anaconda3\\lib\\site-packages\\pydot.py\u001b[0m in \u001b[0;36mcreate\u001b[1;34m(self, prog, format, encoding)\u001b[0m\n\u001b[0;32m   1914\u001b[0m                 \u001b[0marguments\u001b[0m\u001b[1;33m=\u001b[0m\u001b[0marguments\u001b[0m\u001b[1;33m,\u001b[0m\u001b[1;33m\u001b[0m\u001b[1;33m\u001b[0m\u001b[0m\n\u001b[1;32m-> 1915\u001b[1;33m                 \u001b[0mworking_dir\u001b[0m\u001b[1;33m=\u001b[0m\u001b[0mtmp_dir\u001b[0m\u001b[1;33m,\u001b[0m\u001b[1;33m\u001b[0m\u001b[1;33m\u001b[0m\u001b[0m\n\u001b[0m\u001b[0;32m   1916\u001b[0m             )\n",
      "\u001b[1;32mC:\\ProgramData\\Anaconda3\\lib\\site-packages\\pydot.py\u001b[0m in \u001b[0;36mcall_graphviz\u001b[1;34m(program, arguments, working_dir, **kwargs)\u001b[0m\n\u001b[0;32m    135\u001b[0m         \u001b[0mstdout\u001b[0m\u001b[1;33m=\u001b[0m\u001b[0msubprocess\u001b[0m\u001b[1;33m.\u001b[0m\u001b[0mPIPE\u001b[0m\u001b[1;33m,\u001b[0m\u001b[1;33m\u001b[0m\u001b[1;33m\u001b[0m\u001b[0m\n\u001b[1;32m--> 136\u001b[1;33m         \u001b[1;33m**\u001b[0m\u001b[0mkwargs\u001b[0m\u001b[1;33m\u001b[0m\u001b[1;33m\u001b[0m\u001b[0m\n\u001b[0m\u001b[0;32m    137\u001b[0m     )\n",
      "\u001b[1;32mC:\\ProgramData\\Anaconda3\\lib\\subprocess.py\u001b[0m in \u001b[0;36m__init__\u001b[1;34m(self, args, bufsize, executable, stdin, stdout, stderr, preexec_fn, close_fds, shell, cwd, env, universal_newlines, startupinfo, creationflags, restore_signals, start_new_session, pass_fds, encoding, errors, text)\u001b[0m\n\u001b[0;32m    774\u001b[0m                                 \u001b[0merrread\u001b[0m\u001b[1;33m,\u001b[0m \u001b[0merrwrite\u001b[0m\u001b[1;33m,\u001b[0m\u001b[1;33m\u001b[0m\u001b[1;33m\u001b[0m\u001b[0m\n\u001b[1;32m--> 775\u001b[1;33m                                 restore_signals, start_new_session)\n\u001b[0m\u001b[0;32m    776\u001b[0m         \u001b[1;32mexcept\u001b[0m\u001b[1;33m:\u001b[0m\u001b[1;33m\u001b[0m\u001b[1;33m\u001b[0m\u001b[0m\n",
      "\u001b[1;32mC:\\ProgramData\\Anaconda3\\lib\\subprocess.py\u001b[0m in \u001b[0;36m_execute_child\u001b[1;34m(self, args, executable, preexec_fn, close_fds, pass_fds, cwd, env, startupinfo, creationflags, shell, p2cread, p2cwrite, c2pread, c2pwrite, errread, errwrite, unused_restore_signals, unused_start_new_session)\u001b[0m\n\u001b[0;32m   1177\u001b[0m                                          \u001b[0mos\u001b[0m\u001b[1;33m.\u001b[0m\u001b[0mfspath\u001b[0m\u001b[1;33m(\u001b[0m\u001b[0mcwd\u001b[0m\u001b[1;33m)\u001b[0m \u001b[1;32mif\u001b[0m \u001b[0mcwd\u001b[0m \u001b[1;32mis\u001b[0m \u001b[1;32mnot\u001b[0m \u001b[1;32mNone\u001b[0m \u001b[1;32melse\u001b[0m \u001b[1;32mNone\u001b[0m\u001b[1;33m,\u001b[0m\u001b[1;33m\u001b[0m\u001b[1;33m\u001b[0m\u001b[0m\n\u001b[1;32m-> 1178\u001b[1;33m                                          startupinfo)\n\u001b[0m\u001b[0;32m   1179\u001b[0m             \u001b[1;32mfinally\u001b[0m\u001b[1;33m:\u001b[0m\u001b[1;33m\u001b[0m\u001b[1;33m\u001b[0m\u001b[0m\n",
      "\u001b[1;31mFileNotFoundError\u001b[0m: [WinError 2] 지정된 파일을 찾을 수 없습니다",
      "\nDuring handling of the above exception, another exception occurred:\n",
      "\u001b[1;31mFileNotFoundError\u001b[0m                         Traceback (most recent call last)",
      "\u001b[1;32mC:\\ProgramData\\Anaconda3\\lib\\site-packages\\keras\\utils\\vis_utils.py\u001b[0m in \u001b[0;36m_check_pydot\u001b[1;34m()\u001b[0m\n\u001b[0;32m     25\u001b[0m         \u001b[1;31m# to check the pydot/graphviz installation.\u001b[0m\u001b[1;33m\u001b[0m\u001b[1;33m\u001b[0m\u001b[1;33m\u001b[0m\u001b[0m\n\u001b[1;32m---> 26\u001b[1;33m         \u001b[0mpydot\u001b[0m\u001b[1;33m.\u001b[0m\u001b[0mDot\u001b[0m\u001b[1;33m.\u001b[0m\u001b[0mcreate\u001b[0m\u001b[1;33m(\u001b[0m\u001b[0mpydot\u001b[0m\u001b[1;33m.\u001b[0m\u001b[0mDot\u001b[0m\u001b[1;33m(\u001b[0m\u001b[1;33m)\u001b[0m\u001b[1;33m)\u001b[0m\u001b[1;33m\u001b[0m\u001b[1;33m\u001b[0m\u001b[0m\n\u001b[0m\u001b[0;32m     27\u001b[0m     \u001b[1;32mexcept\u001b[0m \u001b[0mOSError\u001b[0m\u001b[1;33m:\u001b[0m\u001b[1;33m\u001b[0m\u001b[1;33m\u001b[0m\u001b[0m\n",
      "\u001b[1;32mC:\\ProgramData\\Anaconda3\\lib\\site-packages\\pydot.py\u001b[0m in \u001b[0;36mcreate\u001b[1;34m(self, prog, format, encoding)\u001b[0m\n\u001b[0;32m   1921\u001b[0m                     prog=prog)\n\u001b[1;32m-> 1922\u001b[1;33m                 \u001b[1;32mraise\u001b[0m \u001b[0mOSError\u001b[0m\u001b[1;33m(\u001b[0m\u001b[1;33m*\u001b[0m\u001b[0margs\u001b[0m\u001b[1;33m)\u001b[0m\u001b[1;33m\u001b[0m\u001b[1;33m\u001b[0m\u001b[0m\n\u001b[0m\u001b[0;32m   1923\u001b[0m             \u001b[1;32melse\u001b[0m\u001b[1;33m:\u001b[0m\u001b[1;33m\u001b[0m\u001b[1;33m\u001b[0m\u001b[0m\n",
      "\u001b[1;31mFileNotFoundError\u001b[0m: [WinError 2] \"dot\" not found in path.",
      "\nDuring handling of the above exception, another exception occurred:\n",
      "\u001b[1;31mOSError\u001b[0m                                   Traceback (most recent call last)",
      "\u001b[1;32m<ipython-input-21-024706fa71e3>\u001b[0m in \u001b[0;36m<module>\u001b[1;34m\u001b[0m\n\u001b[1;32m----> 1\u001b[1;33m \u001b[0mImage\u001b[0m\u001b[1;33m(\u001b[0m\u001b[0mmodel_to_dot\u001b[0m\u001b[1;33m(\u001b[0m\u001b[0mmodel\u001b[0m\u001b[1;33m,\u001b[0m\u001b[0mshow_shapes\u001b[0m\u001b[1;33m=\u001b[0m\u001b[1;32mTrue\u001b[0m\u001b[1;33m,\u001b[0m \u001b[0mshow_layer_names\u001b[0m\u001b[1;33m=\u001b[0m\u001b[1;32mFalse\u001b[0m\u001b[1;33m)\u001b[0m\u001b[1;33m.\u001b[0m\u001b[0mcreate\u001b[0m\u001b[1;33m(\u001b[0m\u001b[0mprog\u001b[0m\u001b[1;33m=\u001b[0m\u001b[1;34m'dot'\u001b[0m\u001b[1;33m,\u001b[0m \u001b[0mformat\u001b[0m\u001b[1;33m=\u001b[0m\u001b[1;34m'png'\u001b[0m\u001b[1;33m)\u001b[0m\u001b[1;33m)\u001b[0m\u001b[1;33m\u001b[0m\u001b[1;33m\u001b[0m\u001b[0m\n\u001b[0m",
      "\u001b[1;32mC:\\ProgramData\\Anaconda3\\lib\\site-packages\\keras\\utils\\vis_utils.py\u001b[0m in \u001b[0;36mmodel_to_dot\u001b[1;34m(model, show_shapes, show_layer_names, rankdir)\u001b[0m\n\u001b[0;32m     53\u001b[0m     \u001b[1;32mfrom\u001b[0m \u001b[1;33m.\u001b[0m\u001b[1;33m.\u001b[0m\u001b[0mmodels\u001b[0m \u001b[1;32mimport\u001b[0m \u001b[0mSequential\u001b[0m\u001b[1;33m\u001b[0m\u001b[1;33m\u001b[0m\u001b[0m\n\u001b[0;32m     54\u001b[0m \u001b[1;33m\u001b[0m\u001b[0m\n\u001b[1;32m---> 55\u001b[1;33m     \u001b[0m_check_pydot\u001b[0m\u001b[1;33m(\u001b[0m\u001b[1;33m)\u001b[0m\u001b[1;33m\u001b[0m\u001b[1;33m\u001b[0m\u001b[0m\n\u001b[0m\u001b[0;32m     56\u001b[0m     \u001b[0mdot\u001b[0m \u001b[1;33m=\u001b[0m \u001b[0mpydot\u001b[0m\u001b[1;33m.\u001b[0m\u001b[0mDot\u001b[0m\u001b[1;33m(\u001b[0m\u001b[1;33m)\u001b[0m\u001b[1;33m\u001b[0m\u001b[1;33m\u001b[0m\u001b[0m\n\u001b[0;32m     57\u001b[0m     \u001b[0mdot\u001b[0m\u001b[1;33m.\u001b[0m\u001b[0mset\u001b[0m\u001b[1;33m(\u001b[0m\u001b[1;34m'rankdir'\u001b[0m\u001b[1;33m,\u001b[0m \u001b[0mrankdir\u001b[0m\u001b[1;33m)\u001b[0m\u001b[1;33m\u001b[0m\u001b[1;33m\u001b[0m\u001b[0m\n",
      "\u001b[1;32mC:\\ProgramData\\Anaconda3\\lib\\site-packages\\keras\\utils\\vis_utils.py\u001b[0m in \u001b[0;36m_check_pydot\u001b[1;34m()\u001b[0m\n\u001b[0;32m     27\u001b[0m     \u001b[1;32mexcept\u001b[0m \u001b[0mOSError\u001b[0m\u001b[1;33m:\u001b[0m\u001b[1;33m\u001b[0m\u001b[1;33m\u001b[0m\u001b[0m\n\u001b[0;32m     28\u001b[0m         raise OSError(\n\u001b[1;32m---> 29\u001b[1;33m             \u001b[1;34m'`pydot` failed to call GraphViz.'\u001b[0m\u001b[1;33m\u001b[0m\u001b[1;33m\u001b[0m\u001b[0m\n\u001b[0m\u001b[0;32m     30\u001b[0m             \u001b[1;34m'Please install GraphViz (https://www.graphviz.org/) '\u001b[0m\u001b[1;33m\u001b[0m\u001b[1;33m\u001b[0m\u001b[0m\n\u001b[0;32m     31\u001b[0m             'and ensure that its executables are in the $PATH.')\n",
      "\u001b[1;31mOSError\u001b[0m: `pydot` failed to call GraphViz.Please install GraphViz (https://www.graphviz.org/) and ensure that its executables are in the $PATH."
     ]
    }
   ],
   "source": [
    "Image(model_to_dot(model,show_shapes=True, show_layer_names=False).create(prog='dot', format='png'))"
   ]
  },
  {
   "cell_type": "markdown",
   "metadata": {},
   "source": [
    "### Step 3: Choose the Optimizer and the Cost function"
   ]
  },
  {
   "cell_type": "code",
   "execution_count": 22,
   "metadata": {},
   "outputs": [],
   "source": [
    "model.compile(loss='categorical_crossentropy', optimizer=SGD(), metrics=['accuracy'])\n",
    "#model.compile(loss='categorical_crossentropy', optimizer=Adam, metrics=['accuracy'])"
   ]
  },
  {
   "cell_type": "markdown",
   "metadata": {
    "colab_type": "text",
    "id": "_JWYMMeGySxy"
   },
   "source": [
    "### Step 4: Train the Model"
   ]
  },
  {
   "cell_type": "code",
   "execution_count": 23,
   "metadata": {},
   "outputs": [
    {
     "name": "stdout",
     "output_type": "stream",
     "text": [
      "Train on 48000 samples, validate on 12000 samples\n",
      "Epoch 1/30\n",
      "48000/48000 [==============================] - 1s 17us/step - loss: 1.1776 - acc: 0.6689 - val_loss: 0.4827 - val_acc: 0.8662\n",
      "Epoch 2/30\n",
      "48000/48000 [==============================] - 1s 14us/step - loss: 0.4177 - acc: 0.8799 - val_loss: 0.3343 - val_acc: 0.9057\n",
      "Epoch 3/30\n",
      "48000/48000 [==============================] - 1s 14us/step - loss: 0.3358 - acc: 0.9019 - val_loss: 0.2938 - val_acc: 0.9151\n",
      "Epoch 4/30\n",
      "48000/48000 [==============================] - 1s 14us/step - loss: 0.2982 - acc: 0.9118 - val_loss: 0.2732 - val_acc: 0.9179\n",
      "Epoch 5/30\n",
      "48000/48000 [==============================] - 1s 13us/step - loss: 0.2715 - acc: 0.9201 - val_loss: 0.2476 - val_acc: 0.9278\n",
      "Epoch 6/30\n",
      "48000/48000 [==============================] - 1s 14us/step - loss: 0.2503 - acc: 0.9261 - val_loss: 0.2365 - val_acc: 0.9315\n",
      "Epoch 7/30\n",
      "48000/48000 [==============================] - 1s 13us/step - loss: 0.2326 - acc: 0.9313 - val_loss: 0.2211 - val_acc: 0.9358\n",
      "Epoch 8/30\n",
      "48000/48000 [==============================] - 1s 14us/step - loss: 0.2169 - acc: 0.9370 - val_loss: 0.2045 - val_acc: 0.9412\n",
      "Epoch 9/30\n",
      "48000/48000 [==============================] - 1s 13us/step - loss: 0.2035 - acc: 0.9401 - val_loss: 0.1982 - val_acc: 0.9427\n",
      "Epoch 10/30\n",
      "48000/48000 [==============================] - 1s 13us/step - loss: 0.1919 - acc: 0.9440 - val_loss: 0.1896 - val_acc: 0.9455\n",
      "Epoch 11/30\n",
      "48000/48000 [==============================] - 1s 13us/step - loss: 0.1816 - acc: 0.9469 - val_loss: 0.1803 - val_acc: 0.9483\n",
      "Epoch 12/30\n",
      "48000/48000 [==============================] - 1s 13us/step - loss: 0.1723 - acc: 0.9497 - val_loss: 0.1765 - val_acc: 0.9506\n",
      "Epoch 13/30\n",
      "48000/48000 [==============================] - 1s 13us/step - loss: 0.1644 - acc: 0.9524 - val_loss: 0.1712 - val_acc: 0.9523\n",
      "Epoch 14/30\n",
      "48000/48000 [==============================] - 1s 13us/step - loss: 0.1564 - acc: 0.9548 - val_loss: 0.1645 - val_acc: 0.9537\n",
      "Epoch 15/30\n",
      "48000/48000 [==============================] - 1s 13us/step - loss: 0.1501 - acc: 0.9568 - val_loss: 0.1627 - val_acc: 0.9531\n",
      "Epoch 16/30\n",
      "48000/48000 [==============================] - 1s 13us/step - loss: 0.1437 - acc: 0.9581 - val_loss: 0.1618 - val_acc: 0.9533\n",
      "Epoch 17/30\n",
      "48000/48000 [==============================] - 1s 13us/step - loss: 0.1375 - acc: 0.9599 - val_loss: 0.1542 - val_acc: 0.9568\n",
      "Epoch 18/30\n",
      "48000/48000 [==============================] - 1s 13us/step - loss: 0.1327 - acc: 0.9617 - val_loss: 0.1507 - val_acc: 0.9564\n",
      "Epoch 19/30\n",
      "48000/48000 [==============================] - 1s 14us/step - loss: 0.1274 - acc: 0.9633 - val_loss: 0.1505 - val_acc: 0.9585\n",
      "Epoch 20/30\n",
      "48000/48000 [==============================] - 1s 13us/step - loss: 0.1239 - acc: 0.9635 - val_loss: 0.1452 - val_acc: 0.9583\n",
      "Epoch 21/30\n",
      "48000/48000 [==============================] - 1s 13us/step - loss: 0.1196 - acc: 0.9659 - val_loss: 0.1512 - val_acc: 0.9570\n",
      "Epoch 22/30\n",
      "48000/48000 [==============================] - 1s 13us/step - loss: 0.1153 - acc: 0.9661 - val_loss: 0.1431 - val_acc: 0.9594\n",
      "Epoch 23/30\n",
      "48000/48000 [==============================] - 1s 13us/step - loss: 0.1118 - acc: 0.9676 - val_loss: 0.1403 - val_acc: 0.9591\n",
      "Epoch 24/30\n",
      "48000/48000 [==============================] - 1s 13us/step - loss: 0.1092 - acc: 0.9683 - val_loss: 0.1393 - val_acc: 0.9601\n",
      "Epoch 25/30\n",
      "48000/48000 [==============================] - 1s 13us/step - loss: 0.1061 - acc: 0.9694 - val_loss: 0.1360 - val_acc: 0.9615\n",
      "Epoch 26/30\n",
      "48000/48000 [==============================] - 1s 13us/step - loss: 0.1030 - acc: 0.9699 - val_loss: 0.1354 - val_acc: 0.9609\n",
      "Epoch 27/30\n",
      "48000/48000 [==============================] - 1s 14us/step - loss: 0.1004 - acc: 0.9714 - val_loss: 0.1330 - val_acc: 0.9623\n",
      "Epoch 28/30\n",
      "48000/48000 [==============================] - 1s 14us/step - loss: 0.0973 - acc: 0.9718 - val_loss: 0.1321 - val_acc: 0.9625\n",
      "Epoch 29/30\n",
      "48000/48000 [==============================] - 1s 14us/step - loss: 0.0949 - acc: 0.9725 - val_loss: 0.1345 - val_acc: 0.9620\n",
      "Epoch 30/30\n",
      "48000/48000 [==============================] - 1s 14us/step - loss: 0.0926 - acc: 0.9730 - val_loss: 0.1345 - val_acc: 0.9626\n"
     ]
    },
    {
     "data": {
      "image/png": "[encoded data removed]",
      "text/plain": [
       "<Figure size 432x288 with 1 Axes>"
      ]
     },
     "metadata": {
      "needs_background": "light"
     },
     "output_type": "display_data"
    }
   ],
   "source": [
    "history = model.fit(X_train, Y_train, batch_size=64, epochs=30, verbose=1, \n",
    "                    validation_split=0.2)\n",
    "\n",
    "plt.plot(history.history[\"loss\"], label=\"train loss\")\n",
    "plt.plot(history.history[\"val_loss\"], label=\"validation loss\")\n",
    "plt.legend()\n",
    "plt.title(\"Loss\")\n",
    "plt.show()"
   ]
  },
  {
   "cell_type": "markdown",
   "metadata": {
    "colab_type": "text",
    "id": "go4XJWF-ySx5"
   },
   "source": [
    "### Step 5: Evaluate the Model performance"
   ]
  },
  {
   "cell_type": "code",
   "execution_count": 24,
   "metadata": {
    "colab": {
     "autoexec": {
      "startup": false,
      "wait_interval": 0
     },
     "base_uri": "https://localhost:8080/",
     "height": 71
    },
    "colab_type": "code",
    "executionInfo": {
     "elapsed": 1025,
     "status": "ok",
     "timestamp": 1525167075715,
     "user": {
      "displayName": "­조윤호(빅데이터경영통계전공)",
      "photoUrl": "https://lh3.googleusercontent.com/a/default-user=s128",
      "userId": "107121563618260277687"
     },
     "user_tz": -540
    },
    "id": "59JE1yQDySx7",
    "outputId": "830e533f-730e-4e8b-a3a4-a88ee8d7ecad"
   },
   "outputs": [
    {
     "name": "stdout",
     "output_type": "stream",
     "text": [
      "10000/10000 [==============================] - 0s 9us/step\n",
      "Test score: 0.1198722924171947\n",
      "Test accuracy: 0.9637\n"
     ]
    }
   ],
   "source": [
    "score = model.evaluate(X_test, Y_test, verbose=1)\n",
    "print(\"Test score:\", score[0])\n",
    "print('Test accuracy:', score[1])\n",
    "\n",
    "model.save('mnist_dnn_02.h5')"
   ]
  },
  {
   "cell_type": "markdown",
   "metadata": {},
   "source": [
    "<font color = \"#CC3D3D\"><br>\n",
    "## Case #3: Further improving the simple net in Keras with dropout"
   ]
  },
  {
   "cell_type": "markdown",
   "metadata": {
    "colab_type": "text",
    "id": "PPOWln24ySxl"
   },
   "source": [
    "### Step 2: Define the Model & its Architecture ###"
   ]
  },
  {
   "cell_type": "code",
   "execution_count": 25,
   "metadata": {},
   "outputs": [
    {
     "name": "stderr",
     "output_type": "stream",
     "text": [
      "W0702 20:16:42.573796  1812 deprecation.py:506] From C:\\ProgramData\\Anaconda3\\lib\\site-packages\\keras\\backend\\tensorflow_backend.py:3445: calling dropout (from tensorflow.python.ops.nn_ops) with keep_prob is deprecated and will be removed in a future version.\n",
      "Instructions for updating:\n",
      "Please use `rate` instead of `keep_prob`. Rate should be set to `rate = 1 - keep_prob`.\n"
     ]
    },
    {
     "name": "stdout",
     "output_type": "stream",
     "text": [
      "_________________________________________________________________\n",
      "Layer (type)                 Output Shape              Param #   \n",
      "=================================================================\n",
      "dense_6 (Dense)              (None, 128)               100480    \n",
      "_________________________________________________________________\n",
      "activation_5 (Activation)    (None, 128)               0         \n",
      "_________________________________________________________________\n",
      "dropout_1 (Dropout)          (None, 128)               0         \n",
      "_________________________________________________________________\n",
      "dense_7 (Dense)              (None, 64)                8256      \n",
      "_________________________________________________________________\n",
      "activation_6 (Activation)    (None, 64)                0         \n",
      "_________________________________________________________________\n",
      "dropout_2 (Dropout)          (None, 64)                0         \n",
      "_________________________________________________________________\n",
      "dense_8 (Dense)              (None, 10)                650       \n",
      "_________________________________________________________________\n",
      "activation_7 (Activation)    (None, 10)                0         \n",
      "=================================================================\n",
      "Total params: 109,386\n",
      "Trainable params: 109,386\n",
      "Non-trainable params: 0\n",
      "_________________________________________________________________\n"
     ]
    }
   ],
   "source": [
    "from keras.layers.core import Dropout\n",
    "\n",
    "# Dropout : 층별로 오버피팅을 줄일 수 있도록 지정할 수 있다.\n",
    "model = Sequential()\n",
    "\n",
    "model.add(Dense(128, input_shape=(RESHAPED,)))\n",
    "model.add(Activation('relu'))\n",
    "model.add(Dropout(0.2)) # Dropout 비율을 20%로 하라\n",
    "\n",
    "model.add(Dense(64))\n",
    "model.add(Activation('relu'))\n",
    "model.add(Dropout(0.2))\n",
    "\n",
    "model.add(Dense(10))\n",
    "model.add(Activation('softmax'))\n",
    "\n",
    "model.summary()"
   ]
  },
  {
   "cell_type": "markdown",
   "metadata": {},
   "source": [
    "### Step 3: Choose the Optimizer and the Cost function"
   ]
  },
  {
   "cell_type": "code",
   "execution_count": 26,
   "metadata": {},
   "outputs": [],
   "source": [
    "model.compile(loss='categorical_crossentropy', optimizer=SGD(), metrics=['accuracy'])"
   ]
  },
  {
   "cell_type": "markdown",
   "metadata": {
    "colab_type": "text",
    "id": "_JWYMMeGySxy"
   },
   "source": [
    "### Step 4: Train the Model"
   ]
  },
  {
   "cell_type": "code",
   "execution_count": 27,
   "metadata": {},
   "outputs": [
    {
     "name": "stdout",
     "output_type": "stream",
     "text": [
      "Train on 48000 samples, validate on 12000 samples\n",
      "Epoch 1/30\n",
      "48000/48000 [==============================] - 1s 26us/step - loss: 1.6627 - acc: 0.4900 - val_loss: 0.8729 - val_acc: 0.8173\n",
      "Epoch 2/30\n",
      "48000/48000 [==============================] - 1s 21us/step - loss: 0.8645 - acc: 0.7406 - val_loss: 0.5139 - val_acc: 0.8750\n",
      "Epoch 3/30\n",
      "48000/48000 [==============================] - 1s 22us/step - loss: 0.6495 - acc: 0.8048 - val_loss: 0.4103 - val_acc: 0.8951\n",
      "Epoch 4/30\n",
      "48000/48000 [==============================] - 1s 20us/step - loss: 0.5526 - acc: 0.8344 - val_loss: 0.3606 - val_acc: 0.9046\n",
      "Epoch 5/30\n",
      "48000/48000 [==============================] - 1s 20us/step - loss: 0.4985 - acc: 0.8516 - val_loss: 0.3303 - val_acc: 0.9094\n",
      "Epoch 6/30\n",
      "48000/48000 [==============================] - 1s 20us/step - loss: 0.4628 - acc: 0.8645 - val_loss: 0.3071 - val_acc: 0.9137\n",
      "Epoch 7/30\n",
      "48000/48000 [==============================] - 1s 21us/step - loss: 0.4320 - acc: 0.8727 - val_loss: 0.2894 - val_acc: 0.9172\n",
      "Epoch 8/30\n",
      "48000/48000 [==============================] - 1s 21us/step - loss: 0.4050 - acc: 0.8820 - val_loss: 0.2756 - val_acc: 0.9202\n",
      "Epoch 9/30\n",
      "48000/48000 [==============================] - 1s 20us/step - loss: 0.3867 - acc: 0.8853 - val_loss: 0.2632 - val_acc: 0.9248\n",
      "Epoch 10/30\n",
      "48000/48000 [==============================] - 1s 20us/step - loss: 0.3694 - acc: 0.8911 - val_loss: 0.2521 - val_acc: 0.9273\n",
      "Epoch 11/30\n",
      "48000/48000 [==============================] - 1s 20us/step - loss: 0.3538 - acc: 0.8967 - val_loss: 0.2424 - val_acc: 0.9305\n",
      "Epoch 12/30\n",
      "48000/48000 [==============================] - 1s 21us/step - loss: 0.3409 - acc: 0.9003 - val_loss: 0.2334 - val_acc: 0.9324\n",
      "Epoch 13/30\n",
      "48000/48000 [==============================] - 1s 21us/step - loss: 0.3271 - acc: 0.9047 - val_loss: 0.2269 - val_acc: 0.9348\n",
      "Epoch 14/30\n",
      "48000/48000 [==============================] - 1s 21us/step - loss: 0.3164 - acc: 0.9077 - val_loss: 0.2195 - val_acc: 0.9366\n",
      "Epoch 15/30\n",
      "48000/48000 [==============================] - 1s 23us/step - loss: 0.3067 - acc: 0.9104 - val_loss: 0.2121 - val_acc: 0.9387\n",
      "Epoch 16/30\n",
      "48000/48000 [==============================] - 1s 22us/step - loss: 0.2991 - acc: 0.9132 - val_loss: 0.2059 - val_acc: 0.9412\n",
      "Epoch 17/30\n",
      "48000/48000 [==============================] - 1s 22us/step - loss: 0.2894 - acc: 0.9148 - val_loss: 0.2005 - val_acc: 0.9423\n",
      "Epoch 18/30\n",
      "48000/48000 [==============================] - 1s 22us/step - loss: 0.2818 - acc: 0.9181 - val_loss: 0.1949 - val_acc: 0.9437\n",
      "Epoch 19/30\n",
      "48000/48000 [==============================] - 1s 21us/step - loss: 0.2734 - acc: 0.9210 - val_loss: 0.1900 - val_acc: 0.9457\n",
      "Epoch 20/30\n",
      "48000/48000 [==============================] - 1s 22us/step - loss: 0.2687 - acc: 0.9212 - val_loss: 0.1862 - val_acc: 0.9464\n",
      "Epoch 21/30\n",
      "48000/48000 [==============================] - 1s 22us/step - loss: 0.2606 - acc: 0.9233 - val_loss: 0.1825 - val_acc: 0.9474\n",
      "Epoch 22/30\n",
      "48000/48000 [==============================] - 1s 21us/step - loss: 0.2570 - acc: 0.9253 - val_loss: 0.1773 - val_acc: 0.9497\n",
      "Epoch 23/30\n",
      "48000/48000 [==============================] - 1s 21us/step - loss: 0.2507 - acc: 0.9265 - val_loss: 0.1739 - val_acc: 0.9501\n",
      "Epoch 24/30\n",
      "48000/48000 [==============================] - 1s 20us/step - loss: 0.2423 - acc: 0.9286 - val_loss: 0.1705 - val_acc: 0.9512\n",
      "Epoch 25/30\n",
      "48000/48000 [==============================] - 1s 21us/step - loss: 0.2371 - acc: 0.9313 - val_loss: 0.1667 - val_acc: 0.9524\n",
      "Epoch 26/30\n",
      "48000/48000 [==============================] - 1s 20us/step - loss: 0.2292 - acc: 0.9334 - val_loss: 0.1643 - val_acc: 0.9528\n",
      "Epoch 27/30\n",
      "48000/48000 [==============================] - 1s 20us/step - loss: 0.2290 - acc: 0.9327 - val_loss: 0.1604 - val_acc: 0.9539\n",
      "Epoch 28/30\n",
      "48000/48000 [==============================] - 1s 20us/step - loss: 0.2256 - acc: 0.9337 - val_loss: 0.1578 - val_acc: 0.9552\n",
      "Epoch 29/30\n",
      "48000/48000 [==============================] - 1s 21us/step - loss: 0.2185 - acc: 0.9367 - val_loss: 0.1551 - val_acc: 0.9552\n",
      "Epoch 30/30\n",
      "48000/48000 [==============================] - 1s 21us/step - loss: 0.2203 - acc: 0.9350 - val_loss: 0.1528 - val_acc: 0.9554\n"
     ]
    },
    {
     "data": {
      "image/png": "[encoded data removed]",
      "text/plain": [
       "<Figure size 432x288 with 1 Axes>"
      ]
     },
     "metadata": {
      "needs_background": "light"
     },
     "output_type": "display_data"
    }
   ],
   "source": [
    "history = model.fit(X_train, Y_train, batch_size=128, epochs=30, verbose=1, \n",
    "                    validation_split=0.2)\n",
    "\n",
    "plt.plot(history.history[\"loss\"], label=\"train loss\")\n",
    "plt.plot(history.history[\"val_loss\"], label=\"validation loss\")\n",
    "plt.legend()\n",
    "plt.title(\"Loss\")\n",
    "plt.show()"
   ]
  },
  {
   "cell_type": "markdown",
   "metadata": {
    "colab_type": "text",
    "id": "go4XJWF-ySx5"
   },
   "source": [
    "### Step 5: Evaluate the Model performance"
   ]
  },
  {
   "cell_type": "code",
   "execution_count": 28,
   "metadata": {},
   "outputs": [
    {
     "name": "stdout",
     "output_type": "stream",
     "text": [
      "10000/10000 [==============================] - 0s 11us/step\n",
      "Test score: 0.14984349175542594\n",
      "Test accuracy: 0.9553\n"
     ]
    }
   ],
   "source": [
    "score = model.evaluate(X_test, Y_test, verbose=1)\n",
    "print(\"Test score:\", score[0])\n",
    "print('Test accuracy:', score[1])\n",
    "\n",
    "model.save('mnist_dnn_03.h5')"
   ]
  },
  {
   "cell_type": "markdown",
   "metadata": {},
   "source": [
    "<font color = \"#CC3D3D\"><br>\n",
    "## Case #4: Testing different optimizers in Keras "
   ]
  },
  {
   "cell_type": "markdown",
   "metadata": {
    "colab_type": "text",
    "id": "PPOWln24ySxl"
   },
   "source": [
    "### Step 2: Define the Model & its Architecture ###"
   ]
  },
  {
   "cell_type": "code",
   "execution_count": 29,
   "metadata": {},
   "outputs": [
    {
     "name": "stdout",
     "output_type": "stream",
     "text": [
      "_________________________________________________________________\n",
      "Layer (type)                 Output Shape              Param #   \n",
      "=================================================================\n",
      "dense_9 (Dense)              (None, 128)               100480    \n",
      "_________________________________________________________________\n",
      "activation_8 (Activation)    (None, 128)               0         \n",
      "_________________________________________________________________\n",
      "dropout_3 (Dropout)          (None, 128)               0         \n",
      "_________________________________________________________________\n",
      "dense_10 (Dense)             (None, 64)                8256      \n",
      "_________________________________________________________________\n",
      "activation_9 (Activation)    (None, 64)                0         \n",
      "_________________________________________________________________\n",
      "dropout_4 (Dropout)          (None, 64)                0         \n",
      "_________________________________________________________________\n",
      "dense_11 (Dense)             (None, 10)                650       \n",
      "_________________________________________________________________\n",
      "activation_10 (Activation)   (None, 10)                0         \n",
      "=================================================================\n",
      "Total params: 109,386\n",
      "Trainable params: 109,386\n",
      "Non-trainable params: 0\n",
      "_________________________________________________________________\n"
     ]
    }
   ],
   "source": [
    "model = Sequential()\n",
    "model.add(Dense(128, input_shape=(RESHAPED,)))\n",
    "model.add(Activation('relu'))\n",
    "model.add(Dropout(0.2))\n",
    "model.add(Dense(64))\n",
    "model.add(Activation('relu'))\n",
    "model.add(Dropout(0.2))\n",
    "model.add(Dense(10))\n",
    "model.add(Activation('softmax'))\n",
    "model.summary()"
   ]
  },
  {
   "cell_type": "markdown",
   "metadata": {},
   "source": [
    "### Step 3: Choose the Optimizer and the Cost function"
   ]
  },
  {
   "cell_type": "code",
   "execution_count": 30,
   "metadata": {},
   "outputs": [],
   "source": [
    "from keras.optimizers import Adam\n",
    "\n",
    "model.compile(loss='categorical_crossentropy', optimizer=Adam(), metrics=['accuracy'])"
   ]
  },
  {
   "cell_type": "markdown",
   "metadata": {
    "colab_type": "text",
    "id": "_JWYMMeGySxy"
   },
   "source": [
    "### Step 4: Train the Model"
   ]
  },
  {
   "cell_type": "code",
   "execution_count": 31,
   "metadata": {},
   "outputs": [
    {
     "name": "stdout",
     "output_type": "stream",
     "text": [
      "Train on 48000 samples, validate on 12000 samples\n",
      "Epoch 1/30\n",
      "48000/48000 [==============================] - 2s 39us/step - loss: 0.4227 - acc: 0.8730 - val_loss: 0.1708 - val_acc: 0.9506\n",
      "Epoch 2/30\n",
      "48000/48000 [==============================] - 2s 34us/step - loss: 0.1931 - acc: 0.9433 - val_loss: 0.1180 - val_acc: 0.9647\n",
      "Epoch 3/30\n",
      "48000/48000 [==============================] - 2s 35us/step - loss: 0.1442 - acc: 0.9565 - val_loss: 0.1025 - val_acc: 0.9708\n",
      "Epoch 4/30\n",
      "48000/48000 [==============================] - 2s 33us/step - loss: 0.1215 - acc: 0.9635 - val_loss: 0.0989 - val_acc: 0.9707\n",
      "Epoch 5/30\n",
      "48000/48000 [==============================] - 2s 35us/step - loss: 0.1036 - acc: 0.9688 - val_loss: 0.0881 - val_acc: 0.9724\n",
      "Epoch 6/30\n",
      "48000/48000 [==============================] - 2s 33us/step - loss: 0.0935 - acc: 0.9713 - val_loss: 0.0909 - val_acc: 0.9727\n",
      "Epoch 7/30\n",
      "48000/48000 [==============================] - 2s 31us/step - loss: 0.0807 - acc: 0.9753 - val_loss: 0.0857 - val_acc: 0.9760\n",
      "Epoch 8/30\n",
      "48000/48000 [==============================] - 1s 31us/step - loss: 0.0750 - acc: 0.9767 - val_loss: 0.0843 - val_acc: 0.9754\n",
      "Epoch 9/30\n",
      "48000/48000 [==============================] - 1s 31us/step - loss: 0.0724 - acc: 0.9773 - val_loss: 0.0801 - val_acc: 0.9763\n",
      "Epoch 10/30\n",
      "48000/48000 [==============================] - 1s 31us/step - loss: 0.0653 - acc: 0.9794 - val_loss: 0.0794 - val_acc: 0.9767\n",
      "Epoch 11/30\n",
      "48000/48000 [==============================] - 1s 31us/step - loss: 0.0599 - acc: 0.9811 - val_loss: 0.0797 - val_acc: 0.9757\n",
      "Epoch 12/30\n",
      "48000/48000 [==============================] - 1s 31us/step - loss: 0.0571 - acc: 0.9821 - val_loss: 0.0859 - val_acc: 0.9768\n",
      "Epoch 13/30\n",
      "48000/48000 [==============================] - 1s 31us/step - loss: 0.0545 - acc: 0.9824 - val_loss: 0.0770 - val_acc: 0.9782\n",
      "Epoch 14/30\n",
      "48000/48000 [==============================] - 1s 31us/step - loss: 0.0487 - acc: 0.9847 - val_loss: 0.0820 - val_acc: 0.9779\n",
      "Epoch 15/30\n",
      "48000/48000 [==============================] - 1s 31us/step - loss: 0.0457 - acc: 0.9852 - val_loss: 0.0833 - val_acc: 0.9787\n",
      "Epoch 16/30\n",
      "48000/48000 [==============================] - 1s 31us/step - loss: 0.0467 - acc: 0.9847 - val_loss: 0.0872 - val_acc: 0.9777\n",
      "Epoch 17/30\n",
      "48000/48000 [==============================] - 1s 31us/step - loss: 0.0437 - acc: 0.9856 - val_loss: 0.0830 - val_acc: 0.9791\n",
      "Epoch 18/30\n",
      "48000/48000 [==============================] - 1s 31us/step - loss: 0.0455 - acc: 0.9855 - val_loss: 0.0828 - val_acc: 0.9779\n",
      "Epoch 19/30\n",
      "48000/48000 [==============================] - 1s 31us/step - loss: 0.0414 - acc: 0.9867 - val_loss: 0.0844 - val_acc: 0.9789\n",
      "Epoch 20/30\n",
      "48000/48000 [==============================] - 1s 31us/step - loss: 0.0375 - acc: 0.9878 - val_loss: 0.0872 - val_acc: 0.9784\n",
      "Epoch 21/30\n",
      "48000/48000 [==============================] - 1s 31us/step - loss: 0.0370 - acc: 0.9879 - val_loss: 0.0871 - val_acc: 0.9773\n",
      "Epoch 22/30\n",
      "48000/48000 [==============================] - 1s 31us/step - loss: 0.0358 - acc: 0.9881 - val_loss: 0.0875 - val_acc: 0.9790\n",
      "Epoch 23/30\n",
      "48000/48000 [==============================] - 1s 31us/step - loss: 0.0357 - acc: 0.9887 - val_loss: 0.0851 - val_acc: 0.9797\n",
      "Epoch 24/30\n",
      "48000/48000 [==============================] - 1s 31us/step - loss: 0.0356 - acc: 0.9884 - val_loss: 0.0887 - val_acc: 0.9762\n",
      "Epoch 25/30\n",
      "48000/48000 [==============================] - 1s 30us/step - loss: 0.0342 - acc: 0.9889 - val_loss: 0.0888 - val_acc: 0.9785\n",
      "Epoch 26/30\n",
      "48000/48000 [==============================] - 1s 31us/step - loss: 0.0346 - acc: 0.9883 - val_loss: 0.0903 - val_acc: 0.9782\n",
      "Epoch 27/30\n",
      "48000/48000 [==============================] - 1s 31us/step - loss: 0.0313 - acc: 0.9894 - val_loss: 0.0922 - val_acc: 0.9792\n",
      "Epoch 28/30\n",
      "48000/48000 [==============================] - 1s 31us/step - loss: 0.0305 - acc: 0.9896 - val_loss: 0.0893 - val_acc: 0.9784\n",
      "Epoch 29/30\n",
      "48000/48000 [==============================] - 1s 31us/step - loss: 0.0328 - acc: 0.9894 - val_loss: 0.0875 - val_acc: 0.9784\n",
      "Epoch 30/30\n",
      "48000/48000 [==============================] - 1s 31us/step - loss: 0.0305 - acc: 0.9900 - val_loss: 0.0854 - val_acc: 0.9815\n"
     ]
    },
    {
     "data": {
      "image/png": "[encoded data removed]",
      "text/plain": [
       "<Figure size 432x288 with 1 Axes>"
      ]
     },
     "metadata": {
      "needs_background": "light"
     },
     "output_type": "display_data"
    }
   ],
   "source": [
    "history = model.fit(X_train, Y_train, batch_size=64, epochs=30, verbose=1, \n",
    "                    validation_split=0.2)\n",
    "\n",
    "plt.plot(history.history[\"loss\"], label=\"train loss\")\n",
    "plt.plot(history.history[\"val_loss\"], label=\"validation loss\")\n",
    "plt.legend()\n",
    "plt.title(\"Loss\")\n",
    "plt.show()"
   ]
  },
  {
   "cell_type": "markdown",
   "metadata": {
    "colab_type": "text",
    "id": "go4XJWF-ySx5"
   },
   "source": [
    "### Step 5: Evaluate the Model performance"
   ]
  },
  {
   "cell_type": "code",
   "execution_count": 32,
   "metadata": {},
   "outputs": [
    {
     "name": "stdout",
     "output_type": "stream",
     "text": [
      "10000/10000 [==============================] - 0s 15us/step\n",
      "Test score: 0.08043208433667896\n",
      "Test accuracy: 0.981\n"
     ]
    }
   ],
   "source": [
    "score = model.evaluate(X_test, Y_test, verbose=1)\n",
    "print(\"Test score:\", score[0])\n",
    "print('Test accuracy:', score[1])\n",
    "\n",
    "model.save('mnist_dnn_04.h5')"
   ]
  },
  {
   "cell_type": "markdown",
   "metadata": {},
   "source": [
    "<font color = \"#CC3D3D\"><br>\n",
    "## Case #5: Adopting regularization for avoiding overfitting\n",
    "<br><img src=\"https://i.stack.imgur.com/j2F6j.png\" width=600 height=400>"
   ]
  },
  {
   "cell_type": "markdown",
   "metadata": {},
   "source": [
    "### Step 2: Define the Model & its Architecture"
   ]
  },
  {
   "cell_type": "code",
   "execution_count": 33,
   "metadata": {},
   "outputs": [
    {
     "name": "stdout",
     "output_type": "stream",
     "text": [
      "_________________________________________________________________\n",
      "Layer (type)                 Output Shape              Param #   \n",
      "=================================================================\n",
      "dense_12 (Dense)             (None, 128)               100480    \n",
      "_________________________________________________________________\n",
      "batch_normalization_1 (Batch (None, 128)               512       \n",
      "_________________________________________________________________\n",
      "activation_11 (Activation)   (None, 128)               0         \n",
      "_________________________________________________________________\n",
      "dropout_5 (Dropout)          (None, 128)               0         \n",
      "_________________________________________________________________\n",
      "dense_13 (Dense)             (None, 64)                8256      \n",
      "_________________________________________________________________\n",
      "batch_normalization_2 (Batch (None, 64)                256       \n",
      "_________________________________________________________________\n",
      "activation_12 (Activation)   (None, 64)                0         \n",
      "_________________________________________________________________\n",
      "dropout_6 (Dropout)          (None, 64)                0         \n",
      "_________________________________________________________________\n",
      "dense_14 (Dense)             (None, 10)                650       \n",
      "_________________________________________________________________\n",
      "activation_13 (Activation)   (None, 10)                0         \n",
      "=================================================================\n",
      "Total params: 110,154\n",
      "Trainable params: 109,770\n",
      "Non-trainable params: 384\n",
      "_________________________________________________________________\n"
     ]
    }
   ],
   "source": [
    "# 오버피팅을 줄이는 방법\n",
    "from keras import regularizers\n",
    "\n",
    "# Max norm constraints: \n",
    "# refer to http://cs231n.github.io/neural-networks-2/#reg\n",
    "from keras.constraints import max_norm\n",
    "\n",
    "# Batch normalization layer normalizes the activations of the previous layer at each batch,\n",
    "# i.e. applies a transformation that maintains the mean activation close to 0 \n",
    "# and the activation standard deviation close to 1.\n",
    "from keras.layers import BatchNormalization\n",
    "\n",
    "model = Sequential()\n",
    "#model.add(Dense(128, input_shape=(RESHAPED,), kernel_regularizer=regularizers.l2(0.01), kernel_initializer=\"glorot_normal\"))\n",
    "model.add(Dense(128, input_shape=(RESHAPED,), kernel_constraint=max_norm(2.), kernel_initializer=\"he_normal\"))\n",
    "model.add(BatchNormalization())\n",
    "model.add(Activation('relu'))\n",
    "model.add(Dropout(0.2))\n",
    "#model.add(Dense(64, kernel_regularizer=regularizers.l2(0.01), kernel_initializer=\"glorot_normal\"))\n",
    "model.add(Dense(64, kernel_constraint=max_norm(2.), kernel_initializer=\"he_normal\"))\n",
    "model.add(BatchNormalization())\n",
    "model.add(Activation('relu'))\n",
    "model.add(Dropout(0.2))\n",
    "model.add(Dense(10))\n",
    "model.add(Activation('softmax'))\n",
    "model.summary()"
   ]
  },
  {
   "cell_type": "markdown",
   "metadata": {},
   "source": [
    "### Step 3: Choose the Optimizer and the Cost function"
   ]
  },
  {
   "cell_type": "code",
   "execution_count": 34,
   "metadata": {},
   "outputs": [],
   "source": [
    "model.compile(loss='categorical_crossentropy', optimizer=Adam(), metrics=['accuracy'])"
   ]
  },
  {
   "cell_type": "markdown",
   "metadata": {},
   "source": [
    "### Step 4: Train the Model"
   ]
  },
  {
   "cell_type": "code",
   "execution_count": 35,
   "metadata": {},
   "outputs": [
    {
     "name": "stdout",
     "output_type": "stream",
     "text": [
      "Train on 48000 samples, validate on 12000 samples\n",
      "Epoch 1/30\n",
      "48000/48000 [==============================] - 2s 46us/step - loss: 0.5049 - acc: 0.8586 - val_loss: 0.1873 - val_acc: 0.9481\n",
      "Epoch 2/30\n",
      "48000/48000 [==============================] - 2s 33us/step - loss: 0.2219 - acc: 0.9356 - val_loss: 0.1302 - val_acc: 0.9615\n",
      "Epoch 3/30\n",
      "48000/48000 [==============================] - 2s 35us/step - loss: 0.1676 - acc: 0.9495 - val_loss: 0.1141 - val_acc: 0.9646\n",
      "Epoch 4/30\n",
      "48000/48000 [==============================] - 2s 35us/step - loss: 0.1416 - acc: 0.9578 - val_loss: 0.0988 - val_acc: 0.9699\n",
      "Epoch 5/30\n",
      "48000/48000 [==============================] - 2s 35us/step - loss: 0.1240 - acc: 0.9616 - val_loss: 0.0936 - val_acc: 0.9718\n",
      "Epoch 6/30\n",
      "48000/48000 [==============================] - 2s 35us/step - loss: 0.1087 - acc: 0.9663 - val_loss: 0.0828 - val_acc: 0.9738\n",
      "Epoch 7/30\n",
      "48000/48000 [==============================] - 2s 35us/step - loss: 0.1008 - acc: 0.9683 - val_loss: 0.0799 - val_acc: 0.9756\n",
      "Epoch 8/30\n",
      "48000/48000 [==============================] - 2s 34us/step - loss: 0.0889 - acc: 0.9719 - val_loss: 0.0835 - val_acc: 0.9743\n",
      "Epoch 9/30\n",
      "48000/48000 [==============================] - 2s 34us/step - loss: 0.0838 - acc: 0.9734 - val_loss: 0.0808 - val_acc: 0.9755\n",
      "Epoch 10/30\n",
      "48000/48000 [==============================] - 2s 34us/step - loss: 0.0806 - acc: 0.9743 - val_loss: 0.0842 - val_acc: 0.9742\n"
     ]
    },
    {
     "data": {
      "image/png": "[encoded data removed]",
      "text/plain": [
       "<Figure size 432x288 with 1 Axes>"
      ]
     },
     "metadata": {
      "needs_background": "light"
     },
     "output_type": "display_data"
    }
   ],
   "source": [
    "# Early stopping is basically stopping the training once your loss starts to increase.\n",
    "# 학습 조기 종료를 위해 더 이상 개선의 여지가 없을 때 학습을 종료시키는 콜백함수\n",
    "from keras.callbacks import EarlyStopping\n",
    "early_stop = EarlyStopping(patience=3)\n",
    "# patience : 개선이 없다고 바로 종료하지 않고 개선이 없는 에포크를 얼마나 기다려 \n",
    "#           줄 것인 가를 지정합니다. \n",
    "# 만약 10이라고 지정하면 개선이 없는 에포크가 10번째 지속될 경우 학습을 종료합니다.\n",
    "\n",
    "history = model.fit(X_train, Y_train, batch_size=128, epochs=30, verbose=1, \n",
    "                    validation_split=0.2, callbacks=[early_stop])\n",
    "\n",
    "plt.plot(history.history[\"loss\"], label=\"train loss\")\n",
    "plt.plot(history.history[\"val_loss\"], label=\"validation loss\")\n",
    "plt.legend()\n",
    "plt.title(\"Loss\")\n",
    "plt.show()"
   ]
  },
  {
   "cell_type": "markdown",
   "metadata": {},
   "source": [
    "### Step 5: Evaluate the Model performance"
   ]
  },
  {
   "cell_type": "code",
   "execution_count": 36,
   "metadata": {},
   "outputs": [
    {
     "name": "stdout",
     "output_type": "stream",
     "text": [
      "10000/10000 [==============================] - 0s 15us/step\n",
      "Test score: 0.08075678874645383\n",
      "Test accuracy: 0.9747\n"
     ]
    }
   ],
   "source": [
    "score = model.evaluate(X_test, Y_test, verbose=1)\n",
    "print(\"Test score:\", score[0])\n",
    "print('Test accuracy:', score[1])\n",
    "\n",
    "model.save('mnist_dnn_05.h5')"
   ]
  },
  {
   "cell_type": "markdown",
   "metadata": {},
   "source": [
    "<font color = \"#CC3D3D\"><br>\n",
    "## Case #6: Optimizing hyperparameters with Keras-scikit-wrapper"
   ]
  },
  {
   "cell_type": "markdown",
   "metadata": {},
   "source": [
    "##### 1) Define a function which constructs, compiles and returns a Keras model"
   ]
  },
  {
   "cell_type": "code",
   "execution_count": 37,
   "metadata": {},
   "outputs": [],
   "source": [
    "def dnn_model(optimizer=Adam(), dropout_rate=0.0):\n",
    "    # Define the model & its architecture    \n",
    "    model = Sequential()\n",
    "    model.add(Dense(128, input_shape=(RESHAPED,), activation='relu'))\n",
    "    model.add(Dropout(dropout_rate))\n",
    "    model.add(Dense(64, activation='relu'))\n",
    "    model.add(Dropout(dropout_rate))\n",
    "    model.add(Dense(10, activation='softmax'))\n",
    "    # Choose the optimizer and the cost function\n",
    "    model.compile(loss='categorical_crossentropy', optimizer=optimizer, metrics=['accuracy'])\n",
    "    # Return model           \n",
    "    return model"
   ]
  },
  {
   "cell_type": "markdown",
   "metadata": {},
   "source": [
    "##### 2) Instantiate `KerasClassifier` which implements the Scikit-Learn classifier interface"
   ]
  },
  {
   "cell_type": "code",
   "execution_count": 38,
   "metadata": {},
   "outputs": [],
   "source": [
    "from keras.wrappers.scikit_learn import KerasClassifier\n",
    "# call Keras scikit wrapper\n",
    "dnn = KerasClassifier(build_fn=dnn_model, epochs=1)"
   ]
  },
  {
   "cell_type": "markdown",
   "metadata": {},
   "source": [
    "##### 3) Apply scikit-learn's `RandomizedSearchCV` (or `GridSearchCV`)"
   ]
  },
  {
   "cell_type": "code",
   "execution_count": 39,
   "metadata": {},
   "outputs": [
    {
     "name": "stdout",
     "output_type": "stream",
     "text": [
      "Epoch 1/1\n",
      "40000/40000 [==============================] - 2s 47us/step - loss: 0.2771 - acc: 0.9193\n",
      "20000/20000 [==============================] - 0s 16us/step\n",
      "40000/40000 [==============================] - 0s 12us/step\n",
      "Epoch 1/1\n",
      "40000/40000 [==============================] - 2s 47us/step - loss: 0.2731 - acc: 0.9195\n",
      "20000/20000 [==============================] - 0s 16us/step\n",
      "40000/40000 [==============================] - 0s 12us/step\n",
      "Epoch 1/1\n",
      "40000/40000 [==============================] - 2s 45us/step - loss: 0.2775 - acc: 0.9189\n",
      "20000/20000 [==============================] - 0s 17us/step\n",
      "40000/40000 [==============================] - 0s 12us/step\n",
      "Epoch 1/1\n",
      "40000/40000 [==============================] - 2s 53us/step - loss: 0.6756 - acc: 0.7913\n",
      "20000/20000 [==============================] - 0s 19us/step\n",
      "40000/40000 [==============================] - 1s 13us/step\n",
      "Epoch 1/1\n",
      "40000/40000 [==============================] - 2s 57us/step - loss: 0.6755 - acc: 0.7929\n",
      "20000/20000 [==============================] - 0s 20us/step\n",
      "40000/40000 [==============================] - 0s 12us/step\n",
      "Epoch 1/1\n",
      "40000/40000 [==============================] - 2s 59us/step - loss: 0.6771 - acc: 0.7913\n",
      "20000/20000 [==============================] - 0s 20us/step\n",
      "40000/40000 [==============================] - 0s 12us/step\n",
      "Epoch 1/1\n",
      "40000/40000 [==============================] - 1s 33us/step - loss: 0.8143 - acc: 0.7421\n",
      "20000/20000 [==============================] - 0s 14us/step\n",
      "40000/40000 [==============================] - 0s 6us/step\n",
      "Epoch 1/1\n",
      "40000/40000 [==============================] - 1s 35us/step - loss: 0.8258 - acc: 0.7405\n",
      "20000/20000 [==============================] - 0s 14us/step\n",
      "40000/40000 [==============================] - 0s 6us/step\n",
      "Epoch 1/1\n",
      "40000/40000 [==============================] - 1s 36us/step - loss: 0.8439 - acc: 0.7334\n",
      "20000/20000 [==============================] - 0s 15us/step\n",
      "40000/40000 [==============================] - 0s 6us/step\n",
      "Epoch 1/1\n",
      "40000/40000 [==============================] - 1s 37us/step - loss: 0.3169 - acc: 0.9090\n",
      "20000/20000 [==============================] - 0s 18us/step\n",
      "40000/40000 [==============================] - 0s 8us/step\n",
      "Epoch 1/1\n",
      "40000/40000 [==============================] - 2s 38us/step - loss: 0.3195 - acc: 0.9078\n",
      "20000/20000 [==============================] - 0s 18us/step\n",
      "40000/40000 [==============================] - 0s 8us/step\n",
      "Epoch 1/1\n",
      "40000/40000 [==============================] - 2s 38us/step - loss: 0.3157 - acc: 0.9102\n",
      "20000/20000 [==============================] - 0s 19us/step\n",
      "40000/40000 [==============================] - 0s 8us/step\n",
      "Epoch 1/1\n",
      "40000/40000 [==============================] - 2s 46us/step - loss: 0.4239 - acc: 0.8711\n",
      "20000/20000 [==============================] - 0s 20us/step\n",
      "40000/40000 [==============================] - 0s 8us/step\n",
      "Epoch 1/1\n",
      "40000/40000 [==============================] - 2s 47us/step - loss: 0.4279 - acc: 0.8729\n",
      "20000/20000 [==============================] - 0s 21us/step\n",
      "40000/40000 [==============================] - 0s 8us/step\n",
      "Epoch 1/1\n",
      "40000/40000 [==============================] - 2s 48us/step - loss: 0.4276 - acc: 0.8711\n",
      "20000/20000 [==============================] - 0s 21us/step\n",
      "40000/40000 [==============================] - 0s 9us/step\n",
      "Epoch 1/1\n",
      "60000/60000 [==============================] - 3s 52us/step - loss: 0.2447 - acc: 0.9284\n",
      "10000/10000 [==============================] - 0s 39us/step\n",
      "0.9544\n",
      "Best: 0.949850 using {'optimizer': 'rmsprop', 'dropout_rate': 0.0, 'batch_size': 32}\n",
      "0.949850 (0.002936) with: {'optimizer': 'rmsprop', 'dropout_rate': 0.0, 'batch_size': 32}\n",
      "0.925400 (0.002763) with: {'optimizer': 'rmsprop', 'dropout_rate': 0.5, 'batch_size': 32}\n",
      "0.915667 (0.002068) with: {'optimizer': 'rmsprop', 'dropout_rate': 0.5, 'batch_size': 128}\n",
      "0.945700 (0.001540) with: {'optimizer': 'rmsprop', 'dropout_rate': 0.0, 'batch_size': 64}\n",
      "0.942367 (0.002479) with: {'optimizer': 'rmsprop', 'dropout_rate': 0.2, 'batch_size': 64}\n"
     ]
    }
   ],
   "source": [
    "from sklearn.model_selection import RandomizedSearchCV\n",
    "\n",
    "# Specify parameters and distributions to sample from\n",
    "param_dist = {\n",
    "    'dropout_rate': [0.0, 0.2, 0.5], \n",
    "    'optimizer': ['rmsprop', 'adam'], \n",
    "    'batch_size': [32, 64, 128]\n",
    "}\n",
    "\n",
    "# Run randomized search\n",
    "n_iter_search = 5\n",
    "random_search = RandomizedSearchCV(dnn, param_distributions=param_dist, n_iter=n_iter_search, cv=3)\n",
    "random_search.fit(X_train, y_train)\n",
    "print(random_search.score(X_test, y_test))\n",
    "\n",
    "# Summarize results\n",
    "print(\"Best: %f using %s\" % (random_search.best_score_, random_search.best_params_))\n",
    "means = random_search.cv_results_['mean_test_score']\n",
    "stds = random_search.cv_results_['std_test_score']\n",
    "params = random_search.cv_results_['params']\n",
    "for mean, stdev, param in zip(means, stds, params):\n",
    "    print(\"%f (%f) with: %s\" % (mean, stdev, param))"
   ]
  },
  {
   "cell_type": "markdown",
   "metadata": {},
   "source": [
    "## End"
   ]
  },
  {
   "cell_type": "code",
   "execution_count": null,
   "metadata": {},
   "outputs": [],
   "source": []
  },
  {
   "cell_type": "code",
   "execution_count": null,
   "metadata": {},
   "outputs": [],
   "source": []
  },
  {
   "cell_type": "code",
   "execution_count": null,
   "metadata": {},
   "outputs": [],
   "source": []
  },
  {
   "cell_type": "code",
   "execution_count": null,
   "metadata": {},
   "outputs": [],
   "source": []
  },
  {
   "cell_type": "code",
   "execution_count": null,
   "metadata": {},
   "outputs": [],
   "source": []
  },
  {
   "cell_type": "code",
   "execution_count": null,
   "metadata": {},
   "outputs": [],
   "source": []
  },
  {
   "cell_type": "code",
   "execution_count": null,
   "metadata": {},
   "outputs": [],
   "source": []
  },
  {
   "cell_type": "code",
   "execution_count": null,
   "metadata": {},
   "outputs": [],
   "source": []
  },
  {
   "cell_type": "code",
   "execution_count": null,
   "metadata": {},
   "outputs": [],
   "source": []
  },
  {
   "cell_type": "code",
   "execution_count": null,
   "metadata": {},
   "outputs": [],
   "source": []
  },
  {
   "cell_type": "code",
   "execution_count": null,
   "metadata": {},
   "outputs": [],
   "source": []
  },
  {
   "cell_type": "code",
   "execution_count": null,
   "metadata": {},
   "outputs": [],
   "source": []
  }
 ],
 "metadata": {
  "colab": {
   "collapsed_sections": [],
   "default_view": {},
   "name": "code_DNN_01.ipynb",
   "provenance": [],
   "version": "0.3.2",
   "views": {}
  },
  "kernelspec": {
   "display_name": "Python 3",
   "language": "python",
   "name": "python3"
  },
  "language_info": {
   "codemirror_mode": {
    "name": "ipython",
    "version": 3
   },
   "file_extension": ".py",
   "mimetype": "text/x-python",
   "name": "python",
   "nbconvert_exporter": "python",
   "pygments_lexer": "ipython3",
   "version": "3.7.3"
  }
 },
 "nbformat": 4,
 "nbformat_minor": 1
}
