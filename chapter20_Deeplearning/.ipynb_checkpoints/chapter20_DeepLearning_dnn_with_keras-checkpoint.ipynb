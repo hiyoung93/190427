{
 "cells": [
  {
   "cell_type": "markdown",
   "metadata": {},
   "source": [
    "<font color='mediumblue'>\n",
    "## How to Build Neural Networks <br>\n",
    "Constructing Neural Networks to solve ML problems is a multiple-stage process. Generally, one can identify the key steps as follows:\n",
    "* ***step 1:*** Load and process the data\n",
    "* ***step 2:*** Define the model and its architecture\n",
    "* ***step 3:*** Choose the optimizer and the cost function\n",
    "* ***step 4:*** Train the model \n",
    "* ***step 5:*** Evaluate the model performance on the *unseen* test data\n",
    "* ***step 6:*** Modify the hyperparameters to optimize performance for the specific data set *(optional)*"
   ]
  },
  {
   "cell_type": "markdown",
   "metadata": {
    "colab_type": "text",
    "id": "ATYXO4XwySxL"
   },
   "source": [
    "## A real example — recognizing handwritten digits ##\n",
    "We will build networks that can recognize handwritten numbers. <br>\n",
    "For achieving this goal, we use MNIST, a database of handwritten digits made up of a training set of 60,000\n",
    "examples and a test set of 10,000 examples. \n",
    "<br>The training examples are annotated by humans\n",
    "with the correct answer. \n",
    "<br>For instance, if the handwritten digit is the number three, then\n",
    "three is simply the label associated with that example.<br>\n",
    "Each MNIST image is in gray scale, and it consists of 28 x 28 pixels. A subset of these\n",
    "numbers is represented in the following diagram:\n",
    "![Deep%20Learning%20with%20Keras.bmp](https://encrypted-tbn0.gstatic.com/images?q=tbn:ANd9GcToXD458Zgqs8VLLzbJPImOK6EgAf4OBquibDaUnw344dkcd1kT)"
   ]
  },
  {
   "cell_type": "markdown",
   "metadata": {},
   "source": [
    "We will build six different neural networks and compare their performance:\n",
    "* [Case #1: Defining a simple neural net in Keras](#Case-#1:-Defining-a-simple-neural-net-in-Keras)\n",
    "* [Case #2: Improving the simple net in Keras with hidden layers](#Case-#2:-Improving-the-simple-net-in-Keras-with-hidden-layers)\n",
    "* [Case #3: Further improving the simple net in Keras with dropout](#Case-#3:-Further-improving-the-simple-net-in-Keras-with-dropout)\n",
    "* [Case #4: Testing different optimizers in Keras](#Case-#4:-Testing-different-optimizers-in-Keras)\n",
    "* [Case #5: Adopting regularization for avoiding overfitting](#Case-#5:-Adopting-regularization-for-avoiding-overfitting)\n",
    "* [Case #6: Optimizing hyperparameters with Keras-scikit-wrapper](#Case-#6:-Optimizing-hyperparameters-with-Keras-scikit-wrapper)"
   ]
  },
  {
   "cell_type": "markdown",
   "metadata": {
    "colab_type": "text",
    "id": "ATYXO4XwySxL"
   },
   "source": [
    "<font color = \"#CC3D3D\">\n",
    "## Case #1: Defining a simple neural net in Keras"
   ]
  },
  {
   "cell_type": "markdown",
   "metadata": {},
   "source": [
    "##### Set Up"
   ]
  },
  {
   "cell_type": "code",
   "execution_count": 2,
   "metadata": {
    "colab": {
     "autoexec": {
      "startup": false,
      "wait_interval": 0
     },
     "base_uri": "https://localhost:8080/",
     "height": 35
    },
    "colab_type": "code",
    "executionInfo": {
     "elapsed": 2311,
     "status": "ok",
     "timestamp": 1525167296818,
     "user": {
      "displayName": "­조윤호(빅데이터경영통계전공)",
      "photoUrl": "https://lh3.googleusercontent.com/a/default-user=s128",
      "userId": "107121563618260277687"
     },
     "user_tz": -540
    },
    "id": "Gu7X8RqjySxN",
    "outputId": "bed732bd-7ed9-49cb-d1bb-d9156005e60f"
   },
   "outputs": [
    {
     "name": "stdout",
     "output_type": "stream",
     "text": [
      "Collecting pydot\n",
      "  Downloading https://files.pythonhosted.org/packages/33/d1/b1479a770f66d962f545c2101630ce1d5592d90cb4f083d38862e93d16d2/pydot-1.4.1-py2.py3-none-any.whl\n",
      "Collecting graphviz\n",
      "  Downloading https://files.pythonhosted.org/packages/af/ae/e1c63ac4c531d69a7960a99af99e184d4f3da15e29f67767c4252bf19cce/graphviz-0.11-py2.py3-none-any.whl\n",
      "Requirement already satisfied: h5py in c:\\programdata\\anaconda3\\lib\\site-packages (2.9.0)\n",
      "Requirement already satisfied: pyparsing>=2.1.4 in c:\\programdata\\anaconda3\\lib\\site-packages (from pydot) (2.3.1)\n",
      "Requirement already satisfied: six in c:\\programdata\\anaconda3\\lib\\site-packages (from h5py) (1.12.0)\n",
      "Requirement already satisfied: numpy>=1.7 in c:\\programdata\\anaconda3\\lib\\site-packages (from h5py) (1.16.2)\n",
      "Installing collected packages: pydot, graphviz\n",
      "Successfully installed graphviz-0.11 pydot-1.4.1\n"
     ]
    }
   ],
   "source": [
    "# 모델 시각화 및 저장을 위해 관련 패키지를 아래와 같이 설치해야 한다.\n",
    "\n",
    "!pip install pydot graphviz h5py"
   ]
  },
  {
   "cell_type": "code",
   "execution_count": null,
   "metadata": {},
   "outputs": [],
   "source": [
    "!pip install tensorflow"
   ]
  },
  {
   "cell_type": "code",
   "execution_count": 3,
   "metadata": {
    "colab": {
     "autoexec": {
      "startup": false,
      "wait_interval": 0
     },
     "base_uri": "https://localhost:8080/",
     "height": 35
    },
    "colab_type": "code",
    "executionInfo": {
     "elapsed": 2311,
     "status": "ok",
     "timestamp": 1525167296818,
     "user": {
      "displayName": "­조윤호(빅데이터경영통계전공)",
      "photoUrl": "https://lh3.googleusercontent.com/a/default-user=s128",
      "userId": "107121563618260277687"
     },
     "user_tz": -540
    },
    "id": "Gu7X8RqjySxN",
    "outputId": "bed732bd-7ed9-49cb-d1bb-d9156005e60f"
   },
   "outputs": [
    {
     "ename": "ModuleNotFoundError",
     "evalue": "No module named 'tensorflow'",
     "output_type": "error",
     "traceback": [
      "\u001b[1;31m---------------------------------------------------------------------------\u001b[0m",
      "\u001b[1;31mModuleNotFoundError\u001b[0m                       Traceback (most recent call last)",
      "\u001b[1;32m<ipython-input-3-770515449ec2>\u001b[0m in \u001b[0;36m<module>\u001b[1;34m\u001b[0m\n\u001b[0;32m      4\u001b[0m \u001b[1;33m\u001b[0m\u001b[0m\n\u001b[0;32m      5\u001b[0m \u001b[1;32mimport\u001b[0m \u001b[0mnumpy\u001b[0m \u001b[1;32mas\u001b[0m \u001b[0mnp\u001b[0m\u001b[1;33m\u001b[0m\u001b[1;33m\u001b[0m\u001b[0m\n\u001b[1;32m----> 6\u001b[1;33m \u001b[1;32mimport\u001b[0m \u001b[0mtensorflow\u001b[0m \u001b[1;32mas\u001b[0m \u001b[0mtf\u001b[0m\u001b[1;33m\u001b[0m\u001b[1;33m\u001b[0m\u001b[0m\n\u001b[0m\u001b[0;32m      7\u001b[0m \u001b[1;32mimport\u001b[0m \u001b[0mrandom\u001b[0m \u001b[1;32mas\u001b[0m \u001b[0mrn\u001b[0m\u001b[1;33m\u001b[0m\u001b[1;33m\u001b[0m\u001b[0m\n\u001b[0;32m      8\u001b[0m \u001b[1;33m\u001b[0m\u001b[0m\n",
      "\u001b[1;31mModuleNotFoundError\u001b[0m: No module named 'tensorflow'"
     ]
    }
   ],
   "source": [
    "#\n",
    "# Setting for obtaining reproducible results\n",
    "#\n",
    "\n",
    "import numpy as np\n",
    "import tensorflow as tf\n",
    "import random as rn\n",
    "\n",
    "# The below is necessary in Python 3.2.3 onwards to\n",
    "# have reproducible behavior for certain hash-based operations.\n",
    "# See these references for further details:\n",
    "# https://docs.python.org/3.4/using/cmdline.html#envvar-PYTHONHASHSEED\n",
    "# https://github.com/keras-team/keras/issues/2280#issuecomment-306959926\n",
    "\n",
    "import os\n",
    "os.environ['PYTHONHASHSEED'] = '0'\n",
    "\n",
    "# The below is necessary for starting Numpy generated random numbers\n",
    "# in a well-defined initial state.\n",
    "\n",
    "np.random.seed(42)\n",
    "\n",
    "# The below is necessary for starting core Python generated random numbers\n",
    "# in a well-defined state.\n",
    "\n",
    "#rn.seed(12345)\n",
    "\n",
    "# Force TensorFlow to use single thread.\n",
    "# Multiple threads are a potential source of\n",
    "# non-reproducible results.\n",
    "\n",
    "session_conf = tf.ConfigProto(intra_op_parallelism_threads=1, \n",
    "                              inter_op_parallelism_threads=1)\n",
    "\n",
    "from keras import backend as K\n",
    "\n",
    "# The below tf.set_random_seed() will make random number generation\n",
    "# in the TensorFlow backend have a well-defined initial state.\n",
    "# For further details, \n",
    "# see: https://www.tensorflow.org/api_docs/python/tf/set_random_seed\n",
    "\n",
    "tf.set_random_seed(1234)\n",
    "\n",
    "sess = tf.Session(graph=tf.get_default_graph(), config=session_conf)\n",
    "K.set_session(sess)"
   ]
  },
  {
   "cell_type": "code",
   "execution_count": 2,
   "metadata": {
    "colab": {
     "autoexec": {
      "startup": false,
      "wait_interval": 0
     },
     "base_uri": "https://localhost:8080/",
     "height": 35
    },
    "colab_type": "code",
    "executionInfo": {
     "elapsed": 2311,
     "status": "ok",
     "timestamp": 1525167296818,
     "user": {
      "displayName": "­조윤호(빅데이터경영통계전공)",
      "photoUrl": "https://lh3.googleusercontent.com/a/default-user=s128",
      "userId": "107121563618260277687"
     },
     "user_tz": -540
    },
    "id": "Gu7X8RqjySxN",
    "outputId": "bed732bd-7ed9-49cb-d1bb-d9156005e60f"
   },
   "outputs": [],
   "source": [
    "import keras, sklearn\n",
    "import matplotlib.pyplot as plt\n",
    "from keras.datasets import mnist\n",
    "from keras.models import Sequential\n",
    "from keras.layers.core import Dense, Activation\n",
    "from keras.optimizers import SGD\n",
    "from keras.utils import np_utils"
   ]
  },
  {
   "cell_type": "markdown",
   "metadata": {
    "colab_type": "text",
    "id": "ssz9-VkkySxe"
   },
   "source": [
    "### Step 1: Load and Process the Data ###"
   ]
  },
  {
   "cell_type": "code",
   "execution_count": 3,
   "metadata": {
    "colab": {
     "autoexec": {
      "startup": false,
      "wait_interval": 0
     },
     "base_uri": "https://localhost:8080/",
     "height": 89
    },
    "colab_type": "code",
    "executionInfo": {
     "elapsed": 3786,
     "status": "ok",
     "timestamp": 1525167308978,
     "user": {
      "displayName": "­조윤호(빅데이터경영통계전공)",
      "photoUrl": "https://lh3.googleusercontent.com/a/default-user=s128",
      "userId": "107121563618260277687"
     },
     "user_tz": -540
    },
    "id": "G-eVw42hySxg",
    "outputId": "5c4fcfeb-8775-444d-df3a-d35d629a8349"
   },
   "outputs": [
    {
     "name": "stdout",
     "output_type": "stream",
     "text": [
      "60000 train samples\n",
      "10000 test samples\n"
     ]
    }
   ],
   "source": [
    "# mnist 이미지 데이터\n",
    "(X_train, y_train), (X_test, y_test) = mnist.load_data()\n",
    "#X_train is 60000 rows of 28x28 values --> reshaped in 60000 x 784\n",
    "RESHAPED = 784 # 전체 픽셀 갯수\n",
    "\n",
    "X_train = X_train.reshape(60000, RESHAPED) # 학습이미지 6만개\n",
    "X_test = X_test.reshape(10000, RESHAPED) # 평가이미지 만개\n",
    "X_train = X_train.astype('float32')\n",
    "X_test = X_test.astype('float32')\n",
    "\n",
    "# 한 픽셀 값은 0~255로 표현된다. 0은 흰색, 255는 검은색\n",
    "\n",
    "# normalize\n",
    "X_train /= 255 \n",
    "X_test /= 255\n",
    "print(X_train.shape[0], 'train samples')\n",
    "print(X_test.shape[0], 'test samples')\n",
    "\n",
    "# convert class vectors to binary class matrices\n",
    "# 뉴럴넷은 입력데이터에 대한 스케일 조정이 필요\n",
    "# to_categorical : 찾을 값이 0~9까지이므로 10개로 원핫 인코딩을 한다.\n",
    "Y_train = np_utils.to_categorical(y_train, 10)\n",
    "Y_test = np_utils.to_categorical(y_test, 10)"
   ]
  },
  {
   "cell_type": "markdown",
   "metadata": {
    "colab_type": "text",
    "id": "PPOWln24ySxl"
   },
   "source": [
    "### Step 2: Define the Model & its Architecture ###"
   ]
  },
  {
   "cell_type": "code",
   "execution_count": 4,
   "metadata": {
    "colab": {
     "autoexec": {
      "startup": false,
      "wait_interval": 0
     },
     "base_uri": "https://localhost:8080/",
     "height": 215
    },
    "colab_type": "code",
    "executionInfo": {
     "elapsed": 656,
     "status": "ok",
     "timestamp": 1525167312928,
     "user": {
      "displayName": "­조윤호(빅데이터경영통계전공)",
      "photoUrl": "https://lh3.googleusercontent.com/a/default-user=s128",
      "userId": "107121563618260277687"
     },
     "user_tz": -540
    },
    "id": "s2e6eVxBySxn",
    "outputId": "a2a5c500-0025-4e7c-fd08-072c2a0c59ce"
   },
   "outputs": [
    {
     "name": "stdout",
     "output_type": "stream",
     "text": [
      "_________________________________________________________________\n",
      "Layer (type)                 Output Shape              Param #   \n",
      "=================================================================\n",
      "dense_1 (Dense)              (None, 10)                7850      \n",
      "_________________________________________________________________\n",
      "activation_1 (Activation)    (None, 10)                0         \n",
      "=================================================================\n",
      "Total params: 7,850\n",
      "Trainable params: 7,850\n",
      "Non-trainable params: 0\n",
      "_________________________________________________________________\n"
     ]
    }
   ],
   "source": [
    "# 10 outputs\n",
    "# final stage is softmax\n",
    "model = Sequential()\n",
    "\n",
    "# Dense : 입력모드가 784(RESHAPED), 첫번째 히든레이어는 10개로 연결하라\n",
    "model.add(Dense(10, input_shape=(RESHAPED,))) \n",
    "model.add(Activation('softmax'))\n",
    "\n",
    "model.summary() # 종합한것을 본다.  \n",
    "# Param 이 weight 이다. 7850개를 학습시키면 된다."
   ]
  },
  {
   "cell_type": "code",
   "execution_count": 5,
   "metadata": {
    "colab": {
     "autoexec": {
      "startup": false,
      "wait_interval": 0
     },
     "base_uri": "https://localhost:8080/",
     "height": 604
    },
    "colab_type": "code",
    "executionInfo": {
     "elapsed": 844,
     "status": "error",
     "timestamp": 1525166603719,
     "user": {
      "displayName": "­조윤호(빅데이터경영통계전공)",
      "photoUrl": "https://lh3.googleusercontent.com/a/default-user=s128",
      "userId": "107121563618260277687"
     },
     "user_tz": -540
    },
    "id": "auG6u0kLySxs",
    "outputId": "6a342f5b-4ca4-464d-958e-5a2413828293"
   },
   "outputs": [
    {
     "data": {
      "image/png": "[encoded data removed]",
      "text/plain": [
       "<IPython.core.display.Image object>"
      ]
     },
     "execution_count": 5,
     "metadata": {},
     "output_type": "execute_result"
    }
   ],
   "source": [
    "from IPython.display import Image\n",
    "from keras.utils.vis_utils import model_to_dot\n",
    "\n",
    "Image(model_to_dot(model,show_shapes=True, show_layer_names=False).create(prog='dot', format='png'))"
   ]
  },
  {
   "cell_type": "markdown",
   "metadata": {},
   "source": [
    "### Step 3: Choose the Optimizer and the Cost function"
   ]
  },
  {
   "cell_type": "code",
   "execution_count": 6,
   "metadata": {
    "colab": {
     "autoexec": {
      "startup": false,
      "wait_interval": 0
     },
     "base_uri": "https://localhost:8080/",
     "height": 1516
    },
    "colab_type": "code",
    "executionInfo": {
     "elapsed": 34654,
     "status": "ok",
     "timestamp": 1525167354316,
     "user": {
      "displayName": "­조윤호(빅데이터경영통계전공)",
      "photoUrl": "https://lh3.googleusercontent.com/a/default-user=s128",
      "userId": "107121563618260277687"
     },
     "user_tz": -540
    },
    "id": "gFE6aAZNySx0",
    "outputId": "05efd6b2-ae99-4041-ca43-915a1ce58856"
   },
   "outputs": [],
   "source": [
    "# optimizer : SGD 는 최적의 방법을 찾는 것\n",
    "model.compile(loss='categorical_crossentropy', optimizer=SGD(), metrics=['accuracy'])"
   ]
  },
  {
   "cell_type": "markdown",
   "metadata": {
    "colab_type": "text",
    "id": "_JWYMMeGySxy"
   },
   "source": [
    "### Step 4: Train the Model"
   ]
  },
  {
   "cell_type": "code",
   "execution_count": 7,
   "metadata": {
    "colab": {
     "autoexec": {
      "startup": false,
      "wait_interval": 0
     },
     "base_uri": "https://localhost:8080/",
     "height": 1516
    },
    "colab_type": "code",
    "executionInfo": {
     "elapsed": 34654,
     "status": "ok",
     "timestamp": 1525167354316,
     "user": {
      "displayName": "­조윤호(빅데이터경영통계전공)",
      "photoUrl": "https://lh3.googleusercontent.com/a/default-user=s128",
      "userId": "107121563618260277687"
     },
     "user_tz": -540
    },
    "id": "gFE6aAZNySx0",
    "outputId": "05efd6b2-ae99-4041-ca43-915a1ce58856"
   },
   "outputs": [
    {
     "name": "stdout",
     "output_type": "stream",
     "text": [
      "Train on 48000 samples, validate on 12000 samples\n",
      "Epoch 1/30\n",
      "48000/48000 [==============================] - 2s 47us/step - loss: 1.3995 - acc: 0.6581 - val_loss: 0.8983 - val_acc: 0.8258\n",
      "Epoch 2/30\n",
      "48000/48000 [==============================] - 2s 43us/step - loss: 0.7951 - acc: 0.8276 - val_loss: 0.6579 - val_acc: 0.8565\n",
      "Epoch 3/30\n",
      "48000/48000 [==============================] - 2s 42us/step - loss: 0.6440 - acc: 0.8499 - val_loss: 0.5617 - val_acc: 0.8683\n",
      "Epoch 4/30\n",
      "48000/48000 [==============================] - 2s 36us/step - loss: 0.5711 - acc: 0.8608 - val_loss: 0.5088 - val_acc: 0.8767\n",
      "Epoch 5/30\n",
      "48000/48000 [==============================] - 2s 37us/step - loss: 0.5269 - acc: 0.8675 - val_loss: 0.4746 - val_acc: 0.8818\n",
      "Epoch 6/30\n",
      "48000/48000 [==============================] - 2s 38us/step - loss: 0.4964 - acc: 0.8732 - val_loss: 0.4505 - val_acc: 0.8868\n",
      "Epoch 7/30\n",
      "48000/48000 [==============================] - 2s 39us/step - loss: 0.4739 - acc: 0.8772 - val_loss: 0.4322 - val_acc: 0.8910\n",
      "Epoch 8/30\n",
      "48000/48000 [==============================] - 2s 35us/step - loss: 0.4565 - acc: 0.8805 - val_loss: 0.4181 - val_acc: 0.8924\n",
      "Epoch 9/30\n",
      "48000/48000 [==============================] - 2s 37us/step - loss: 0.4424 - acc: 0.8827 - val_loss: 0.4063 - val_acc: 0.8952\n",
      "Epoch 10/30\n",
      "48000/48000 [==============================] - 2s 42us/step - loss: 0.4308 - acc: 0.8849 - val_loss: 0.3968 - val_acc: 0.8963\n",
      "Epoch 11/30\n",
      "48000/48000 [==============================] - 2s 36us/step - loss: 0.4209 - acc: 0.8870 - val_loss: 0.3885 - val_acc: 0.8982\n",
      "Epoch 12/30\n",
      "48000/48000 [==============================] - 2s 41us/step - loss: 0.4125 - acc: 0.8888 - val_loss: 0.3816 - val_acc: 0.8997\n",
      "Epoch 13/30\n",
      "48000/48000 [==============================] - 2s 38us/step - loss: 0.4052 - acc: 0.8902 - val_loss: 0.3757 - val_acc: 0.9015\n",
      "Epoch 14/30\n",
      "48000/48000 [==============================] - 2s 39us/step - loss: 0.3987 - acc: 0.8916 - val_loss: 0.3702 - val_acc: 0.9023\n",
      "Epoch 15/30\n",
      "48000/48000 [==============================] - 2s 36us/step - loss: 0.3928 - acc: 0.8932 - val_loss: 0.3653 - val_acc: 0.9040\n",
      "Epoch 16/30\n",
      "48000/48000 [==============================] - 2s 37us/step - loss: 0.3877 - acc: 0.8941 - val_loss: 0.3611 - val_acc: 0.9045\n",
      "Epoch 17/30\n",
      "48000/48000 [==============================] - 2s 33us/step - loss: 0.3830 - acc: 0.8954 - val_loss: 0.3571 - val_acc: 0.9054\n",
      "Epoch 18/30\n",
      "48000/48000 [==============================] - 2s 37us/step - loss: 0.3787 - acc: 0.8965 - val_loss: 0.3536 - val_acc: 0.9056\n",
      "Epoch 19/30\n",
      "48000/48000 [==============================] - 2s 36us/step - loss: 0.3747 - acc: 0.8971 - val_loss: 0.3506 - val_acc: 0.9052\n",
      "Epoch 20/30\n",
      "48000/48000 [==============================] - 2s 34us/step - loss: 0.3711 - acc: 0.8977 - val_loss: 0.3474 - val_acc: 0.9073\n",
      "Epoch 21/30\n",
      "48000/48000 [==============================] - 2s 38us/step - loss: 0.3678 - acc: 0.8984 - val_loss: 0.3446 - val_acc: 0.9082\n",
      "Epoch 22/30\n",
      "48000/48000 [==============================] - 2s 39us/step - loss: 0.3646 - acc: 0.8992 - val_loss: 0.3421 - val_acc: 0.9083\n",
      "Epoch 23/30\n",
      "48000/48000 [==============================] - 2s 35us/step - loss: 0.3618 - acc: 0.9001 - val_loss: 0.3397 - val_acc: 0.9091\n",
      "Epoch 24/30\n",
      "48000/48000 [==============================] - 2s 34us/step - loss: 0.3591 - acc: 0.9006 - val_loss: 0.3376 - val_acc: 0.9096\n",
      "Epoch 25/30\n",
      "48000/48000 [==============================] - 2s 33us/step - loss: 0.3565 - acc: 0.9014 - val_loss: 0.3354 - val_acc: 0.9096\n",
      "Epoch 26/30\n",
      "48000/48000 [==============================] - 1s 30us/step - loss: 0.3541 - acc: 0.9021 - val_loss: 0.3334 - val_acc: 0.9102\n",
      "Epoch 27/30\n",
      "48000/48000 [==============================] - 2s 38us/step - loss: 0.3519 - acc: 0.9026 - val_loss: 0.3316 - val_acc: 0.9106\n",
      "Epoch 28/30\n",
      "48000/48000 [==============================] - 2s 36us/step - loss: 0.3498 - acc: 0.9033 - val_loss: 0.3300 - val_acc: 0.9108\n",
      "Epoch 29/30\n",
      "48000/48000 [==============================] - 1s 30us/step - loss: 0.3478 - acc: 0.9036 - val_loss: 0.3283 - val_acc: 0.9110\n",
      "Epoch 30/30\n",
      "48000/48000 [==============================] - 2s 39us/step - loss: 0.3459 - acc: 0.9038 - val_loss: 0.3268 - val_acc: 0.9117\n",
      "Wall time: 54.2 s\n"
     ]
    }
   ],
   "source": [
    "%%time\n",
    "# validation_split 0.2 : 80은 학습하고 20%는 평가를 위해 남겨 두겠다\n",
    "# verbose : 중간 중간의 과정을 찍을 것인지 말것인지, 얼마나 자세하게 정보를 표시할 것인가를 지정. (0, 1, 2)\n",
    "history = model.fit(X_train, Y_train, batch_size=128, epochs=30, verbose=1, \n",
    "                    validation_split=0.2)\n",
    "# history변수에 저장한 것은 나중에 체크해보기 위함."
   ]
  },
  {
   "cell_type": "code",
   "execution_count": 8,
   "metadata": {
    "colab": {
     "autoexec": {
      "startup": false,
      "wait_interval": 0
     },
     "base_uri": "https://localhost:8080/",
     "height": 1516
    },
    "colab_type": "code",
    "executionInfo": {
     "elapsed": 34654,
     "status": "ok",
     "timestamp": 1525167354316,
     "user": {
      "displayName": "­조윤호(빅데이터경영통계전공)",
      "photoUrl": "https://lh3.googleusercontent.com/a/default-user=s128",
      "userId": "107121563618260277687"
     },
     "user_tz": -540
    },
    "id": "gFE6aAZNySx0",
    "outputId": "05efd6b2-ae99-4041-ca43-915a1ce58856"
   },
   "outputs": [
    {
     "data": {
      "image/png": "[encoded data removed]",
      "text/plain": [
       "<matplotlib.figure.Figure at 0x206b6dc5978>"
      ]
     },
     "metadata": {
      "needs_background": "light"
     },
     "output_type": "display_data"
    }
   ],
   "source": [
    "plt.plot(history.history[\"loss\"], label=\"train loss\")\n",
    "plt.plot(history.history[\"val_loss\"], label=\"validation loss\")\n",
    "plt.legend()\n",
    "plt.title(\"Loss\")\n",
    "plt.show()"
   ]
  },
  {
   "cell_type": "markdown",
   "metadata": {
    "colab_type": "text",
    "id": "go4XJWF-ySx5"
   },
   "source": [
    "### Step 5: Evaluate the Model performance"
   ]
  },
  {
   "cell_type": "code",
   "execution_count": 9,
   "metadata": {
    "colab": {
     "autoexec": {
      "startup": false,
      "wait_interval": 0
     },
     "base_uri": "https://localhost:8080/",
     "height": 71
    },
    "colab_type": "code",
    "executionInfo": {
     "elapsed": 1025,
     "status": "ok",
     "timestamp": 1525167075715,
     "user": {
      "displayName": "­조윤호(빅데이터경영통계전공)",
      "photoUrl": "https://lh3.googleusercontent.com/a/default-user=s128",
      "userId": "107121563618260277687"
     },
     "user_tz": -540
    },
    "id": "59JE1yQDySx7",
    "outputId": "830e533f-730e-4e8b-a3a4-a88ee8d7ecad"
   },
   "outputs": [
    {
     "name": "stdout",
     "output_type": "stream",
     "text": [
      "10000/10000 [==============================] - 0s 41us/step\n",
      "Test score: 0.3266168298661709\n",
      "Test accuracy: 0.9101\n"
     ]
    }
   ],
   "source": [
    "# evaluate : 전체\n",
    "# 케라스는 pridict 하면 확률을 출력한다.\n",
    "score = model.evaluate(X_test, Y_test, verbose=1)\n",
    "print(\"Test score:\", score[0])\n",
    "print('Test accuracy:', score[1])"
   ]
  },
  {
   "cell_type": "markdown",
   "metadata": {
    "colab_type": "text",
    "id": "UCQk-EQQANOO"
   },
   "source": [
    "##### Save & Load the Model"
   ]
  },
  {
   "cell_type": "code",
   "execution_count": 10,
   "metadata": {
    "colab": {
     "autoexec": {
      "startup": false,
      "wait_interval": 0
     },
     "base_uri": "https://localhost:8080/",
     "height": 35
    },
    "colab_type": "code",
    "executionInfo": {
     "elapsed": 1748,
     "status": "ok",
     "timestamp": 1525099406503,
     "user": {
      "displayName": "­조윤호(빅데이터경영통계전공)",
      "photoUrl": "https://lh3.googleusercontent.com/a/default-user=s128",
      "userId": "107121563618260277687"
     },
     "user_tz": -540
    },
    "id": "EnlOq1ni_fxZ",
    "outputId": "58e130f7-f1b5-4131-9582-4f2ba4fd2897"
   },
   "outputs": [],
   "source": [
    "from keras.models import load_model"
   ]
  },
  {
   "cell_type": "code",
   "execution_count": 11,
   "metadata": {
    "colab": {
     "autoexec": {
      "startup": false,
      "wait_interval": 0
     },
     "base_uri": "https://localhost:8080/",
     "height": 35
    },
    "colab_type": "code",
    "executionInfo": {
     "elapsed": 1748,
     "status": "ok",
     "timestamp": 1525099406503,
     "user": {
      "displayName": "­조윤호(빅데이터경영통계전공)",
      "photoUrl": "https://lh3.googleusercontent.com/a/default-user=s128",
      "userId": "107121563618260277687"
     },
     "user_tz": -540
    },
    "id": "EnlOq1ni_fxZ",
    "outputId": "58e130f7-f1b5-4131-9582-4f2ba4fd2897"
   },
   "outputs": [
    {
     "name": "stdout",
     "output_type": "stream",
     "text": [
      " D 드라이브의 볼륨에는 이름이 없습니다.\n",
      " 볼륨 일련 번호: 7C4F-8860\n",
      "\n",
      " D:\\Python_Lec 디렉터리\n",
      "\n",
      "2019-07-01  오후 09:44    <DIR>          .\n",
      "2019-07-01  오후 09:44    <DIR>          ..\n",
      "2019-07-01  오후 09:42    <DIR>          .ipynb_checkpoints\n",
      "2019-06-27  오후 03:40            26,842 08_sentiment_naver_movie.ipynb\n",
      "2016-10-05  오후 09:56            50,406 access_log\n",
      "2018-10-20  오전 11:18        47,241,969 Allstate_train.csv\n",
      "2016-10-12  오후 10:03               129 bullet.png\n",
      "2019-05-01  오후 08:31            13,825 chaper4.ipynb\n",
      "2019-04-25  오후 11:33             8,936 chapter1.ipynb\n",
      "2019-05-28  오후 09:28           146,004 chapter10(불리언인덱싱).ipynb\n",
      "2019-05-28  오후 05:13            48,146 chapter11_Aggregation.ipynb\n",
      "2019-06-04  오후 08:12         2,929,349 chapter12_merge.ipynb\n",
      "2019-06-07  오후 08:56            75,939 chapter13_rearrange.ipynb\n",
      "2019-06-13  오전 12:17            23,686 chapter15_ML2.ipynb\n",
      "2018-11-09  오후 05:33           186,739 chapter15_ML2_lab.ipynb\n",
      "2019-06-13  오전 12:10             3,021 chapter15_SimpleML.ipynb\n",
      "2019-06-18  오전 01:17            19,198 chapter16_cv1.ipynb\n",
      "2019-06-18  오후 06:02            76,777 chapter16_cv2.ipynb\n",
      "2019-06-20  오후 06:16           158,881 chapter17_Ensemble.ipynb\n",
      "2019-06-25  오후 03:55            42,002 chapter18_pipeline.ipynb\n",
      "2019-06-27  오후 04:54           108,210 chapter19.zip\n",
      "2019-06-27  오후 06:48            27,376 chapter19_sentiment.ipynb\n",
      "2019-06-27  오후 06:48            68,018 chapter19_webScraping.ipynb\n",
      "2019-06-27  오후 06:49           170,060 chapter19_wordCloud_re.ipynb\n",
      "2019-04-26  오전 08:21           396,631 chapter2.html\n",
      "2019-04-29  오후 11:35            26,250 chapter2.ipynb\n",
      "2019-06-29  오후 12:49               555 chapter20_DeepLearning_Basic.ipynb\n",
      "2019-05-01  오전 10:49            22,083 chapter3.ipynb\n",
      "2019-05-05  오후 10:35           465,247 chapter5.ipynb\n",
      "2019-05-10  오후 08:24            26,711 chapter6.ipynb\n",
      "2019-05-23  오전 11:38           608,495 chapter7.ipynb\n",
      "2019-05-23  오후 08:30           137,572 chapter8.ipynb\n",
      "2019-05-24  오후 09:54           397,214 chapter9_시각화1.ipynb\n",
      "2019-06-11  오전 01:38            17,743 chatper14_ML_Basic.ipynb\n",
      "2019-06-11  오전 01:24           209,261 chatper14_ML_Basic_lab.ipynb\n",
      "2018-09-08  오후 12:00            17,228 code_0908_02.ipynb\n",
      "2019-06-18  오전 01:14           188,684 code_0915_01.ipynb\n",
      "2019-06-11  오후 06:55            37,607 code_0929_01.ipynb\n",
      "2018-09-29  오전 07:44             5,961 code_0929_02.ipynb\n",
      "2018-10-06  오전 11:48            56,542 code_1006_01.ipynb\n",
      "2018-10-12  오전 11:24            57,214 code_1006_01_과제.ipynb\n",
      "2019-06-20  오후 09:45    <DIR>          data\n",
      "2019-05-24  오전 10:36    <DIR>          DATA_01\n",
      "2018-09-15  오전 10:46             7,228 data_pepNewCustomers.csv\n",
      "2018-09-15  오전 10:47            22,646 data_pepTestCustomers.csv\n",
      "2019-05-30  오후 09:55            33,303 DATA_SETS.ipynb\n",
      "2019-05-23  오전 01:31                77 df1.csv\n",
      "2016-10-08  오후 02:14               181 enemy.png\n",
      "2016-10-08  오후 02:14               199 fighter.png\n",
      "2019-05-03  오후 02:22    <DIR>          images\n",
      "2016-12-31  오후 02:58           170,005 img_sample.jpg\n",
      "2019-05-01  오후 10:14           170,005 img_sample_copy.jpg\n",
      "2019-06-27  오후 04:40           183,503 json_schema.ipynb\n",
      "2018-11-11  오후 03:53            18,976 KimKwangil-U2018029-Api.ipynb\n",
      "2018-11-17  오전 07:17            20,448 ML.libaryPackage-1.0.0.ipynb\n",
      "2019-06-25  오후 02:12           294,125 ML_exam_help.ipynb\n",
      "2019-06-25  오후 09:56           597,163 ML_exam_v1.0.ipynb\n",
      "2019-05-06  오전 12:08            17,662 MLExample.ipynb\n",
      "2019-07-01  오후 09:44            80,472 mnist_dnn_01.h5\n",
      "2019-06-27  오후 06:47            48,822 movie_review.csv\n",
      "2019-05-01  오후 10:12                62 mydata.txt\n",
      "2019-05-30  오전 10:26         3,114,960 output_data_01.csv\n",
      "2019-07-01  오후 09:44           221,831 p1_dnn_with_keras.ipynb\n",
      "2019-06-18  오전 01:13             2,164 pep_target.csv\n",
      "2019-07-01  오후 09:38    <DIR>          slides\n",
      "2016-10-27  오후 11:53            16,339 stockcode.txt\n",
      "2019-05-01  오후 10:14            16,339 stockcode_copy.txt\n",
      "2019-06-27  오후 04:09           120,740 TDM.JPG\n",
      "2019-05-03  오후 02:32               176 test.log\n",
      "2019-06-25  오후 03:54            61,194 titanic_train.csv\n",
      "2019-06-26  오후 09:45    <DIR>          zipFile\n",
      "2019-05-30  오후 06:56             5,333 데이터전처리 예제.ipynb\n",
      "2019-05-30  오후 08:30            44,927 데이터전처리 예제1_준비.ipynb\n",
      "2019-06-27  오후 06:47            12,654 영화평BPE.txt\n",
      "2019-06-27  오후 06:46             7,185 중고차.xlsx\n",
      "2019-05-24  오후 08:39            10,002 파일이름.png\n",
      "              68개 파일          59,395,232 바이트\n",
      "               8개 디렉터리   3,879,071,744 바이트 남음\n"
     ]
    }
   ],
   "source": [
    "model.save('mnist_dnn_01.h5')\n",
    "%ls"
   ]
  },
  {
   "cell_type": "code",
   "execution_count": 12,
   "metadata": {
    "colab": {
     "autoexec": {
      "startup": false,
      "wait_interval": 0
     },
     "base_uri": "https://localhost:8080/",
     "height": 312
    },
    "colab_type": "code",
    "executionInfo": {
     "elapsed": 1174,
     "status": "ok",
     "timestamp": 1525099305778,
     "user": {
      "displayName": "­조윤호(빅데이터경영통계전공)",
      "photoUrl": "https://lh3.googleusercontent.com/a/default-user=s128",
      "userId": "107121563618260277687"
     },
     "user_tz": -540
    },
    "id": "HbXZvVjR_x94",
    "outputId": "0fdeb090-bbf5-4c94-d3b6-17a0642df74a"
   },
   "outputs": [
    {
     "data": {
      "image/png": "[encoded data removed]",
      "text/plain": [
       "<IPython.core.display.Image object>"
      ]
     },
     "execution_count": 12,
     "metadata": {},
     "output_type": "execute_result"
    }
   ],
   "source": [
    "model2 = load_model('mnist_dnn_01.h5')\n",
    "Image(model_to_dot(model2,show_shapes=True, show_layer_names=False).create(prog='dot', format='png'))"
   ]
  },
  {
   "cell_type": "markdown",
   "metadata": {},
   "source": [
    "<font color = \"#CC3D3D\"><br>\n",
    "## Case #2: Improving the simple net in Keras with hidden layers"
   ]
  },
  {
   "cell_type": "markdown",
   "metadata": {
    "colab_type": "text",
    "id": "PPOWln24ySxl"
   },
   "source": [
    "### Step 2: Define the Model & its Architecture ###"
   ]
  },
  {
   "cell_type": "code",
   "execution_count": 13,
   "metadata": {},
   "outputs": [
    {
     "name": "stdout",
     "output_type": "stream",
     "text": [
      "_________________________________________________________________\n",
      "Layer (type)                 Output Shape              Param #   \n",
      "=================================================================\n",
      "dense_2 (Dense)              (None, 32)                25120     \n",
      "_________________________________________________________________\n",
      "activation_2 (Activation)    (None, 32)                0         \n",
      "_________________________________________________________________\n",
      "dense_3 (Dense)              (None, 32)                1056      \n",
      "_________________________________________________________________\n",
      "dense_4 (Dense)              (None, 32)                1056      \n",
      "_________________________________________________________________\n",
      "activation_3 (Activation)    (None, 32)                0         \n",
      "_________________________________________________________________\n",
      "dense_5 (Dense)              (None, 10)                330       \n",
      "_________________________________________________________________\n",
      "activation_4 (Activation)    (None, 10)                0         \n",
      "=================================================================\n",
      "Total params: 27,562\n",
      "Trainable params: 27,562\n",
      "Non-trainable params: 0\n",
      "_________________________________________________________________\n"
     ]
    }
   ],
   "source": [
    "model = Sequential()\n",
    "\n",
    "# 첫번째 층\n",
    "model.add(Dense(32, input_shape=(RESHAPED,)))\n",
    "model.add(Activation('relu')) # 엑티베이션 함수를 relu 함수로 사용\n",
    "\n",
    "# 두변째 층\n",
    "model.add(Dense(32, activation='relu')) # 위의 두줄을 한줄로 표현\n",
    "#model.add(Activation('relu'))\n",
    "\n",
    "# 세번째 층\n",
    "model.add(Dense(32))\n",
    "model.add(Activation('relu'))\n",
    "\n",
    "# 출력층\n",
    "model.add(Dense(10))\n",
    "model.add(Activation('softmax'))\n",
    "\n",
    "model.summary()\n",
    "\n",
    "# 총 weight 수가 27,562개"
   ]
  },
  {
   "cell_type": "code",
   "execution_count": 14,
   "metadata": {},
   "outputs": [
    {
     "data": {
      "image/png": "[encoded data removed]",
      "text/plain": [
       "<IPython.core.display.Image object>"
      ]
     },
     "execution_count": 14,
     "metadata": {},
     "output_type": "execute_result"
    }
   ],
   "source": [
    "Image(model_to_dot(model,show_shapes=True, show_layer_names=False).create(prog='dot', format='png'))"
   ]
  },
  {
   "cell_type": "markdown",
   "metadata": {},
   "source": [
    "### Step 3: Choose the Optimizer and the Cost function"
   ]
  },
  {
   "cell_type": "code",
   "execution_count": 15,
   "metadata": {},
   "outputs": [],
   "source": [
    "model.compile(loss='categorical_crossentropy', optimizer=SGD(), metrics=['accuracy'])\n",
    "#model.compile(loss='categorical_crossentropy', optimizer=Adam, metrics=['accuracy'])"
   ]
  },
  {
   "cell_type": "markdown",
   "metadata": {
    "colab_type": "text",
    "id": "_JWYMMeGySxy"
   },
   "source": [
    "### Step 4: Train the Model"
   ]
  },
  {
   "cell_type": "code",
   "execution_count": 16,
   "metadata": {},
   "outputs": [
    {
     "name": "stdout",
     "output_type": "stream",
     "text": [
      "Train on 48000 samples, validate on 12000 samples\n",
      "Epoch 1/30\n",
      "48000/48000 [==============================] - 3s 55us/step - loss: 1.1762 - acc: 0.6686 - val_loss: 0.4821 - val_acc: 0.8668\n",
      "Epoch 2/30\n",
      "48000/48000 [==============================] - 2s 48us/step - loss: 0.4175 - acc: 0.8800 - val_loss: 0.3343 - val_acc: 0.9061\n",
      "Epoch 3/30\n",
      "48000/48000 [==============================] - 3s 56us/step - loss: 0.3363 - acc: 0.9019 - val_loss: 0.2946 - val_acc: 0.9138\n",
      "Epoch 4/30\n",
      "48000/48000 [==============================] - 2s 48us/step - loss: 0.2995 - acc: 0.9117 - val_loss: 0.2754 - val_acc: 0.9174\n",
      "Epoch 5/30\n",
      "48000/48000 [==============================] - 2s 49us/step - loss: 0.2734 - acc: 0.9197 - val_loss: 0.2494 - val_acc: 0.9269\n",
      "Epoch 6/30\n",
      "48000/48000 [==============================] - 2s 50us/step - loss: 0.2525 - acc: 0.9256 - val_loss: 0.2393 - val_acc: 0.9303\n",
      "Epoch 7/30\n",
      "48000/48000 [==============================] - 3s 53us/step - loss: 0.2354 - acc: 0.9311 - val_loss: 0.2238 - val_acc: 0.9346\n",
      "Epoch 8/30\n",
      "48000/48000 [==============================] - 3s 59us/step - loss: 0.2200 - acc: 0.9361 - val_loss: 0.2061 - val_acc: 0.9406\n",
      "Epoch 9/30\n",
      "48000/48000 [==============================] - 3s 53us/step - loss: 0.2067 - acc: 0.9392 - val_loss: 0.2001 - val_acc: 0.9427\n",
      "Epoch 10/30\n",
      "48000/48000 [==============================] - 2s 43us/step - loss: 0.1953 - acc: 0.9429 - val_loss: 0.1922 - val_acc: 0.9452\n",
      "Epoch 11/30\n",
      "48000/48000 [==============================] - 2s 47us/step - loss: 0.1852 - acc: 0.9453 - val_loss: 0.1817 - val_acc: 0.9487\n",
      "Epoch 12/30\n",
      "48000/48000 [==============================] - 2s 51us/step - loss: 0.1760 - acc: 0.9485 - val_loss: 0.1786 - val_acc: 0.9493\n",
      "Epoch 13/30\n",
      "48000/48000 [==============================] - 3s 61us/step - loss: 0.1686 - acc: 0.9512 - val_loss: 0.1740 - val_acc: 0.9516\n",
      "Epoch 14/30\n",
      "48000/48000 [==============================] - 2s 50us/step - loss: 0.1602 - acc: 0.9534 - val_loss: 0.1667 - val_acc: 0.9532\n",
      "Epoch 15/30\n",
      "48000/48000 [==============================] - 2s 49us/step - loss: 0.1542 - acc: 0.9549 - val_loss: 0.1664 - val_acc: 0.9520\n",
      "Epoch 16/30\n",
      "48000/48000 [==============================] - 3s 55us/step - loss: 0.1478 - acc: 0.9566 - val_loss: 0.1779 - val_acc: 0.9486\n",
      "Epoch 17/30\n",
      "48000/48000 [==============================] - 2s 47us/step - loss: 0.1417 - acc: 0.9586 - val_loss: 0.1568 - val_acc: 0.9558\n",
      "Epoch 18/30\n",
      "48000/48000 [==============================] - 3s 59us/step - loss: 0.1370 - acc: 0.9607 - val_loss: 0.1524 - val_acc: 0.9560\n",
      "Epoch 19/30\n",
      "48000/48000 [==============================] - 3s 52us/step - loss: 0.1316 - acc: 0.9614 - val_loss: 0.1573 - val_acc: 0.9566\n",
      "Epoch 20/30\n",
      "48000/48000 [==============================] - 2s 48us/step - loss: 0.1285 - acc: 0.9626 - val_loss: 0.1493 - val_acc: 0.9563\n",
      "Epoch 21/30\n",
      "48000/48000 [==============================] - 2s 46us/step - loss: 0.1241 - acc: 0.9645 - val_loss: 0.1609 - val_acc: 0.9535\n",
      "Epoch 22/30\n",
      "48000/48000 [==============================] - 2s 48us/step - loss: 0.1202 - acc: 0.9652 - val_loss: 0.1483 - val_acc: 0.9568\n",
      "Epoch 23/30\n",
      "48000/48000 [==============================] - 3s 52us/step - loss: 0.1168 - acc: 0.9664 - val_loss: 0.1437 - val_acc: 0.9586\n",
      "Epoch 24/30\n",
      "48000/48000 [==============================] - 2s 47us/step - loss: 0.1145 - acc: 0.9662 - val_loss: 0.1438 - val_acc: 0.9584\n",
      "Epoch 25/30\n",
      "48000/48000 [==============================] - 3s 54us/step - loss: 0.1118 - acc: 0.9678 - val_loss: 0.1408 - val_acc: 0.9599\n",
      "Epoch 26/30\n",
      "48000/48000 [==============================] - 2s 49us/step - loss: 0.1089 - acc: 0.9684 - val_loss: 0.1434 - val_acc: 0.9597\n",
      "Epoch 27/30\n",
      "48000/48000 [==============================] - 3s 55us/step - loss: 0.1066 - acc: 0.9690 - val_loss: 0.1386 - val_acc: 0.9609\n",
      "Epoch 28/30\n",
      "48000/48000 [==============================] - 3s 58us/step - loss: 0.1036 - acc: 0.9697 - val_loss: 0.1331 - val_acc: 0.9629\n",
      "Epoch 29/30\n",
      "48000/48000 [==============================] - 3s 67us/step - loss: 0.1011 - acc: 0.9706 - val_loss: 0.1423 - val_acc: 0.9595\n",
      "Epoch 30/30\n",
      "48000/48000 [==============================] - 3s 63us/step - loss: 0.0992 - acc: 0.9713 - val_loss: 0.1462 - val_acc: 0.9593\n"
     ]
    },
    {
     "data": {
      "image/png": "[encoded data removed]",
      "text/plain": [
       "<matplotlib.figure.Figure at 0x206c3855828>"
      ]
     },
     "metadata": {
      "needs_background": "light"
     },
     "output_type": "display_data"
    }
   ],
   "source": [
    "history = model.fit(X_train, Y_train, batch_size=64, epochs=30, verbose=1, \n",
    "                    validation_split=0.2)\n",
    "\n",
    "plt.plot(history.history[\"loss\"], label=\"train loss\")\n",
    "plt.plot(history.history[\"val_loss\"], label=\"validation loss\")\n",
    "plt.legend()\n",
    "plt.title(\"Loss\")\n",
    "plt.show()"
   ]
  },
  {
   "cell_type": "markdown",
   "metadata": {
    "colab_type": "text",
    "id": "go4XJWF-ySx5"
   },
   "source": [
    "### Step 5: Evaluate the Model performance"
   ]
  },
  {
   "cell_type": "code",
   "execution_count": 17,
   "metadata": {
    "colab": {
     "autoexec": {
      "startup": false,
      "wait_interval": 0
     },
     "base_uri": "https://localhost:8080/",
     "height": 71
    },
    "colab_type": "code",
    "executionInfo": {
     "elapsed": 1025,
     "status": "ok",
     "timestamp": 1525167075715,
     "user": {
      "displayName": "­조윤호(빅데이터경영통계전공)",
      "photoUrl": "https://lh3.googleusercontent.com/a/default-user=s128",
      "userId": "107121563618260277687"
     },
     "user_tz": -540
    },
    "id": "59JE1yQDySx7",
    "outputId": "830e533f-730e-4e8b-a3a4-a88ee8d7ecad"
   },
   "outputs": [
    {
     "name": "stdout",
     "output_type": "stream",
     "text": [
      "10000/10000 [==============================] - 0s 45us/step\n",
      "Test score: 0.13101361836344003\n",
      "Test accuracy: 0.9605\n"
     ]
    }
   ],
   "source": [
    "score = model.evaluate(X_test, Y_test, verbose=1)\n",
    "print(\"Test score:\", score[0])\n",
    "print('Test accuracy:', score[1])\n",
    "\n",
    "model.save('mnist_dnn_02.h5')"
   ]
  },
  {
   "cell_type": "markdown",
   "metadata": {},
   "source": [
    "<font color = \"#CC3D3D\"><br>\n",
    "## Case #3: Further improving the simple net in Keras with dropout"
   ]
  },
  {
   "cell_type": "markdown",
   "metadata": {
    "colab_type": "text",
    "id": "PPOWln24ySxl"
   },
   "source": [
    "### Step 2: Define the Model & its Architecture ###"
   ]
  },
  {
   "cell_type": "code",
   "execution_count": 18,
   "metadata": {},
   "outputs": [
    {
     "name": "stdout",
     "output_type": "stream",
     "text": [
      "_________________________________________________________________\n",
      "Layer (type)                 Output Shape              Param #   \n",
      "=================================================================\n",
      "dense_6 (Dense)              (None, 128)               100480    \n",
      "_________________________________________________________________\n",
      "activation_5 (Activation)    (None, 128)               0         \n",
      "_________________________________________________________________\n",
      "dropout_1 (Dropout)          (None, 128)               0         \n",
      "_________________________________________________________________\n",
      "dense_7 (Dense)              (None, 64)                8256      \n",
      "_________________________________________________________________\n",
      "activation_6 (Activation)    (None, 64)                0         \n",
      "_________________________________________________________________\n",
      "dropout_2 (Dropout)          (None, 64)                0         \n",
      "_________________________________________________________________\n",
      "dense_8 (Dense)              (None, 10)                650       \n",
      "_________________________________________________________________\n",
      "activation_7 (Activation)    (None, 10)                0         \n",
      "=================================================================\n",
      "Total params: 109,386\n",
      "Trainable params: 109,386\n",
      "Non-trainable params: 0\n",
      "_________________________________________________________________\n"
     ]
    }
   ],
   "source": [
    "from keras.layers.core import Dropout\n",
    "\n",
    "# Dropout : 층별로 오버피팅을 줄일 수 있도록 지정할 수 있다.\n",
    "model = Sequential()\n",
    "\n",
    "model.add(Dense(128, input_shape=(RESHAPED,)))\n",
    "model.add(Activation('relu'))\n",
    "model.add(Dropout(0.2)) # Dropout 비율을 20%로 하라\n",
    "\n",
    "model.add(Dense(64))\n",
    "model.add(Activation('relu'))\n",
    "model.add(Dropout(0.2))\n",
    "\n",
    "model.add(Dense(10))\n",
    "model.add(Activation('softmax'))\n",
    "\n",
    "model.summary()"
   ]
  },
  {
   "cell_type": "markdown",
   "metadata": {},
   "source": [
    "### Step 3: Choose the Optimizer and the Cost function"
   ]
  },
  {
   "cell_type": "code",
   "execution_count": 19,
   "metadata": {},
   "outputs": [],
   "source": [
    "model.compile(loss='categorical_crossentropy', optimizer=SGD(), metrics=['accuracy'])"
   ]
  },
  {
   "cell_type": "markdown",
   "metadata": {
    "colab_type": "text",
    "id": "_JWYMMeGySxy"
   },
   "source": [
    "### Step 4: Train the Model"
   ]
  },
  {
   "cell_type": "code",
   "execution_count": 20,
   "metadata": {},
   "outputs": [
    {
     "name": "stdout",
     "output_type": "stream",
     "text": [
      "Train on 48000 samples, validate on 12000 samples\n",
      "Epoch 1/30\n",
      "48000/48000 [==============================] - 5s 110us/step - loss: 1.6627 - acc: 0.4900 - val_loss: 0.8729 - val_acc: 0.8173\n",
      "Epoch 2/30\n",
      "48000/48000 [==============================] - 4s 85us/step - loss: 0.8645 - acc: 0.7406 - val_loss: 0.5139 - val_acc: 0.8750\n",
      "Epoch 3/30\n",
      "48000/48000 [==============================] - 4s 83us/step - loss: 0.6495 - acc: 0.8049 - val_loss: 0.4103 - val_acc: 0.8952\n",
      "Epoch 4/30\n",
      "48000/48000 [==============================] - 5s 97us/step - loss: 0.5526 - acc: 0.8344 - val_loss: 0.3606 - val_acc: 0.9046\n",
      "Epoch 5/30\n",
      "48000/48000 [==============================] - 5s 95us/step - loss: 0.4985 - acc: 0.8516 - val_loss: 0.3304 - val_acc: 0.9093\n",
      "Epoch 6/30\n",
      "48000/48000 [==============================] - 4s 86us/step - loss: 0.4628 - acc: 0.8645 - val_loss: 0.3071 - val_acc: 0.9137\n",
      "Epoch 7/30\n",
      "48000/48000 [==============================] - 4s 87us/step - loss: 0.4320 - acc: 0.8727 - val_loss: 0.2894 - val_acc: 0.9172\n",
      "Epoch 8/30\n",
      "48000/48000 [==============================] - 4s 91us/step - loss: 0.4050 - acc: 0.8821 - val_loss: 0.2756 - val_acc: 0.9202\n",
      "Epoch 9/30\n",
      "48000/48000 [==============================] - 4s 93us/step - loss: 0.3867 - acc: 0.8853 - val_loss: 0.2632 - val_acc: 0.9248\n",
      "Epoch 10/30\n",
      "48000/48000 [==============================] - 4s 92us/step - loss: 0.3694 - acc: 0.8911 - val_loss: 0.2520 - val_acc: 0.9273\n",
      "Epoch 11/30\n",
      "48000/48000 [==============================] - 4s 85us/step - loss: 0.3538 - acc: 0.8967 - val_loss: 0.2424 - val_acc: 0.9305\n",
      "Epoch 12/30\n",
      "48000/48000 [==============================] - 4s 86us/step - loss: 0.3408 - acc: 0.9003 - val_loss: 0.2334 - val_acc: 0.9325\n",
      "Epoch 13/30\n",
      "48000/48000 [==============================] - 4s 88us/step - loss: 0.3270 - acc: 0.9047 - val_loss: 0.2268 - val_acc: 0.9348\n",
      "Epoch 14/30\n",
      "48000/48000 [==============================] - 4s 89us/step - loss: 0.3164 - acc: 0.9078 - val_loss: 0.2195 - val_acc: 0.9368\n",
      "Epoch 15/30\n",
      "48000/48000 [==============================] - 5s 104us/step - loss: 0.3067 - acc: 0.9104 - val_loss: 0.2121 - val_acc: 0.9387\n",
      "Epoch 16/30\n",
      "48000/48000 [==============================] - 4s 82us/step - loss: 0.2991 - acc: 0.9131 - val_loss: 0.2058 - val_acc: 0.9410\n",
      "Epoch 17/30\n",
      "48000/48000 [==============================] - 4s 85us/step - loss: 0.2893 - acc: 0.9147 - val_loss: 0.2005 - val_acc: 0.9424\n",
      "Epoch 18/30\n",
      "48000/48000 [==============================] - 4s 91us/step - loss: 0.2818 - acc: 0.9180 - val_loss: 0.1949 - val_acc: 0.9437\n",
      "Epoch 19/30\n",
      "48000/48000 [==============================] - 4s 85us/step - loss: 0.2733 - acc: 0.9211 - val_loss: 0.1900 - val_acc: 0.9457\n",
      "Epoch 20/30\n",
      "48000/48000 [==============================] - 4s 81us/step - loss: 0.2686 - acc: 0.9211 - val_loss: 0.1862 - val_acc: 0.9463\n",
      "Epoch 21/30\n",
      "48000/48000 [==============================] - 4s 78us/step - loss: 0.2606 - acc: 0.9233 - val_loss: 0.1824 - val_acc: 0.9473\n",
      "Epoch 22/30\n",
      "48000/48000 [==============================] - 4s 80us/step - loss: 0.2570 - acc: 0.9253 - val_loss: 0.1773 - val_acc: 0.9497\n",
      "Epoch 23/30\n",
      "48000/48000 [==============================] - 4s 81us/step - loss: 0.2507 - acc: 0.9266 - val_loss: 0.1739 - val_acc: 0.9502\n",
      "Epoch 24/30\n",
      "48000/48000 [==============================] - 4s 83us/step - loss: 0.2423 - acc: 0.9285 - val_loss: 0.1705 - val_acc: 0.9513\n",
      "Epoch 25/30\n",
      "48000/48000 [==============================] - 4s 82us/step - loss: 0.2371 - acc: 0.9314 - val_loss: 0.1666 - val_acc: 0.9524\n",
      "Epoch 26/30\n",
      "48000/48000 [==============================] - 4s 85us/step - loss: 0.2292 - acc: 0.9333 - val_loss: 0.1642 - val_acc: 0.9529\n",
      "Epoch 27/30\n",
      "48000/48000 [==============================] - 4s 87us/step - loss: 0.2290 - acc: 0.9326 - val_loss: 0.1604 - val_acc: 0.9539\n",
      "Epoch 28/30\n",
      "48000/48000 [==============================] - 4s 94us/step - loss: 0.2256 - acc: 0.9338 - val_loss: 0.1577 - val_acc: 0.9552\n",
      "Epoch 29/30\n",
      "48000/48000 [==============================] - 4s 86us/step - loss: 0.2185 - acc: 0.9366 - val_loss: 0.1550 - val_acc: 0.9553\n",
      "Epoch 30/30\n",
      "48000/48000 [==============================] - 6s 135us/step - loss: 0.2203 - acc: 0.9349 - val_loss: 0.1527 - val_acc: 0.9555\n"
     ]
    },
    {
     "data": {
      "image/png": "[encoded data removed]",
      "text/plain": [
       "<matplotlib.figure.Figure at 0x206c3bdb828>"
      ]
     },
     "metadata": {
      "needs_background": "light"
     },
     "output_type": "display_data"
    }
   ],
   "source": [
    "history = model.fit(X_train, Y_train, batch_size=128, epochs=30, verbose=1, \n",
    "                    validation_split=0.2)\n",
    "\n",
    "plt.plot(history.history[\"loss\"], label=\"train loss\")\n",
    "plt.plot(history.history[\"val_loss\"], label=\"validation loss\")\n",
    "plt.legend()\n",
    "plt.title(\"Loss\")\n",
    "plt.show()"
   ]
  },
  {
   "cell_type": "markdown",
   "metadata": {
    "colab_type": "text",
    "id": "go4XJWF-ySx5"
   },
   "source": [
    "### Step 5: Evaluate the Model performance"
   ]
  },
  {
   "cell_type": "code",
   "execution_count": 22,
   "metadata": {},
   "outputs": [
    {
     "name": "stdout",
     "output_type": "stream",
     "text": [
      "10000/10000 [==============================] - 0s 46us/step\n",
      "Test score: 0.14983576813600957\n",
      "Test accuracy: 0.9553\n"
     ]
    }
   ],
   "source": [
    "score = model.evaluate(X_test, Y_test, verbose=1)\n",
    "print(\"Test score:\", score[0])\n",
    "print('Test accuracy:', score[1])\n",
    "\n",
    "model.save('mnist_dnn_03.h5')"
   ]
  },
  {
   "cell_type": "markdown",
   "metadata": {},
   "source": [
    "<font color = \"#CC3D3D\"><br>\n",
    "## Case #4: Testing different optimizers in Keras "
   ]
  },
  {
   "cell_type": "markdown",
   "metadata": {
    "colab_type": "text",
    "id": "PPOWln24ySxl"
   },
   "source": [
    "### Step 2: Define the Model & its Architecture ###"
   ]
  },
  {
   "cell_type": "code",
   "execution_count": 23,
   "metadata": {},
   "outputs": [
    {
     "name": "stdout",
     "output_type": "stream",
     "text": [
      "_________________________________________________________________\n",
      "Layer (type)                 Output Shape              Param #   \n",
      "=================================================================\n",
      "dense_9 (Dense)              (None, 128)               100480    \n",
      "_________________________________________________________________\n",
      "activation_8 (Activation)    (None, 128)               0         \n",
      "_________________________________________________________________\n",
      "dropout_3 (Dropout)          (None, 128)               0         \n",
      "_________________________________________________________________\n",
      "dense_10 (Dense)             (None, 64)                8256      \n",
      "_________________________________________________________________\n",
      "activation_9 (Activation)    (None, 64)                0         \n",
      "_________________________________________________________________\n",
      "dropout_4 (Dropout)          (None, 64)                0         \n",
      "_________________________________________________________________\n",
      "dense_11 (Dense)             (None, 10)                650       \n",
      "_________________________________________________________________\n",
      "activation_10 (Activation)   (None, 10)                0         \n",
      "=================================================================\n",
      "Total params: 109,386\n",
      "Trainable params: 109,386\n",
      "Non-trainable params: 0\n",
      "_________________________________________________________________\n"
     ]
    }
   ],
   "source": [
    "model = Sequential()\n",
    "model.add(Dense(128, input_shape=(RESHAPED,)))\n",
    "model.add(Activation('relu'))\n",
    "model.add(Dropout(0.2))\n",
    "model.add(Dense(64))\n",
    "model.add(Activation('relu'))\n",
    "model.add(Dropout(0.2))\n",
    "model.add(Dense(10))\n",
    "model.add(Activation('softmax'))\n",
    "model.summary()"
   ]
  },
  {
   "cell_type": "markdown",
   "metadata": {},
   "source": [
    "### Step 3: Choose the Optimizer and the Cost function"
   ]
  },
  {
   "cell_type": "code",
   "execution_count": 21,
   "metadata": {},
   "outputs": [],
   "source": [
    "from keras.optimizers import Adam\n",
    "\n",
    "model.compile(loss='categorical_crossentropy', optimizer=Adam(), metrics=['accuracy'])"
   ]
  },
  {
   "cell_type": "markdown",
   "metadata": {
    "colab_type": "text",
    "id": "_JWYMMeGySxy"
   },
   "source": [
    "### Step 4: Train the Model"
   ]
  },
  {
   "cell_type": "code",
   "execution_count": 22,
   "metadata": {},
   "outputs": [
    {
     "name": "stdout",
     "output_type": "stream",
     "text": [
      "Train on 48000 samples, validate on 12000 samples\n",
      "Epoch 1/30\n",
      "48000/48000 [==============================] - 11s 231us/step - loss: 0.2053 - acc: 0.9385 - val_loss: 0.1196 - val_acc: 0.9637\n",
      "Epoch 2/30\n",
      "48000/48000 [==============================] - 9s 195us/step - loss: 0.1478 - acc: 0.9559 - val_loss: 0.1057 - val_acc: 0.9688\n",
      "Epoch 3/30\n",
      "48000/48000 [==============================] - 8s 160us/step - loss: 0.1202 - acc: 0.9640 - val_loss: 0.0953 - val_acc: 0.9723\n",
      "Epoch 4/30\n",
      "48000/48000 [==============================] - 7s 155us/step - loss: 0.1042 - acc: 0.9678 - val_loss: 0.0892 - val_acc: 0.9738\n",
      "Epoch 5/30\n",
      "48000/48000 [==============================] - 7s 146us/step - loss: 0.0899 - acc: 0.9720 - val_loss: 0.0853 - val_acc: 0.9748\n",
      "Epoch 6/30\n",
      "48000/48000 [==============================] - 8s 157us/step - loss: 0.0825 - acc: 0.9742 - val_loss: 0.0880 - val_acc: 0.9754\n",
      "Epoch 7/30\n",
      "48000/48000 [==============================] - 8s 166us/step - loss: 0.0755 - acc: 0.9767 - val_loss: 0.0898 - val_acc: 0.9752\n",
      "Epoch 8/30\n",
      "48000/48000 [==============================] - 8s 161us/step - loss: 0.0702 - acc: 0.9778 - val_loss: 0.0845 - val_acc: 0.9759\n",
      "Epoch 9/30\n",
      "48000/48000 [==============================] - 9s 186us/step - loss: 0.0638 - acc: 0.9797 - val_loss: 0.0829 - val_acc: 0.9782\n",
      "Epoch 10/30\n",
      "48000/48000 [==============================] - 9s 194us/step - loss: 0.0583 - acc: 0.9810 - val_loss: 0.0870 - val_acc: 0.9770\n",
      "Epoch 11/30\n",
      "48000/48000 [==============================] - 9s 195us/step - loss: 0.0567 - acc: 0.9814 - val_loss: 0.0880 - val_acc: 0.9765\n",
      "Epoch 12/30\n",
      "48000/48000 [==============================] - 8s 170us/step - loss: 0.0546 - acc: 0.9826 - val_loss: 0.0839 - val_acc: 0.9769\n",
      "Epoch 13/30\n",
      "48000/48000 [==============================] - 8s 159us/step - loss: 0.0504 - acc: 0.9835 - val_loss: 0.0853 - val_acc: 0.9785\n",
      "Epoch 14/30\n",
      "48000/48000 [==============================] - 8s 168us/step - loss: 0.0474 - acc: 0.9844 - val_loss: 0.0838 - val_acc: 0.9794\n",
      "Epoch 15/30\n",
      "48000/48000 [==============================] - 8s 168us/step - loss: 0.0478 - acc: 0.9843 - val_loss: 0.0920 - val_acc: 0.9774\n",
      "Epoch 16/30\n",
      "48000/48000 [==============================] - 8s 158us/step - loss: 0.0437 - acc: 0.9854 - val_loss: 0.0900 - val_acc: 0.9781\n",
      "Epoch 17/30\n",
      "48000/48000 [==============================] - 9s 183us/step - loss: 0.0439 - acc: 0.9852 - val_loss: 0.0835 - val_acc: 0.9780\n",
      "Epoch 18/30\n",
      "48000/48000 [==============================] - 9s 196us/step - loss: 0.0413 - acc: 0.9867 - val_loss: 0.0862 - val_acc: 0.9792\n",
      "Epoch 19/30\n",
      "48000/48000 [==============================] - 9s 178us/step - loss: 0.0376 - acc: 0.9883 - val_loss: 0.0922 - val_acc: 0.9785\n",
      "Epoch 20/30\n",
      "48000/48000 [==============================] - 8s 159us/step - loss: 0.0370 - acc: 0.9881 - val_loss: 0.0900 - val_acc: 0.9780\n",
      "Epoch 21/30\n",
      "48000/48000 [==============================] - 8s 174us/step - loss: 0.0375 - acc: 0.9874 - val_loss: 0.0889 - val_acc: 0.9781\n",
      "Epoch 22/30\n",
      "48000/48000 [==============================] - 8s 163us/step - loss: 0.0362 - acc: 0.9885 - val_loss: 0.0963 - val_acc: 0.9775\n",
      "Epoch 23/30\n",
      "48000/48000 [==============================] - 7s 154us/step - loss: 0.0335 - acc: 0.9889 - val_loss: 0.0863 - val_acc: 0.9791\n",
      "Epoch 24/30\n",
      "48000/48000 [==============================] - 7s 149us/step - loss: 0.0335 - acc: 0.9889 - val_loss: 0.0919 - val_acc: 0.9783\n",
      "Epoch 25/30\n",
      "48000/48000 [==============================] - 7s 155us/step - loss: 0.0329 - acc: 0.9892 - val_loss: 0.0988 - val_acc: 0.9767\n",
      "Epoch 26/30\n",
      "48000/48000 [==============================] - 10s 204us/step - loss: 0.0332 - acc: 0.9894 - val_loss: 0.0962 - val_acc: 0.9778\n",
      "Epoch 27/30\n",
      "48000/48000 [==============================] - 10s 200us/step - loss: 0.0301 - acc: 0.9899 - val_loss: 0.0926 - val_acc: 0.9779\n",
      "Epoch 28/30\n",
      "48000/48000 [==============================] - 9s 194us/step - loss: 0.0318 - acc: 0.9891 - val_loss: 0.0882 - val_acc: 0.9787\n",
      "Epoch 29/30\n",
      "48000/48000 [==============================] - 8s 167us/step - loss: 0.0324 - acc: 0.9892 - val_loss: 0.0909 - val_acc: 0.9788\n",
      "Epoch 30/30\n",
      "48000/48000 [==============================] - 8s 168us/step - loss: 0.0271 - acc: 0.9910 - val_loss: 0.0978 - val_acc: 0.9772\n"
     ]
    },
    {
     "data": {
      "image/png": "[encoded data removed]",
      "text/plain": [
       "<matplotlib.figure.Figure at 0x206c3bdb860>"
      ]
     },
     "metadata": {
      "needs_background": "light"
     },
     "output_type": "display_data"
    }
   ],
   "source": [
    "history = model.fit(X_train, Y_train, batch_size=64, epochs=30, verbose=1, \n",
    "                    validation_split=0.2)\n",
    "\n",
    "plt.plot(history.history[\"loss\"], label=\"train loss\")\n",
    "plt.plot(history.history[\"val_loss\"], label=\"validation loss\")\n",
    "plt.legend()\n",
    "plt.title(\"Loss\")\n",
    "plt.show()"
   ]
  },
  {
   "cell_type": "markdown",
   "metadata": {
    "colab_type": "text",
    "id": "go4XJWF-ySx5"
   },
   "source": [
    "### Step 5: Evaluate the Model performance"
   ]
  },
  {
   "cell_type": "code",
   "execution_count": 24,
   "metadata": {},
   "outputs": [
    {
     "name": "stdout",
     "output_type": "stream",
     "text": [
      "10000/10000 [==============================] - 1s 82us/step\n",
      "Test score: 0.09055028903660031\n",
      "Test accuracy: 0.9794\n"
     ]
    }
   ],
   "source": [
    "score = model.evaluate(X_test, Y_test, verbose=1)\n",
    "print(\"Test score:\", score[0])\n",
    "print('Test accuracy:', score[1])\n",
    "\n",
    "model.save('mnist_dnn_04.h5')"
   ]
  },
  {
   "cell_type": "markdown",
   "metadata": {},
   "source": [
    "<font color = \"#CC3D3D\"><br>\n",
    "## Case #5: Adopting regularization for avoiding overfitting\n",
    "<br><img src=\"https://i.stack.imgur.com/j2F6j.png\" width=600 height=400>"
   ]
  },
  {
   "cell_type": "markdown",
   "metadata": {},
   "source": [
    "### Step 2: Define the Model & its Architecture"
   ]
  },
  {
   "cell_type": "code",
   "execution_count": 25,
   "metadata": {},
   "outputs": [
    {
     "name": "stdout",
     "output_type": "stream",
     "text": [
      "_________________________________________________________________\n",
      "Layer (type)                 Output Shape              Param #   \n",
      "=================================================================\n",
      "dense_9 (Dense)              (None, 128)               100480    \n",
      "_________________________________________________________________\n",
      "batch_normalization_1 (Batch (None, 128)               512       \n",
      "_________________________________________________________________\n",
      "activation_8 (Activation)    (None, 128)               0         \n",
      "_________________________________________________________________\n",
      "dropout_3 (Dropout)          (None, 128)               0         \n",
      "_________________________________________________________________\n",
      "dense_10 (Dense)             (None, 64)                8256      \n",
      "_________________________________________________________________\n",
      "batch_normalization_2 (Batch (None, 64)                256       \n",
      "_________________________________________________________________\n",
      "activation_9 (Activation)    (None, 64)                0         \n",
      "_________________________________________________________________\n",
      "dropout_4 (Dropout)          (None, 64)                0         \n",
      "_________________________________________________________________\n",
      "dense_11 (Dense)             (None, 10)                650       \n",
      "_________________________________________________________________\n",
      "activation_10 (Activation)   (None, 10)                0         \n",
      "=================================================================\n",
      "Total params: 110,154\n",
      "Trainable params: 109,770\n",
      "Non-trainable params: 384\n",
      "_________________________________________________________________\n"
     ]
    }
   ],
   "source": [
    "# 오버피팅을 줄이는 방법\n",
    "from keras import regularizers\n",
    "\n",
    "# Max norm constraints: \n",
    "# refer to http://cs231n.github.io/neural-networks-2/#reg\n",
    "from keras.constraints import max_norm\n",
    "\n",
    "# Batch normalization layer normalizes the activations of the previous layer at each batch,\n",
    "# i.e. applies a transformation that maintains the mean activation close to 0 \n",
    "# and the activation standard deviation close to 1.\n",
    "from keras.layers import BatchNormalization\n",
    "\n",
    "model = Sequential()\n",
    "#model.add(Dense(128, input_shape=(RESHAPED,), kernel_regularizer=regularizers.l2(0.01), kernel_initializer=\"glorot_normal\"))\n",
    "model.add(Dense(128, input_shape=(RESHAPED,), kernel_constraint=max_norm(2.), kernel_initializer=\"he_normal\"))\n",
    "model.add(BatchNormalization())\n",
    "model.add(Activation('relu'))\n",
    "model.add(Dropout(0.2))\n",
    "#model.add(Dense(64, kernel_regularizer=regularizers.l2(0.01), kernel_initializer=\"glorot_normal\"))\n",
    "model.add(Dense(64, kernel_constraint=max_norm(2.), kernel_initializer=\"he_normal\"))\n",
    "model.add(BatchNormalization())\n",
    "model.add(Activation('relu'))\n",
    "model.add(Dropout(0.2))\n",
    "model.add(Dense(10))\n",
    "model.add(Activation('softmax'))\n",
    "model.summary()"
   ]
  },
  {
   "cell_type": "markdown",
   "metadata": {},
   "source": [
    "### Step 3: Choose the Optimizer and the Cost function"
   ]
  },
  {
   "cell_type": "code",
   "execution_count": 26,
   "metadata": {},
   "outputs": [],
   "source": [
    "model.compile(loss='categorical_crossentropy', optimizer=Adam(), metrics=['accuracy'])"
   ]
  },
  {
   "cell_type": "markdown",
   "metadata": {},
   "source": [
    "### Step 4: Train the Model"
   ]
  },
  {
   "cell_type": "code",
   "execution_count": 27,
   "metadata": {},
   "outputs": [
    {
     "name": "stdout",
     "output_type": "stream",
     "text": [
      "Train on 48000 samples, validate on 12000 samples\n",
      "Epoch 1/30\n",
      "48000/48000 [==============================] - 9s 197us/step - loss: 0.4939 - acc: 0.8601 - val_loss: 0.1863 - val_acc: 0.9482\n",
      "Epoch 2/30\n",
      "48000/48000 [==============================] - 7s 152us/step - loss: 0.2208 - acc: 0.9343 - val_loss: 0.1250 - val_acc: 0.9630\n",
      "Epoch 3/30\n",
      "48000/48000 [==============================] - 8s 158us/step - loss: 0.1639 - acc: 0.9500 - val_loss: 0.1101 - val_acc: 0.9677\n",
      "Epoch 4/30\n",
      "48000/48000 [==============================] - 8s 168us/step - loss: 0.1395 - acc: 0.9581 - val_loss: 0.0960 - val_acc: 0.9706\n",
      "Epoch 5/30\n",
      "48000/48000 [==============================] - 8s 163us/step - loss: 0.1194 - acc: 0.9636 - val_loss: 0.0888 - val_acc: 0.9725\n",
      "Epoch 6/30\n",
      "48000/48000 [==============================] - 8s 164us/step - loss: 0.1074 - acc: 0.9665 - val_loss: 0.0841 - val_acc: 0.9741\n",
      "Epoch 7/30\n",
      "48000/48000 [==============================] - 8s 171us/step - loss: 0.0926 - acc: 0.9710 - val_loss: 0.0833 - val_acc: 0.9761\n",
      "Epoch 8/30\n",
      "48000/48000 [==============================] - 8s 160us/step - loss: 0.0850 - acc: 0.9730 - val_loss: 0.0840 - val_acc: 0.9757\n",
      "Epoch 9/30\n",
      "48000/48000 [==============================] - 7s 142us/step - loss: 0.0787 - acc: 0.9747 - val_loss: 0.0795 - val_acc: 0.9762\n",
      "Epoch 10/30\n",
      "48000/48000 [==============================] - 8s 164us/step - loss: 0.0765 - acc: 0.9764 - val_loss: 0.0809 - val_acc: 0.9758\n",
      "Epoch 11/30\n",
      "48000/48000 [==============================] - 8s 169us/step - loss: 0.0707 - acc: 0.9776 - val_loss: 0.0829 - val_acc: 0.9766\n",
      "Epoch 12/30\n",
      "48000/48000 [==============================] - 8s 172us/step - loss: 0.0693 - acc: 0.9779 - val_loss: 0.0788 - val_acc: 0.9782\n",
      "Epoch 13/30\n",
      "48000/48000 [==============================] - 8s 167us/step - loss: 0.0642 - acc: 0.9792 - val_loss: 0.0798 - val_acc: 0.9769\n",
      "Epoch 14/30\n",
      "48000/48000 [==============================] - 7s 151us/step - loss: 0.0602 - acc: 0.9804 - val_loss: 0.0779 - val_acc: 0.9772\n",
      "Epoch 15/30\n",
      "48000/48000 [==============================] - 6s 128us/step - loss: 0.0608 - acc: 0.9800 - val_loss: 0.0770 - val_acc: 0.9784\n",
      "Epoch 16/30\n",
      "48000/48000 [==============================] - 7s 138us/step - loss: 0.0564 - acc: 0.9820 - val_loss: 0.0832 - val_acc: 0.9749\n",
      "Epoch 17/30\n",
      "48000/48000 [==============================] - 6s 128us/step - loss: 0.0560 - acc: 0.9816 - val_loss: 0.0792 - val_acc: 0.9780\n",
      "Epoch 18/30\n",
      "48000/48000 [==============================] - 8s 165us/step - loss: 0.0522 - acc: 0.9832 - val_loss: 0.0889 - val_acc: 0.9762\n"
     ]
    },
    {
     "data": {
      "image/png": "[encoded data removed]",
      "text/plain": [
       "<matplotlib.figure.Figure at 0x206c559aa90>"
      ]
     },
     "metadata": {
      "needs_background": "light"
     },
     "output_type": "display_data"
    }
   ],
   "source": [
    "# Early stopping is basically stopping the training once your loss starts to increase.\n",
    "# 학습 조기 종료를 위해 더 이상 개선의 여지가 없을 때 학습을 종료시키는 콜백함수\n",
    "from keras.callbacks import EarlyStopping\n",
    "early_stop = EarlyStopping(patience=3)\n",
    "# patience : 개선이 없다고 바로 종료하지 않고 개선이 없는 에포크를 얼마나 기다려 \n",
    "#           줄 것인 가를 지정합니다. \n",
    "# 만약 10이라고 지정하면 개선이 없는 에포크가 10번째 지속될 경우 학습을 종료합니다.\n",
    "\n",
    "history = model.fit(X_train, Y_train, batch_size=128, epochs=30, verbose=1, \n",
    "                    validation_split=0.2, callbacks=[early_stop])\n",
    "\n",
    "plt.plot(history.history[\"loss\"], label=\"train loss\")\n",
    "plt.plot(history.history[\"val_loss\"], label=\"validation loss\")\n",
    "plt.legend()\n",
    "plt.title(\"Loss\")\n",
    "plt.show()"
   ]
  },
  {
   "cell_type": "markdown",
   "metadata": {},
   "source": [
    "### Step 5: Evaluate the Model performance"
   ]
  },
  {
   "cell_type": "code",
   "execution_count": 28,
   "metadata": {},
   "outputs": [
    {
     "name": "stdout",
     "output_type": "stream",
     "text": [
      "10000/10000 [==============================] - 1s 115us/step\n",
      "Test score: 0.08058826095165568\n",
      "Test accuracy: 0.9768\n"
     ]
    }
   ],
   "source": [
    "score = model.evaluate(X_test, Y_test, verbose=1)\n",
    "print(\"Test score:\", score[0])\n",
    "print('Test accuracy:', score[1])\n",
    "\n",
    "model.save('mnist_dnn_05.h5')"
   ]
  },
  {
   "cell_type": "markdown",
   "metadata": {},
   "source": [
    "<font color = \"#CC3D3D\"><br>\n",
    "## Case #6: Optimizing hyperparameters with Keras-scikit-wrapper"
   ]
  },
  {
   "cell_type": "markdown",
   "metadata": {},
   "source": [
    "##### 1) Define a function which constructs, compiles and returns a Keras model"
   ]
  },
  {
   "cell_type": "code",
   "execution_count": 29,
   "metadata": {},
   "outputs": [],
   "source": [
    "def dnn_model(optimizer=Adam(), dropout_rate=0.0):\n",
    "    # Define the model & its architecture    \n",
    "    model = Sequential()\n",
    "    model.add(Dense(128, input_shape=(RESHAPED,), activation='relu'))\n",
    "    model.add(Dropout(dropout_rate))\n",
    "    model.add(Dense(64, activation='relu'))\n",
    "    model.add(Dropout(dropout_rate))\n",
    "    model.add(Dense(10, activation='softmax'))\n",
    "    # Choose the optimizer and the cost function\n",
    "    model.compile(loss='categorical_crossentropy', optimizer=optimizer, metrics=['accuracy'])\n",
    "    # Return model           \n",
    "    return model"
   ]
  },
  {
   "cell_type": "markdown",
   "metadata": {},
   "source": [
    "##### 2) Instantiate `KerasClassifier` which implements the Scikit-Learn classifier interface"
   ]
  },
  {
   "cell_type": "code",
   "execution_count": 30,
   "metadata": {},
   "outputs": [],
   "source": [
    "from keras.wrappers.scikit_learn import KerasClassifier\n",
    "# call Keras scikit wrapper\n",
    "dnn = KerasClassifier(build_fn=dnn_model, epochs=1)"
   ]
  },
  {
   "cell_type": "markdown",
   "metadata": {},
   "source": [
    "##### 3) Apply scikit-learn's `RandomizedSearchCV` (or `GridSearchCV`)"
   ]
  },
  {
   "cell_type": "code",
   "execution_count": 31,
   "metadata": {},
   "outputs": [
    {
     "name": "stdout",
     "output_type": "stream",
     "text": [
      "Epoch 1/1\n",
      "40000/40000 [==============================] - 10s 242us/step - loss: 0.2959 - acc: 0.9129\n",
      "20000/20000 [==============================] - 2s 102us/step\n",
      "40000/40000 [==============================] - 3s 67us/step\n",
      "Epoch 1/1\n",
      "40000/40000 [==============================] - 8s 207us/step - loss: 0.2896 - acc: 0.9147\n",
      "20000/20000 [==============================] - 2s 90us/step\n",
      "40000/40000 [==============================] - 3s 68us/step\n",
      "Epoch 1/1\n",
      "40000/40000 [==============================] - 10s 240us/step - loss: 0.2885 - acc: 0.9160\n",
      "20000/20000 [==============================] - 2s 104us/step\n",
      "40000/40000 [==============================] - 3s 87us/step\n",
      "Epoch 1/1\n",
      "40000/40000 [==============================] - 7s 166us/step - loss: 0.3157 - acc: 0.9105 0s - loss: 0.336\n",
      "20000/20000 [==============================] - 2s 84us/step\n",
      "40000/40000 [==============================] - 2s 48us/step\n",
      "Epoch 1/1\n",
      "40000/40000 [==============================] - 6s 145us/step - loss: 0.3136 - acc: 0.9107\n",
      "20000/20000 [==============================] - 1s 74us/step\n",
      "40000/40000 [==============================] - 2s 49us/step\n",
      "Epoch 1/1\n",
      "40000/40000 [==============================] - 6s 149us/step - loss: 0.3132 - acc: 0.9098\n",
      "20000/20000 [==============================] - 1s 67us/step\n",
      "40000/40000 [==============================] - 2s 53us/step\n",
      "Epoch 1/1\n",
      "40000/40000 [==============================] - 5s 129us/step - loss: 0.8206 - acc: 0.7378\n",
      "20000/20000 [==============================] - 1s 63us/step\n",
      "40000/40000 [==============================] - 1s 36us/step\n",
      "Epoch 1/1\n",
      "40000/40000 [==============================] - 6s 140us/step - loss: 0.8187 - acc: 0.7380\n",
      "20000/20000 [==============================] - 1s 61us/step\n",
      "40000/40000 [==============================] - 2s 39us/step\n",
      "Epoch 1/1\n",
      "40000/40000 [==============================] - 5s 132us/step - loss: 0.8440 - acc: 0.7307\n",
      "20000/20000 [==============================] - 1s 73us/step\n",
      "40000/40000 [==============================] - 1s 30us/step\n",
      "Epoch 1/1\n",
      "40000/40000 [==============================] - 11s 267us/step - loss: 0.6727 - acc: 0.7936\n",
      "20000/20000 [==============================] - 2s 111us/step\n",
      "40000/40000 [==============================] - 4s 99us/step\n",
      "Epoch 1/1\n",
      "40000/40000 [==============================] - 15s 382us/step - loss: 0.6633 - acc: 0.7961\n",
      "20000/20000 [==============================] - 2s 122us/step\n",
      "40000/40000 [==============================] - 4s 95us/step\n",
      "Epoch 1/1\n",
      "40000/40000 [==============================] - 14s 353us/step - loss: 0.6887 - acc: 0.7868\n",
      "20000/20000 [==============================] - 2s 114us/step\n",
      "40000/40000 [==============================] - 4s 98us/step\n",
      "Epoch 1/1\n",
      "40000/40000 [==============================] - 7s 181us/step - loss: 0.8839 - acc: 0.7170\n",
      "20000/20000 [==============================] - 2s 87us/step\n",
      "40000/40000 [==============================] - 2s 42us/step\n",
      "Epoch 1/1\n",
      "40000/40000 [==============================] - 6s 157us/step - loss: 0.8711 - acc: 0.7216\n",
      "20000/20000 [==============================] - 2s 77us/step\n",
      "40000/40000 [==============================] - 2s 39us/step\n",
      "Epoch 1/1\n",
      "40000/40000 [==============================] - 7s 183us/step - loss: 0.8895 - acc: 0.7154\n",
      "20000/20000 [==============================] - 1s 69us/step\n",
      "40000/40000 [==============================] - 2s 42us/step\n",
      "Epoch 1/1\n",
      "60000/60000 [==============================] - 22s 361us/step - loss: 0.2389 - acc: 0.9301\n",
      "10000/10000 [==============================] - 2s 192us/step\n",
      "0.9626\n",
      "Best: 0.949683 using {'optimizer': 'adam', 'dropout_rate': 0.0, 'batch_size': 32}\n",
      "0.949683 (0.002546) with: {'optimizer': 'adam', 'dropout_rate': 0.0, 'batch_size': 32}\n",
      "0.945750 (0.000735) with: {'optimizer': 'rmsprop', 'dropout_rate': 0.0, 'batch_size': 64}\n",
      "0.915967 (0.002307) with: {'optimizer': 'rmsprop', 'dropout_rate': 0.5, 'batch_size': 128}\n",
      "0.926900 (0.002815) with: {'optimizer': 'rmsprop', 'dropout_rate': 0.5, 'batch_size': 32}\n",
      "0.914300 (0.003679) with: {'optimizer': 'adam', 'dropout_rate': 0.5, 'batch_size': 128}\n"
     ]
    }
   ],
   "source": [
    "from sklearn.model_selection import RandomizedSearchCV\n",
    "\n",
    "# Specify parameters and distributions to sample from\n",
    "param_dist = {\n",
    "    'dropout_rate': [0.0, 0.2, 0.5], \n",
    "    'optimizer': ['rmsprop', 'adam'], \n",
    "    'batch_size': [32, 64, 128]\n",
    "}\n",
    "\n",
    "# Run randomized search\n",
    "n_iter_search = 5\n",
    "random_search = RandomizedSearchCV(dnn, param_distributions=param_dist, n_iter=n_iter_search, cv=3)\n",
    "random_search.fit(X_train, y_train)\n",
    "print(random_search.score(X_test, y_test))\n",
    "\n",
    "# Summarize results\n",
    "print(\"Best: %f using %s\" % (random_search.best_score_, random_search.best_params_))\n",
    "means = random_search.cv_results_['mean_test_score']\n",
    "stds = random_search.cv_results_['std_test_score']\n",
    "params = random_search.cv_results_['params']\n",
    "for mean, stdev, param in zip(means, stds, params):\n",
    "    print(\"%f (%f) with: %s\" % (mean, stdev, param))"
   ]
  },
  {
   "cell_type": "markdown",
   "metadata": {},
   "source": [
    "## End"
   ]
  }
 ],
 "metadata": {
  "colab": {
   "collapsed_sections": [],
   "default_view": {},
   "name": "code_DNN_01.ipynb",
   "provenance": [],
   "version": "0.3.2",
   "views": {}
  },
  "kernelspec": {
   "display_name": "Python 3",
   "language": "python",
   "name": "python3"
  },
  "language_info": {
   "codemirror_mode": {
    "name": "ipython",
    "version": 3
   },
   "file_extension": ".py",
   "mimetype": "text/x-python",
   "name": "python",
   "nbconvert_exporter": "python",
   "pygments_lexer": "ipython3",
   "version": "3.7.3"
  }
 },
 "nbformat": 4,
 "nbformat_minor": 1
}
