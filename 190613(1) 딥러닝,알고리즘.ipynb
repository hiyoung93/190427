{
 "cells": [
  {
   "cell_type": "code",
   "execution_count": 2,
   "metadata": {},
   "outputs": [],
   "source": [
    "import pandas as pd\n",
    "from pandas import Series, DataFrame\n",
    "import numpy as np\n",
    "import matplotlib.pyplot as plt\n",
    "%matplotlib inline"
   ]
  },
  {
   "cell_type": "code",
   "execution_count": 3,
   "metadata": {},
   "outputs": [],
   "source": [
    "new = pd.read_csv(\"data_pepNewCustomers.csv\")"
   ]
  },
  {
   "cell_type": "code",
   "execution_count": 4,
   "metadata": {},
   "outputs": [],
   "source": [
    "df = pd.read_csv(\"data_pepTestCustomers.csv\")"
   ]
  },
  {
   "cell_type": "code",
   "execution_count": 37,
   "metadata": {},
   "outputs": [
    {
     "name": "stdout",
     "output_type": "stream",
     "text": [
      "<class 'pandas.core.frame.DataFrame'>\n",
      "RangeIndex: 600 entries, 0 to 599\n",
      "Data columns (total 12 columns):\n",
      "id             600 non-null object\n",
      "age            540 non-null float64\n",
      "sex            600 non-null int64\n",
      "region         600 non-null int64\n",
      "income         600 non-null float64\n",
      "married        600 non-null int64\n",
      "children       600 non-null int64\n",
      "car            600 non-null int64\n",
      "save_act       600 non-null int64\n",
      "current_act    600 non-null int64\n",
      "mortgage       600 non-null int64\n",
      "pep            600 non-null int64\n",
      "dtypes: float64(2), int64(9), object(1)\n",
      "memory usage: 56.3+ KB\n"
     ]
    }
   ],
   "source": [
    "df.info()"
   ]
  },
  {
   "cell_type": "code",
   "execution_count": 38,
   "metadata": {},
   "outputs": [
    {
     "data": {
      "text/html": [
       "<div>\n",
       "<style scoped>\n",
       "    .dataframe tbody tr th:only-of-type {\n",
       "        vertical-align: middle;\n",
       "    }\n",
       "\n",
       "    .dataframe tbody tr th {\n",
       "        vertical-align: top;\n",
       "    }\n",
       "\n",
       "    .dataframe thead th {\n",
       "        text-align: right;\n",
       "    }\n",
       "</style>\n",
       "<table border=\"1\" class=\"dataframe\">\n",
       "  <thead>\n",
       "    <tr style=\"text-align: right;\">\n",
       "      <th></th>\n",
       "      <th>age</th>\n",
       "      <th>sex</th>\n",
       "      <th>region</th>\n",
       "      <th>income</th>\n",
       "      <th>married</th>\n",
       "      <th>children</th>\n",
       "      <th>car</th>\n",
       "      <th>save_act</th>\n",
       "      <th>current_act</th>\n",
       "      <th>mortgage</th>\n",
       "      <th>pep</th>\n",
       "    </tr>\n",
       "  </thead>\n",
       "  <tbody>\n",
       "    <tr>\n",
       "      <th>count</th>\n",
       "      <td>540.000000</td>\n",
       "      <td>600.000000</td>\n",
       "      <td>600.000000</td>\n",
       "      <td>600.000000</td>\n",
       "      <td>600.000000</td>\n",
       "      <td>600.000000</td>\n",
       "      <td>600.000000</td>\n",
       "      <td>600.000000</td>\n",
       "      <td>600.000000</td>\n",
       "      <td>600.000000</td>\n",
       "      <td>600.000000</td>\n",
       "    </tr>\n",
       "    <tr>\n",
       "      <th>mean</th>\n",
       "      <td>42.662963</td>\n",
       "      <td>0.500000</td>\n",
       "      <td>1.231667</td>\n",
       "      <td>27619.973883</td>\n",
       "      <td>0.660000</td>\n",
       "      <td>1.011667</td>\n",
       "      <td>0.493333</td>\n",
       "      <td>0.690000</td>\n",
       "      <td>0.758333</td>\n",
       "      <td>0.348333</td>\n",
       "      <td>0.456667</td>\n",
       "    </tr>\n",
       "    <tr>\n",
       "      <th>std</th>\n",
       "      <td>14.299387</td>\n",
       "      <td>0.500417</td>\n",
       "      <td>1.286113</td>\n",
       "      <td>13187.408966</td>\n",
       "      <td>0.474104</td>\n",
       "      <td>1.056752</td>\n",
       "      <td>0.500373</td>\n",
       "      <td>0.462879</td>\n",
       "      <td>0.428451</td>\n",
       "      <td>0.476840</td>\n",
       "      <td>0.498534</td>\n",
       "    </tr>\n",
       "    <tr>\n",
       "      <th>min</th>\n",
       "      <td>18.000000</td>\n",
       "      <td>0.000000</td>\n",
       "      <td>0.000000</td>\n",
       "      <td>5014.210000</td>\n",
       "      <td>0.000000</td>\n",
       "      <td>0.000000</td>\n",
       "      <td>0.000000</td>\n",
       "      <td>0.000000</td>\n",
       "      <td>0.000000</td>\n",
       "      <td>0.000000</td>\n",
       "      <td>0.000000</td>\n",
       "    </tr>\n",
       "    <tr>\n",
       "      <th>25%</th>\n",
       "      <td>31.000000</td>\n",
       "      <td>0.000000</td>\n",
       "      <td>0.000000</td>\n",
       "      <td>17264.500000</td>\n",
       "      <td>0.000000</td>\n",
       "      <td>0.000000</td>\n",
       "      <td>0.000000</td>\n",
       "      <td>0.000000</td>\n",
       "      <td>1.000000</td>\n",
       "      <td>0.000000</td>\n",
       "      <td>0.000000</td>\n",
       "    </tr>\n",
       "    <tr>\n",
       "      <th>50%</th>\n",
       "      <td>42.500000</td>\n",
       "      <td>0.500000</td>\n",
       "      <td>1.000000</td>\n",
       "      <td>24925.300000</td>\n",
       "      <td>1.000000</td>\n",
       "      <td>1.000000</td>\n",
       "      <td>0.000000</td>\n",
       "      <td>1.000000</td>\n",
       "      <td>1.000000</td>\n",
       "      <td>0.000000</td>\n",
       "      <td>0.000000</td>\n",
       "    </tr>\n",
       "    <tr>\n",
       "      <th>75%</th>\n",
       "      <td>56.000000</td>\n",
       "      <td>1.000000</td>\n",
       "      <td>3.000000</td>\n",
       "      <td>36172.675000</td>\n",
       "      <td>1.000000</td>\n",
       "      <td>2.000000</td>\n",
       "      <td>1.000000</td>\n",
       "      <td>1.000000</td>\n",
       "      <td>1.000000</td>\n",
       "      <td>1.000000</td>\n",
       "      <td>1.000000</td>\n",
       "    </tr>\n",
       "    <tr>\n",
       "      <th>max</th>\n",
       "      <td>67.000000</td>\n",
       "      <td>1.000000</td>\n",
       "      <td>3.000000</td>\n",
       "      <td>95435.200000</td>\n",
       "      <td>1.000000</td>\n",
       "      <td>3.000000</td>\n",
       "      <td>1.000000</td>\n",
       "      <td>1.000000</td>\n",
       "      <td>1.000000</td>\n",
       "      <td>1.000000</td>\n",
       "      <td>1.000000</td>\n",
       "    </tr>\n",
       "  </tbody>\n",
       "</table>\n",
       "</div>"
      ],
      "text/plain": [
       "              age         sex      region        income     married  \\\n",
       "count  540.000000  600.000000  600.000000    600.000000  600.000000   \n",
       "mean    42.662963    0.500000    1.231667  27619.973883    0.660000   \n",
       "std     14.299387    0.500417    1.286113  13187.408966    0.474104   \n",
       "min     18.000000    0.000000    0.000000   5014.210000    0.000000   \n",
       "25%     31.000000    0.000000    0.000000  17264.500000    0.000000   \n",
       "50%     42.500000    0.500000    1.000000  24925.300000    1.000000   \n",
       "75%     56.000000    1.000000    3.000000  36172.675000    1.000000   \n",
       "max     67.000000    1.000000    3.000000  95435.200000    1.000000   \n",
       "\n",
       "         children         car    save_act  current_act    mortgage         pep  \n",
       "count  600.000000  600.000000  600.000000   600.000000  600.000000  600.000000  \n",
       "mean     1.011667    0.493333    0.690000     0.758333    0.348333    0.456667  \n",
       "std      1.056752    0.500373    0.462879     0.428451    0.476840    0.498534  \n",
       "min      0.000000    0.000000    0.000000     0.000000    0.000000    0.000000  \n",
       "25%      0.000000    0.000000    0.000000     1.000000    0.000000    0.000000  \n",
       "50%      1.000000    0.000000    1.000000     1.000000    0.000000    0.000000  \n",
       "75%      2.000000    1.000000    1.000000     1.000000    1.000000    1.000000  \n",
       "max      3.000000    1.000000    1.000000     1.000000    1.000000    1.000000  "
      ]
     },
     "execution_count": 38,
     "metadata": {},
     "output_type": "execute_result"
    }
   ],
   "source": [
    "df.describe()"
   ]
  },
  {
   "cell_type": "code",
   "execution_count": 39,
   "metadata": {},
   "outputs": [
    {
     "data": {
      "text/plain": [
       "array([[<matplotlib.axes._subplots.AxesSubplot object at 0x000000000D39FBA8>,\n",
       "        <matplotlib.axes._subplots.AxesSubplot object at 0x000000000D3D1630>,\n",
       "        <matplotlib.axes._subplots.AxesSubplot object at 0x000000000D125978>],\n",
       "       [<matplotlib.axes._subplots.AxesSubplot object at 0x000000000D151EF0>,\n",
       "        <matplotlib.axes._subplots.AxesSubplot object at 0x000000000D17E4A8>,\n",
       "        <matplotlib.axes._subplots.AxesSubplot object at 0x000000000D1A6908>],\n",
       "       [<matplotlib.axes._subplots.AxesSubplot object at 0x000000000D1CFE80>,\n",
       "        <matplotlib.axes._subplots.AxesSubplot object at 0x000000000D1FE470>,\n",
       "        <matplotlib.axes._subplots.AxesSubplot object at 0x000000000D1FE4A8>],\n",
       "       [<matplotlib.axes._subplots.AxesSubplot object at 0x000000000D24CF28>,\n",
       "        <matplotlib.axes._subplots.AxesSubplot object at 0x000000000D27F4E0>,\n",
       "        <matplotlib.axes._subplots.AxesSubplot object at 0x000000000D2A5A58>]],\n",
       "      dtype=object)"
      ]
     },
     "execution_count": 39,
     "metadata": {},
     "output_type": "execute_result"
    },
    {
     "data": {
      "image/png": "[encoded data removed]",
      "text/plain": [
       "<Figure size 1440x1080 with 12 Axes>"
      ]
     },
     "metadata": {
      "needs_background": "light"
     },
     "output_type": "display_data"
    }
   ],
   "source": [
    "df.hist(bins=30, figsize=(20,15))"
   ]
  },
  {
   "cell_type": "code",
   "execution_count": 40,
   "metadata": {},
   "outputs": [
    {
     "data": {
      "text/plain": [
       "(600, 12)"
      ]
     },
     "metadata": {},
     "output_type": "display_data"
    },
    {
     "data": {
      "text/plain": [
       "(200, 11)"
      ]
     },
     "metadata": {},
     "output_type": "display_data"
    }
   ],
   "source": [
    "display(df.shape) \n",
    "display(new.shape)"
   ]
  },
  {
   "cell_type": "code",
   "execution_count": 41,
   "metadata": {},
   "outputs": [
    {
     "data": {
      "text/plain": [
       "(200, 11)"
      ]
     },
     "execution_count": 41,
     "metadata": {},
     "output_type": "execute_result"
    }
   ],
   "source": [
    "df.shape\n",
    "new.shape"
   ]
  },
  {
   "cell_type": "code",
   "execution_count": 42,
   "metadata": {},
   "outputs": [
    {
     "data": {
      "text/html": [
       "<div>\n",
       "<style scoped>\n",
       "    .dataframe tbody tr th:only-of-type {\n",
       "        vertical-align: middle;\n",
       "    }\n",
       "\n",
       "    .dataframe tbody tr th {\n",
       "        vertical-align: top;\n",
       "    }\n",
       "\n",
       "    .dataframe thead th {\n",
       "        text-align: right;\n",
       "    }\n",
       "</style>\n",
       "<table border=\"1\" class=\"dataframe\">\n",
       "  <thead>\n",
       "    <tr style=\"text-align: right;\">\n",
       "      <th></th>\n",
       "      <th>age</th>\n",
       "      <th>sex</th>\n",
       "      <th>region</th>\n",
       "      <th>income</th>\n",
       "      <th>married</th>\n",
       "      <th>children</th>\n",
       "      <th>car</th>\n",
       "      <th>save_act</th>\n",
       "      <th>current_act</th>\n",
       "      <th>mortgage</th>\n",
       "      <th>pep</th>\n",
       "    </tr>\n",
       "  </thead>\n",
       "  <tbody>\n",
       "    <tr>\n",
       "      <th>age</th>\n",
       "      <td>1.000000</td>\n",
       "      <td>-0.127984</td>\n",
       "      <td>0.025891</td>\n",
       "      <td>0.743619</td>\n",
       "      <td>0.017157</td>\n",
       "      <td>0.023944</td>\n",
       "      <td>0.068454</td>\n",
       "      <td>0.171417</td>\n",
       "      <td>-0.035449</td>\n",
       "      <td>-0.030696</td>\n",
       "      <td>0.193604</td>\n",
       "    </tr>\n",
       "    <tr>\n",
       "      <th>sex</th>\n",
       "      <td>-0.127984</td>\n",
       "      <td>1.000000</td>\n",
       "      <td>-0.035018</td>\n",
       "      <td>-0.030606</td>\n",
       "      <td>0.021110</td>\n",
       "      <td>-0.014206</td>\n",
       "      <td>0.006667</td>\n",
       "      <td>0.007207</td>\n",
       "      <td>-0.019466</td>\n",
       "      <td>0.066465</td>\n",
       "      <td>0.046843</td>\n",
       "    </tr>\n",
       "    <tr>\n",
       "      <th>region</th>\n",
       "      <td>0.025891</td>\n",
       "      <td>-0.035018</td>\n",
       "      <td>1.000000</td>\n",
       "      <td>0.009813</td>\n",
       "      <td>0.006188</td>\n",
       "      <td>0.011520</td>\n",
       "      <td>0.021860</td>\n",
       "      <td>0.084382</td>\n",
       "      <td>-0.013356</td>\n",
       "      <td>0.026083</td>\n",
       "      <td>-0.027279</td>\n",
       "    </tr>\n",
       "    <tr>\n",
       "      <th>income</th>\n",
       "      <td>0.743619</td>\n",
       "      <td>-0.030606</td>\n",
       "      <td>0.009813</td>\n",
       "      <td>1.000000</td>\n",
       "      <td>-0.002977</td>\n",
       "      <td>0.042774</td>\n",
       "      <td>0.072590</td>\n",
       "      <td>0.265233</td>\n",
       "      <td>0.035036</td>\n",
       "      <td>-0.019666</td>\n",
       "      <td>0.225086</td>\n",
       "    </tr>\n",
       "    <tr>\n",
       "      <th>married</th>\n",
       "      <td>0.017157</td>\n",
       "      <td>0.021110</td>\n",
       "      <td>0.006188</td>\n",
       "      <td>-0.002977</td>\n",
       "      <td>1.000000</td>\n",
       "      <td>-0.048716</td>\n",
       "      <td>-0.009571</td>\n",
       "      <td>0.028604</td>\n",
       "      <td>-0.059996</td>\n",
       "      <td>-0.021711</td>\n",
       "      <td>-0.189578</td>\n",
       "    </tr>\n",
       "    <tr>\n",
       "      <th>children</th>\n",
       "      <td>0.023944</td>\n",
       "      <td>-0.014206</td>\n",
       "      <td>0.011520</td>\n",
       "      <td>0.042774</td>\n",
       "      <td>-0.048716</td>\n",
       "      <td>1.000000</td>\n",
       "      <td>0.036455</td>\n",
       "      <td>0.041536</td>\n",
       "      <td>0.006238</td>\n",
       "      <td>-0.074339</td>\n",
       "      <td>-0.057663</td>\n",
       "    </tr>\n",
       "    <tr>\n",
       "      <th>car</th>\n",
       "      <td>0.068454</td>\n",
       "      <td>0.006667</td>\n",
       "      <td>0.021860</td>\n",
       "      <td>0.072590</td>\n",
       "      <td>-0.009571</td>\n",
       "      <td>0.036455</td>\n",
       "      <td>1.000000</td>\n",
       "      <td>0.034310</td>\n",
       "      <td>-0.034783</td>\n",
       "      <td>-0.007743</td>\n",
       "      <td>0.018917</td>\n",
       "    </tr>\n",
       "    <tr>\n",
       "      <th>save_act</th>\n",
       "      <td>0.171417</td>\n",
       "      <td>0.007207</td>\n",
       "      <td>0.084382</td>\n",
       "      <td>0.265233</td>\n",
       "      <td>0.028604</td>\n",
       "      <td>0.041536</td>\n",
       "      <td>0.034310</td>\n",
       "      <td>1.000000</td>\n",
       "      <td>0.042511</td>\n",
       "      <td>-0.001588</td>\n",
       "      <td>-0.072779</td>\n",
       "    </tr>\n",
       "    <tr>\n",
       "      <th>current_act</th>\n",
       "      <td>-0.035449</td>\n",
       "      <td>-0.019466</td>\n",
       "      <td>-0.013356</td>\n",
       "      <td>0.035036</td>\n",
       "      <td>-0.059996</td>\n",
       "      <td>0.006238</td>\n",
       "      <td>-0.034783</td>\n",
       "      <td>0.042511</td>\n",
       "      <td>1.000000</td>\n",
       "      <td>-0.036704</td>\n",
       "      <td>0.025141</td>\n",
       "    </tr>\n",
       "    <tr>\n",
       "      <th>mortgage</th>\n",
       "      <td>-0.030696</td>\n",
       "      <td>0.066465</td>\n",
       "      <td>0.026083</td>\n",
       "      <td>-0.019666</td>\n",
       "      <td>-0.021711</td>\n",
       "      <td>-0.074339</td>\n",
       "      <td>-0.007743</td>\n",
       "      <td>-0.001588</td>\n",
       "      <td>-0.036704</td>\n",
       "      <td>1.000000</td>\n",
       "      <td>-0.024182</td>\n",
       "    </tr>\n",
       "    <tr>\n",
       "      <th>pep</th>\n",
       "      <td>0.193604</td>\n",
       "      <td>0.046843</td>\n",
       "      <td>-0.027279</td>\n",
       "      <td>0.225086</td>\n",
       "      <td>-0.189578</td>\n",
       "      <td>-0.057663</td>\n",
       "      <td>0.018917</td>\n",
       "      <td>-0.072779</td>\n",
       "      <td>0.025141</td>\n",
       "      <td>-0.024182</td>\n",
       "      <td>1.000000</td>\n",
       "    </tr>\n",
       "  </tbody>\n",
       "</table>\n",
       "</div>"
      ],
      "text/plain": [
       "                  age       sex    region    income   married  children  \\\n",
       "age          1.000000 -0.127984  0.025891  0.743619  0.017157  0.023944   \n",
       "sex         -0.127984  1.000000 -0.035018 -0.030606  0.021110 -0.014206   \n",
       "region       0.025891 -0.035018  1.000000  0.009813  0.006188  0.011520   \n",
       "income       0.743619 -0.030606  0.009813  1.000000 -0.002977  0.042774   \n",
       "married      0.017157  0.021110  0.006188 -0.002977  1.000000 -0.048716   \n",
       "children     0.023944 -0.014206  0.011520  0.042774 -0.048716  1.000000   \n",
       "car          0.068454  0.006667  0.021860  0.072590 -0.009571  0.036455   \n",
       "save_act     0.171417  0.007207  0.084382  0.265233  0.028604  0.041536   \n",
       "current_act -0.035449 -0.019466 -0.013356  0.035036 -0.059996  0.006238   \n",
       "mortgage    -0.030696  0.066465  0.026083 -0.019666 -0.021711 -0.074339   \n",
       "pep          0.193604  0.046843 -0.027279  0.225086 -0.189578 -0.057663   \n",
       "\n",
       "                  car  save_act  current_act  mortgage       pep  \n",
       "age          0.068454  0.171417    -0.035449 -0.030696  0.193604  \n",
       "sex          0.006667  0.007207    -0.019466  0.066465  0.046843  \n",
       "region       0.021860  0.084382    -0.013356  0.026083 -0.027279  \n",
       "income       0.072590  0.265233     0.035036 -0.019666  0.225086  \n",
       "married     -0.009571  0.028604    -0.059996 -0.021711 -0.189578  \n",
       "children     0.036455  0.041536     0.006238 -0.074339 -0.057663  \n",
       "car          1.000000  0.034310    -0.034783 -0.007743  0.018917  \n",
       "save_act     0.034310  1.000000     0.042511 -0.001588 -0.072779  \n",
       "current_act -0.034783  0.042511     1.000000 -0.036704  0.025141  \n",
       "mortgage    -0.007743 -0.001588    -0.036704  1.000000 -0.024182  \n",
       "pep          0.018917 -0.072779     0.025141 -0.024182  1.000000  "
      ]
     },
     "execution_count": 42,
     "metadata": {},
     "output_type": "execute_result"
    }
   ],
   "source": [
    "corr = df.corr()\n",
    "corr"
   ]
  },
  {
   "cell_type": "code",
   "execution_count": 43,
   "metadata": {},
   "outputs": [
    {
     "data": {
      "text/plain": [
       "<matplotlib.image.AxesImage at 0xd526898>"
      ]
     },
     "execution_count": 43,
     "metadata": {},
     "output_type": "execute_result"
    },
    {
     "data": {
      "image/png": "[encoded data removed]",
      "text/plain": [
       "<Figure size 288x288 with 1 Axes>"
      ]
     },
     "metadata": {
      "needs_background": "light"
     },
     "output_type": "display_data"
    }
   ],
   "source": [
    "\n",
    "plt.matshow(corr)"
   ]
  },
  {
   "cell_type": "code",
   "execution_count": 44,
   "metadata": {},
   "outputs": [
    {
     "data": {
      "text/plain": [
       "pep            1.000000\n",
       "income         0.225086\n",
       "age            0.193604\n",
       "sex            0.046843\n",
       "current_act    0.025141\n",
       "car            0.018917\n",
       "mortgage      -0.024182\n",
       "region        -0.027279\n",
       "children      -0.057663\n",
       "save_act      -0.072779\n",
       "married       -0.189578\n",
       "Name: pep, dtype: float64"
      ]
     },
     "execution_count": 44,
     "metadata": {},
     "output_type": "execute_result"
    }
   ],
   "source": [
    "\n",
    "corr.pep.sort_values(ascending=False)"
   ]
  },
  {
   "cell_type": "code",
   "execution_count": 45,
   "metadata": {},
   "outputs": [
    {
     "name": "stdout",
     "output_type": "stream",
     "text": [
      "<class 'pandas.core.frame.DataFrame'>\n",
      "RangeIndex: 600 entries, 0 to 599\n",
      "Data columns (total 12 columns):\n",
      "id             600 non-null object\n",
      "age            540 non-null float64\n",
      "sex            600 non-null int64\n",
      "region         600 non-null int64\n",
      "income         600 non-null float64\n",
      "married        600 non-null int64\n",
      "children       600 non-null int64\n",
      "car            600 non-null int64\n",
      "save_act       600 non-null int64\n",
      "current_act    600 non-null int64\n",
      "mortgage       600 non-null int64\n",
      "pep            600 non-null int64\n",
      "dtypes: float64(2), int64(9), object(1)\n",
      "memory usage: 56.3+ KB\n"
     ]
    }
   ],
   "source": [
    "\n",
    "df.info()"
   ]
  },
  {
   "cell_type": "code",
   "execution_count": 46,
   "metadata": {},
   "outputs": [
    {
     "data": {
      "text/plain": [
       "id              0\n",
       "age            60\n",
       "sex             0\n",
       "region          0\n",
       "income          0\n",
       "married         0\n",
       "children        0\n",
       "car             0\n",
       "save_act        0\n",
       "current_act     0\n",
       "mortgage        0\n",
       "pep             0\n",
       "dtype: int64"
      ]
     },
     "execution_count": 46,
     "metadata": {},
     "output_type": "execute_result"
    }
   ],
   "source": [
    "\n",
    "df.isnull().sum()"
   ]
  },
  {
   "cell_type": "code",
   "execution_count": 15,
   "metadata": {},
   "outputs": [
    {
     "data": {
      "text/plain": [
       "age       AxesSubplot(0.125,0.536818;0.775x0.343182)\n",
       "income       AxesSubplot(0.125,0.125;0.775x0.343182)\n",
       "dtype: object"
      ]
     },
     "execution_count": 15,
     "metadata": {},
     "output_type": "execute_result"
    },
    {
     "data": {
      "image/png": "[encoded data removed]",
      "text/plain": [
       "<Figure size 360x360 with 2 Axes>"
      ]
     },
     "metadata": {
      "needs_background": "light"
     },
     "output_type": "display_data"
    }
   ],
   "source": [
    "\n",
    "df.loc[:,['age','income']].plot.box(subplots=True, layout=(2,1), figsize=(5,5))"
   ]
  },
  {
   "cell_type": "code",
   "execution_count": 47,
   "metadata": {},
   "outputs": [],
   "source": [
    "mdf = df.copy()"
   ]
  },
  {
   "cell_type": "code",
   "execution_count": 48,
   "metadata": {},
   "outputs": [
    {
     "name": "stdout",
     "output_type": "stream",
     "text": [
      "<class 'pandas.core.frame.DataFrame'>\n",
      "RangeIndex: 600 entries, 0 to 599\n",
      "Data columns (total 12 columns):\n",
      "id             600 non-null object\n",
      "age            540 non-null float64\n",
      "sex            600 non-null int64\n",
      "region         600 non-null int64\n",
      "income         600 non-null float64\n",
      "married        600 non-null int64\n",
      "children       600 non-null int64\n",
      "car            600 non-null int64\n",
      "save_act       600 non-null int64\n",
      "current_act    600 non-null int64\n",
      "mortgage       600 non-null int64\n",
      "pep            600 non-null int64\n",
      "dtypes: float64(2), int64(9), object(1)\n",
      "memory usage: 56.3+ KB\n"
     ]
    }
   ],
   "source": [
    "mdf.info()"
   ]
  },
  {
   "cell_type": "code",
   "execution_count": 49,
   "metadata": {},
   "outputs": [
    {
     "data": {
      "text/plain": [
       "42.662962962962965"
      ]
     },
     "metadata": {},
     "output_type": "display_data"
    },
    {
     "data": {
      "text/plain": [
       "40.0    19\n",
       "64.0    18\n",
       "58.0    17\n",
       "27.0    17\n",
       "43.0    17\n",
       "Name: age, dtype: int64"
      ]
     },
     "metadata": {},
     "output_type": "display_data"
    }
   ],
   "source": [
    "display(mdf.age.mean())\n",
    "display(mdf.age.value_counts().head())"
   ]
  },
  {
   "cell_type": "code",
   "execution_count": 50,
   "metadata": {},
   "outputs": [
    {
     "name": "stdout",
     "output_type": "stream",
     "text": [
      "<class 'pandas.core.frame.DataFrame'>\n",
      "RangeIndex: 600 entries, 0 to 599\n",
      "Data columns (total 12 columns):\n",
      "id             600 non-null object\n",
      "age            600 non-null float64\n",
      "sex            600 non-null int64\n",
      "region         600 non-null int64\n",
      "income         600 non-null float64\n",
      "married        600 non-null int64\n",
      "children       600 non-null int64\n",
      "car            600 non-null int64\n",
      "save_act       600 non-null int64\n",
      "current_act    600 non-null int64\n",
      "mortgage       600 non-null int64\n",
      "pep            600 non-null int64\n",
      "dtypes: float64(2), int64(9), object(1)\n",
      "memory usage: 56.3+ KB\n"
     ]
    }
   ],
   "source": [
    "mdf.age.fillna(round(mdf.age.mean(),0), inplace=True)\n",
    "mdf.info()"
   ]
  },
  {
   "cell_type": "code",
   "execution_count": 51,
   "metadata": {},
   "outputs": [
    {
     "data": {
      "text/html": [
       "<div>\n",
       "<style scoped>\n",
       "    .dataframe tbody tr th:only-of-type {\n",
       "        vertical-align: middle;\n",
       "    }\n",
       "\n",
       "    .dataframe tbody tr th {\n",
       "        vertical-align: top;\n",
       "    }\n",
       "\n",
       "    .dataframe thead th {\n",
       "        text-align: right;\n",
       "    }\n",
       "</style>\n",
       "<table border=\"1\" class=\"dataframe\">\n",
       "  <thead>\n",
       "    <tr style=\"text-align: right;\">\n",
       "      <th></th>\n",
       "      <th>id</th>\n",
       "      <th>age</th>\n",
       "      <th>sex</th>\n",
       "      <th>income</th>\n",
       "      <th>married</th>\n",
       "      <th>save_act</th>\n",
       "      <th>pep</th>\n",
       "    </tr>\n",
       "  </thead>\n",
       "  <tbody>\n",
       "    <tr>\n",
       "      <th>0</th>\n",
       "      <td>ID12101</td>\n",
       "      <td>48.0</td>\n",
       "      <td>0</td>\n",
       "      <td>17546.0</td>\n",
       "      <td>0</td>\n",
       "      <td>0</td>\n",
       "      <td>1</td>\n",
       "    </tr>\n",
       "    <tr>\n",
       "      <th>1</th>\n",
       "      <td>ID12102</td>\n",
       "      <td>40.0</td>\n",
       "      <td>1</td>\n",
       "      <td>30085.1</td>\n",
       "      <td>1</td>\n",
       "      <td>0</td>\n",
       "      <td>0</td>\n",
       "    </tr>\n",
       "    <tr>\n",
       "      <th>2</th>\n",
       "      <td>ID12103</td>\n",
       "      <td>43.0</td>\n",
       "      <td>0</td>\n",
       "      <td>16575.4</td>\n",
       "      <td>1</td>\n",
       "      <td>1</td>\n",
       "      <td>0</td>\n",
       "    </tr>\n",
       "    <tr>\n",
       "      <th>3</th>\n",
       "      <td>ID12104</td>\n",
       "      <td>23.0</td>\n",
       "      <td>0</td>\n",
       "      <td>20375.4</td>\n",
       "      <td>1</td>\n",
       "      <td>0</td>\n",
       "      <td>0</td>\n",
       "    </tr>\n",
       "    <tr>\n",
       "      <th>4</th>\n",
       "      <td>ID12105</td>\n",
       "      <td>57.0</td>\n",
       "      <td>0</td>\n",
       "      <td>50576.3</td>\n",
       "      <td>1</td>\n",
       "      <td>1</td>\n",
       "      <td>0</td>\n",
       "    </tr>\n",
       "  </tbody>\n",
       "</table>\n",
       "</div>"
      ],
      "text/plain": [
       "        id   age  sex   income  married  save_act  pep\n",
       "0  ID12101  48.0    0  17546.0        0         0    1\n",
       "1  ID12102  40.0    1  30085.1        1         0    0\n",
       "2  ID12103  43.0    0  16575.4        1         1    0\n",
       "3  ID12104  23.0    0  20375.4        1         0    0\n",
       "4  ID12105  57.0    0  50576.3        1         1    0"
      ]
     },
     "execution_count": 51,
     "metadata": {},
     "output_type": "execute_result"
    }
   ],
   "source": [
    "columns = ['children', 'current_act', 'car', 'mortgage', 'region']\n",
    "mdf = mdf.drop(columns, axis=1)\n",
    "mdf.head()"
   ]
  },
  {
   "cell_type": "code",
   "execution_count": 52,
   "metadata": {},
   "outputs": [],
   "source": [
    "from sklearn.model_selection import train_test_split "
   ]
  },
  {
   "cell_type": "code",
   "execution_count": 53,
   "metadata": {},
   "outputs": [],
   "source": [
    "dfX = mdf.drop(['id','pep'], axis=1)  # exclude 'id' attribute & class variable\n",
    "dfy = mdf['pep']                    # class variable\n",
    "X_train, X_test, y_train, y_test = train_test_split(dfX, dfy, test_size=0.25, random_state=0)"
   ]
  },
  {
   "cell_type": "code",
   "execution_count": 54,
   "metadata": {},
   "outputs": [
    {
     "data": {
      "text/plain": [
       "(450, 5)"
      ]
     },
     "metadata": {},
     "output_type": "display_data"
    },
    {
     "data": {
      "text/plain": [
       "(150, 5)"
      ]
     },
     "metadata": {},
     "output_type": "display_data"
    },
    {
     "data": {
      "text/html": [
       "<div>\n",
       "<style scoped>\n",
       "    .dataframe tbody tr th:only-of-type {\n",
       "        vertical-align: middle;\n",
       "    }\n",
       "\n",
       "    .dataframe tbody tr th {\n",
       "        vertical-align: top;\n",
       "    }\n",
       "\n",
       "    .dataframe thead th {\n",
       "        text-align: right;\n",
       "    }\n",
       "</style>\n",
       "<table border=\"1\" class=\"dataframe\">\n",
       "  <thead>\n",
       "    <tr style=\"text-align: right;\">\n",
       "      <th></th>\n",
       "      <th>age</th>\n",
       "      <th>sex</th>\n",
       "      <th>income</th>\n",
       "      <th>married</th>\n",
       "      <th>save_act</th>\n",
       "    </tr>\n",
       "  </thead>\n",
       "  <tbody>\n",
       "    <tr>\n",
       "      <th>46</th>\n",
       "      <td>50.0</td>\n",
       "      <td>0</td>\n",
       "      <td>13283.9</td>\n",
       "      <td>0</td>\n",
       "      <td>1</td>\n",
       "    </tr>\n",
       "    <tr>\n",
       "      <th>263</th>\n",
       "      <td>60.0</td>\n",
       "      <td>0</td>\n",
       "      <td>46358.4</td>\n",
       "      <td>1</td>\n",
       "      <td>1</td>\n",
       "    </tr>\n",
       "    <tr>\n",
       "      <th>458</th>\n",
       "      <td>18.0</td>\n",
       "      <td>1</td>\n",
       "      <td>13700.2</td>\n",
       "      <td>0</td>\n",
       "      <td>1</td>\n",
       "    </tr>\n",
       "    <tr>\n",
       "      <th>230</th>\n",
       "      <td>59.0</td>\n",
       "      <td>0</td>\n",
       "      <td>30189.4</td>\n",
       "      <td>1</td>\n",
       "      <td>0</td>\n",
       "    </tr>\n",
       "    <tr>\n",
       "      <th>107</th>\n",
       "      <td>23.0</td>\n",
       "      <td>1</td>\n",
       "      <td>13039.9</td>\n",
       "      <td>1</td>\n",
       "      <td>0</td>\n",
       "    </tr>\n",
       "  </tbody>\n",
       "</table>\n",
       "</div>"
      ],
      "text/plain": [
       "      age  sex   income  married  save_act\n",
       "46   50.0    0  13283.9        0         1\n",
       "263  60.0    0  46358.4        1         1\n",
       "458  18.0    1  13700.2        0         1\n",
       "230  59.0    0  30189.4        1         0\n",
       "107  23.0    1  13039.9        1         0"
      ]
     },
     "execution_count": 54,
     "metadata": {},
     "output_type": "execute_result"
    }
   ],
   "source": [
    "display(X_train.shape, X_test.shape)\n",
    "X_train.head()"
   ]
  },
  {
   "cell_type": "code",
   "execution_count": 55,
   "metadata": {},
   "outputs": [],
   "source": [
    "from sklearn.tree import DecisionTreeClassifier"
   ]
  },
  {
   "cell_type": "code",
   "execution_count": 56,
   "metadata": {},
   "outputs": [],
   "source": [
    "tree = DecisionTreeClassifier(max_depth=6, random_state=0)"
   ]
  },
  {
   "cell_type": "code",
   "execution_count": 58,
   "metadata": {},
   "outputs": [
    {
     "data": {
      "text/plain": [
       "DecisionTreeClassifier(class_weight=None, criterion='gini', max_depth=6,\n",
       "            max_features=None, max_leaf_nodes=None,\n",
       "            min_impurity_decrease=0.0, min_impurity_split=None,\n",
       "            min_samples_leaf=1, min_samples_split=2,\n",
       "            min_weight_fraction_leaf=0.0, presort=False, random_state=0,\n",
       "            splitter='best')"
      ]
     },
     "execution_count": 58,
     "metadata": {},
     "output_type": "execute_result"
    }
   ],
   "source": [
    "tree.fit(X_train, y_train)"
   ]
  },
  {
   "cell_type": "code",
   "execution_count": 59,
   "metadata": {},
   "outputs": [
    {
     "data": {
      "text/plain": [
       "array([0, 0, 0, 1, 0, 1, 0, 0, 1, 1, 1, 0, 0, 0, 1, 1, 1, 0, 0, 0, 0, 0,\n",
       "       0, 0, 0, 0, 0, 0, 0, 0, 0, 0, 1, 0, 0, 1, 0, 0, 0, 0, 0, 1, 1, 1,\n",
       "       0, 0, 0, 0, 0, 0, 0, 0, 0, 1, 1, 0, 1, 0, 0, 0, 1, 0, 1, 1, 0, 1,\n",
       "       1, 1, 0, 0, 0, 1, 1, 0, 0, 0, 1, 0, 0, 1, 0, 0, 0, 0, 0, 0, 0, 0,\n",
       "       0, 0, 0, 0, 0, 1, 0, 1, 0, 0, 0, 1, 0, 0, 0, 0, 1, 1, 0, 0, 0, 0,\n",
       "       1, 1, 0, 0, 1, 0, 1, 1, 0, 0, 0, 0, 1, 0, 0, 0, 0, 0, 1, 0, 0, 0,\n",
       "       0, 0, 1, 0, 0, 0, 1, 0, 0, 0, 0, 0, 0, 0, 0, 0, 0, 0], dtype=int64)"
      ]
     },
     "execution_count": 59,
     "metadata": {},
     "output_type": "execute_result"
    }
   ],
   "source": [
    "pred_tree = tree.predict(X_test); pred_tree"
   ]
  },
  {
   "cell_type": "code",
   "execution_count": 60,
   "metadata": {},
   "outputs": [
    {
     "name": "stderr",
     "output_type": "stream",
     "text": [
      "C:\\Users\\1pc\\Anaconda3\\lib\\site-packages\\sklearn\\svm\\base.py:196: FutureWarning: The default value of gamma will change from 'auto' to 'scale' in version 0.22 to account better for unscaled features. Set gamma explicitly to 'auto' or 'scale' to avoid this warning.\n",
      "  \"avoid this warning.\", FutureWarning)\n"
     ]
    },
    {
     "data": {
      "text/plain": [
       "SVC(C=1.0, cache_size=200, class_weight=None, coef0=0.0,\n",
       "  decision_function_shape='ovr', degree=3, gamma='auto_deprecated',\n",
       "  kernel='rbf', max_iter=-1, probability=False, random_state=0,\n",
       "  shrinking=True, tol=0.001, verbose=False)"
      ]
     },
     "execution_count": 60,
     "metadata": {},
     "output_type": "execute_result"
    }
   ],
   "source": [
    "from sklearn.svm import SVC \n",
    "svm = SVC(random_state=0)\n",
    "svm.fit(X_train, y_train)"
   ]
  },
  {
   "cell_type": "code",
   "execution_count": 61,
   "metadata": {},
   "outputs": [
    {
     "data": {
      "text/plain": [
       "MLPClassifier(activation='relu', alpha=0.0001, batch_size='auto', beta_1=0.9,\n",
       "       beta_2=0.999, early_stopping=False, epsilon=1e-08,\n",
       "       hidden_layer_sizes=(100,), learning_rate='constant',\n",
       "       learning_rate_init=0.001, max_iter=200, momentum=0.9,\n",
       "       n_iter_no_change=10, nesterovs_momentum=True, power_t=0.5,\n",
       "       random_state=None, shuffle=True, solver='adam', tol=0.0001,\n",
       "       validation_fraction=0.1, verbose=False, warm_start=False)"
      ]
     },
     "execution_count": 61,
     "metadata": {},
     "output_type": "execute_result"
    }
   ],
   "source": [
    "from sklearn.neural_network import MLPClassifier \n",
    "mlp = MLPClassifier()\n",
    "mlp.fit(X_train, y_train)"
   ]
  },
  {
   "cell_type": "code",
   "execution_count": 62,
   "metadata": {},
   "outputs": [
    {
     "data": {
      "text/plain": [
       "0.7133333333333334"
      ]
     },
     "metadata": {},
     "output_type": "display_data"
    },
    {
     "data": {
      "text/plain": [
       "0.56"
      ]
     },
     "metadata": {},
     "output_type": "display_data"
    }
   ],
   "source": [
    "display(tree.score(X_train, y_train))\n",
    "display(tree.score(X_test, y_test))"
   ]
  },
  {
   "cell_type": "code",
   "execution_count": 63,
   "metadata": {},
   "outputs": [
    {
     "data": {
      "text/plain": [
       "1.0"
      ]
     },
     "metadata": {},
     "output_type": "display_data"
    },
    {
     "data": {
      "text/plain": [
       "0.52"
      ]
     },
     "metadata": {},
     "output_type": "display_data"
    }
   ],
   "source": [
    "display(svm.score(X_train, y_train))\n",
    "display(svm.score(X_test, y_test))"
   ]
  },
  {
   "cell_type": "code",
   "execution_count": 64,
   "metadata": {},
   "outputs": [
    {
     "data": {
      "text/plain": [
       "0.5088888888888888"
      ]
     },
     "metadata": {},
     "output_type": "display_data"
    },
    {
     "data": {
      "text/plain": [
       "0.52"
      ]
     },
     "metadata": {},
     "output_type": "display_data"
    }
   ],
   "source": [
    "display(mlp.score(X_train, y_train))\n",
    "display(mlp.score(X_test, y_test))"
   ]
  },
  {
   "cell_type": "code",
   "execution_count": 65,
   "metadata": {},
   "outputs": [
    {
     "data": {
      "text/plain": [
       "0.56"
      ]
     },
     "execution_count": 65,
     "metadata": {},
     "output_type": "execute_result"
    }
   ],
   "source": [
    "best_model = tree   # Change this code if the best model is not decision tree.\n",
    "best_model.score(X_test, y_test)"
   ]
  },
  {
   "cell_type": "code",
   "execution_count": 66,
   "metadata": {},
   "outputs": [
    {
     "name": "stdout",
     "output_type": "stream",
     "text": [
      "0    78\n",
      "1    72\n",
      "Name: pep, dtype: int64\n"
     ]
    },
    {
     "data": {
      "text/plain": [
       "0.52"
      ]
     },
     "execution_count": 66,
     "metadata": {},
     "output_type": "execute_result"
    }
   ],
   "source": [
    "from sklearn.dummy import DummyClassifier\n",
    "print(y_test.value_counts())\n",
    "DummyClassifier(strategy='most_frequent').fit(X_train, y_train).score(X_test, y_test)"
   ]
  },
  {
   "cell_type": "code",
   "execution_count": 67,
   "metadata": {},
   "outputs": [
    {
     "data": {
      "text/html": [
       "<div>\n",
       "<style scoped>\n",
       "    .dataframe tbody tr th:only-of-type {\n",
       "        vertical-align: middle;\n",
       "    }\n",
       "\n",
       "    .dataframe tbody tr th {\n",
       "        vertical-align: top;\n",
       "    }\n",
       "\n",
       "    .dataframe thead th {\n",
       "        text-align: right;\n",
       "    }\n",
       "</style>\n",
       "<table border=\"1\" class=\"dataframe\">\n",
       "  <thead>\n",
       "    <tr style=\"text-align: right;\">\n",
       "      <th></th>\n",
       "      <th>id</th>\n",
       "      <th>age</th>\n",
       "      <th>sex</th>\n",
       "      <th>income</th>\n",
       "      <th>married</th>\n",
       "      <th>save_act</th>\n",
       "    </tr>\n",
       "  </thead>\n",
       "  <tbody>\n",
       "    <tr>\n",
       "      <th>0</th>\n",
       "      <td>ID12701</td>\n",
       "      <td>23</td>\n",
       "      <td>1</td>\n",
       "      <td>18766.90</td>\n",
       "      <td>1</td>\n",
       "      <td>1</td>\n",
       "    </tr>\n",
       "    <tr>\n",
       "      <th>1</th>\n",
       "      <td>ID12702</td>\n",
       "      <td>30</td>\n",
       "      <td>1</td>\n",
       "      <td>9915.67</td>\n",
       "      <td>0</td>\n",
       "      <td>1</td>\n",
       "    </tr>\n",
       "    <tr>\n",
       "      <th>2</th>\n",
       "      <td>ID12703</td>\n",
       "      <td>45</td>\n",
       "      <td>0</td>\n",
       "      <td>21881.60</td>\n",
       "      <td>0</td>\n",
       "      <td>1</td>\n",
       "    </tr>\n",
       "    <tr>\n",
       "      <th>3</th>\n",
       "      <td>ID12704</td>\n",
       "      <td>50</td>\n",
       "      <td>1</td>\n",
       "      <td>46794.40</td>\n",
       "      <td>1</td>\n",
       "      <td>1</td>\n",
       "    </tr>\n",
       "    <tr>\n",
       "      <th>4</th>\n",
       "      <td>ID12705</td>\n",
       "      <td>41</td>\n",
       "      <td>0</td>\n",
       "      <td>20721.10</td>\n",
       "      <td>1</td>\n",
       "      <td>1</td>\n",
       "    </tr>\n",
       "  </tbody>\n",
       "</table>\n",
       "</div>"
      ],
      "text/plain": [
       "        id  age  sex    income  married  save_act\n",
       "0  ID12701   23    1  18766.90        1         1\n",
       "1  ID12702   30    1   9915.67        0         1\n",
       "2  ID12703   45    0  21881.60        0         1\n",
       "3  ID12704   50    1  46794.40        1         1\n",
       "4  ID12705   41    0  20721.10        1         1"
      ]
     },
     "execution_count": 67,
     "metadata": {},
     "output_type": "execute_result"
    }
   ],
   "source": [
    "ndf = new.copy()\n",
    "ndf = ndf.drop(columns, axis=1)\n",
    "ndf.head()"
   ]
  },
  {
   "cell_type": "code",
   "execution_count": 68,
   "metadata": {},
   "outputs": [],
   "source": [
    "ndf['pred'] = best_model.predict(ndf.loc[:,'age':'save_act'])"
   ]
  },
  {
   "cell_type": "code",
   "execution_count": 69,
   "metadata": {},
   "outputs": [
    {
     "name": "stdout",
     "output_type": "stream",
     "text": [
      "[[0.5959596  0.4040404 ]\n",
      " [0.52857143 0.47142857]\n",
      " [0.52857143 0.47142857]\n",
      " [0.5959596  0.4040404 ]\n",
      " [0.72413793 0.27586207]\n",
      " [1.         0.        ]\n",
      " [0.72413793 0.27586207]\n",
      " [0.72413793 0.27586207]\n",
      " [0.         1.        ]\n",
      " [0.72413793 0.27586207]\n",
      " [0.53333333 0.46666667]\n",
      " [0.52857143 0.47142857]\n",
      " [0.53333333 0.46666667]\n",
      " [0.72413793 0.27586207]\n",
      " [0.72727273 0.27272727]\n",
      " [0.5959596  0.4040404 ]\n",
      " [0.72413793 0.27586207]\n",
      " [0.72413793 0.27586207]\n",
      " [1.         0.        ]\n",
      " [0.52857143 0.47142857]\n",
      " [0.20833333 0.79166667]\n",
      " [0.72413793 0.27586207]\n",
      " [0.5959596  0.4040404 ]\n",
      " [0.5959596  0.4040404 ]\n",
      " [0.72413793 0.27586207]\n",
      " [1.         0.        ]\n",
      " [0.72413793 0.27586207]\n",
      " [0.72413793 0.27586207]\n",
      " [0.5959596  0.4040404 ]\n",
      " [0.52857143 0.47142857]\n",
      " [0.52857143 0.47142857]\n",
      " [0.72413793 0.27586207]\n",
      " [0.72727273 0.27272727]\n",
      " [0.92857143 0.07142857]\n",
      " [0.72413793 0.27586207]\n",
      " [0.         1.        ]\n",
      " [0.72413793 0.27586207]\n",
      " [0.5959596  0.4040404 ]\n",
      " [0.52857143 0.47142857]\n",
      " [0.72413793 0.27586207]\n",
      " [0.52857143 0.47142857]\n",
      " [0.52857143 0.47142857]\n",
      " [0.20833333 0.79166667]\n",
      " [0.27272727 0.72727273]\n",
      " [0.27777778 0.72222222]\n",
      " [0.27777778 0.72222222]\n",
      " [0.         1.        ]\n",
      " [1.         0.        ]\n",
      " [0.5959596  0.4040404 ]\n",
      " [0.53333333 0.46666667]\n",
      " [0.5959596  0.4040404 ]\n",
      " [0.53333333 0.46666667]\n",
      " [0.         1.        ]\n",
      " [0.72727273 0.27272727]\n",
      " [0.52857143 0.47142857]\n",
      " [0.20833333 0.79166667]\n",
      " [0.         1.        ]\n",
      " [0.52857143 0.47142857]\n",
      " [0.27777778 0.72222222]\n",
      " [0.52857143 0.47142857]\n",
      " [0.         1.        ]\n",
      " [0.72727273 0.27272727]\n",
      " [0.72413793 0.27586207]\n",
      " [0.72413793 0.27586207]\n",
      " [0.5959596  0.4040404 ]\n",
      " [0.         1.        ]\n",
      " [0.90909091 0.09090909]\n",
      " [0.         1.        ]\n",
      " [0.52857143 0.47142857]\n",
      " [0.52857143 0.47142857]\n",
      " [0.52857143 0.47142857]\n",
      " [0.5959596  0.4040404 ]\n",
      " [0.52857143 0.47142857]\n",
      " [0.5959596  0.4040404 ]\n",
      " [0.72413793 0.27586207]\n",
      " [0.72413793 0.27586207]\n",
      " [0.72413793 0.27586207]\n",
      " [1.         0.        ]\n",
      " [0.20833333 0.79166667]\n",
      " [0.72413793 0.27586207]\n",
      " [0.52857143 0.47142857]\n",
      " [0.20833333 0.79166667]\n",
      " [1.         0.        ]\n",
      " [0.5959596  0.4040404 ]\n",
      " [0.72413793 0.27586207]\n",
      " [1.         0.        ]\n",
      " [1.         0.        ]\n",
      " [1.         0.        ]\n",
      " [0.53333333 0.46666667]\n",
      " [0.20833333 0.79166667]\n",
      " [0.20833333 0.79166667]\n",
      " [0.5959596  0.4040404 ]\n",
      " [0.5959596  0.4040404 ]\n",
      " [0.52857143 0.47142857]\n",
      " [0.5959596  0.4040404 ]\n",
      " [0.72413793 0.27586207]\n",
      " [0.20833333 0.79166667]\n",
      " [0.         1.        ]\n",
      " [0.5959596  0.4040404 ]\n",
      " [0.53333333 0.46666667]\n",
      " [0.53333333 0.46666667]\n",
      " [0.         1.        ]\n",
      " [0.         1.        ]\n",
      " [0.27777778 0.72222222]\n",
      " [0.72413793 0.27586207]\n",
      " [0.72727273 0.27272727]\n",
      " [0.27272727 0.72727273]\n",
      " [0.20833333 0.79166667]\n",
      " [0.53333333 0.46666667]\n",
      " [1.         0.        ]\n",
      " [0.20833333 0.79166667]\n",
      " [0.5959596  0.4040404 ]\n",
      " [0.72413793 0.27586207]\n",
      " [0.20833333 0.79166667]\n",
      " [0.5959596  0.4040404 ]\n",
      " [0.         1.        ]\n",
      " [0.20833333 0.79166667]\n",
      " [0.20833333 0.79166667]\n",
      " [0.5959596  0.4040404 ]\n",
      " [0.20833333 0.79166667]\n",
      " [0.27777778 0.72222222]\n",
      " [0.5959596  0.4040404 ]\n",
      " [0.52857143 0.47142857]\n",
      " [1.         0.        ]\n",
      " [0.90909091 0.09090909]\n",
      " [0.52857143 0.47142857]\n",
      " [1.         0.        ]\n",
      " [1.         0.        ]\n",
      " [0.72413793 0.27586207]\n",
      " [0.52857143 0.47142857]\n",
      " [0.20833333 0.79166667]\n",
      " [0.52857143 0.47142857]\n",
      " [0.90909091 0.09090909]\n",
      " [0.72413793 0.27586207]\n",
      " [0.72413793 0.27586207]\n",
      " [0.53333333 0.46666667]\n",
      " [0.         1.        ]\n",
      " [0.72413793 0.27586207]\n",
      " [0.90909091 0.09090909]\n",
      " [0.52857143 0.47142857]\n",
      " [0.5959596  0.4040404 ]\n",
      " [1.         0.        ]\n",
      " [1.         0.        ]\n",
      " [0.72413793 0.27586207]\n",
      " [0.52857143 0.47142857]\n",
      " [0.5959596  0.4040404 ]\n",
      " [0.5959596  0.4040404 ]\n",
      " [0.72413793 0.27586207]\n",
      " [0.20833333 0.79166667]\n",
      " [0.72413793 0.27586207]\n",
      " [0.72413793 0.27586207]\n",
      " [0.52857143 0.47142857]\n",
      " [0.20833333 0.79166667]\n",
      " [0.72413793 0.27586207]\n",
      " [0.53333333 0.46666667]\n",
      " [0.52857143 0.47142857]\n",
      " [0.72413793 0.27586207]\n",
      " [0.53333333 0.46666667]\n",
      " [0.5959596  0.4040404 ]\n",
      " [0.72413793 0.27586207]\n",
      " [0.72413793 0.27586207]\n",
      " [0.72413793 0.27586207]\n",
      " [0.5959596  0.4040404 ]\n",
      " [0.5959596  0.4040404 ]\n",
      " [0.52857143 0.47142857]\n",
      " [0.72413793 0.27586207]\n",
      " [0.52857143 0.47142857]\n",
      " [0.52857143 0.47142857]\n",
      " [0.52857143 0.47142857]\n",
      " [0.5959596  0.4040404 ]\n",
      " [0.72413793 0.27586207]\n",
      " [0.27272727 0.72727273]\n",
      " [0.52857143 0.47142857]\n",
      " [0.92857143 0.07142857]\n",
      " [0.5959596  0.4040404 ]\n",
      " [0.27777778 0.72222222]\n",
      " [0.5959596  0.4040404 ]\n",
      " [0.72413793 0.27586207]\n",
      " [0.52857143 0.47142857]\n",
      " [0.53333333 0.46666667]\n",
      " [0.92857143 0.07142857]\n",
      " [0.5959596  0.4040404 ]\n",
      " [0.         1.        ]\n",
      " [0.         1.        ]\n",
      " [0.90909091 0.09090909]\n",
      " [1.         0.        ]\n",
      " [0.52857143 0.47142857]\n",
      " [0.72413793 0.27586207]\n",
      " [0.         1.        ]\n",
      " [0.72413793 0.27586207]\n",
      " [0.5959596  0.4040404 ]\n",
      " [0.72413793 0.27586207]\n",
      " [0.72413793 0.27586207]\n",
      " [0.92857143 0.07142857]\n",
      " [0.5959596  0.4040404 ]\n",
      " [0.         1.        ]\n",
      " [1.         0.        ]\n",
      " [0.27777778 0.72222222]\n",
      " [0.72413793 0.27586207]\n",
      " [0.52857143 0.47142857]]\n"
     ]
    },
    {
     "data": {
      "text/html": [
       "<div>\n",
       "<style scoped>\n",
       "    .dataframe tbody tr th:only-of-type {\n",
       "        vertical-align: middle;\n",
       "    }\n",
       "\n",
       "    .dataframe tbody tr th {\n",
       "        vertical-align: top;\n",
       "    }\n",
       "\n",
       "    .dataframe thead th {\n",
       "        text-align: right;\n",
       "    }\n",
       "</style>\n",
       "<table border=\"1\" class=\"dataframe\">\n",
       "  <thead>\n",
       "    <tr style=\"text-align: right;\">\n",
       "      <th></th>\n",
       "      <th>id</th>\n",
       "      <th>age</th>\n",
       "      <th>sex</th>\n",
       "      <th>income</th>\n",
       "      <th>married</th>\n",
       "      <th>save_act</th>\n",
       "      <th>pred</th>\n",
       "      <th>pred_prob</th>\n",
       "    </tr>\n",
       "  </thead>\n",
       "  <tbody>\n",
       "    <tr>\n",
       "      <th>0</th>\n",
       "      <td>ID12701</td>\n",
       "      <td>23</td>\n",
       "      <td>1</td>\n",
       "      <td>18766.90</td>\n",
       "      <td>1</td>\n",
       "      <td>1</td>\n",
       "      <td>0</td>\n",
       "      <td>0.404040</td>\n",
       "    </tr>\n",
       "    <tr>\n",
       "      <th>1</th>\n",
       "      <td>ID12702</td>\n",
       "      <td>30</td>\n",
       "      <td>1</td>\n",
       "      <td>9915.67</td>\n",
       "      <td>0</td>\n",
       "      <td>1</td>\n",
       "      <td>0</td>\n",
       "      <td>0.471429</td>\n",
       "    </tr>\n",
       "    <tr>\n",
       "      <th>2</th>\n",
       "      <td>ID12703</td>\n",
       "      <td>45</td>\n",
       "      <td>0</td>\n",
       "      <td>21881.60</td>\n",
       "      <td>0</td>\n",
       "      <td>1</td>\n",
       "      <td>0</td>\n",
       "      <td>0.471429</td>\n",
       "    </tr>\n",
       "    <tr>\n",
       "      <th>3</th>\n",
       "      <td>ID12704</td>\n",
       "      <td>50</td>\n",
       "      <td>1</td>\n",
       "      <td>46794.40</td>\n",
       "      <td>1</td>\n",
       "      <td>1</td>\n",
       "      <td>0</td>\n",
       "      <td>0.404040</td>\n",
       "    </tr>\n",
       "    <tr>\n",
       "      <th>4</th>\n",
       "      <td>ID12705</td>\n",
       "      <td>41</td>\n",
       "      <td>0</td>\n",
       "      <td>20721.10</td>\n",
       "      <td>1</td>\n",
       "      <td>1</td>\n",
       "      <td>0</td>\n",
       "      <td>0.275862</td>\n",
       "    </tr>\n",
       "  </tbody>\n",
       "</table>\n",
       "</div>"
      ],
      "text/plain": [
       "        id  age  sex    income  married  save_act  pred  pred_prob\n",
       "0  ID12701   23    1  18766.90        1         1     0   0.404040\n",
       "1  ID12702   30    1   9915.67        0         1     0   0.471429\n",
       "2  ID12703   45    0  21881.60        0         1     0   0.471429\n",
       "3  ID12704   50    1  46794.40        1         1     0   0.404040\n",
       "4  ID12705   41    0  20721.10        1         1     0   0.275862"
      ]
     },
     "execution_count": 69,
     "metadata": {},
     "output_type": "execute_result"
    }
   ],
   "source": [
    "print(best_model.predict_proba(ndf.loc[:,'age':'save_act']))\n",
    "ndf['pred_prob'] = best_model.predict_proba(ndf.loc[:,'age':'save_act'])[:,1]\n",
    "ndf.head()"
   ]
  },
  {
   "cell_type": "code",
   "execution_count": 83,
   "metadata": {},
   "outputs": [
    {
     "data": {
      "text/html": [
       "<div>\n",
       "<style scoped>\n",
       "    .dataframe tbody tr th:only-of-type {\n",
       "        vertical-align: middle;\n",
       "    }\n",
       "\n",
       "    .dataframe tbody tr th {\n",
       "        vertical-align: top;\n",
       "    }\n",
       "\n",
       "    .dataframe thead th {\n",
       "        text-align: right;\n",
       "    }\n",
       "</style>\n",
       "<table border=\"1\" class=\"dataframe\">\n",
       "  <thead>\n",
       "    <tr style=\"text-align: right;\">\n",
       "      <th></th>\n",
       "      <th>id</th>\n",
       "      <th>age</th>\n",
       "      <th>sex</th>\n",
       "      <th>income</th>\n",
       "      <th>married</th>\n",
       "      <th>save_act</th>\n",
       "      <th>pred</th>\n",
       "      <th>pred_prob</th>\n",
       "    </tr>\n",
       "  </thead>\n",
       "  <tbody>\n",
       "    <tr>\n",
       "      <th>39</th>\n",
       "      <td>ID12876</td>\n",
       "      <td>47</td>\n",
       "      <td>1</td>\n",
       "      <td>15237.0</td>\n",
       "      <td>0</td>\n",
       "      <td>0</td>\n",
       "      <td>1</td>\n",
       "      <td>0.722222</td>\n",
       "    </tr>\n",
       "    <tr>\n",
       "      <th>40</th>\n",
       "      <td>ID12746</td>\n",
       "      <td>61</td>\n",
       "      <td>1</td>\n",
       "      <td>26527.9</td>\n",
       "      <td>0</td>\n",
       "      <td>0</td>\n",
       "      <td>1</td>\n",
       "      <td>0.722222</td>\n",
       "    </tr>\n",
       "    <tr>\n",
       "      <th>41</th>\n",
       "      <td>ID12821</td>\n",
       "      <td>60</td>\n",
       "      <td>0</td>\n",
       "      <td>27558.6</td>\n",
       "      <td>0</td>\n",
       "      <td>1</td>\n",
       "      <td>1</td>\n",
       "      <td>0.722222</td>\n",
       "    </tr>\n",
       "    <tr>\n",
       "      <th>42</th>\n",
       "      <td>ID12804</td>\n",
       "      <td>60</td>\n",
       "      <td>1</td>\n",
       "      <td>19849.0</td>\n",
       "      <td>0</td>\n",
       "      <td>1</td>\n",
       "      <td>1</td>\n",
       "      <td>0.722222</td>\n",
       "    </tr>\n",
       "    <tr>\n",
       "      <th>43</th>\n",
       "      <td>ID12898</td>\n",
       "      <td>54</td>\n",
       "      <td>1</td>\n",
       "      <td>29348.8</td>\n",
       "      <td>0</td>\n",
       "      <td>0</td>\n",
       "      <td>1</td>\n",
       "      <td>0.722222</td>\n",
       "    </tr>\n",
       "  </tbody>\n",
       "</table>\n",
       "</div>"
      ],
      "text/plain": [
       "         id  age  sex   income  married  save_act  pred  pred_prob\n",
       "39  ID12876   47    1  15237.0        0         0     1   0.722222\n",
       "40  ID12746   61    1  26527.9        0         0     1   0.722222\n",
       "41  ID12821   60    0  27558.6        0         1     1   0.722222\n",
       "42  ID12804   60    1  19849.0        0         1     1   0.722222\n",
       "43  ID12898   54    1  29348.8        0         0     1   0.722222"
      ]
     },
     "execution_count": 83,
     "metadata": {},
     "output_type": "execute_result"
    }
   ],
   "source": [
    "target = ndf.query('pred == 1 & pred_prob > 0.7')  # PEP에 가입할 확율이 70%가 넘는 고객만 추출\n",
    "target.sort_values(by=\"pred_prob\", ascending=False).to_csv(\"pep_target.csv\", index=False)\n",
    "pd.read_csv(\"pep_target.csv\").tail()"
   ]
  },
  {
   "cell_type": "code",
   "execution_count": 103,
   "metadata": {},
   "outputs": [],
   "source": [
    "import xgboost as xgb\n",
    "from sklearn.preprocessing import LabelEncoder"
   ]
  },
  {
   "cell_type": "code",
   "execution_count": null,
   "metadata": {},
   "outputs": [],
   "source": []
  },
  {
   "cell_type": "code",
   "execution_count": null,
   "metadata": {},
   "outputs": [],
   "source": []
  },
  {
   "cell_type": "code",
   "execution_count": null,
   "metadata": {},
   "outputs": [],
   "source": []
  },
  {
   "cell_type": "code",
   "execution_count": null,
   "metadata": {},
   "outputs": [],
   "source": []
  }
 ],
 "metadata": {
  "kernelspec": {
   "display_name": "Python 3",
   "language": "python",
   "name": "python3"
  },
  "language_info": {
   "codemirror_mode": {
    "name": "ipython",
    "version": 3
   },
   "file_extension": ".py",
   "mimetype": "text/x-python",
   "name": "python",
   "nbconvert_exporter": "python",
   "pygments_lexer": "ipython3",
   "version": "3.7.3"
  }
 },
 "nbformat": 4,
 "nbformat_minor": 2
}
