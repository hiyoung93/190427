{
 "cells": [
  {
   "cell_type": "markdown",
   "metadata": {},
   "source": [
    "## 비정형 데이터 분석\n",
    "\n",
    "- 정형(structured) 데이터: 표 형태의 데이터\n",
    "- 비정형(unstructured) 데이터: 텍스트, 이미지, 음성 등"
   ]
  },
  {
   "cell_type": "markdown",
   "metadata": {},
   "source": [
    "# 웹 스크래핑 1"
   ]
  },
  {
   "cell_type": "markdown",
   "metadata": {},
   "source": [
    "### Python으로 URL 분석하기"
   ]
  },
  {
   "cell_type": "code",
   "execution_count": 1,
   "metadata": {},
   "outputs": [],
   "source": [
    "import urllib.parse"
   ]
  },
  {
   "cell_type": "code",
   "execution_count": 2,
   "metadata": {},
   "outputs": [],
   "source": [
    "p = urllib.parse.urlparse('http://www.bobaedream.co.kr/mycar/mycar_list.php?sel_m_gubun=ALL&page=2')"
   ]
  },
  {
   "cell_type": "code",
   "execution_count": 3,
   "metadata": {},
   "outputs": [
    {
     "data": {
      "text/plain": [
       "'http'"
      ]
     },
     "execution_count": 3,
     "metadata": {},
     "output_type": "execute_result"
    }
   ],
   "source": [
    "p.scheme"
   ]
  },
  {
   "cell_type": "code",
   "execution_count": 4,
   "metadata": {},
   "outputs": [
    {
     "data": {
      "text/plain": [
       "'www.bobaedream.co.kr'"
      ]
     },
     "execution_count": 4,
     "metadata": {},
     "output_type": "execute_result"
    }
   ],
   "source": [
    "p.hostname"
   ]
  },
  {
   "cell_type": "code",
   "execution_count": 5,
   "metadata": {},
   "outputs": [
    {
     "data": {
      "text/plain": [
       "'/mycar/mycar_list.php'"
      ]
     },
     "execution_count": 5,
     "metadata": {},
     "output_type": "execute_result"
    }
   ],
   "source": [
    "p.path"
   ]
  },
  {
   "cell_type": "code",
   "execution_count": 6,
   "metadata": {},
   "outputs": [
    {
     "data": {
      "text/plain": [
       "'sel_m_gubun=ALL&page=2'"
      ]
     },
     "execution_count": 6,
     "metadata": {},
     "output_type": "execute_result"
    }
   ],
   "source": [
    "p.query"
   ]
  },
  {
   "cell_type": "markdown",
   "metadata": {},
   "source": [
    "### 요청보내기"
   ]
  },
  {
   "cell_type": "code",
   "execution_count": 7,
   "metadata": {},
   "outputs": [],
   "source": [
    "import requests"
   ]
  },
  {
   "cell_type": "code",
   "execution_count": 8,
   "metadata": {},
   "outputs": [],
   "source": [
    "# GET 요청을 보내고 응답을 받아와 res 변수에 할당한다.\n",
    "url = 'http://www.bobaedream.co.kr/mycar/mycar_list.php?sel_m_gubun=ALL&page=2'\n",
    "res = requests.get(url)"
   ]
  },
  {
   "cell_type": "code",
   "execution_count": 9,
   "metadata": {},
   "outputs": [
    {
     "data": {
      "text/plain": [
       "<Response [200]>"
      ]
     },
     "execution_count": 9,
     "metadata": {},
     "output_type": "execute_result"
    }
   ],
   "source": [
    "res # <Response [200]> 정상적으로 가져왔다는 뜻"
   ]
  },
  {
   "cell_type": "code",
   "execution_count": 10,
   "metadata": {},
   "outputs": [
    {
     "data": {
      "text/plain": [
       "200"
      ]
     },
     "execution_count": 10,
     "metadata": {},
     "output_type": "execute_result"
    }
   ],
   "source": [
    "res.status_code\n",
    "# 응답의 상태 코드를 확인하면 200번을 얻는다."
   ]
  },
  {
   "cell_type": "code",
   "execution_count": 11,
   "metadata": {},
   "outputs": [
    {
     "data": {
      "text/plain": [
       "<Response [404]>"
      ]
     },
     "execution_count": 11,
     "metadata": {},
     "output_type": "execute_result"
    }
   ],
   "source": [
    "requests.get('http://www.bobaedream.co.kr/aaaaaaa')"
   ]
  },
  {
   "cell_type": "markdown",
   "metadata": {},
   "source": [
    "## 상태코드\n",
    "\n",
    "- 2XX: 성공\n",
    "- 3XX: 다른 주소로 이동\n",
    "- 4XX: 클라이언트 오류\n",
    "  - 404: 존재하지 않는 주소\n",
    "- 5XX: 서버 오류\n",
    "  - 503: 서버가 다운 등의 문제로 서비스 불가 상태"
   ]
  },
  {
   "cell_type": "markdown",
   "metadata": {},
   "source": [
    "## HTML\n",
    "\n",
    "- 웹 페이지의 내용을 표현하는 방법\n",
    "- 노드라는 단위로 구성\n",
    "- 하나의 노드는 여는 태그, 태그의 내용, 닫는 태그로 구성\n",
    "- 예: `<a href=\"http://www.google.com\">구글</a>`\n",
    "  - 여는 태그: `<a href=\"http://www.google.com\">`\n",
    "  - 내용: `구글`\n",
    "  - 닫는 태그: `</a>`"
   ]
  },
  {
   "cell_type": "markdown",
   "metadata": {},
   "source": [
    "## 개발자 도구\n",
    "\n",
    "- 웹 브라우저에서 F12 또는 우클릭 후 \"검사\" 메뉴를 클릭하면 개발자도구로 진입\n",
    "- HTML의 구조와 통신 내역 등을 확인"
   ]
  },
  {
   "cell_type": "markdown",
   "metadata": {},
   "source": [
    "## HTML의 주요 태그\n",
    "\n",
    "- div: 구역(division)\n",
    "- span: 범위(span)\n",
    "- ul: 번호 없는 리스트(unordered list)\n",
    "- ol: 번호 리스트(ordered list)\n",
    "- li: 리스트 항목(list item)\n",
    "- a: 링크(anchor)"
   ]
  },
  {
   "cell_type": "markdown",
   "metadata": {},
   "source": [
    "## 응답 내용에서 특정 태그 찾기\n",
    "\n",
    "먼저 cssselect 패키지를 설치한다."
   ]
  },
  {
   "cell_type": "code",
   "execution_count": 12,
   "metadata": {},
   "outputs": [
    {
     "name": "stdout",
     "output_type": "stream",
     "text": [
      "Requirement already satisfied: cssselect in c:\\users\\1pc\\anaconda3\\lib\\site-packages (1.0.3)\n"
     ]
    }
   ],
   "source": [
    "!pip install cssselect"
   ]
  },
  {
   "cell_type": "markdown",
   "metadata": {},
   "source": [
    "HTML 해석을 위한 lxml.html을 불러온다."
   ]
  },
  {
   "cell_type": "code",
   "execution_count": 13,
   "metadata": {},
   "outputs": [],
   "source": [
    "import lxml.html"
   ]
  },
  {
   "cell_type": "markdown",
   "metadata": {},
   "source": [
    "응답의 텍스트(res.text)를 해석한다."
   ]
  },
  {
   "cell_type": "code",
   "execution_count": 14,
   "metadata": {},
   "outputs": [],
   "source": [
    "root = lxml.html.fromstring(res.text)"
   ]
  },
  {
   "cell_type": "markdown",
   "metadata": {},
   "source": [
    "a 태그를 모두 찾는다."
   ]
  },
  {
   "cell_type": "code",
   "execution_count": 15,
   "metadata": {},
   "outputs": [
    {
     "data": {
      "text/plain": [
       "[<Element a at 0x6efe4a8>,\n",
       " <Element a at 0x6efe638>,\n",
       " <Element a at 0x6f24868>,\n",
       " <Element a at 0x6f24a48>,\n",
       " <Element a at 0x6f24a98>,\n",
       " <Element a at 0x6f24ae8>,\n",
       " <Element a at 0x6f24b38>,\n",
       " <Element a at 0x6f24b88>,\n",
       " <Element a at 0x6f24bd8>,\n",
       " <Element a at 0x6f24c28>,\n",
       " <Element a at 0x6f24c78>,\n",
       " <Element a at 0x6f24cc8>,\n",
       " <Element a at 0x6f24d18>,\n",
       " <Element a at 0x6f24d68>,\n",
       " <Element a at 0x6f24db8>,\n",
       " <Element a at 0x6f24e08>,\n",
       " <Element a at 0x6f24e58>,\n",
       " <Element a at 0x6f24ea8>,\n",
       " <Element a at 0x6f24ef8>,\n",
       " <Element a at 0x6f24f48>,\n",
       " <Element a at 0x6f24f98>,\n",
       " <Element a at 0x6f26048>,\n",
       " <Element a at 0x6f26098>,\n",
       " <Element a at 0x6f260e8>,\n",
       " <Element a at 0x6f26138>,\n",
       " <Element a at 0x6f26188>,\n",
       " <Element a at 0x6f261d8>,\n",
       " <Element a at 0x6f26228>,\n",
       " <Element a at 0x6f26278>,\n",
       " <Element a at 0x6f262c8>,\n",
       " <Element a at 0x6f26318>,\n",
       " <Element a at 0x6f26368>,\n",
       " <Element a at 0x6f263b8>,\n",
       " <Element a at 0x6f26408>,\n",
       " <Element a at 0x6f26458>,\n",
       " <Element a at 0x6f264a8>,\n",
       " <Element a at 0x6f264f8>,\n",
       " <Element a at 0x6f26548>,\n",
       " <Element a at 0x6f26598>,\n",
       " <Element a at 0x6f265e8>,\n",
       " <Element a at 0x6f26638>,\n",
       " <Element a at 0x6f26688>,\n",
       " <Element a at 0x6f266d8>,\n",
       " <Element a at 0x6f26728>,\n",
       " <Element a at 0x6f26778>,\n",
       " <Element a at 0x6f267c8>,\n",
       " <Element a at 0x6f26818>,\n",
       " <Element a at 0x6f26868>,\n",
       " <Element a at 0x6f268b8>,\n",
       " <Element a at 0x6f26908>,\n",
       " <Element a at 0x6f26958>,\n",
       " <Element a at 0x6f269a8>,\n",
       " <Element a at 0x6f269f8>,\n",
       " <Element a at 0x6f26a48>,\n",
       " <Element a at 0x6f26a98>,\n",
       " <Element a at 0x6f26ae8>,\n",
       " <Element a at 0x6f26b38>,\n",
       " <Element a at 0x6f26b88>,\n",
       " <Element a at 0x6f26bd8>,\n",
       " <Element a at 0x6f26c28>,\n",
       " <Element a at 0x6f26c78>,\n",
       " <Element a at 0x6f26cc8>,\n",
       " <Element a at 0x6f26d18>,\n",
       " <Element a at 0x6f26d68>,\n",
       " <Element a at 0x6f26db8>,\n",
       " <Element a at 0x6f26e08>,\n",
       " <Element a at 0x6f26e58>,\n",
       " <Element a at 0x6f26ea8>,\n",
       " <Element a at 0x6f26ef8>,\n",
       " <Element a at 0x6f26f48>,\n",
       " <Element a at 0x6f26f98>,\n",
       " <Element a at 0x6f2a048>,\n",
       " <Element a at 0x6f2a098>,\n",
       " <Element a at 0x6f2a0e8>,\n",
       " <Element a at 0x6f2a138>,\n",
       " <Element a at 0x6f2a188>,\n",
       " <Element a at 0x6f2a1d8>,\n",
       " <Element a at 0x6f2a228>,\n",
       " <Element a at 0x6f2a278>,\n",
       " <Element a at 0x6f2a2c8>,\n",
       " <Element a at 0x6f2a318>,\n",
       " <Element a at 0x6f2a368>,\n",
       " <Element a at 0x6f2a3b8>,\n",
       " <Element a at 0x6f2a408>,\n",
       " <Element a at 0x6f2a458>,\n",
       " <Element a at 0x6f2a4a8>,\n",
       " <Element a at 0x6f2a4f8>,\n",
       " <Element a at 0x6f2a548>,\n",
       " <Element a at 0x6f2a598>,\n",
       " <Element a at 0x6f2a5e8>,\n",
       " <Element a at 0x6f2a638>,\n",
       " <Element a at 0x6f2a688>,\n",
       " <Element a at 0x6f2a6d8>,\n",
       " <Element a at 0x6f2a728>,\n",
       " <Element a at 0x6f2a778>,\n",
       " <Element a at 0x6f2a7c8>,\n",
       " <Element a at 0x6f2a818>,\n",
       " <Element a at 0x6f2a868>,\n",
       " <Element a at 0x6f2a8b8>,\n",
       " <Element a at 0x6f2a908>,\n",
       " <Element a at 0x6f2a958>,\n",
       " <Element a at 0x6f2a9a8>,\n",
       " <Element a at 0x6f2a9f8>,\n",
       " <Element a at 0x6f2aa48>,\n",
       " <Element a at 0x6f2aa98>,\n",
       " <Element a at 0x6f2aae8>,\n",
       " <Element a at 0x6f2ab38>,\n",
       " <Element a at 0x6f2ab88>,\n",
       " <Element a at 0x6f2abd8>,\n",
       " <Element a at 0x6f2ac28>,\n",
       " <Element a at 0x6f2ac78>,\n",
       " <Element a at 0x6f2acc8>,\n",
       " <Element a at 0x6f2ad18>,\n",
       " <Element a at 0x6f2ad68>,\n",
       " <Element a at 0x6f2adb8>,\n",
       " <Element a at 0x6f2ae08>,\n",
       " <Element a at 0x6f2ae58>,\n",
       " <Element a at 0x6f2aea8>,\n",
       " <Element a at 0x6f2aef8>,\n",
       " <Element a at 0x6f2af48>,\n",
       " <Element a at 0x6f2af98>,\n",
       " <Element a at 0x6f2b048>,\n",
       " <Element a at 0x6f2b098>,\n",
       " <Element a at 0x6f2b0e8>,\n",
       " <Element a at 0x6f2b138>,\n",
       " <Element a at 0x6f2b188>,\n",
       " <Element a at 0x6f2b1d8>,\n",
       " <Element a at 0x6f2b228>,\n",
       " <Element a at 0x6f2b278>,\n",
       " <Element a at 0x6f2b2c8>,\n",
       " <Element a at 0x6f2b318>,\n",
       " <Element a at 0x6f2b368>,\n",
       " <Element a at 0x6f2b3b8>,\n",
       " <Element a at 0x6f2b408>,\n",
       " <Element a at 0x6f2b458>,\n",
       " <Element a at 0x6f2b4a8>,\n",
       " <Element a at 0x6f2b4f8>,\n",
       " <Element a at 0x6f2b548>,\n",
       " <Element a at 0x6f2b598>,\n",
       " <Element a at 0x6f2b5e8>,\n",
       " <Element a at 0x6f2b638>,\n",
       " <Element a at 0x6f2b688>,\n",
       " <Element a at 0x6f2b6d8>,\n",
       " <Element a at 0x6f2b728>,\n",
       " <Element a at 0x6f2b778>,\n",
       " <Element a at 0x6f2b7c8>,\n",
       " <Element a at 0x6f2b818>,\n",
       " <Element a at 0x6f2b868>,\n",
       " <Element a at 0x6f2b8b8>,\n",
       " <Element a at 0x6f2b908>,\n",
       " <Element a at 0x6f2b958>,\n",
       " <Element a at 0x6f2b9a8>,\n",
       " <Element a at 0x6f2b9f8>,\n",
       " <Element a at 0x6f2ba48>,\n",
       " <Element a at 0x6f2ba98>,\n",
       " <Element a at 0x6f2bae8>,\n",
       " <Element a at 0x6f2bb38>,\n",
       " <Element a at 0x6f2bb88>,\n",
       " <Element a at 0x6f2bbd8>,\n",
       " <Element a at 0x6f2bc28>,\n",
       " <Element a at 0x6f2bc78>,\n",
       " <Element a at 0x6f2bcc8>,\n",
       " <Element a at 0x6f2bd18>,\n",
       " <Element a at 0x6f2bd68>,\n",
       " <Element a at 0x6f2bdb8>,\n",
       " <Element a at 0x6f2be08>,\n",
       " <Element a at 0x6f2be58>,\n",
       " <Element a at 0x6f2bea8>,\n",
       " <Element a at 0x6f2bef8>,\n",
       " <Element a at 0x6f2bf48>,\n",
       " <Element a at 0x6f2bf98>,\n",
       " <Element a at 0x6f2c048>,\n",
       " <Element a at 0x6f2c098>,\n",
       " <Element a at 0x6f2c0e8>,\n",
       " <Element a at 0x6f2c138>,\n",
       " <Element a at 0x6f2c188>,\n",
       " <Element a at 0x6f2c1d8>,\n",
       " <Element a at 0x6f2c228>,\n",
       " <Element a at 0x6f2c278>,\n",
       " <Element a at 0x6f2c2c8>,\n",
       " <Element a at 0x6f2c318>,\n",
       " <Element a at 0x6f2c368>,\n",
       " <Element a at 0x6f2c3b8>,\n",
       " <Element a at 0x6f2c408>,\n",
       " <Element a at 0x6f2c458>,\n",
       " <Element a at 0x6f2c4a8>,\n",
       " <Element a at 0x6f2c4f8>,\n",
       " <Element a at 0x6f2c548>,\n",
       " <Element a at 0x6f2c598>,\n",
       " <Element a at 0x6f2c5e8>,\n",
       " <Element a at 0x6f2c638>,\n",
       " <Element a at 0x6f2c688>,\n",
       " <Element a at 0x6f2c6d8>,\n",
       " <Element a at 0x6f2c728>,\n",
       " <Element a at 0x6f2c778>,\n",
       " <Element a at 0x6f2c7c8>,\n",
       " <Element a at 0x6f2c818>,\n",
       " <Element a at 0x6f2c868>,\n",
       " <Element a at 0x6f2c8b8>,\n",
       " <Element a at 0x6f2c908>,\n",
       " <Element a at 0x6f2c958>,\n",
       " <Element a at 0x6f2c9a8>,\n",
       " <Element a at 0x6f2c9f8>,\n",
       " <Element a at 0x6f2ca48>,\n",
       " <Element a at 0x6f2ca98>,\n",
       " <Element a at 0x6f2cae8>,\n",
       " <Element a at 0x6f2cb38>,\n",
       " <Element a at 0x6f2cb88>,\n",
       " <Element a at 0x6f2cbd8>,\n",
       " <Element a at 0x6f2cc28>,\n",
       " <Element a at 0x6f2cc78>,\n",
       " <Element a at 0x6f2ccc8>,\n",
       " <Element a at 0x6f2cd18>,\n",
       " <Element a at 0x6f2cd68>,\n",
       " <Element a at 0x6f2cdb8>,\n",
       " <Element a at 0x6f2ce08>,\n",
       " <Element a at 0x6f2ce58>,\n",
       " <Element a at 0x6f2cea8>,\n",
       " <Element a at 0x6f2cef8>,\n",
       " <Element a at 0x6f2cf48>,\n",
       " <Element a at 0x6f2cf98>,\n",
       " <Element a at 0x6f2d048>,\n",
       " <Element a at 0x6f2d098>,\n",
       " <Element a at 0x6f2d0e8>,\n",
       " <Element a at 0x6f2d138>,\n",
       " <Element a at 0x6f2d188>,\n",
       " <Element a at 0x6f2d1d8>,\n",
       " <Element a at 0x6f2d228>,\n",
       " <Element a at 0x6f2d278>,\n",
       " <Element a at 0x6f2d2c8>,\n",
       " <Element a at 0x6f2d318>,\n",
       " <Element a at 0x6f2d368>,\n",
       " <Element a at 0x6f2d3b8>,\n",
       " <Element a at 0x6f2d408>,\n",
       " <Element a at 0x6f2d458>,\n",
       " <Element a at 0x6f2d4a8>,\n",
       " <Element a at 0x6f2d4f8>,\n",
       " <Element a at 0x6f2d548>,\n",
       " <Element a at 0x6f2d598>,\n",
       " <Element a at 0x6f2d5e8>,\n",
       " <Element a at 0x6f2d638>,\n",
       " <Element a at 0x6f2d688>,\n",
       " <Element a at 0x6f2d6d8>,\n",
       " <Element a at 0x6f2d728>,\n",
       " <Element a at 0x6f2d778>,\n",
       " <Element a at 0x6f2d7c8>,\n",
       " <Element a at 0x6f2d818>,\n",
       " <Element a at 0x6f2d868>,\n",
       " <Element a at 0x6f2d8b8>,\n",
       " <Element a at 0x6f2d908>,\n",
       " <Element a at 0x6f2d958>,\n",
       " <Element a at 0x6f2d9a8>,\n",
       " <Element a at 0x6f2d9f8>,\n",
       " <Element a at 0x6f2da48>,\n",
       " <Element a at 0x6f2da98>,\n",
       " <Element a at 0x6f2dae8>,\n",
       " <Element a at 0x6f2db38>,\n",
       " <Element a at 0x6f2db88>,\n",
       " <Element a at 0x6f2dbd8>,\n",
       " <Element a at 0x6f2dc28>,\n",
       " <Element a at 0x6f2dc78>,\n",
       " <Element a at 0x6f2dcc8>,\n",
       " <Element a at 0x6f2dd18>,\n",
       " <Element a at 0x6f2dd68>,\n",
       " <Element a at 0x6f2ddb8>,\n",
       " <Element a at 0x6f2de08>,\n",
       " <Element a at 0x6f2de58>,\n",
       " <Element a at 0x6f2dea8>,\n",
       " <Element a at 0x6f2def8>,\n",
       " <Element a at 0x6f2df48>,\n",
       " <Element a at 0x6f2df98>,\n",
       " <Element a at 0x6f2e048>,\n",
       " <Element a at 0x6f2e098>,\n",
       " <Element a at 0x6f2e0e8>,\n",
       " <Element a at 0x6f2e138>,\n",
       " <Element a at 0x6f2e188>,\n",
       " <Element a at 0x6f2e1d8>,\n",
       " <Element a at 0x6f2e228>,\n",
       " <Element a at 0x6f2e278>,\n",
       " <Element a at 0x6f2e2c8>,\n",
       " <Element a at 0x6f2e318>,\n",
       " <Element a at 0x6f2e368>,\n",
       " <Element a at 0x6f2e3b8>,\n",
       " <Element a at 0x6f2e408>,\n",
       " <Element a at 0x6f2e458>,\n",
       " <Element a at 0x6f2e4a8>,\n",
       " <Element a at 0x6f2e4f8>,\n",
       " <Element a at 0x6f2e548>,\n",
       " <Element a at 0x6f2e598>,\n",
       " <Element a at 0x6f2e5e8>,\n",
       " <Element a at 0x6f2e638>,\n",
       " <Element a at 0x6f2e688>,\n",
       " <Element a at 0x6f2e6d8>,\n",
       " <Element a at 0x6f2e728>,\n",
       " <Element a at 0x6f2e778>,\n",
       " <Element a at 0x6f2e7c8>,\n",
       " <Element a at 0x6f2e818>,\n",
       " <Element a at 0x6f2e868>,\n",
       " <Element a at 0x6f2e8b8>,\n",
       " <Element a at 0x6f2e908>,\n",
       " <Element a at 0x6f2e958>,\n",
       " <Element a at 0x6f2e9a8>,\n",
       " <Element a at 0x6f2e9f8>,\n",
       " <Element a at 0x6f2ea48>,\n",
       " <Element a at 0x6f2ea98>,\n",
       " <Element a at 0x6f2eae8>,\n",
       " <Element a at 0x6f2eb38>,\n",
       " <Element a at 0x6f2eb88>,\n",
       " <Element a at 0x6f2ebd8>,\n",
       " <Element a at 0x6f2ec28>,\n",
       " <Element a at 0x6f2ec78>,\n",
       " <Element a at 0x6f2ecc8>,\n",
       " <Element a at 0x6f2ed18>,\n",
       " <Element a at 0x6f2ed68>,\n",
       " <Element a at 0x6f2edb8>,\n",
       " <Element a at 0x6f2ee08>,\n",
       " <Element a at 0x6f2ee58>,\n",
       " <Element a at 0x6f2eea8>,\n",
       " <Element a at 0x6f2eef8>,\n",
       " <Element a at 0x6f2ef48>,\n",
       " <Element a at 0x6f2ef98>,\n",
       " <Element a at 0x6f2f048>,\n",
       " <Element a at 0x6f2f098>,\n",
       " <Element a at 0x6f2f0e8>,\n",
       " <Element a at 0x6f2f138>,\n",
       " <Element a at 0x6f2f188>,\n",
       " <Element a at 0x6f2f1d8>,\n",
       " <Element a at 0x6f2f228>,\n",
       " <Element a at 0x6f2f278>,\n",
       " <Element a at 0x6f2f2c8>,\n",
       " <Element a at 0x6f2f318>,\n",
       " <Element a at 0x6f2f368>,\n",
       " <Element a at 0x6f2f3b8>,\n",
       " <Element a at 0x6f2f408>,\n",
       " <Element a at 0x6f2f458>,\n",
       " <Element a at 0x6f2f4a8>,\n",
       " <Element a at 0x6f2f4f8>,\n",
       " <Element a at 0x6f2f548>,\n",
       " <Element a at 0x6f2f598>,\n",
       " <Element a at 0x6f2f5e8>,\n",
       " <Element a at 0x6f2f638>,\n",
       " <Element a at 0x6f2f688>,\n",
       " <Element a at 0x6f2f6d8>,\n",
       " <Element a at 0x6f2f728>,\n",
       " <Element a at 0x6f2f778>,\n",
       " <Element a at 0x6f2f7c8>,\n",
       " <Element a at 0x6f2f818>,\n",
       " <Element a at 0x6f2f868>,\n",
       " <Element a at 0x6f2f8b8>,\n",
       " <Element a at 0x6f2f908>,\n",
       " <Element a at 0x6f2f958>,\n",
       " <Element a at 0x6f2f9a8>,\n",
       " <Element a at 0x6f2f9f8>,\n",
       " <Element a at 0x6f2fa48>,\n",
       " <Element a at 0x6f2fa98>,\n",
       " <Element a at 0x6f2fae8>,\n",
       " <Element a at 0x6f2fb38>]"
      ]
     },
     "execution_count": 15,
     "metadata": {},
     "output_type": "execute_result"
    }
   ],
   "source": [
    "root.cssselect('a')"
   ]
  },
  {
   "cell_type": "markdown",
   "metadata": {},
   "source": [
    "## 속성\n",
    "HTML 태그는 **속성**(attribute)라는 추가 정보를 포함한다. 대표적인 것은 다음과 같다.\n",
    "\n",
    "- `id`: 노드의 고유 아이디\n",
    "- `class`: 노드의 서식 유형\n",
    "- `href`: `a` 태그에만 사용. 링크된 주소.\n",
    "\n",
    "## CSS 선택자\n",
    "- HTML에서 특정 노드를 선택하기 위한 표기법\n",
    "- `.cssselect` 함수에 사용한다\n",
    "\n",
    "## 클래스의 선택자\n",
    "- 특정 class의 태그를 지정할 때는 `태그.클래스`와 같이 `.`으로 표시한다\n",
    "- 선택자에서 `p.tit`는 HTML에서 `<p class=\"tit\">`"
   ]
  },
  {
   "cell_type": "code",
   "execution_count": 16,
   "metadata": {},
   "outputs": [
    {
     "data": {
      "text/plain": [
       "[<Element em at 0x6f2fd68>,\n",
       " <Element em at 0x6f2fd18>,\n",
       " <Element em at 0x6f2fea8>,\n",
       " <Element em at 0x6f2fef8>,\n",
       " <Element em at 0x6f2ff48>,\n",
       " <Element em at 0x6f2ff98>,\n",
       " <Element em at 0x6f37048>,\n",
       " <Element em at 0x6f37098>,\n",
       " <Element em at 0x6f370e8>,\n",
       " <Element em at 0x6f37138>,\n",
       " <Element em at 0x6f37188>,\n",
       " <Element em at 0x6f371d8>,\n",
       " <Element em at 0x6f37228>,\n",
       " <Element em at 0x6f37278>,\n",
       " <Element em at 0x6f372c8>,\n",
       " <Element em at 0x6f37318>,\n",
       " <Element em at 0x6f37368>,\n",
       " <Element em at 0x6f373b8>]"
      ]
     },
     "execution_count": 16,
     "metadata": {},
     "output_type": "execute_result"
    }
   ],
   "source": [
    "root.cssselect('em.cr')"
   ]
  },
  {
   "cell_type": "markdown",
   "metadata": {},
   "source": [
    "## 클래스가 2개일 때\n",
    "- `태그.클래스1.클래스2`와 같이 `.`으로 구분하여 표시한다\n",
    "- 선택자에서 `p.tit.ellipsis`는 HTML에서 `<p class=\"tit ellipsis\">`\n",
    "- `p.tit`이나 `p.ellipsis`만 해도 `p.tit.ellipsis`는 선택 된다\n",
    "\n",
    "## 포함관계인 노드의 선택자\n",
    "```html\n",
    "<p class=\"tit ellipsis\">\n",
    "    <a href=\"...\">아우디 A8</a>\n",
    "</p>\n",
    "```\n",
    "- 위의 예는 `p` 태그 안에 `a` 태그가 포함됨\n",
    "- 선택자에서 포함관계는 공백으로 표시: `p.tit a`"
   ]
  },
  {
   "cell_type": "code",
   "execution_count": 17,
   "metadata": {},
   "outputs": [],
   "source": [
    "links = root.cssselect('p.tit a')"
   ]
  },
  {
   "cell_type": "code",
   "execution_count": 18,
   "metadata": {},
   "outputs": [
    {
     "data": {
      "text/plain": [
       "[<Element a at 0x6f2c318>,\n",
       " <Element a at 0x6f2c548>,\n",
       " <Element a at 0x6f2c7c8>,\n",
       " <Element a at 0x6f2ca48>,\n",
       " <Element a at 0x6f2cc78>,\n",
       " <Element a at 0x6f2cea8>,\n",
       " <Element a at 0x6f2d138>,\n",
       " <Element a at 0x6f2d318>,\n",
       " <Element a at 0x6f2d548>,\n",
       " <Element a at 0x6f2d7c8>,\n",
       " <Element a at 0x6f2d9f8>,\n",
       " <Element a at 0x6f2dc28>,\n",
       " <Element a at 0x6f2de08>,\n",
       " <Element a at 0x6f2e098>,\n",
       " <Element a at 0x6f2e2c8>,\n",
       " <Element a at 0x6f2e4a8>,\n",
       " <Element a at 0x6f2e6d8>,\n",
       " <Element a at 0x6f2e908>,\n",
       " <Element a at 0x6f2eb38>,\n",
       " <Element a at 0x6f2ed68>]"
      ]
     },
     "execution_count": 18,
     "metadata": {},
     "output_type": "execute_result"
    }
   ],
   "source": [
    "links"
   ]
  },
  {
   "cell_type": "markdown",
   "metadata": {},
   "source": [
    "## href 속성 모으기\n",
    "\n",
    "링크의 걸린 주소를 수집한다"
   ]
  },
  {
   "cell_type": "code",
   "execution_count": 19,
   "metadata": {},
   "outputs": [],
   "source": [
    "link = links[0]"
   ]
  },
  {
   "cell_type": "code",
   "execution_count": 20,
   "metadata": {},
   "outputs": [
    {
     "data": {
      "text/plain": [
       "'/mycar/mycar_view.php?no=1979038&gubun=K'"
      ]
     },
     "execution_count": 20,
     "metadata": {},
     "output_type": "execute_result"
    }
   ],
   "source": [
    "link.attrib['href'] "
   ]
  },
  {
   "cell_type": "code",
   "execution_count": 21,
   "metadata": {},
   "outputs": [
    {
     "name": "stdout",
     "output_type": "stream",
     "text": [
      "/mycar/mycar_view.php?no=1979038&gubun=K\n",
      "/mycar/mycar_view.php?no=1964393&gubun=I\n",
      "/mycar/mycar_view.php?no=1978673&gubun=I\n",
      "/mycar/mycar_view.php?no=1979592&gubun=K\n",
      "/mycar/mycar_view.php?no=1979595&gubun=K\n",
      "/mycar/mycar_view.php?no=1979601&gubun=K\n",
      "/mycar/mycar_view.php?no=1981793&gubun=K\n",
      "/mycar/mycar_view.php?no=1981602&gubun=K\n",
      "/mycar/mycar_view.php?no=1867560&gubun=I\n",
      "/mycar/mycar_view.php?no=1899895&gubun=K\n",
      "/mycar/mycar_view.php?no=1909585&gubun=K\n",
      "/mycar/mycar_view.php?no=1968098&gubun=I\n",
      "/mycar/mycar_view.php?no=1791298&gubun=K\n",
      "/mycar/mycar_view.php?no=1888622&gubun=K\n",
      "/mycar/mycar_view.php?no=1909162&gubun=K\n",
      "/mycar/mycar_view.php?no=1905814&gubun=K\n",
      "/mycar/mycar_view.php?no=1979646&gubun=K\n",
      "/mycar/mycar_view.php?no=1979653&gubun=K\n",
      "/mycar/mycar_view.php?no=1979907&gubun=K\n",
      "/mycar/mycar_view.php?no=1981820&gubun=K\n"
     ]
    }
   ],
   "source": [
    "for link in links:\n",
    "    print(link.attrib['href'])"
   ]
  },
  {
   "cell_type": "code",
   "execution_count": 22,
   "metadata": {},
   "outputs": [
    {
     "data": {
      "text/plain": [
       "[1, 2, 3, 5]"
      ]
     },
     "execution_count": 22,
     "metadata": {},
     "output_type": "execute_result"
    }
   ],
   "source": [
    "x = [1,2,3]\n",
    "x.append(5)\n",
    "x"
   ]
  },
  {
   "cell_type": "code",
   "execution_count": 23,
   "metadata": {},
   "outputs": [],
   "source": [
    "urls = []\n",
    "for link in links:\n",
    "    urls.append(link.attrib['href'])"
   ]
  },
  {
   "cell_type": "code",
   "execution_count": 24,
   "metadata": {},
   "outputs": [
    {
     "data": {
      "text/plain": [
       "['/mycar/mycar_view.php?no=1979038&gubun=K',\n",
       " '/mycar/mycar_view.php?no=1964393&gubun=I',\n",
       " '/mycar/mycar_view.php?no=1978673&gubun=I',\n",
       " '/mycar/mycar_view.php?no=1979592&gubun=K',\n",
       " '/mycar/mycar_view.php?no=1979595&gubun=K',\n",
       " '/mycar/mycar_view.php?no=1979601&gubun=K',\n",
       " '/mycar/mycar_view.php?no=1981793&gubun=K',\n",
       " '/mycar/mycar_view.php?no=1981602&gubun=K',\n",
       " '/mycar/mycar_view.php?no=1867560&gubun=I',\n",
       " '/mycar/mycar_view.php?no=1899895&gubun=K',\n",
       " '/mycar/mycar_view.php?no=1909585&gubun=K',\n",
       " '/mycar/mycar_view.php?no=1968098&gubun=I',\n",
       " '/mycar/mycar_view.php?no=1791298&gubun=K',\n",
       " '/mycar/mycar_view.php?no=1888622&gubun=K',\n",
       " '/mycar/mycar_view.php?no=1909162&gubun=K',\n",
       " '/mycar/mycar_view.php?no=1905814&gubun=K',\n",
       " '/mycar/mycar_view.php?no=1979646&gubun=K',\n",
       " '/mycar/mycar_view.php?no=1979653&gubun=K',\n",
       " '/mycar/mycar_view.php?no=1979907&gubun=K',\n",
       " '/mycar/mycar_view.php?no=1981820&gubun=K']"
      ]
     },
     "execution_count": 24,
     "metadata": {},
     "output_type": "execute_result"
    }
   ],
   "source": [
    "urls"
   ]
  },
  {
   "cell_type": "markdown",
   "metadata": {},
   "source": [
    "## 상대주소\n",
    "\n",
    "- `/mycar/mycar_view.php?no=1944109&gubun=K`는 스키마와 호스트가 생략된 상대주소\n",
    "\n",
    "- 원래 주소 `http://www.bobaedream.co.kr/mycar/mycar_list.php?sel_m_gubun=ALL&page=2`를 이용해 절대주소로 변환"
   ]
  },
  {
   "cell_type": "code",
   "execution_count": 25,
   "metadata": {},
   "outputs": [],
   "source": [
    "import urllib.parse"
   ]
  },
  {
   "cell_type": "code",
   "execution_count": 26,
   "metadata": {},
   "outputs": [
    {
     "data": {
      "text/plain": [
       "'http://www.bobaedream.co.kr/mycar/mycar_view.php?no=1944109&gubun=K'"
      ]
     },
     "execution_count": 26,
     "metadata": {},
     "output_type": "execute_result"
    }
   ],
   "source": [
    "urllib.parse.urljoin(url, '/mycar/mycar_view.php?no=1944109&gubun=K')"
   ]
  },
  {
   "cell_type": "markdown",
   "metadata": {},
   "source": [
    "링크된 주소를 절대 주소로 수집"
   ]
  },
  {
   "cell_type": "code",
   "execution_count": 27,
   "metadata": {},
   "outputs": [],
   "source": [
    "urls = []\n",
    "for link in links:\n",
    "    href = urllib.parse.urljoin(url, link.attrib['href'])\n",
    "    urls.append(href)"
   ]
  },
  {
   "cell_type": "code",
   "execution_count": 28,
   "metadata": {},
   "outputs": [
    {
     "data": {
      "text/plain": [
       "['http://www.bobaedream.co.kr/mycar/mycar_view.php?no=1979038&gubun=K',\n",
       " 'http://www.bobaedream.co.kr/mycar/mycar_view.php?no=1964393&gubun=I',\n",
       " 'http://www.bobaedream.co.kr/mycar/mycar_view.php?no=1978673&gubun=I',\n",
       " 'http://www.bobaedream.co.kr/mycar/mycar_view.php?no=1979592&gubun=K',\n",
       " 'http://www.bobaedream.co.kr/mycar/mycar_view.php?no=1979595&gubun=K',\n",
       " 'http://www.bobaedream.co.kr/mycar/mycar_view.php?no=1979601&gubun=K',\n",
       " 'http://www.bobaedream.co.kr/mycar/mycar_view.php?no=1981793&gubun=K',\n",
       " 'http://www.bobaedream.co.kr/mycar/mycar_view.php?no=1981602&gubun=K',\n",
       " 'http://www.bobaedream.co.kr/mycar/mycar_view.php?no=1867560&gubun=I',\n",
       " 'http://www.bobaedream.co.kr/mycar/mycar_view.php?no=1899895&gubun=K',\n",
       " 'http://www.bobaedream.co.kr/mycar/mycar_view.php?no=1909585&gubun=K',\n",
       " 'http://www.bobaedream.co.kr/mycar/mycar_view.php?no=1968098&gubun=I',\n",
       " 'http://www.bobaedream.co.kr/mycar/mycar_view.php?no=1791298&gubun=K',\n",
       " 'http://www.bobaedream.co.kr/mycar/mycar_view.php?no=1888622&gubun=K',\n",
       " 'http://www.bobaedream.co.kr/mycar/mycar_view.php?no=1909162&gubun=K',\n",
       " 'http://www.bobaedream.co.kr/mycar/mycar_view.php?no=1905814&gubun=K',\n",
       " 'http://www.bobaedream.co.kr/mycar/mycar_view.php?no=1979646&gubun=K',\n",
       " 'http://www.bobaedream.co.kr/mycar/mycar_view.php?no=1979653&gubun=K',\n",
       " 'http://www.bobaedream.co.kr/mycar/mycar_view.php?no=1979907&gubun=K',\n",
       " 'http://www.bobaedream.co.kr/mycar/mycar_view.php?no=1981820&gubun=K']"
      ]
     },
     "execution_count": 28,
     "metadata": {},
     "output_type": "execute_result"
    }
   ],
   "source": [
    "urls"
   ]
  },
  {
   "cell_type": "markdown",
   "metadata": {},
   "source": [
    "링크에서 텍스트를 추출"
   ]
  },
  {
   "cell_type": "code",
   "execution_count": 29,
   "metadata": {},
   "outputs": [],
   "source": [
    "texts = []\n",
    "for link in links:\n",
    "    texts.append(link.text_content())"
   ]
  },
  {
   "cell_type": "code",
   "execution_count": 30,
   "metadata": {},
   "outputs": [
    {
     "data": {
      "text/plain": [
       "['현대 아반떼MD M16 GDi  럭셔리',\n",
       " 'BMW 뉴 520d xDrive M 스포츠 팩 G30',\n",
       " 'BMW 528i xDrive',\n",
       " '현대 그랜져HG 300 프리미엄',\n",
       " '현대 아반떼MD M16 GDi  스마트',\n",
       " '현대 제네시스 BH330  그랜드',\n",
       " '케이씨 노블 클라쎄 카니발',\n",
       " '쌍용 G4 렉스턴 2.2 디젤 4WD 헤리티지',\n",
       " 'BMW i3 솔 플러스',\n",
       " '현대 포터Ⅱ 윙바디',\n",
       " 'GM대우 노부스 7톤 카고',\n",
       " '벤츠 스프린터 밴',\n",
       " 'GM대우 노부스 11.5톤 카고',\n",
       " '기아 쏘렌토 2.5 TLX 4WD 고급형',\n",
       " '현대 포터Ⅱ 냉동탑차',\n",
       " '현대 갤로퍼2 7인승 롱바디 인터쿨러 슈퍼 고급형',\n",
       " '르노삼성 SM6 1.6 TCe  LE',\n",
       " '르노삼성 QM6 2.0 dCi 2WD  SE',\n",
       " '현대 아반떼MD M16 GDi 프리미엄',\n",
       " '기아 더 뉴 모하비 3.0 디젤 상시4WD  프레지던트']"
      ]
     },
     "execution_count": 30,
     "metadata": {},
     "output_type": "execute_result"
    }
   ],
   "source": [
    "texts"
   ]
  },
  {
   "cell_type": "markdown",
   "metadata": {},
   "source": [
    "수집된 주소를 저장"
   ]
  },
  {
   "cell_type": "code",
   "execution_count": 31,
   "metadata": {},
   "outputs": [],
   "source": [
    "import pandas"
   ]
  },
  {
   "cell_type": "code",
   "execution_count": 32,
   "metadata": {},
   "outputs": [],
   "source": [
    "df = pandas.DataFrame({'url': urls, 'text': texts})"
   ]
  },
  {
   "cell_type": "code",
   "execution_count": 33,
   "metadata": {},
   "outputs": [
    {
     "data": {
      "text/html": [
       "<div>\n",
       "<style scoped>\n",
       "    .dataframe tbody tr th:only-of-type {\n",
       "        vertical-align: middle;\n",
       "    }\n",
       "\n",
       "    .dataframe tbody tr th {\n",
       "        vertical-align: top;\n",
       "    }\n",
       "\n",
       "    .dataframe thead th {\n",
       "        text-align: right;\n",
       "    }\n",
       "</style>\n",
       "<table border=\"1\" class=\"dataframe\">\n",
       "  <thead>\n",
       "    <tr style=\"text-align: right;\">\n",
       "      <th></th>\n",
       "      <th>url</th>\n",
       "      <th>text</th>\n",
       "    </tr>\n",
       "  </thead>\n",
       "  <tbody>\n",
       "    <tr>\n",
       "      <th>0</th>\n",
       "      <td>http://www.bobaedream.co.kr/mycar/mycar_view.p...</td>\n",
       "      <td>현대 아반떼MD M16 GDi  럭셔리</td>\n",
       "    </tr>\n",
       "    <tr>\n",
       "      <th>1</th>\n",
       "      <td>http://www.bobaedream.co.kr/mycar/mycar_view.p...</td>\n",
       "      <td>BMW 뉴 520d xDrive M 스포츠 팩 G30</td>\n",
       "    </tr>\n",
       "    <tr>\n",
       "      <th>2</th>\n",
       "      <td>http://www.bobaedream.co.kr/mycar/mycar_view.p...</td>\n",
       "      <td>BMW 528i xDrive</td>\n",
       "    </tr>\n",
       "    <tr>\n",
       "      <th>3</th>\n",
       "      <td>http://www.bobaedream.co.kr/mycar/mycar_view.p...</td>\n",
       "      <td>현대 그랜져HG 300 프리미엄</td>\n",
       "    </tr>\n",
       "    <tr>\n",
       "      <th>4</th>\n",
       "      <td>http://www.bobaedream.co.kr/mycar/mycar_view.p...</td>\n",
       "      <td>현대 아반떼MD M16 GDi  스마트</td>\n",
       "    </tr>\n",
       "  </tbody>\n",
       "</table>\n",
       "</div>"
      ],
      "text/plain": [
       "                                                 url  \\\n",
       "0  http://www.bobaedream.co.kr/mycar/mycar_view.p...   \n",
       "1  http://www.bobaedream.co.kr/mycar/mycar_view.p...   \n",
       "2  http://www.bobaedream.co.kr/mycar/mycar_view.p...   \n",
       "3  http://www.bobaedream.co.kr/mycar/mycar_view.p...   \n",
       "4  http://www.bobaedream.co.kr/mycar/mycar_view.p...   \n",
       "\n",
       "                            text  \n",
       "0          현대 아반떼MD M16 GDi  럭셔리  \n",
       "1  BMW 뉴 520d xDrive M 스포츠 팩 G30  \n",
       "2                BMW 528i xDrive  \n",
       "3              현대 그랜져HG 300 프리미엄  \n",
       "4          현대 아반떼MD M16 GDi  스마트  "
      ]
     },
     "execution_count": 33,
     "metadata": {},
     "output_type": "execute_result"
    }
   ],
   "source": [
    "df.head()"
   ]
  },
  {
   "cell_type": "code",
   "execution_count": 34,
   "metadata": {},
   "outputs": [],
   "source": [
    "df.to_excel('중고차.xlsx')"
   ]
  },
  {
   "cell_type": "markdown",
   "metadata": {},
   "source": [
    "# 웹 스크랩 2"
   ]
  },
  {
   "cell_type": "markdown",
   "metadata": {},
   "source": [
    "## 네이버 의사모\n",
    "- PC버전: https://cafe.naver.com/duoin\n",
    "- 모바일버전: https://m.cafe.naver.com/duoin\n",
    "\n",
    "모바일 버전은 주소 m이 들어가있는 형태가 많음\n",
    "\n",
    "## 본문 긁기\n",
    "https://m.cafe.naver.com/ArticleRead.nhn?clubid=19773565&articleid=83048&page=1&boardtype=L&menuid=366"
   ]
  },
  {
   "cell_type": "code",
   "execution_count": 35,
   "metadata": {},
   "outputs": [],
   "source": [
    "import requests\n",
    "article_url = 'https://m.cafe.naver.com/ArticleRead.nhn?clubid=19773565&articleid=83048&page=1&boardtype=L&menuid=366'"
   ]
  },
  {
   "cell_type": "code",
   "execution_count": 36,
   "metadata": {},
   "outputs": [],
   "source": [
    "res = requests.get(article_url)"
   ]
  },
  {
   "cell_type": "markdown",
   "metadata": {},
   "source": [
    "## id 선택자\n",
    "\n",
    "- 본문 영역은 다음 태그로 감싸여 있다\n",
    "\n",
    "```html\n",
    "<div id=\"postContent\" class=\"post_cont font_zoom1\" style=\"overflow-x:auto;\">\n",
    "```\n",
    "\n",
    "- `id`는 선택자에서 `#`으로 표시"
   ]
  },
  {
   "cell_type": "code",
   "execution_count": 37,
   "metadata": {},
   "outputs": [],
   "source": [
    "import lxml.html\n",
    "root = lxml.html.fromstring(res.text)"
   ]
  },
  {
   "cell_type": "code",
   "execution_count": 38,
   "metadata": {},
   "outputs": [
    {
     "data": {
      "text/plain": [
       "[<Element div at 0x95ddd18>]"
      ]
     },
     "execution_count": 38,
     "metadata": {},
     "output_type": "execute_result"
    }
   ],
   "source": [
    "root.cssselect('div#postContent')"
   ]
  },
  {
   "cell_type": "markdown",
   "metadata": {},
   "source": [
    "## 본문 내용 보기\n",
    "\n",
    "- `cssselect`는 결과를 항상 리스트 형식으로 반환\n",
    "- 본문은 리스트의 첫번째 값이므로 0번을 지정"
   ]
  },
  {
   "cell_type": "code",
   "execution_count": 39,
   "metadata": {},
   "outputs": [],
   "source": [
    "content = root.cssselect('div#postContent')[0]"
   ]
  },
  {
   "cell_type": "code",
   "execution_count": 40,
   "metadata": {},
   "outputs": [
    {
     "data": {
      "text/plain": [
       "'\\n\\n\\t\\t \\n\\t\\t \\n\\t     \\n\\t\\n\\t\\t\\n\\t\\t\\n\\t\\t\\t\\n\\t\\t\\t\\n\\t\\t\\t\\t \\n  \\n   \\n   \\n    \\n    지난 영진산업 스피드랙 체인지업에 이어 이번에는 상도가구 몬스터랙을 검증해 보기로 하였습니다.\\n    \\n    \\n    \\u200b\\n    \\n    \\n    일단 저는 1차 검증의 내용부터 밝혀보겠습니다.\\n    \\n    \\n    \\u200b\\n    \\n    \\n    \\u200b\\n    \\n    \\n    http://www.sangdogagu.co.kr/shop/shopdetail.html?branduid=971834&xcode=073&mcode=005&scode=001&type=Y&sort=manual&cur_code=073005&GfDT=bm51W1o%3D\\n    \\n    \\n   \\n   \\n    \\n     \\n      \\n       \\n          \\n       \\n       \\n        \\n        \\n        상도가구 \\n        가구의 모든것 상도가구,대량구매,사무용가구 \\n        <=\"www.sangdogagu.co.kr<\" p=\"p\" style=\"overflow:hidden;color:rgb(0, 168, 50);white-space:nowrap;word-break:break-all;font-size:13px;margin-top:9px;text-overflow:ellipsis\"> \\n        \\n       \\n      \\n     \\n    \\n   \\n   \\n   \\n    \\n    \\u200b\\n    \\n    \\n    \\u200b\\n    \\n    \\n    \\u200b\\n    \\n    \\n   \\n   \\n    \\n     \\n        \\n     \\n    \\n   \\n   \\n    \\n     \\n        \\n     \\n      상도가구 쇼핑몰 게시정보\\n      \\n     \\n    \\n   \\n   \\n   \\n    \\n    \\u200b\\n    \\n    \\n    \\u200b\\n    \\n    \\n    \\u200b\\n    \\n    \\n   \\n   \\n    \\n     \\n      \\n       \\n       \\n        \\n         \\n          \\n          \\u200b\\n          \\n         \\n        \\n         \\n          \\n          상도가구 쇼핑몰 표시\\n          \\n         \\n        \\n         \\n          \\n          검증결과\\n          \\n         \\n        \\n         \\n          \\n          비고 \\n          \\n         \\n        \\n       \\n        \\n         \\n          \\n          규격\\n          \\n         \\n        \\n         \\n          \\n          180 x 80 x 40 (cm)\\n          \\n         \\n        \\n         \\n          \\n          180.5 x 80 x40.2 (cm)\\n          \\n         \\n        \\n         \\n          \\n          연결 브라켓과의 간섭으로 인한 차이가 있는 것으로 판단 됨\\n          \\n         \\n        \\n       \\n        \\n         \\n          \\n          구성품\\n          \\n         \\n        \\n         \\n          \\n          기둥 45cm 16개 / 기둥연결 브라켓 12개 / 가로받침 80cm 8개 / 가로 하프받침 80cm 5개 / 깊이받침 40cm 8개 \\n          \\n          \\n          선반 (80*40cm) 4개 / 안전좌(고무받침) 4개\\n          \\n         \\n        \\n         \\n          \\n          이상없음\\n          \\n         \\n        \\n         \\n          \\n          전용망치 포함\\n          \\n         \\n        \\n       \\n        \\n         \\n          \\n          소재\\n          \\n         \\n        \\n         \\n          \\n          초강력 강철프레임\\n          \\n         \\n        \\n         \\n          \\n          철재이나 초강력인지는 차후 \\n          \\n          \\n          검증\\n          \\n         \\n        \\n         \\n          \\n          \\u200b\\n          \\n         \\n        \\n       \\n        \\n         \\n          \\n          프레임 두께\\n          \\n         \\n        \\n         \\n          \\n          미표기\\n          \\n         \\n        \\n         \\n          \\n          1~1.1mm\\n          \\n         \\n        \\n         \\n          \\n          전체 검증제품 중 가장 두께 얇음 / 중량과 비례\\n          \\n         \\n        \\n       \\n        \\n         \\n          \\n          도막두께\\n          \\n         \\n        \\n         \\n          \\n          미표기\\n          \\n         \\n        \\n         \\n          \\n          0.1~0.15mm(SNG)\\n          \\n         \\n        \\n         \\n          \\n          블랙도장의 경우 매트블랙이 아닌 막도장 느낌이 듬\\n          \\n         \\n        \\n       \\n        \\n         \\n          \\n          철재중량\\n          \\n          \\n          프레임과 연결바 (합판은 제외)\\n          \\n         \\n        \\n         \\n          \\n          미표기\\n          \\n         \\n        \\n         \\n          \\n          10.24Kg\\n          \\n         \\n        \\n         \\n          \\n          전체 검증제품 중 가장 중량이 \\n          \\n          \\n          적음\\n          \\n         \\n        \\n       \\n        \\n         \\n          \\n          제조국\\n          \\n         \\n        \\n         \\n          \\n          중국\\n          \\n         \\n        \\n         \\n          \\n          \\u200b\\n          \\n         \\n        \\n         \\n          \\n          \\u200b\\n          \\n         \\n        \\n       \\n      \\n     \\n    \\n   \\n   \\n   \\n    \\n    \\u200b\\n    \\n    \\n    \\u200b\\n    \\n    \\n     \\n    \\n    \\n   \\n   \\n    \\n     \\n        \\n     \\n    \\n   \\n   \\n    \\n     \\n        \\n     \\n    \\n   \\n   \\n    \\n     \\n        \\n     \\n    \\n   \\n   \\n    \\n     \\n        \\n     \\n    \\n   \\n   \\n    \\n     \\n        \\n     \\n    \\n   \\n   \\n    \\n     \\n        \\n     \\n    \\n   \\n   \\n    \\n     \\n        \\n     \\n    \\n   \\n   \\n    \\n     \\n        \\n     \\n    \\n   \\n   \\n   \\n    \\n    \\u200b\\n    \\n    \\n    \\u200b\\n    \\n    \\n   \\n   \\n    \\n     \\n      \\n     \\n      상품포장 및 구성\\n      \\n      \\n      \\n     \\n    \\n   \\n   \\n   \\n    \\n    상도가구 몬스터랙은 통프레임 방식이 아닌 4단 연결구조 프레임 방식으로 합판선반과 함께 포장되어 배송되기 때문에 각각 분리되 배송되는 통프레임 방식의 제품들보다 편리합니다.\\n    \\n    \\n    \\u200b\\n    \\n    \\n    포장상태도 양호해 보였으나 연결부속은 눌려서 문제가 있었습니다.\\n    \\n    \\n    박스의 파손에 문제가 없었던 것으로 보아 국내 배송과정에서 발생한 문제는 아닌 것 같았습니다.\\n    \\n    \\n    \\u200b\\n    \\n    \\n    \\u200b\\n    \\n    \\n    \\u200b\\n    \\n    \\n   \\n   \\n    \\n     \\n      \\n     \\n      몬스터랙 실조립영상\\n      \\n     \\n      검증 마케터\\n      \\n      \\n     \\n    \\n   \\n   \\n   \\n    \\n    \\u200b\\n    \\n    \\n    https://youtu.be/PU2j7MGheBM\\n    \\n    \\n   \\n   \\n    \\n     \\n      \\n       \\n      \\n     \\n    \\n   \\n   \\n   \\n    \\n    \\u200b\\n    \\n    \\n    \\u200b\\n    \\n    \\n   \\n   \\n    \\n     \\n      \\n       \\n       \\n        \\n         \\n          \\n          조립소요시간\\n          \\n         \\n        \\n         \\n          \\n          약 21분\\n          \\n         \\n        \\n         \\n          \\n          단별조립\\n          \\n         \\n        \\n       \\n        \\n         \\n          \\n          난이도\\n          \\n         \\n        \\n         \\n          \\n          중하\\n          \\n         \\n        \\n         \\n          \\n          \\u200b\\n          \\n         \\n        \\n       \\n        \\n         \\n          \\n          특이사항\\n          \\n         \\n        \\n         \\n          \\n          4단 체결 프레임 방식\\n          \\n         \\n        \\n         \\n          \\n          다소 흔들림 있음\\n          \\n         \\n        \\n       \\n      \\n     \\n    \\n   \\n   \\n   \\n    \\n    \\u200b\\n    \\n    \\n   \\n   \\n    \\n     \\n     \\n      조립과정 후 특이사항\\n      \\n      \\n     \\n    \\n   \\n   \\n    \\n     \\n        \\n     \\n    \\n   \\n   \\n   \\n    \\n    \\u200b\\n    \\n    \\n    앞서 스피드랙 체인지업에서 설명한 바와 같이 몬스터랙도 6개의 상품중 가장 큰 빈공간이 있었습니다.\\n    \\n    \\n    내구성과 완성도에 영향을 줄 수 있는 부분이기도 합니다.\\n    \\n    \\n    공간이 적을 수록 수납되는 무게를 좀 더 고르게 분산 시킬 수 있습니다. \\n    \\n    \\n    \\u200b\\n    \\n    \\n    \\u200b\\n    \\n    \\n   \\n   \\n    \\n     \\n      \\n     \\n      1차 조립 및 검증결과\\n      \\n     \\n      검증마케터\\n      \\n      \\n     \\n    \\n   \\n   \\n   \\n    \\n    상도가구의 몬스터랙을 검증하면서 상도가구가 일부러 표시하지 않은 정보가 있음을 확인하였습니다.\\n    \\n    \\n    \\u200b\\n    \\n    \\n    1. 프레임 철재 두께 누락\\n    \\n    \\n    실제 몬스터랙(4단 기준)의 철재중량을 측정해 보니 10Kg 초반대라서 사실 놀랐습니다.\\n    \\n    \\n    스피드랙의 체인지업이 11Kg 초반대인데 많이 불안정 했는데 몬스터랙도 그러지는 않을까 걱정이 되었습니다.\\n    \\n    \\n    \\u200b\\n    \\n    \\n    그러나 스피드랙 체인지업은 얇은 철판(0.8mm)을 접어서 체결 부위를 숨긴형태 이나 몬스터랙은 일반적인 랙과 동일한 구조이지만 프레임 체결방식은 스피드랙과 같아도 좀 더 안정감이 있었습니다.\\n    \\n    \\n    \\u200b\\n    \\n    \\n    하지만, 몬스터랙 플러스는 스피드랙의 체인지업과 동일한 디자인과 조립방식을 하고 있습니다.\\n    \\n    \\n    따라서 몬스터랙 플러스도 불안정한 건 마찬가지일 것으로 생각되나 이후에 검증해 보려고 합니다.\\n    \\n    \\n    \\u200b\\n    \\n    \\n    비교검증한 가정용 선반랙들은 판매 사이트에서 철재 프레임에 대해 명시하고 있어 소비자들이 좀 더 내구성 있는 제품이라는 것에 대한 판단을 하는 중요한 수치가 됩니다만 상도가구에서는 두께에 대한 내용을 표시하지 않고 \\'초강력 강철프레임\\'으로만 소개하고 있습니다.\\n    \\n    \\n    다른 선반랙들과 수치상 비교를 피하기 위하여 의도적으로 철재 두께를 표시하지 않은 것으로 생각됩니다.\\n    \\n    \\n    \\u200b\\n    \\n    \\n    상도가구에서도 소비자의 객관적으로 선택할 수 있게끔 철판에 대한 수치를 게시하여 주시기 바랍니다.\\n    \\n    \\n     \\n    \\n    \\n    \\u200b\\n    \\n    \\n    \\u200b\\n    \\n    \\n    2. 선반의 친환경 등급 누락\\n    \\n    \\n    합판 선반의 경우 타 업체들의 선반보다 품질이 뛰어나다고 판단되었습니다.\\n    \\n    \\n    고급스럽고 더 튼튼한 느낌을 받았습니다.\\n    \\n    \\n    하지만, 타 업체에서는 친환경 E1등급이라고 표시하였는데 몬스터랙은 확인하기 어려웠습니다.\\n    \\n    \\n    이부분도 제조국이 중국이라 국내 실정에 맞게 하지 못하는 이유가 있어 게시하지 않은 것으로 보입니다.\\n    \\n    \\n    \\u200b\\n    \\n    \\n    \\u200b\\n    \\n    \\n    결론\\n    \\n    \\n    \\u200b\\n    \\n    \\n    제일 먼저 검증한 스피드랙 체인지업과 유사한 조립방식의 4프레임 연결구조 임에도 체인지업 보다는 안정감이 있었으나 철제의 중량이 적고 선반 모서리 마다 공간이 큼으로 인해 표시한 적정 하중을 견디어 줄지는 아직 알 수가 없습니다.\\n    \\n    \\n    이부분은 모든 제품의 조립 및 1차검증이 완료된 후 모든 브랜드의 랙을 가혹하게 테스트 할 예정입니다.\\n    \\n    \\n    \\u200b\\n    \\n    \\n    블랙도장은 사실 일반적인 매트하거나 유광이 있는 블랙과 달리 좀 저렴한 막도장 같은 느낌을 지울 수 없습니다.\\n    \\n    \\n    제조국이 중국이라는 선입견을 버리기 어려운 것도 사실 이부분 입니다.\\n    \\n    \\n     \\n    \\n    \\n    철재중량이 가장적고 두께도 가장 얇지만 그에 비해 튼튼하게 느껴지는 건 몬스터랙의 큰 장점입니다.\\n    \\n    \\n    다만, 그것이 단지 제 개인적인 느낌일 뿐이고 실제로 여러 테스트를 하였을때 어떤 결과가 있을지는 확인을 해보아야 겠습니다.\\n    \\n    \\n    \\u200b\\n    \\n    \\n    기업이 타 경쟁사보다 불리한 내용이 있으면 굳이 표시를 하지 않아도 상관은 없습니다.\\n    \\n    \\n    그러나 소비자의 선택을 위한 가이드와 안전을 이유로 가정용 선반랙의 경우는 철재의 두께와 무게는 의무적으로 표시하도록 제도화 해야한다고 저는 생각하면서 정부에게 건의 드리고 싶습니다. \\n    \\n    \\n    \\u200b\\n    \\n    \\n    \\u200b\\n    \\n    \\n   \\n   \\n    \\n     \\n        \\n     \\n    \\n   \\n  \\n\\n\\t\\t\\t\\n\\t\\t\\n\\t\\t\\n\\t\\t\\n\\n\\t\\t\\n\\n\\t\\t\\n\\t\\t\\r\\n\\r\\n\\r\\n\\r\\n\\r\\n\\r\\n\\r\\n\\n\\t\\t\\n\\n\\t\\t\\n\\t\\t\\r\\n\\r\\n\\r\\n\\r\\n\\r\\n\\r\\n\\r\\n\\n\\t\\t\\n\\t'"
      ]
     },
     "execution_count": 40,
     "metadata": {},
     "output_type": "execute_result"
    }
   ],
   "source": [
    "content.text_content()"
   ]
  },
  {
   "cell_type": "markdown",
   "metadata": {},
   "source": [
    "## 정규표현식으로 공백지우기\n",
    "\n",
    "- `\\n`, `\\t`는 엔터와 탭을 나타냄. \n",
    "- 공백문자는 택스트 분석에서 무시되므로 굳이 지울 필요는 없음\n",
    "- 깔끔하게 처리하고 싶으면\n",
    "- 불필요한 공백을 지우려면 다음과 같이 정규표현식 사용"
   ]
  },
  {
   "cell_type": "code",
   "execution_count": 41,
   "metadata": {},
   "outputs": [],
   "source": [
    "import re"
   ]
  },
  {
   "cell_type": "code",
   "execution_count": 42,
   "metadata": {},
   "outputs": [
    {
     "data": {
      "text/plain": [
       "' 지난 영진산업 스피드랙 체인지업에 이어 이번에는 상도가구 몬스터랙을 검증해 보기로 하였습니다. 일단 저는 1차 검증의 내용부터 밝혀보겠습니다. http://www.sangdogagu.co.kr/shop/shopdetail.html?branduid=971834&xcode=073&mcode=005&scode=001&type=Y&sort=manual&cur_code=073005&GfDT=bm51W1o%3D 상도가구 가구의 모든것 상도가구,대량구매,사무용가구 <=\"www.sangdogagu.co.kr<\" p=\"p\" style=\"overflow:hidden;color:rgb(0, 168, 50);white-space:nowrap;word-break:break-all;font-size:13px;margin-top:9px;text-overflow:ellipsis\"> 상도가구 쇼핑몰 게시정보 상도가구 쇼핑몰 표시 검증결과 비고 규격 180 x 80 x 40 (cm) 180.5 x 80 x40.2 (cm) 연결 브라켓과의 간섭으로 인한 차이가 있는 것으로 판단 됨 구성품 기둥 45cm 16개 / 기둥연결 브라켓 12개 / 가로받침 80cm 8개 / 가로 하프받침 80cm 5개 / 깊이받침 40cm 8개 선반 (80*40cm) 4개 / 안전좌(고무받침) 4개 이상없음 전용망치 포함 소재 초강력 강철프레임 철재이나 초강력인지는 차후 검증 프레임 두께 미표기 1~1.1mm 전체 검증제품 중 가장 두께 얇음 / 중량과 비례 도막두께 미표기 0.1~0.15mm(SNG) 블랙도장의 경우 매트블랙이 아닌 막도장 느낌이 듬 철재중량 프레임과 연결바 (합판은 제외) 미표기 10.24Kg 전체 검증제품 중 가장 중량이 적음 제조국 중국 상품포장 및 구성 상도가구 몬스터랙은 통프레임 방식이 아닌 4단 연결구조 프레임 방식으로 합판선반과 함께 포장되어 배송되기 때문에 각각 분리되 배송되는 통프레임 방식의 제품들보다 편리합니다. 포장상태도 양호해 보였으나 연결부속은 눌려서 문제가 있었습니다. 박스의 파손에 문제가 없었던 것으로 보아 국내 배송과정에서 발생한 문제는 아닌 것 같았습니다. 몬스터랙 실조립영상 검증 마케터 https://youtu.be/PU2j7MGheBM 조립소요시간 약 21분 단별조립 난이도 중하 특이사항 4단 체결 프레임 방식 다소 흔들림 있음 조립과정 후 특이사항 앞서 스피드랙 체인지업에서 설명한 바와 같이 몬스터랙도 6개의 상품중 가장 큰 빈공간이 있었습니다. 내구성과 완성도에 영향을 줄 수 있는 부분이기도 합니다. 공간이 적을 수록 수납되는 무게를 좀 더 고르게 분산 시킬 수 있습니다. 1차 조립 및 검증결과 검증마케터 상도가구의 몬스터랙을 검증하면서 상도가구가 일부러 표시하지 않은 정보가 있음을 확인하였습니다. 1. 프레임 철재 두께 누락 실제 몬스터랙(4단 기준)의 철재중량을 측정해 보니 10Kg 초반대라서 사실 놀랐습니다. 스피드랙의 체인지업이 11Kg 초반대인데 많이 불안정 했는데 몬스터랙도 그러지는 않을까 걱정이 되었습니다. 그러나 스피드랙 체인지업은 얇은 철판(0.8mm)을 접어서 체결 부위를 숨긴형태 이나 몬스터랙은 일반적인 랙과 동일한 구조이지만 프레임 체결방식은 스피드랙과 같아도 좀 더 안정감이 있었습니다. 하지만, 몬스터랙 플러스는 스피드랙의 체인지업과 동일한 디자인과 조립방식을 하고 있습니다. 따라서 몬스터랙 플러스도 불안정한 건 마찬가지일 것으로 생각되나 이후에 검증해 보려고 합니다. 비교검증한 가정용 선반랙들은 판매 사이트에서 철재 프레임에 대해 명시하고 있어 소비자들이 좀 더 내구성 있는 제품이라는 것에 대한 판단을 하는 중요한 수치가 됩니다만 상도가구에서는 두께에 대한 내용을 표시하지 않고 \\'초강력 강철프레임\\'으로만 소개하고 있습니다. 다른 선반랙들과 수치상 비교를 피하기 위하여 의도적으로 철재 두께를 표시하지 않은 것으로 생각됩니다. 상도가구에서도 소비자의 객관적으로 선택할 수 있게끔 철판에 대한 수치를 게시하여 주시기 바랍니다. 2. 선반의 친환경 등급 누락 합판 선반의 경우 타 업체들의 선반보다 품질이 뛰어나다고 판단되었습니다. 고급스럽고 더 튼튼한 느낌을 받았습니다. 하지만, 타 업체에서는 친환경 E1등급이라고 표시하였는데 몬스터랙은 확인하기 어려웠습니다. 이부분도 제조국이 중국이라 국내 실정에 맞게 하지 못하는 이유가 있어 게시하지 않은 것으로 보입니다. 결론 제일 먼저 검증한 스피드랙 체인지업과 유사한 조립방식의 4프레임 연결구조 임에도 체인지업 보다는 안정감이 있었으나 철제의 중량이 적고 선반 모서리 마다 공간이 큼으로 인해 표시한 적정 하중을 견디어 줄지는 아직 알 수가 없습니다. 이부분은 모든 제품의 조립 및 1차검증이 완료된 후 모든 브랜드의 랙을 가혹하게 테스트 할 예정입니다. 블랙도장은 사실 일반적인 매트하거나 유광이 있는 블랙과 달리 좀 저렴한 막도장 같은 느낌을 지울 수 없습니다. 제조국이 중국이라는 선입견을 버리기 어려운 것도 사실 이부분 입니다. 철재중량이 가장적고 두께도 가장 얇지만 그에 비해 튼튼하게 느껴지는 건 몬스터랙의 큰 장점입니다. 다만, 그것이 단지 제 개인적인 느낌일 뿐이고 실제로 여러 테스트를 하였을때 어떤 결과가 있을지는 확인을 해보아야 겠습니다. 기업이 타 경쟁사보다 불리한 내용이 있으면 굳이 표시를 하지 않아도 상관은 없습니다. 그러나 소비자의 선택을 위한 가이드와 안전을 이유로 가정용 선반랙의 경우는 철재의 두께와 무게는 의무적으로 표시하도록 제도화 해야한다고 저는 생각하면서 정부에게 건의 드리고 싶습니다. '"
      ]
     },
     "execution_count": 42,
     "metadata": {},
     "output_type": "execute_result"
    }
   ],
   "source": [
    "re.sub('[\\s\\u200b]+', ' ', content.text_content())"
   ]
  },
  {
   "cell_type": "markdown",
   "metadata": {},
   "source": [
    "## 정규표현식 설명\n",
    "\n",
    "- 정규표현식에서 `[]`는 교체할 글자 범위\n",
    "- `\\s`는 일반적 공백\n",
    "- `\\u200b는 유니코드의 `200B` 폭없는 공백 문자\n",
    "- 끝의 +는 1개 이상이라는 뜻\n",
    "- `[\\s\\u200b]+` '공백과 폭 없는 공백문자가 1개 이상 반복되는 경우'"
   ]
  },
  {
   "cell_type": "markdown",
   "metadata": {},
   "source": [
    "## 회원 전용 게시판\n",
    "\n",
    "- 모바일 버전으로 접속\n",
    "- 우상단 ☰ 버튼 클릭 후 아래쪽에서 찾음\n",
    "\n",
    "https://m.cafe.naver.com/ArticleList.nhn?search.clubid=19773565&search.menuid=98&search.boardtype=L\n",
    "\n",
    "- 대부분 게시물이 회원만 볼 수 있음\n",
    "\n",
    "https://m.cafe.naver.com/ArticleRead.nhn?clubid=19773565&articleid=82659&page=1&boardtype=L&menuid=98"
   ]
  },
  {
   "cell_type": "markdown",
   "metadata": {},
   "source": [
    "회원 전용 게시판 스크랩"
   ]
  },
  {
   "cell_type": "code",
   "execution_count": 43,
   "metadata": {},
   "outputs": [],
   "source": [
    "article_url = 'https://m.cafe.naver.com/ArticleRead.nhn?clubid=19773565&articleid=82659&page=1&boardtype=L&menuid=98'"
   ]
  },
  {
   "cell_type": "code",
   "execution_count": 44,
   "metadata": {},
   "outputs": [],
   "source": [
    "res = requests.get(article_url)"
   ]
  },
  {
   "cell_type": "code",
   "execution_count": 45,
   "metadata": {},
   "outputs": [],
   "source": [
    "root = lxml.html.fromstring(res.text)"
   ]
  },
  {
   "cell_type": "markdown",
   "metadata": {},
   "source": [
    "본문을 읽을 수 없음"
   ]
  },
  {
   "cell_type": "code",
   "execution_count": 46,
   "metadata": {},
   "outputs": [
    {
     "data": {
      "text/plain": [
       "[]"
      ]
     },
     "execution_count": 46,
     "metadata": {},
     "output_type": "execute_result"
    }
   ],
   "source": [
    "root.cssselect('#postContent')"
   ]
  },
  {
   "cell_type": "markdown",
   "metadata": {},
   "source": [
    "## 리퍼러 바꾸기\n",
    "\n",
    "- 대부분 네이버 카페 게시물은 검색을 통해서 들어가면 게시물을 볼 수 있음\n",
    "- 마치 검색을 거쳐온 것처럼 하면 회원 전용 게시물도 열람 가능\n",
    "- 리퍼러(referer): 거쳐온 주소"
   ]
  },
  {
   "cell_type": "code",
   "execution_count": 47,
   "metadata": {},
   "outputs": [],
   "source": [
    "search_url = 'https://search.naver.com/search.naver?sm=top_hty&fbm=1&ie=utf8&query=1'"
   ]
  },
  {
   "cell_type": "code",
   "execution_count": 48,
   "metadata": {},
   "outputs": [],
   "source": [
    "res = requests.get(article_url, headers={'Referer': search_url})"
   ]
  },
  {
   "cell_type": "code",
   "execution_count": 49,
   "metadata": {},
   "outputs": [],
   "source": [
    "root = lxml.html.fromstring(res.text)"
   ]
  },
  {
   "cell_type": "markdown",
   "metadata": {},
   "source": [
    "본문 영역이 선택됨"
   ]
  },
  {
   "cell_type": "code",
   "execution_count": 50,
   "metadata": {},
   "outputs": [
    {
     "data": {
      "text/plain": [
       "[<Element div at 0x9a4a408>]"
      ]
     },
     "execution_count": 50,
     "metadata": {},
     "output_type": "execute_result"
    }
   ],
   "source": [
    "root.cssselect('#postContent')"
   ]
  },
  {
   "cell_type": "markdown",
   "metadata": {},
   "source": [
    "## 한글이 깨지는 경우\n",
    "\n",
    "대법원 홈페이지에 접속하면 한글이 깨져보인다"
   ]
  },
  {
   "cell_type": "code",
   "execution_count": 51,
   "metadata": {},
   "outputs": [],
   "source": [
    "res = requests.get('http://scourt.go.kr/scourt/index.html')"
   ]
  },
  {
   "cell_type": "code",
   "execution_count": 52,
   "metadata": {},
   "outputs": [],
   "source": [
    "root = lxml.html.fromstring(res.text)"
   ]
  },
  {
   "cell_type": "code",
   "execution_count": 53,
   "metadata": {},
   "outputs": [
    {
     "data": {
      "text/plain": [
       "'´ëÇÑ¹Î±¹ ¹ý¿ø'"
      ]
     },
     "execution_count": 53,
     "metadata": {},
     "output_type": "execute_result"
    }
   ],
   "source": [
    "root.cssselect('title')[0].text_content()"
   ]
  },
  {
   "cell_type": "markdown",
   "metadata": {},
   "source": [
    "## 한글 인코딩\n",
    "- 컴퓨터는 모든 것을 수(number)로 다룸\n",
    "- 한글 인코딩: 한글을 수로 나타내는 방법\n",
    "- 현재 국내에서 흔히 사용되는 인코딩은 2가지\n",
    "  - UTF-8: 유니코드라는 국제 표준의 한 형식\n",
    "  - EUC-KR: 완성형 국내 표준\n",
    "\n",
    "## requests의 인코딩 처리\n",
    "- 인코딩을 자동 인식하나 가끔 부정확\n",
    "- 대법원 사이트의 경우 EUC-KR을 ISO-8859-1로 오인식\n",
    "- ISO-8859-1은 서유럽 언어를 위한 유니코드 이전 국제표준(Latin-1)\n",
    "\n",
    "## 인코딩 바꾸기\n",
    "- 인코딩 값을 바꿔주면 됨\n",
    "- 국내 사이트의 경우 `euc-kr`과 `utf8` 둘 중에 하나이므로 하나씩 시도"
   ]
  },
  {
   "cell_type": "code",
   "execution_count": 54,
   "metadata": {},
   "outputs": [
    {
     "data": {
      "text/plain": [
       "'ISO-8859-1'"
      ]
     },
     "execution_count": 54,
     "metadata": {},
     "output_type": "execute_result"
    }
   ],
   "source": [
    "res.encoding"
   ]
  },
  {
   "cell_type": "code",
   "execution_count": 55,
   "metadata": {},
   "outputs": [],
   "source": [
    "res.encoding = 'euc-kr'\n",
    "#res.encoding = 'utf-8'"
   ]
  },
  {
   "cell_type": "markdown",
   "metadata": {},
   "source": [
    "다시 처리해보면"
   ]
  },
  {
   "cell_type": "code",
   "execution_count": 56,
   "metadata": {},
   "outputs": [],
   "source": [
    "root = lxml.html.fromstring(res.text)"
   ]
  },
  {
   "cell_type": "code",
   "execution_count": 57,
   "metadata": {},
   "outputs": [
    {
     "data": {
      "text/plain": [
       "'대한민국 법원'"
      ]
     },
     "execution_count": 57,
     "metadata": {},
     "output_type": "execute_result"
    }
   ],
   "source": [
    "root.cssselect('title')[0].text_content()"
   ]
  },
  {
   "cell_type": "code",
   "execution_count": null,
   "metadata": {},
   "outputs": [],
   "source": []
  },
  {
   "cell_type": "code",
   "execution_count": null,
   "metadata": {},
   "outputs": [],
   "source": []
  }
 ],
 "metadata": {
  "kernelspec": {
   "display_name": "Python 3",
   "language": "python",
   "name": "python3"
  },
  "language_info": {
   "codemirror_mode": {
    "name": "ipython",
    "version": 3
   },
   "file_extension": ".py",
   "mimetype": "text/x-python",
   "name": "python",
   "nbconvert_exporter": "python",
   "pygments_lexer": "ipython3",
   "version": "3.7.3"
  }
 },
 "nbformat": 4,
 "nbformat_minor": 2
}
