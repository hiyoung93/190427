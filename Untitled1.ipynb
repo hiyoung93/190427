{
 "cells": [
  {
   "cell_type": "code",
   "execution_count": null,
   "metadata": {},
   "outputs": [],
   "source": [
    "!pip install selenium"
   ]
  },
  {
   "cell_type": "code",
   "execution_count": null,
   "metadata": {},
   "outputs": [],
   "source": [
    "options = webdriver.ChromeOptions()\n",
    "    opthions.add_argument('--disable-extensions')\n",
    "    opthions.add_argument('--headless')\n",
    "    opthions.add_argument('--disable--gpu')\n",
    "    opthions.add_argument('--no-sandbox')\n",
    "    return webdriver.Chrome(chrome_opthions=options)"
   ]
  },
  {
   "cell_type": "code",
   "execution_count": null,
   "metadata": {},
   "outputs": [],
   "source": [
    "!pip install JPype1"
   ]
  },
  {
   "cell_type": "code",
   "execution_count": null,
   "metadata": {},
   "outputs": [],
   "source": [
    "pip install wheel"
   ]
  },
  {
   "cell_type": "code",
   "execution_count": null,
   "metadata": {},
   "outputs": [],
   "source": []
  },
  {
   "cell_type": "code",
   "execution_count": 13,
   "metadata": {},
   "outputs": [
    {
     "name": "stdout",
     "output_type": "stream",
     "text": [
      "Collecting konlpy\n",
      "  Using cached https://files.pythonhosted.org/packages/e5/3d/4e983cd98d87b50b2ab0387d73fa946f745aa8164e8888a714d5129f9765/konlpy-0.5.1-py2.py3-none-any.whl\n"
     ]
    },
    {
     "name": "stderr",
     "output_type": "stream",
     "text": [
      "ERROR: Could not install packages due to an EnvironmentError: [Errno 2] No such file or directory: 'C:\\\\Users\\\\709-000\\\\AppData\\\\Local\\\\Temp\\\\pip-req-tracker-jypxbx1t\\\\3b045b0f735aaa40ac5d1eedf01d83f520c02390e09f0332e2bfeded'\n",
      "\n"
     ]
    }
   ],
   "source": [
    "!pip install konlpy"
   ]
  },
  {
   "cell_type": "code",
   "execution_count": null,
   "metadata": {},
   "outputs": [],
   "source": []
  },
  {
   "cell_type": "code",
   "execution_count": null,
   "metadata": {},
   "outputs": [],
   "source": []
  },
  {
   "cell_type": "code",
   "execution_count": null,
   "metadata": {},
   "outputs": [],
   "source": []
  },
  {
   "cell_type": "code",
   "execution_count": 1,
   "metadata": {},
   "outputs": [],
   "source": [
    "from selenium import webdriver\n",
    " \n",
    "driver = webdriver.Chrome('C:/Users/709-000/Downloads/chromedriver.exe') "
   ]
  },
  {
   "cell_type": "markdown",
   "metadata": {},
   "source": [
    "#/* span 태그 찾기 */\n",
    "span._fd86t \n",
    "#/* img 태그 찾기 */\n",
    "div.KL4Bh > img"
   ]
  },
  {
   "cell_type": "code",
   "execution_count": 11,
   "metadata": {
    "scrolled": true
   },
   "outputs": [
    {
     "ename": "ModuleNotFoundError",
     "evalue": "No module named 'konlpy'",
     "output_type": "error",
     "traceback": [
      "\u001b[1;31m---------------------------------------------------------------------------\u001b[0m",
      "\u001b[1;31mModuleNotFoundError\u001b[0m                       Traceback (most recent call last)",
      "\u001b[1;32m<ipython-input-11-86c101054f05>\u001b[0m in \u001b[0;36m<module>\u001b[1;34m\u001b[0m\n\u001b[0;32m      1\u001b[0m \u001b[1;32mimport\u001b[0m \u001b[0mtime\u001b[0m\u001b[1;33m\u001b[0m\u001b[1;33m\u001b[0m\u001b[0m\n\u001b[0;32m      2\u001b[0m \u001b[1;31m# 해시태그를 분석하기 위한 Twitter 모듈\u001b[0m\u001b[1;33m\u001b[0m\u001b[1;33m\u001b[0m\u001b[1;33m\u001b[0m\u001b[0m\n\u001b[1;32m----> 3\u001b[1;33m \u001b[1;32mfrom\u001b[0m \u001b[0mkonlpy\u001b[0m\u001b[1;33m.\u001b[0m\u001b[0mtag\u001b[0m \u001b[1;32mimport\u001b[0m \u001b[0mTwitter\u001b[0m\u001b[1;33m\u001b[0m\u001b[1;33m\u001b[0m\u001b[0m\n\u001b[0m\u001b[0;32m      4\u001b[0m \u001b[1;31m# 크롬 브라우저 조작을 위한 모듈\u001b[0m\u001b[1;33m\u001b[0m\u001b[1;33m\u001b[0m\u001b[1;33m\u001b[0m\u001b[0m\n\u001b[0;32m      5\u001b[0m \u001b[1;32mfrom\u001b[0m \u001b[0mselenium\u001b[0m \u001b[1;32mimport\u001b[0m \u001b[0mwebdriver\u001b[0m\u001b[1;33m\u001b[0m\u001b[1;33m\u001b[0m\u001b[0m\n",
      "\u001b[1;31mModuleNotFoundError\u001b[0m: No module named 'konlpy'"
     ]
    }
   ],
   "source": [
    "import time\n",
    "# 해시태그를 분석하기 위한 Twitter 모듈 \n",
    "from konlpy.tag import Twitter\n",
    "# 크롬 브라우저 조작을 위한 모듈\n",
    "from selenium import webdriver\n",
    "# 페이지 스크롤링을 위한 모듈\n",
    "from selenium.webdriver.common.keys import Keys\n",
    "# 크롤링할 url 주소\n",
    "url = \"https://www.instagram.com/explore/tags/doll/\"\n",
    "# 다운로드 받은 driver 주소\n",
    "DRIVER_DIR = 'C:/Users/709-000/Desktop/wed'\n",
    "# 크롬 드라이버를 이용해 임의로 크롬 브라우저를 실행시켜 조작한다.\n",
    "driver = webdriver.Chrome(DRIVER_DIR)\n",
    "# 암묵적으로 웹 자원을 (최대) 5초 기다리기\n",
    "driver.implicitly_wait(5) \n",
    "# 크롬 브라우저가 실행되며 해당 url로 이동한다.\n",
    "driver.get(url)\n",
    "# 총 게시물 수를 클래스 이름으로 찾기\n",
    "totalCount = driver.find_element_by_class_name('_fd86t').text \n",
    "print(\"총 게시물:\", totalCount)\n",
    "# body 태그를 태그 이름으로 찾기\n",
    "elem = driver.find_element_by_tag_name(\"body\") \n",
    "# alt 속성의 값을 담을 빈 리스트 선언\n",
    "alt_list = [] \n",
    "\n",
    "# 페이지 스크롤을 위해 임시 변수 선언\n",
    "pagedowns = 1\n",
    "# 스크롤을 20번 진행한다.\n",
    "while pagedowns < 20:\n",
    "        # PAGE_DOWN(스크롤)에 따라서 결과 값이 달라진다. \n",
    "        # 기본적으로 브라우저 조작을 통해 값을 얻어올 때는 실제 브라우저에 보이는 부분이어야 요소를 찾거나 특정 이벤트를 발생시킬 수 있다.\n",
    "        elem.send_keys(Keys.PAGE_DOWN)\n",
    "        # 페이지 스크롤 타이밍을 맞추기 위해 sleep\n",
    "        time.sleep(1)\n",
    "        # 브라우저에 보이는 모든 img 태그를 css 선택자 문법으로 찾는다.\n",
    "        img = driver.find_elements_by_css_selector('div.KL4Bh > img')\n",
    "        # 위에서 선언한 alt_list 리스트에 alt 속성의 값을 할당한다.\n",
    "        for i in img:\n",
    "            alt_list.append(i.get_attribute('alt'))\n",
    "        pagedowns += 1\n",
    "\n",
    "# 값의 중복을 방지를 리스트 set으로 변환후 리스트로 재할당\n",
    "alt_list = list(set(alt_list))\n",
    "\n",
    "# 키:해시태그, 값:횟수 형식으로 저장하기 위한 빈 딕셔너리 선언\n",
    "dict_data = {}\n",
    "# alt 속성의 값인 제목과 해시태그 중 해시태그 만을 가져오기 위한 Tiwitter 객체 생성\n",
    "tw = Twitter()\n",
    "# alt_list에 담긴 값의 크기만큼 반복한다.\n",
    "for alt in alt_list:\n",
    "    # pos 메서드를 통해 alt 속성의 모든 해시태그의 값을 (값, 품사) 형태의 튜플을 요소로 갖는 리스트로 반환한다.\n",
    "    temp = tw.pos(alt, norm = True)\n",
    "    # 리스트의 크기만큼 반복한다.\n",
    "    for data in temp:\n",
    "        # 품사가 만약 해시태그이면\n",
    "        if data[1] == \"Hashtag\":\n",
    "            # 결과 값을 저장할 딕셔너리에 값이 있는지 확인하고 없다면 새로이 키를 추가하고 0, 있다면 기존 키에 1을 더해준다.\n",
    "            if not (data[0] in dict_data):\n",
    "                dict_data[data[0]] = 0\n",
    "            dict_data[data[0]] += 1\n",
    "\n",
    "# 딕셔너리를 횟수를 가지고 내림차순으로 정렬한다.\n",
    "keys = sorted(dict_data.items(), key = lambda x:x[1], reverse = True)\n",
    "# 1~15위 까지의 키:값을 출력한다.\n",
    "for k, v in keys[:15]:\n",
    "    print(\"{}({})\".format(k, v))\n",
    "\n",
    "# 드라이버를 종료한다.\n",
    "driver.close()     "
   ]
  },
  {
   "cell_type": "code",
   "execution_count": null,
   "metadata": {},
   "outputs": [],
   "source": []
  },
  {
   "cell_type": "code",
   "execution_count": null,
   "metadata": {},
   "outputs": [],
   "source": []
  },
  {
   "cell_type": "code",
   "execution_count": null,
   "metadata": {},
   "outputs": [],
   "source": []
  },
  {
   "cell_type": "code",
   "execution_count": 24,
   "metadata": {},
   "outputs": [],
   "source": [
    "import urllib.parse"
   ]
  },
  {
   "cell_type": "code",
   "execution_count": 26,
   "metadata": {},
   "outputs": [],
   "source": [
    "p = urllib.parse.urlparse('https://www.instagram.com/explore/tags/doll/')"
   ]
  },
  {
   "cell_type": "code",
   "execution_count": 27,
   "metadata": {},
   "outputs": [
    {
     "data": {
      "text/plain": [
       "'https'"
      ]
     },
     "execution_count": 27,
     "metadata": {},
     "output_type": "execute_result"
    }
   ],
   "source": [
    "p.scheme"
   ]
  },
  {
   "cell_type": "code",
   "execution_count": 28,
   "metadata": {},
   "outputs": [
    {
     "data": {
      "text/plain": [
       "'www.instagram.com'"
      ]
     },
     "execution_count": 28,
     "metadata": {},
     "output_type": "execute_result"
    }
   ],
   "source": [
    "p.hostname"
   ]
  },
  {
   "cell_type": "code",
   "execution_count": 29,
   "metadata": {},
   "outputs": [
    {
     "data": {
      "text/plain": [
       "'/explore/tags/doll/'"
      ]
     },
     "execution_count": 29,
     "metadata": {},
     "output_type": "execute_result"
    }
   ],
   "source": [
    "p.path"
   ]
  },
  {
   "cell_type": "code",
   "execution_count": 30,
   "metadata": {},
   "outputs": [
    {
     "data": {
      "text/plain": [
       "''"
      ]
     },
     "execution_count": 30,
     "metadata": {},
     "output_type": "execute_result"
    }
   ],
   "source": [
    "p.query"
   ]
  },
  {
   "cell_type": "code",
   "execution_count": 32,
   "metadata": {},
   "outputs": [],
   "source": [
    "import requests"
   ]
  },
  {
   "cell_type": "code",
   "execution_count": 33,
   "metadata": {},
   "outputs": [],
   "source": [
    "# GET 요청을 보내고 응답을 받아와 res 변수에 할당한다.\n",
    "url = 'https://www.instagram.com/explore/tags/doll/'\n",
    "res = requests.get(url)"
   ]
  },
  {
   "cell_type": "code",
   "execution_count": 34,
   "metadata": {},
   "outputs": [
    {
     "name": "stdout",
     "output_type": "stream",
     "text": [
      "Requirement already satisfied: cssselect in c:\\programdata\\anaconda3\\lib\\site-packages (1.0.3)\n"
     ]
    }
   ],
   "source": [
    "!pip install cssselect"
   ]
  },
  {
   "cell_type": "code",
   "execution_count": null,
   "metadata": {},
   "outputs": [],
   "source": []
  },
  {
   "cell_type": "code",
   "execution_count": null,
   "metadata": {},
   "outputs": [],
   "source": []
  },
  {
   "cell_type": "code",
   "execution_count": null,
   "metadata": {},
   "outputs": [],
   "source": []
  },
  {
   "cell_type": "code",
   "execution_count": null,
   "metadata": {},
   "outputs": [],
   "source": []
  }
 ],
 "metadata": {
  "kernelspec": {
   "display_name": "Python 3",
   "language": "python",
   "name": "python3"
  },
  "language_info": {
   "codemirror_mode": {
    "name": "ipython",
    "version": 3
   },
   "file_extension": ".py",
   "mimetype": "text/x-python",
   "name": "python",
   "nbconvert_exporter": "python",
   "pygments_lexer": "ipython3",
   "version": "3.7.3"
  }
 },
 "nbformat": 4,
 "nbformat_minor": 2
}
