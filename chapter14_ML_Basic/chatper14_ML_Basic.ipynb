{
 "cells": [
  {
   "cell_type": "markdown",
   "metadata": {
    "colab_type": "text",
    "id": "HrGfVsYC55eL"
   },
   "source": [
    "<font color = \"#CC3D3D\">\n",
    "# Machine Learning Process #\n",
    "<br>\n",
    "<img align=\"left\" src=\"http://www.kdnuggets.com/wp-content/uploads/crisp-dm-4-problems-fig1.png\" alt=\"CRISP-DM\">"
   ]
  },
  {
   "cell_type": "markdown",
   "metadata": {
    "colab_type": "text",
    "id": "RTnVrBNx55eM"
   },
   "source": [
    "## Step 1: Business Understanding ##\n",
    "\n",
    "1. Business Objectives\n",
    " - 새로운 개인연금상품(PEP: Personal Equity Plan)을 개발하여 기존 고객들을 대상으로 가능한 많은 계좌를 유치\n",
    "2. Analytics Goals\n",
    " - PEP 가입 예측모형 개발\n",
    " - 고객 프로파일 개발\n",
    " - 다이렉트 메일 광고 효율성 제고\n",
    " - 타겟 메일링에 의한 응답률 제고 "
   ]
  },
  {
   "cell_type": "markdown",
   "metadata": {
    "colab_type": "text",
    "id": "b6F-PwAo55eN"
   },
   "source": [
    "## Step 2: Data Understanding ##\n",
    "1. 데이터 획득 절차\n",
    " - 기존고객 DB로부터 시험메일 발송을 위한 표본고객목록을 추출\n",
    " - 새로운 금융상품(PEP)의 제안 메일을 발송\n",
    " - 고객의 반응을 기록\n",
    "2. 분석 데이터\n",
    " - 학습용 데이터 600건\n",
    " - 신규고객 데이터 200건"
   ]
  },
  {
   "cell_type": "code",
   "execution_count": 11,
   "metadata": {
    "colab": {},
    "colab_type": "code",
    "id": "dmudgueV55eO"
   },
   "outputs": [],
   "source": [
    "import pandas as pd\n",
    "from pandas import Series, DataFrame\n",
    "import numpy as np\n",
    "import matplotlib.pyplot as plt\n",
    "%matplotlib inline"
   ]
  },
  {
   "cell_type": "markdown",
   "metadata": {
    "colab_type": "text",
    "id": "6aHVQv0K55eQ"
   },
   "source": [
    "### Collect Initial Data ###"
   ]
  },
  {
   "cell_type": "markdown",
   "metadata": {
    "colab_type": "text",
    "id": "JCPSq7tn55eR"
   },
   "source": [
    "##### for modeling"
   ]
  },
  {
   "cell_type": "markdown",
   "metadata": {
    "colab_type": "text",
    "id": "JaFH_Pmh55eU"
   },
   "source": [
    "##### for deployment"
   ]
  },
  {
   "cell_type": "markdown",
   "metadata": {
    "colab_type": "text",
    "id": "Uus0MPta55eW"
   },
   "source": [
    "### Describe Data ###"
   ]
  },
  {
   "cell_type": "code",
   "execution_count": 9,
   "metadata": {
    "colab": {},
    "colab_type": "code",
    "id": "s0Em_ULP55eX"
   },
   "outputs": [
    {
     "ename": "NameError",
     "evalue": "name 'df' is not defined",
     "output_type": "error",
     "traceback": [
      "\u001b[1;31m---------------------------------------------------------------------------\u001b[0m",
      "\u001b[1;31mNameError\u001b[0m                                 Traceback (most recent call last)",
      "\u001b[1;32m<ipython-input-9-a74c58233b9e>\u001b[0m in \u001b[0;36m<module>\u001b[1;34m\u001b[0m\n\u001b[1;32m----> 1\u001b[1;33m \u001b[0mdf\u001b[0m\u001b[1;33m.\u001b[0m\u001b[0minfo\u001b[0m\u001b[1;33m(\u001b[0m\u001b[1;33m)\u001b[0m\u001b[1;33m\u001b[0m\u001b[1;33m\u001b[0m\u001b[0m\n\u001b[0m",
      "\u001b[1;31mNameError\u001b[0m: name 'df' is not defined"
     ]
    }
   ],
   "source": [
    "df.info()"
   ]
  },
  {
   "cell_type": "code",
   "execution_count": null,
   "metadata": {
    "colab": {},
    "colab_type": "code",
    "id": "N4OsT4ds55eZ"
   },
   "outputs": [],
   "source": [
    "df.head(10)"
   ]
  },
  {
   "cell_type": "code",
   "execution_count": null,
   "metadata": {
    "colab": {},
    "colab_type": "code",
    "id": "r720EEtN55eb"
   },
   "outputs": [],
   "source": [
    "df.describe()"
   ]
  },
  {
   "cell_type": "code",
   "execution_count": null,
   "metadata": {
    "colab": {},
    "colab_type": "code",
    "id": "MgSeeg6y55ed"
   },
   "outputs": [],
   "source": [
    "df.hist(bins=30, figsize=(20,15))"
   ]
  },
  {
   "cell_type": "code",
   "execution_count": null,
   "metadata": {
    "colab": {},
    "colab_type": "code",
    "id": "E2PFjdKr55ef"
   },
   "outputs": [],
   "source": [
    "print(new.shape)\n",
    "new.tail()"
   ]
  },
  {
   "cell_type": "markdown",
   "metadata": {
    "colab_type": "text",
    "id": "ZQVOu34m55ei"
   },
   "source": [
    "### Explore Data ###"
   ]
  },
  {
   "cell_type": "markdown",
   "metadata": {
    "colab_type": "text",
    "id": "_QVxxtjU55ei"
   },
   "source": [
    "##### Look for Correlations #####"
   ]
  },
  {
   "cell_type": "code",
   "execution_count": null,
   "metadata": {
    "colab": {},
    "colab_type": "code",
    "id": "iq9T_jbD55ei"
   },
   "outputs": [],
   "source": [
    "corr = df.corr()\n",
    "corr"
   ]
  },
  {
   "cell_type": "code",
   "execution_count": null,
   "metadata": {
    "colab": {},
    "colab_type": "code",
    "id": "5bo4IJ-B55em"
   },
   "outputs": [],
   "source": [
    "plt.matshow(corr)"
   ]
  },
  {
   "cell_type": "code",
   "execution_count": null,
   "metadata": {
    "colab": {},
    "colab_type": "code",
    "id": "RIemAI3a55eo"
   },
   "outputs": [],
   "source": [
    "import seaborn as sn\n",
    "sn.heatmap(corr, xticklabels=corr.columns.values, yticklabels=corr.columns.values)\n",
    "plt.rcdefaults()"
   ]
  },
  {
   "cell_type": "code",
   "execution_count": null,
   "metadata": {
    "colab": {},
    "colab_type": "code",
    "id": "P9I-3CZY55es"
   },
   "outputs": [],
   "source": [
    "df.corr().pep.sort_values(ascending=False)"
   ]
  },
  {
   "cell_type": "markdown",
   "metadata": {
    "colab_type": "text",
    "id": "hIqdDYnN55ev"
   },
   "source": [
    "##### Detect Outliers #####\n",
    "<img align=\"left\" src=\"http://www.whatissixsigma.net/wp-content/uploads/2015/07/Box-Plot-Diagram-to-identify-Outliers-figure-1.png\" alt=\"Boxplot Outlier\">"
   ]
  },
  {
   "cell_type": "code",
   "execution_count": null,
   "metadata": {
    "colab": {},
    "colab_type": "code",
    "id": "P1STkrS955ew"
   },
   "outputs": [],
   "source": [
    "df.loc[:,['age','income']].plot.box(subplots=True, layout=(2,1), figsize=(5,5))"
   ]
  },
  {
   "cell_type": "markdown",
   "metadata": {
    "colab_type": "text",
    "id": "bLdREJI855ez"
   },
   "source": [
    "## Step 3: Data Preparation ##"
   ]
  },
  {
   "cell_type": "markdown",
   "metadata": {
    "colab_type": "text",
    "id": "cjxUKc0E55e0"
   },
   "source": [
    "### Clean Data ###\n",
    "##### Replace Missing Values #####"
   ]
  },
  {
   "cell_type": "code",
   "execution_count": null,
   "metadata": {
    "colab": {},
    "colab_type": "code",
    "id": "4yIeSgqM55e0"
   },
   "outputs": [],
   "source": [
    "mdf = df.copy()"
   ]
  },
  {
   "cell_type": "code",
   "execution_count": null,
   "metadata": {
    "colab": {},
    "colab_type": "code",
    "id": "kJfFRL8l55e2"
   },
   "outputs": [],
   "source": [
    "mdf.age.mean()"
   ]
  },
  {
   "cell_type": "code",
   "execution_count": 8,
   "metadata": {
    "colab": {},
    "colab_type": "code",
    "id": "oJjhNH0z55e4"
   },
   "outputs": [
    {
     "ename": "NameError",
     "evalue": "name 'mdf' is not defined",
     "output_type": "error",
     "traceback": [
      "\u001b[1;31m---------------------------------------------------------------------------\u001b[0m",
      "\u001b[1;31mNameError\u001b[0m                                 Traceback (most recent call last)",
      "\u001b[1;32m<ipython-input-8-f9a35ebb1fa1>\u001b[0m in \u001b[0;36m<module>\u001b[1;34m\u001b[0m\n\u001b[1;32m----> 1\u001b[1;33m \u001b[0mmdf\u001b[0m\u001b[1;33m.\u001b[0m\u001b[0mage\u001b[0m\u001b[1;33m.\u001b[0m\u001b[0mvalue_counts\u001b[0m\u001b[1;33m(\u001b[0m\u001b[1;33m)\u001b[0m\u001b[1;33m\u001b[0m\u001b[1;33m\u001b[0m\u001b[0m\n\u001b[0m",
      "\u001b[1;31mNameError\u001b[0m: name 'mdf' is not defined"
     ]
    }
   ],
   "source": [
    "mdf.age.value_counts()"
   ]
  },
  {
   "cell_type": "code",
   "execution_count": null,
   "metadata": {
    "colab": {},
    "colab_type": "code",
    "id": "No0NPewT55e6"
   },
   "outputs": [],
   "source": [
    "#inplace : fillna를 이용해 nan 데이터를 어떤 값으로 채운 후에\n",
    "#실제 데이터프레임에 저장할지를 결정하는 변수\n",
    "mdf.age.fillna(round(mdf.age.mean(),0), inplace=True)\n",
    "mdf"
   ]
  },
  {
   "cell_type": "markdown",
   "metadata": {
    "colab_type": "text",
    "id": "xPBW9Hbp55e8"
   },
   "source": [
    "### Construct Data ###\n",
    "##### Derive Attributes #####"
   ]
  },
  {
   "cell_type": "code",
   "execution_count": null,
   "metadata": {
    "colab": {},
    "colab_type": "code",
    "id": "x4qZzZK655e8"
   },
   "outputs": [],
   "source": [
    "mdf['realincome'] = np.where(mdf['children']==0, mdf['income'], mdf['income']/mdf['children'])\n",
    "mdf.head()"
   ]
  },
  {
   "cell_type": "markdown",
   "metadata": {
    "colab_type": "text",
    "id": "1qKAUMWH55fB"
   },
   "source": [
    "<font color = \"blue\">\n",
    "***[numpy.where(condition, x, y)](https://docs.scipy.org/doc/numpy/reference/generated/numpy.where.html#numpy.where)***<br>\n",
    "*return elements, either from x or y, depending on condition*"
   ]
  },
  {
   "cell_type": "markdown",
   "metadata": {
    "colab_type": "text",
    "id": "4K1TjCOz55fB"
   },
   "source": [
    "### Select Data ###\n",
    "##### Filter Attributes  #####"
   ]
  },
  {
   "cell_type": "code",
   "execution_count": null,
   "metadata": {
    "colab": {},
    "colab_type": "code",
    "id": "MjtfXWOU55fC"
   },
   "outputs": [],
   "source": [
    "columns = ['income', 'children', 'current_act', 'car', 'mortgage', 'region']\n",
    "mdf = mdf.drop(columns, axis=1)\n",
    "mdf.head()"
   ]
  },
  {
   "cell_type": "markdown",
   "metadata": {
    "colab_type": "text",
    "id": "qd18u0p155fE"
   },
   "source": [
    "### Split Data ###\n",
    "<img align=\"left\" src=\"https://www.developer.com/imagesvr_ce/6793/ML4.png\" width=500 height=500 alt=\"Boxplot Outlier\">"
   ]
  },
  {
   "cell_type": "code",
   "execution_count": null,
   "metadata": {
    "colab": {},
    "colab_type": "code",
    "id": "Bk51JIS755fE"
   },
   "outputs": [],
   "source": [
    "from sklearn.model_selection import train_test_split  # for Hold-out validation"
   ]
  },
  {
   "cell_type": "code",
   "execution_count": null,
   "metadata": {
    "colab": {},
    "colab_type": "code",
    "id": "noBquO9G55fG"
   },
   "outputs": [],
   "source": [
    "dfX = mdf.drop(['id','pep'], axis=1)  # exclude 'id' attribute & class variable\n",
    "dfy = mdf['pep']                      # class variable\n",
    "X_train, X_test, y_train, y_test = train_test_split(dfX, dfy, test_size=0.25, random_state=0)"
   ]
  },
  {
   "cell_type": "code",
   "execution_count": null,
   "metadata": {
    "colab": {},
    "colab_type": "code",
    "id": "8h_qx8zq55fI"
   },
   "outputs": [],
   "source": [
    "print(X_train.shape, X_test.shape)                    "
   ]
  },
  {
   "cell_type": "code",
   "execution_count": null,
   "metadata": {
    "colab": {},
    "colab_type": "code",
    "id": "khvFjNi955fK"
   },
   "outputs": [],
   "source": [
    "X_train.head()"
   ]
  },
  {
   "cell_type": "markdown",
   "metadata": {
    "colab_type": "text",
    "id": "rJTXjpmX55fM"
   },
   "source": [
    "## Step 4: Modeling ##"
   ]
  },
  {
   "cell_type": "markdown",
   "metadata": {
    "colab_type": "text",
    "id": "ynMDgbAV55fN"
   },
   "source": [
    "### Build Model ###"
   ]
  },
  {
   "cell_type": "markdown",
   "metadata": {
    "colab_type": "text",
    "id": "wGbDUK2H55fO"
   },
   "source": [
    "##### Decision Trees #####"
   ]
  },
  {
   "cell_type": "code",
   "execution_count": null,
   "metadata": {
    "colab": {},
    "colab_type": "code",
    "id": "Js4HNHDz55fO"
   },
   "outputs": [],
   "source": [
    "from sklearn.tree import DecisionTreeClassifier"
   ]
  },
  {
   "cell_type": "code",
   "execution_count": null,
   "metadata": {
    "colab": {},
    "colab_type": "code",
    "id": "pSDift3255fQ"
   },
   "outputs": [],
   "source": [
    "tree = DecisionTreeClassifier(max_depth=6, random_state=0)"
   ]
  },
  {
   "cell_type": "code",
   "execution_count": null,
   "metadata": {
    "colab": {},
    "colab_type": "code",
    "id": "pDtnaIag55fT"
   },
   "outputs": [],
   "source": [
    "tree.fit(X_train, y_train)"
   ]
  },
  {
   "cell_type": "code",
   "execution_count": null,
   "metadata": {
    "colab": {},
    "colab_type": "code",
    "id": "qsJ--LzO55fV"
   },
   "outputs": [],
   "source": [
    "pred_tree = tree.predict(X_test); pred_tree"
   ]
  },
  {
   "cell_type": "markdown",
   "metadata": {
    "colab_type": "text",
    "id": "1uFMZ3ir55fW"
   },
   "source": [
    "##### Logistic Regresssion"
   ]
  },
  {
   "cell_type": "code",
   "execution_count": null,
   "metadata": {
    "colab": {},
    "colab_type": "code",
    "id": "wxrM6JbF55fW"
   },
   "outputs": [],
   "source": [
    "from sklearn.linear_model import LogisticRegression"
   ]
  },
  {
   "cell_type": "code",
   "execution_count": null,
   "metadata": {
    "colab": {},
    "colab_type": "code",
    "id": "VzmjcLEZ55fZ"
   },
   "outputs": [],
   "source": [
    "lreg = LogisticRegression(random_state=0)"
   ]
  },
  {
   "cell_type": "code",
   "execution_count": null,
   "metadata": {
    "colab": {},
    "colab_type": "code",
    "id": "XRJ2p-PS55fb"
   },
   "outputs": [],
   "source": [
    "lreg.fit(X_train, y_train)"
   ]
  },
  {
   "cell_type": "markdown",
   "metadata": {
    "colab_type": "text",
    "id": "UCQM7MT655fe"
   },
   "source": [
    "### Assess Model ###"
   ]
  },
  {
   "cell_type": "markdown",
   "metadata": {
    "colab_type": "text",
    "id": "PKZiOmfl55fe"
   },
   "source": [
    "##### Decision Trees #####"
   ]
  },
  {
   "cell_type": "code",
   "execution_count": null,
   "metadata": {
    "colab": {},
    "colab_type": "code",
    "id": "JXFoFn7j55fe"
   },
   "outputs": [],
   "source": [
    "tree.score(X_train, y_train)"
   ]
  },
  {
   "cell_type": "code",
   "execution_count": null,
   "metadata": {
    "colab": {},
    "colab_type": "code",
    "id": "bKmrk7d255fh"
   },
   "outputs": [],
   "source": [
    "tree.score(X_test, y_test)"
   ]
  },
  {
   "cell_type": "markdown",
   "metadata": {
    "colab_type": "text",
    "id": "deAAp9jj55fi"
   },
   "source": [
    "##### Logistic Regresssion"
   ]
  },
  {
   "cell_type": "code",
   "execution_count": null,
   "metadata": {
    "colab": {},
    "colab_type": "code",
    "id": "NAP7VObV55fj"
   },
   "outputs": [],
   "source": [
    "lreg.score(X_test, y_test)"
   ]
  },
  {
   "cell_type": "markdown",
   "metadata": {
    "colab_type": "text",
    "id": "2eH3biQf55fl"
   },
   "source": [
    "## Step 5: Evaluation ##"
   ]
  },
  {
   "cell_type": "markdown",
   "metadata": {
    "colab_type": "text",
    "id": "O8VBlwmB55fm"
   },
   "source": [
    "<font color = \"red\">\n",
    "- *Which model is the best ?*\n",
    "- *Is the model useful ?*\n",
    "<font>"
   ]
  },
  {
   "cell_type": "code",
   "execution_count": null,
   "metadata": {
    "colab": {},
    "colab_type": "code",
    "id": "0sEszdbk55fm"
   },
   "outputs": [],
   "source": [
    "best_model = tree   # Change this code if the best model is not decision tree.\n",
    "best_model.score(X_test, y_test)"
   ]
  },
  {
   "cell_type": "code",
   "execution_count": null,
   "metadata": {
    "colab": {},
    "colab_type": "code",
    "id": "RdcLQX5-55fo"
   },
   "outputs": [],
   "source": [
    "from sklearn.dummy import DummyClassifier\n",
    "print(y_test.value_counts())\n",
    "DummyClassifier(strategy='most_frequent').fit(X_train, y_train).score(X_test, y_test)"
   ]
  },
  {
   "cell_type": "markdown",
   "metadata": {
    "colab_type": "text",
    "id": "68G_maaD55fp"
   },
   "source": [
    "## Step 6: Deployment ##"
   ]
  },
  {
   "cell_type": "code",
   "execution_count": null,
   "metadata": {
    "colab": {},
    "colab_type": "code",
    "id": "ka-V7sgC55ft"
   },
   "outputs": [],
   "source": [
    "# You must do the same preprocessing as the modeling data.\n",
    "ndf = new.copy()\n",
    "# 자녀가 없으면 수입을 실제 수입으로 잡고 자녀가 있으면 자녀 만큼 나눈값을\n",
    "# 실제 수입으로 잡아라\n",
    "ndf['realincome'] = np.where(ndf['children']==0, ndf['income'], ndf['income']/ndf['children'])\n",
    "ndf = ndf.drop(columns, axis=1)\n",
    "ndf.head()"
   ]
  },
  {
   "cell_type": "markdown",
   "metadata": {
    "colab_type": "text",
    "id": "FPy8Dr_A55fv"
   },
   "source": [
    "### Apply the best model to select target customers ###"
   ]
  },
  {
   "cell_type": "code",
   "execution_count": null,
   "metadata": {
    "colab": {},
    "colab_type": "code",
    "id": "9Q6vtJm_55fx"
   },
   "outputs": [],
   "source": [
    "ndf['pred'] = best_model.predict(ndf.loc[:,'age':'realincome'])"
   ]
  },
  {
   "cell_type": "code",
   "execution_count": null,
   "metadata": {
    "colab": {},
    "colab_type": "code",
    "id": "L0XH9KwW55fy"
   },
   "outputs": [],
   "source": [
    "print(best_model.predict_proba(ndf.loc[:,'age':'realincome']))\n",
    "ndf['pred_prob'] = best_model.predict_proba(ndf.loc[:,'age':'realincome'])[:,1]"
   ]
  },
  {
   "cell_type": "code",
   "execution_count": null,
   "metadata": {
    "colab": {},
    "colab_type": "code",
    "id": "175-Njba55f1"
   },
   "outputs": [],
   "source": [
    "ndf.head()"
   ]
  },
  {
   "cell_type": "code",
   "execution_count": null,
   "metadata": {
    "colab": {},
    "colab_type": "code",
    "id": "jPmfTq5J55f3"
   },
   "outputs": [],
   "source": [
    "target = ndf.query('pred == 1 & pred_prob > 0.7')  # PEP에 가입할 확율이 70%가 넘는 고객만 추출\n",
    "target.sort_values(by=\"pred_prob\", ascending=False).to_csv(\"./pep_target.csv\", index=False)\n",
    "pd.read_csv(\"./pep_target.csv\").tail()"
   ]
  },
  {
   "cell_type": "code",
   "execution_count": null,
   "metadata": {},
   "outputs": [],
   "source": []
  }
 ],
 "metadata": {
  "colab": {
   "name": "code_0416_01.ipynb",
   "provenance": [],
   "version": "0.3.2"
  },
  "kernelspec": {
   "display_name": "Python 3",
   "language": "python",
   "name": "python3"
  },
  "language_info": {
   "codemirror_mode": {
    "name": "ipython",
    "version": 3
   },
   "file_extension": ".py",
   "mimetype": "text/x-python",
   "name": "python",
   "nbconvert_exporter": "python",
   "pygments_lexer": "ipython3",
   "version": "3.7.3"
  }
 },
 "nbformat": 4,
 "nbformat_minor": 1
}
